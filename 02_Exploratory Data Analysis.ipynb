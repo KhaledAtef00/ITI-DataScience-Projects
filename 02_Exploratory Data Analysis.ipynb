{
 "cells": [
  {
   "cell_type": "code",
   "execution_count": 19,
   "id": "c4451acb",
   "metadata": {},
   "outputs": [],
   "source": [
    "DATA_PATH = \"E:\\ITI Projects\\Stackoverflow Survey\\Dataset\\survey_results_public.csv\""
   ]
  },
  {
   "cell_type": "code",
   "execution_count": 21,
   "id": "a71b9b57",
   "metadata": {},
   "outputs": [],
   "source": [
    "needed_cols = ['DevType', 'LanguageWorkedWith', 'DatabaseWorkedWith','WebframeWorkedWith', 'MiscTechWorkedWith']"
   ]
  },
  {
   "cell_type": "markdown",
   "id": "2ce53bee",
   "metadata": {},
   "source": [
    "# Importing Data"
   ]
  },
  {
   "cell_type": "code",
   "execution_count": 22,
   "id": "5f0cc546",
   "metadata": {},
   "outputs": [],
   "source": [
    "import numpy as np\n",
    "import pandas as pd\n",
    "pd.options.display.max_rows=1000"
   ]
  },
  {
   "cell_type": "code",
   "execution_count": 23,
   "id": "0f69bac6",
   "metadata": {},
   "outputs": [
    {
     "data": {
      "text/html": [
       "<div>\n",
       "<style scoped>\n",
       "    .dataframe tbody tr th:only-of-type {\n",
       "        vertical-align: middle;\n",
       "    }\n",
       "\n",
       "    .dataframe tbody tr th {\n",
       "        vertical-align: top;\n",
       "    }\n",
       "\n",
       "    .dataframe thead tr th {\n",
       "        text-align: left;\n",
       "    }\n",
       "</style>\n",
       "<table border=\"1\" class=\"dataframe\">\n",
       "  <thead>\n",
       "    <tr>\n",
       "      <th></th>\n",
       "      <th colspan=\"10\" halign=\"left\">DevType</th>\n",
       "      <th>...</th>\n",
       "      <th colspan=\"10\" halign=\"left\">MiscTechWorkedWith</th>\n",
       "    </tr>\n",
       "    <tr>\n",
       "      <th></th>\n",
       "      <th>Academic researcher</th>\n",
       "      <th>Data or business analyst</th>\n",
       "      <th>Data scientist or machine learning specialist</th>\n",
       "      <th>Database administrator</th>\n",
       "      <th>Designer</th>\n",
       "      <th>DevOps specialist</th>\n",
       "      <th>Developer, QA or test</th>\n",
       "      <th>Developer, back-end</th>\n",
       "      <th>Developer, desktop or enterprise applications</th>\n",
       "      <th>Developer, embedded applications or devices</th>\n",
       "      <th>...</th>\n",
       "      <th>Node.js</th>\n",
       "      <th>Pandas</th>\n",
       "      <th>Puppet</th>\n",
       "      <th>React Native</th>\n",
       "      <th>TensorFlow</th>\n",
       "      <th>Teraform</th>\n",
       "      <th>Torch/PyTorch</th>\n",
       "      <th>Unity 3D</th>\n",
       "      <th>Unreal Engine</th>\n",
       "      <th>Xamarin</th>\n",
       "    </tr>\n",
       "  </thead>\n",
       "  <tbody>\n",
       "    <tr>\n",
       "      <th>0</th>\n",
       "      <td>0</td>\n",
       "      <td>0</td>\n",
       "      <td>0</td>\n",
       "      <td>0</td>\n",
       "      <td>0</td>\n",
       "      <td>0</td>\n",
       "      <td>0</td>\n",
       "      <td>0</td>\n",
       "      <td>1</td>\n",
       "      <td>0</td>\n",
       "      <td>...</td>\n",
       "      <td>0</td>\n",
       "      <td>0</td>\n",
       "      <td>0</td>\n",
       "      <td>0</td>\n",
       "      <td>0</td>\n",
       "      <td>0</td>\n",
       "      <td>0</td>\n",
       "      <td>0</td>\n",
       "      <td>0</td>\n",
       "      <td>0</td>\n",
       "    </tr>\n",
       "    <tr>\n",
       "      <th>1</th>\n",
       "      <td>0</td>\n",
       "      <td>0</td>\n",
       "      <td>0</td>\n",
       "      <td>0</td>\n",
       "      <td>0</td>\n",
       "      <td>0</td>\n",
       "      <td>0</td>\n",
       "      <td>0</td>\n",
       "      <td>0</td>\n",
       "      <td>0</td>\n",
       "      <td>...</td>\n",
       "      <td>0</td>\n",
       "      <td>0</td>\n",
       "      <td>0</td>\n",
       "      <td>1</td>\n",
       "      <td>0</td>\n",
       "      <td>0</td>\n",
       "      <td>0</td>\n",
       "      <td>0</td>\n",
       "      <td>0</td>\n",
       "      <td>0</td>\n",
       "    </tr>\n",
       "    <tr>\n",
       "      <th>2</th>\n",
       "      <td>0</td>\n",
       "      <td>0</td>\n",
       "      <td>0</td>\n",
       "      <td>0</td>\n",
       "      <td>0</td>\n",
       "      <td>0</td>\n",
       "      <td>0</td>\n",
       "      <td>0</td>\n",
       "      <td>0</td>\n",
       "      <td>0</td>\n",
       "      <td>...</td>\n",
       "      <td>0</td>\n",
       "      <td>0</td>\n",
       "      <td>0</td>\n",
       "      <td>0</td>\n",
       "      <td>0</td>\n",
       "      <td>0</td>\n",
       "      <td>0</td>\n",
       "      <td>0</td>\n",
       "      <td>0</td>\n",
       "      <td>0</td>\n",
       "    </tr>\n",
       "    <tr>\n",
       "      <th>3</th>\n",
       "      <td>0</td>\n",
       "      <td>0</td>\n",
       "      <td>0</td>\n",
       "      <td>0</td>\n",
       "      <td>0</td>\n",
       "      <td>0</td>\n",
       "      <td>0</td>\n",
       "      <td>0</td>\n",
       "      <td>0</td>\n",
       "      <td>0</td>\n",
       "      <td>...</td>\n",
       "      <td>0</td>\n",
       "      <td>0</td>\n",
       "      <td>0</td>\n",
       "      <td>0</td>\n",
       "      <td>0</td>\n",
       "      <td>0</td>\n",
       "      <td>0</td>\n",
       "      <td>0</td>\n",
       "      <td>0</td>\n",
       "      <td>0</td>\n",
       "    </tr>\n",
       "    <tr>\n",
       "      <th>4</th>\n",
       "      <td>0</td>\n",
       "      <td>0</td>\n",
       "      <td>0</td>\n",
       "      <td>0</td>\n",
       "      <td>0</td>\n",
       "      <td>0</td>\n",
       "      <td>0</td>\n",
       "      <td>0</td>\n",
       "      <td>0</td>\n",
       "      <td>0</td>\n",
       "      <td>...</td>\n",
       "      <td>0</td>\n",
       "      <td>0</td>\n",
       "      <td>0</td>\n",
       "      <td>0</td>\n",
       "      <td>0</td>\n",
       "      <td>0</td>\n",
       "      <td>0</td>\n",
       "      <td>0</td>\n",
       "      <td>0</td>\n",
       "      <td>0</td>\n",
       "    </tr>\n",
       "    <tr>\n",
       "      <th>...</th>\n",
       "      <td>...</td>\n",
       "      <td>...</td>\n",
       "      <td>...</td>\n",
       "      <td>...</td>\n",
       "      <td>...</td>\n",
       "      <td>...</td>\n",
       "      <td>...</td>\n",
       "      <td>...</td>\n",
       "      <td>...</td>\n",
       "      <td>...</td>\n",
       "      <td>...</td>\n",
       "      <td>...</td>\n",
       "      <td>...</td>\n",
       "      <td>...</td>\n",
       "      <td>...</td>\n",
       "      <td>...</td>\n",
       "      <td>...</td>\n",
       "      <td>...</td>\n",
       "      <td>...</td>\n",
       "      <td>...</td>\n",
       "      <td>...</td>\n",
       "    </tr>\n",
       "    <tr>\n",
       "      <th>64456</th>\n",
       "      <td>0</td>\n",
       "      <td>0</td>\n",
       "      <td>0</td>\n",
       "      <td>0</td>\n",
       "      <td>0</td>\n",
       "      <td>0</td>\n",
       "      <td>0</td>\n",
       "      <td>0</td>\n",
       "      <td>0</td>\n",
       "      <td>0</td>\n",
       "      <td>...</td>\n",
       "      <td>0</td>\n",
       "      <td>0</td>\n",
       "      <td>0</td>\n",
       "      <td>0</td>\n",
       "      <td>0</td>\n",
       "      <td>0</td>\n",
       "      <td>0</td>\n",
       "      <td>0</td>\n",
       "      <td>0</td>\n",
       "      <td>0</td>\n",
       "    </tr>\n",
       "    <tr>\n",
       "      <th>64457</th>\n",
       "      <td>0</td>\n",
       "      <td>0</td>\n",
       "      <td>0</td>\n",
       "      <td>0</td>\n",
       "      <td>0</td>\n",
       "      <td>0</td>\n",
       "      <td>0</td>\n",
       "      <td>0</td>\n",
       "      <td>0</td>\n",
       "      <td>0</td>\n",
       "      <td>...</td>\n",
       "      <td>0</td>\n",
       "      <td>0</td>\n",
       "      <td>0</td>\n",
       "      <td>0</td>\n",
       "      <td>0</td>\n",
       "      <td>0</td>\n",
       "      <td>0</td>\n",
       "      <td>0</td>\n",
       "      <td>0</td>\n",
       "      <td>0</td>\n",
       "    </tr>\n",
       "    <tr>\n",
       "      <th>64458</th>\n",
       "      <td>0</td>\n",
       "      <td>0</td>\n",
       "      <td>0</td>\n",
       "      <td>0</td>\n",
       "      <td>0</td>\n",
       "      <td>0</td>\n",
       "      <td>0</td>\n",
       "      <td>0</td>\n",
       "      <td>0</td>\n",
       "      <td>0</td>\n",
       "      <td>...</td>\n",
       "      <td>0</td>\n",
       "      <td>0</td>\n",
       "      <td>0</td>\n",
       "      <td>0</td>\n",
       "      <td>0</td>\n",
       "      <td>0</td>\n",
       "      <td>0</td>\n",
       "      <td>0</td>\n",
       "      <td>0</td>\n",
       "      <td>0</td>\n",
       "    </tr>\n",
       "    <tr>\n",
       "      <th>64459</th>\n",
       "      <td>0</td>\n",
       "      <td>0</td>\n",
       "      <td>0</td>\n",
       "      <td>0</td>\n",
       "      <td>0</td>\n",
       "      <td>0</td>\n",
       "      <td>0</td>\n",
       "      <td>0</td>\n",
       "      <td>0</td>\n",
       "      <td>0</td>\n",
       "      <td>...</td>\n",
       "      <td>0</td>\n",
       "      <td>0</td>\n",
       "      <td>0</td>\n",
       "      <td>0</td>\n",
       "      <td>0</td>\n",
       "      <td>0</td>\n",
       "      <td>0</td>\n",
       "      <td>0</td>\n",
       "      <td>0</td>\n",
       "      <td>0</td>\n",
       "    </tr>\n",
       "    <tr>\n",
       "      <th>64460</th>\n",
       "      <td>0</td>\n",
       "      <td>0</td>\n",
       "      <td>0</td>\n",
       "      <td>0</td>\n",
       "      <td>0</td>\n",
       "      <td>0</td>\n",
       "      <td>0</td>\n",
       "      <td>0</td>\n",
       "      <td>0</td>\n",
       "      <td>0</td>\n",
       "      <td>...</td>\n",
       "      <td>0</td>\n",
       "      <td>0</td>\n",
       "      <td>0</td>\n",
       "      <td>0</td>\n",
       "      <td>0</td>\n",
       "      <td>0</td>\n",
       "      <td>0</td>\n",
       "      <td>0</td>\n",
       "      <td>0</td>\n",
       "      <td>0</td>\n",
       "    </tr>\n",
       "  </tbody>\n",
       "</table>\n",
       "<p>64461 rows × 97 columns</p>\n",
       "</div>"
      ],
      "text/plain": [
       "                  DevType                           \\\n",
       "      Academic researcher Data or business analyst   \n",
       "0                       0                        0   \n",
       "1                       0                        0   \n",
       "2                       0                        0   \n",
       "3                       0                        0   \n",
       "4                       0                        0   \n",
       "...                   ...                      ...   \n",
       "64456                   0                        0   \n",
       "64457                   0                        0   \n",
       "64458                   0                        0   \n",
       "64459                   0                        0   \n",
       "64460                   0                        0   \n",
       "\n",
       "                                                                            \\\n",
       "      Data scientist or machine learning specialist Database administrator   \n",
       "0                                                 0                      0   \n",
       "1                                                 0                      0   \n",
       "2                                                 0                      0   \n",
       "3                                                 0                      0   \n",
       "4                                                 0                      0   \n",
       "...                                             ...                    ...   \n",
       "64456                                             0                      0   \n",
       "64457                                             0                      0   \n",
       "64458                                             0                      0   \n",
       "64459                                             0                      0   \n",
       "64460                                             0                      0   \n",
       "\n",
       "                                                                            \\\n",
       "      Designer DevOps specialist Developer, QA or test Developer, back-end   \n",
       "0            0                 0                     0                   0   \n",
       "1            0                 0                     0                   0   \n",
       "2            0                 0                     0                   0   \n",
       "3            0                 0                     0                   0   \n",
       "4            0                 0                     0                   0   \n",
       "...        ...               ...                   ...                 ...   \n",
       "64456        0                 0                     0                   0   \n",
       "64457        0                 0                     0                   0   \n",
       "64458        0                 0                     0                   0   \n",
       "64459        0                 0                     0                   0   \n",
       "64460        0                 0                     0                   0   \n",
       "\n",
       "                                                     \\\n",
       "      Developer, desktop or enterprise applications   \n",
       "0                                                 1   \n",
       "1                                                 0   \n",
       "2                                                 0   \n",
       "3                                                 0   \n",
       "4                                                 0   \n",
       "...                                             ...   \n",
       "64456                                             0   \n",
       "64457                                             0   \n",
       "64458                                             0   \n",
       "64459                                             0   \n",
       "64460                                             0   \n",
       "\n",
       "                                                   ... MiscTechWorkedWith  \\\n",
       "      Developer, embedded applications or devices  ...            Node.js   \n",
       "0                                               0  ...                  0   \n",
       "1                                               0  ...                  0   \n",
       "2                                               0  ...                  0   \n",
       "3                                               0  ...                  0   \n",
       "4                                               0  ...                  0   \n",
       "...                                           ...  ...                ...   \n",
       "64456                                           0  ...                  0   \n",
       "64457                                           0  ...                  0   \n",
       "64458                                           0  ...                  0   \n",
       "64459                                           0  ...                  0   \n",
       "64460                                           0  ...                  0   \n",
       "\n",
       "                                                                             \\\n",
       "      Pandas Puppet React Native TensorFlow Teraform Torch/PyTorch Unity 3D   \n",
       "0          0      0            0          0        0             0        0   \n",
       "1          0      0            1          0        0             0        0   \n",
       "2          0      0            0          0        0             0        0   \n",
       "3          0      0            0          0        0             0        0   \n",
       "4          0      0            0          0        0             0        0   \n",
       "...      ...    ...          ...        ...      ...           ...      ...   \n",
       "64456      0      0            0          0        0             0        0   \n",
       "64457      0      0            0          0        0             0        0   \n",
       "64458      0      0            0          0        0             0        0   \n",
       "64459      0      0            0          0        0             0        0   \n",
       "64460      0      0            0          0        0             0        0   \n",
       "\n",
       "                             \n",
       "      Unreal Engine Xamarin  \n",
       "0                 0       0  \n",
       "1                 0       0  \n",
       "2                 0       0  \n",
       "3                 0       0  \n",
       "4                 0       0  \n",
       "...             ...     ...  \n",
       "64456             0       0  \n",
       "64457             0       0  \n",
       "64458             0       0  \n",
       "64459             0       0  \n",
       "64460             0       0  \n",
       "\n",
       "[64461 rows x 97 columns]"
      ]
     },
     "execution_count": 23,
     "metadata": {},
     "output_type": "execute_result"
    }
   ],
   "source": [
    "df = pd.read_pickle(r\"E:\\ITI Projects\\Stackoverflow Survey\\Notebook1\\df.pkl\")\n",
    "df"
   ]
  },
  {
   "cell_type": "markdown",
   "id": "2aa6ce12",
   "metadata": {},
   "source": [
    "# EDA"
   ]
  },
  {
   "cell_type": "markdown",
   "id": "a5a1f304",
   "metadata": {},
   "source": [
    "# Job Frequency"
   ]
  },
  {
   "cell_type": "code",
   "execution_count": 24,
   "id": "b10d76bb",
   "metadata": {},
   "outputs": [
    {
     "data": {
      "text/html": [
       "<div>\n",
       "<style scoped>\n",
       "    .dataframe tbody tr th:only-of-type {\n",
       "        vertical-align: middle;\n",
       "    }\n",
       "\n",
       "    .dataframe tbody tr th {\n",
       "        vertical-align: top;\n",
       "    }\n",
       "\n",
       "    .dataframe thead th {\n",
       "        text-align: right;\n",
       "    }\n",
       "</style>\n",
       "<table border=\"1\" class=\"dataframe\">\n",
       "  <thead>\n",
       "    <tr style=\"text-align: right;\">\n",
       "      <th></th>\n",
       "      <th>Job</th>\n",
       "      <th>Freq</th>\n",
       "    </tr>\n",
       "  </thead>\n",
       "  <tbody>\n",
       "    <tr>\n",
       "      <th>0</th>\n",
       "      <td>Marketing or sales professional</td>\n",
       "      <td>642</td>\n",
       "    </tr>\n",
       "    <tr>\n",
       "      <th>1</th>\n",
       "      <td>Senior executive/VP</td>\n",
       "      <td>1320</td>\n",
       "    </tr>\n",
       "    <tr>\n",
       "      <th>2</th>\n",
       "      <td>Engineer, site reliability</td>\n",
       "      <td>1940</td>\n",
       "    </tr>\n",
       "    <tr>\n",
       "      <th>3</th>\n",
       "      <td>Scientist</td>\n",
       "      <td>2086</td>\n",
       "    </tr>\n",
       "    <tr>\n",
       "      <th>4</th>\n",
       "      <td>Product manager</td>\n",
       "      <td>2497</td>\n",
       "    </tr>\n",
       "    <tr>\n",
       "      <th>5</th>\n",
       "      <td>Engineering manager</td>\n",
       "      <td>2724</td>\n",
       "    </tr>\n",
       "    <tr>\n",
       "      <th>6</th>\n",
       "      <td>Developer, game or graphics</td>\n",
       "      <td>2789</td>\n",
       "    </tr>\n",
       "    <tr>\n",
       "      <th>7</th>\n",
       "      <td>Educator</td>\n",
       "      <td>2928</td>\n",
       "    </tr>\n",
       "    <tr>\n",
       "      <th>8</th>\n",
       "      <td>Academic researcher</td>\n",
       "      <td>3552</td>\n",
       "    </tr>\n",
       "    <tr>\n",
       "      <th>9</th>\n",
       "      <td>Engineer, data</td>\n",
       "      <td>3738</td>\n",
       "    </tr>\n",
       "    <tr>\n",
       "      <th>10</th>\n",
       "      <td>Developer, QA or test</td>\n",
       "      <td>3947</td>\n",
       "    </tr>\n",
       "    <tr>\n",
       "      <th>11</th>\n",
       "      <td>Data scientist or machine learning specialist</td>\n",
       "      <td>3988</td>\n",
       "    </tr>\n",
       "    <tr>\n",
       "      <th>12</th>\n",
       "      <td>Data or business analyst</td>\n",
       "      <td>4024</td>\n",
       "    </tr>\n",
       "    <tr>\n",
       "      <th>13</th>\n",
       "      <td>Developer, embedded applications or devices</td>\n",
       "      <td>4750</td>\n",
       "    </tr>\n",
       "    <tr>\n",
       "      <th>14</th>\n",
       "      <td>System administrator</td>\n",
       "      <td>5242</td>\n",
       "    </tr>\n",
       "    <tr>\n",
       "      <th>15</th>\n",
       "      <td>Designer</td>\n",
       "      <td>5321</td>\n",
       "    </tr>\n",
       "    <tr>\n",
       "      <th>16</th>\n",
       "      <td>Database administrator</td>\n",
       "      <td>5722</td>\n",
       "    </tr>\n",
       "    <tr>\n",
       "      <th>17</th>\n",
       "      <td>DevOps specialist</td>\n",
       "      <td>5969</td>\n",
       "    </tr>\n",
       "    <tr>\n",
       "      <th>18</th>\n",
       "      <td>Developer, mobile</td>\n",
       "      <td>9482</td>\n",
       "    </tr>\n",
       "    <tr>\n",
       "      <th>19</th>\n",
       "      <td>Developer, desktop or enterprise applications</td>\n",
       "      <td>11784</td>\n",
       "    </tr>\n",
       "    <tr>\n",
       "      <th>20</th>\n",
       "      <td>Developer, front-end</td>\n",
       "      <td>18296</td>\n",
       "    </tr>\n",
       "    <tr>\n",
       "      <th>21</th>\n",
       "      <td>Developer, full-stack</td>\n",
       "      <td>27125</td>\n",
       "    </tr>\n",
       "    <tr>\n",
       "      <th>22</th>\n",
       "      <td>Developer, back-end</td>\n",
       "      <td>27228</td>\n",
       "    </tr>\n",
       "  </tbody>\n",
       "</table>\n",
       "</div>"
      ],
      "text/plain": [
       "                                              Job   Freq\n",
       "0                 Marketing or sales professional    642\n",
       "1                             Senior executive/VP   1320\n",
       "2                      Engineer, site reliability   1940\n",
       "3                                       Scientist   2086\n",
       "4                                 Product manager   2497\n",
       "5                             Engineering manager   2724\n",
       "6                     Developer, game or graphics   2789\n",
       "7                                        Educator   2928\n",
       "8                             Academic researcher   3552\n",
       "9                                  Engineer, data   3738\n",
       "10                          Developer, QA or test   3947\n",
       "11  Data scientist or machine learning specialist   3988\n",
       "12                       Data or business analyst   4024\n",
       "13    Developer, embedded applications or devices   4750\n",
       "14                           System administrator   5242\n",
       "15                                       Designer   5321\n",
       "16                         Database administrator   5722\n",
       "17                              DevOps specialist   5969\n",
       "18                              Developer, mobile   9482\n",
       "19  Developer, desktop or enterprise applications  11784\n",
       "20                           Developer, front-end  18296\n",
       "21                          Developer, full-stack  27125\n",
       "22                            Developer, back-end  27228"
      ]
     },
     "execution_count": 24,
     "metadata": {},
     "output_type": "execute_result"
    }
   ],
   "source": [
    "jobs_freq = df['DevType'].copy().sum().sort_values().reset_index()\n",
    "jobs_freq.columns = ['Job' ,'Freq']\n",
    "jobs_freq"
   ]
  },
  {
   "cell_type": "code",
   "execution_count": 25,
   "id": "d9f2ed65",
   "metadata": {},
   "outputs": [
    {
     "data": {
      "text/plain": [
       "Index(['Job', 'Freq'], dtype='object')"
      ]
     },
     "execution_count": 25,
     "metadata": {},
     "output_type": "execute_result"
    }
   ],
   "source": [
    "jobs_freq.columns"
   ]
  },
  {
   "cell_type": "code",
   "execution_count": 26,
   "id": "a4b1015c",
   "metadata": {},
   "outputs": [
    {
     "data": {
      "application/vnd.plotly.v1+json": {
       "config": {
        "plotlyServerURL": "https://plot.ly"
       },
       "data": [
        {
         "branchvalues": "total",
         "customdata": [
          [
           642
          ],
          [
           1320
          ],
          [
           1940
          ],
          [
           2086
          ],
          [
           2497
          ],
          [
           2724
          ],
          [
           2789
          ],
          [
           2928
          ],
          [
           3552
          ],
          [
           3738
          ],
          [
           3947
          ],
          [
           3988
          ],
          [
           4024
          ],
          [
           4750
          ],
          [
           5242
          ],
          [
           5321
          ],
          [
           5722
          ],
          [
           5969
          ],
          [
           9482
          ],
          [
           11784
          ],
          [
           18296
          ],
          [
           27125
          ],
          [
           27228
          ],
          [
           3552
          ],
          [
           4024
          ],
          [
           3988
          ],
          [
           5722
          ],
          [
           5321
          ],
          [
           5969
          ],
          [
           3947
          ],
          [
           27228
          ],
          [
           11784
          ],
          [
           4750
          ],
          [
           18296
          ],
          [
           27125
          ],
          [
           2789
          ],
          [
           9482
          ],
          [
           2928
          ],
          [
           3738
          ],
          [
           1940
          ],
          [
           2724
          ],
          [
           642
          ],
          [
           2497
          ],
          [
           2086
          ],
          [
           1320
          ],
          [
           5242
          ]
         ],
         "domain": {
          "x": [
           0,
           1
          ],
          "y": [
           0,
           1
          ]
         },
         "hovertemplate": "labels=%{label}<br>Freq_sum=%{value}<br>parent=%{parent}<br>id=%{id}<br>Freq=%{color}<extra></extra>",
         "ids": [
          "Marketing or sales professional/642",
          "Senior executive/VP/1320",
          "Engineer, site reliability/1940",
          "Scientist/2086",
          "Product manager/2497",
          "Engineering manager/2724",
          "Developer, game or graphics/2789",
          "Educator/2928",
          "Academic researcher/3552",
          "Engineer, data/3738",
          "Developer, QA or test/3947",
          "Data scientist or machine learning specialist/3988",
          "Data or business analyst/4024",
          "Developer, embedded applications or devices/4750",
          "System administrator/5242",
          "Designer/5321",
          "Database administrator/5722",
          "DevOps specialist/5969",
          "Developer, mobile/9482",
          "Developer, desktop or enterprise applications/11784",
          "Developer, front-end/18296",
          "Developer, full-stack/27125",
          "Developer, back-end/27228",
          "Academic researcher",
          "Data or business analyst",
          "Data scientist or machine learning specialist",
          "Database administrator",
          "Designer",
          "DevOps specialist",
          "Developer, QA or test",
          "Developer, back-end",
          "Developer, desktop or enterprise applications",
          "Developer, embedded applications or devices",
          "Developer, front-end",
          "Developer, full-stack",
          "Developer, game or graphics",
          "Developer, mobile",
          "Educator",
          "Engineer, data",
          "Engineer, site reliability",
          "Engineering manager",
          "Marketing or sales professional",
          "Product manager",
          "Scientist",
          "Senior executive/VP",
          "System administrator"
         ],
         "labels": [
          "642",
          "1320",
          "1940",
          "2086",
          "2497",
          "2724",
          "2789",
          "2928",
          "3552",
          "3738",
          "3947",
          "3988",
          "4024",
          "4750",
          "5242",
          "5321",
          "5722",
          "5969",
          "9482",
          "11784",
          "18296",
          "27125",
          "27228",
          "Academic researcher",
          "Data or business analyst",
          "Data scientist or machine learning specialist",
          "Database administrator",
          "Designer",
          "DevOps specialist",
          "Developer, QA or test",
          "Developer, back-end",
          "Developer, desktop or enterprise applications",
          "Developer, embedded applications or devices",
          "Developer, front-end",
          "Developer, full-stack",
          "Developer, game or graphics",
          "Developer, mobile",
          "Educator",
          "Engineer, data",
          "Engineer, site reliability",
          "Engineering manager",
          "Marketing or sales professional",
          "Product manager",
          "Scientist",
          "Senior executive/VP",
          "System administrator"
         ],
         "marker": {
          "coloraxis": "coloraxis",
          "colors": [
           642,
           1320,
           1940,
           2086,
           2497,
           2724,
           2789,
           2928,
           3552,
           3738,
           3947,
           3988,
           4024,
           4750,
           5242,
           5321,
           5722,
           5969,
           9482,
           11784,
           18296,
           27125,
           27228,
           3552,
           4024,
           3988,
           5722,
           5321,
           5969,
           3947,
           27228,
           11784,
           4750,
           18296,
           27125,
           2789,
           9482,
           2928,
           3738,
           1940,
           2724,
           642,
           2497,
           2086,
           1320,
           5242
          ]
         },
         "name": "",
         "parents": [
          "Marketing or sales professional",
          "Senior executive/VP",
          "Engineer, site reliability",
          "Scientist",
          "Product manager",
          "Engineering manager",
          "Developer, game or graphics",
          "Educator",
          "Academic researcher",
          "Engineer, data",
          "Developer, QA or test",
          "Data scientist or machine learning specialist",
          "Data or business analyst",
          "Developer, embedded applications or devices",
          "System administrator",
          "Designer",
          "Database administrator",
          "DevOps specialist",
          "Developer, mobile",
          "Developer, desktop or enterprise applications",
          "Developer, front-end",
          "Developer, full-stack",
          "Developer, back-end",
          "",
          "",
          "",
          "",
          "",
          "",
          "",
          "",
          "",
          "",
          "",
          "",
          "",
          "",
          "",
          "",
          "",
          "",
          "",
          "",
          "",
          "",
          ""
         ],
         "type": "treemap",
         "values": [
          642,
          1320,
          1940,
          2086,
          2497,
          2724,
          2789,
          2928,
          3552,
          3738,
          3947,
          3988,
          4024,
          4750,
          5242,
          5321,
          5722,
          5969,
          9482,
          11784,
          18296,
          27125,
          27228,
          3552,
          4024,
          3988,
          5722,
          5321,
          5969,
          3947,
          27228,
          11784,
          4750,
          18296,
          27125,
          2789,
          9482,
          2928,
          3738,
          1940,
          2724,
          642,
          2497,
          2086,
          1320,
          5242
         ]
        }
       ],
       "layout": {
        "coloraxis": {
         "colorbar": {
          "title": {
           "text": "Freq"
          }
         },
         "colorscale": [
          [
           0,
           "rgb(253, 253, 204)"
          ],
          [
           0.09090909090909091,
           "rgb(206, 236, 179)"
          ],
          [
           0.18181818181818182,
           "rgb(156, 219, 165)"
          ],
          [
           0.2727272727272727,
           "rgb(111, 201, 163)"
          ],
          [
           0.36363636363636365,
           "rgb(86, 177, 163)"
          ],
          [
           0.45454545454545453,
           "rgb(76, 153, 160)"
          ],
          [
           0.5454545454545454,
           "rgb(68, 130, 155)"
          ],
          [
           0.6363636363636364,
           "rgb(62, 108, 150)"
          ],
          [
           0.7272727272727273,
           "rgb(62, 82, 143)"
          ],
          [
           0.8181818181818182,
           "rgb(64, 60, 115)"
          ],
          [
           0.9090909090909091,
           "rgb(54, 43, 77)"
          ],
          [
           1,
           "rgb(39, 26, 44)"
          ]
         ]
        },
        "height": 500,
        "legend": {
         "tracegroupgap": 0
        },
        "margin": {
         "t": 60
        },
        "template": {
         "data": {
          "bar": [
           {
            "error_x": {
             "color": "#2a3f5f"
            },
            "error_y": {
             "color": "#2a3f5f"
            },
            "marker": {
             "line": {
              "color": "#E5ECF6",
              "width": 0.5
             },
             "pattern": {
              "fillmode": "overlay",
              "size": 10,
              "solidity": 0.2
             }
            },
            "type": "bar"
           }
          ],
          "barpolar": [
           {
            "marker": {
             "line": {
              "color": "#E5ECF6",
              "width": 0.5
             },
             "pattern": {
              "fillmode": "overlay",
              "size": 10,
              "solidity": 0.2
             }
            },
            "type": "barpolar"
           }
          ],
          "carpet": [
           {
            "aaxis": {
             "endlinecolor": "#2a3f5f",
             "gridcolor": "white",
             "linecolor": "white",
             "minorgridcolor": "white",
             "startlinecolor": "#2a3f5f"
            },
            "baxis": {
             "endlinecolor": "#2a3f5f",
             "gridcolor": "white",
             "linecolor": "white",
             "minorgridcolor": "white",
             "startlinecolor": "#2a3f5f"
            },
            "type": "carpet"
           }
          ],
          "choropleth": [
           {
            "colorbar": {
             "outlinewidth": 0,
             "ticks": ""
            },
            "type": "choropleth"
           }
          ],
          "contour": [
           {
            "colorbar": {
             "outlinewidth": 0,
             "ticks": ""
            },
            "colorscale": [
             [
              0,
              "#0d0887"
             ],
             [
              0.1111111111111111,
              "#46039f"
             ],
             [
              0.2222222222222222,
              "#7201a8"
             ],
             [
              0.3333333333333333,
              "#9c179e"
             ],
             [
              0.4444444444444444,
              "#bd3786"
             ],
             [
              0.5555555555555556,
              "#d8576b"
             ],
             [
              0.6666666666666666,
              "#ed7953"
             ],
             [
              0.7777777777777778,
              "#fb9f3a"
             ],
             [
              0.8888888888888888,
              "#fdca26"
             ],
             [
              1,
              "#f0f921"
             ]
            ],
            "type": "contour"
           }
          ],
          "contourcarpet": [
           {
            "colorbar": {
             "outlinewidth": 0,
             "ticks": ""
            },
            "type": "contourcarpet"
           }
          ],
          "heatmap": [
           {
            "colorbar": {
             "outlinewidth": 0,
             "ticks": ""
            },
            "colorscale": [
             [
              0,
              "#0d0887"
             ],
             [
              0.1111111111111111,
              "#46039f"
             ],
             [
              0.2222222222222222,
              "#7201a8"
             ],
             [
              0.3333333333333333,
              "#9c179e"
             ],
             [
              0.4444444444444444,
              "#bd3786"
             ],
             [
              0.5555555555555556,
              "#d8576b"
             ],
             [
              0.6666666666666666,
              "#ed7953"
             ],
             [
              0.7777777777777778,
              "#fb9f3a"
             ],
             [
              0.8888888888888888,
              "#fdca26"
             ],
             [
              1,
              "#f0f921"
             ]
            ],
            "type": "heatmap"
           }
          ],
          "heatmapgl": [
           {
            "colorbar": {
             "outlinewidth": 0,
             "ticks": ""
            },
            "colorscale": [
             [
              0,
              "#0d0887"
             ],
             [
              0.1111111111111111,
              "#46039f"
             ],
             [
              0.2222222222222222,
              "#7201a8"
             ],
             [
              0.3333333333333333,
              "#9c179e"
             ],
             [
              0.4444444444444444,
              "#bd3786"
             ],
             [
              0.5555555555555556,
              "#d8576b"
             ],
             [
              0.6666666666666666,
              "#ed7953"
             ],
             [
              0.7777777777777778,
              "#fb9f3a"
             ],
             [
              0.8888888888888888,
              "#fdca26"
             ],
             [
              1,
              "#f0f921"
             ]
            ],
            "type": "heatmapgl"
           }
          ],
          "histogram": [
           {
            "marker": {
             "pattern": {
              "fillmode": "overlay",
              "size": 10,
              "solidity": 0.2
             }
            },
            "type": "histogram"
           }
          ],
          "histogram2d": [
           {
            "colorbar": {
             "outlinewidth": 0,
             "ticks": ""
            },
            "colorscale": [
             [
              0,
              "#0d0887"
             ],
             [
              0.1111111111111111,
              "#46039f"
             ],
             [
              0.2222222222222222,
              "#7201a8"
             ],
             [
              0.3333333333333333,
              "#9c179e"
             ],
             [
              0.4444444444444444,
              "#bd3786"
             ],
             [
              0.5555555555555556,
              "#d8576b"
             ],
             [
              0.6666666666666666,
              "#ed7953"
             ],
             [
              0.7777777777777778,
              "#fb9f3a"
             ],
             [
              0.8888888888888888,
              "#fdca26"
             ],
             [
              1,
              "#f0f921"
             ]
            ],
            "type": "histogram2d"
           }
          ],
          "histogram2dcontour": [
           {
            "colorbar": {
             "outlinewidth": 0,
             "ticks": ""
            },
            "colorscale": [
             [
              0,
              "#0d0887"
             ],
             [
              0.1111111111111111,
              "#46039f"
             ],
             [
              0.2222222222222222,
              "#7201a8"
             ],
             [
              0.3333333333333333,
              "#9c179e"
             ],
             [
              0.4444444444444444,
              "#bd3786"
             ],
             [
              0.5555555555555556,
              "#d8576b"
             ],
             [
              0.6666666666666666,
              "#ed7953"
             ],
             [
              0.7777777777777778,
              "#fb9f3a"
             ],
             [
              0.8888888888888888,
              "#fdca26"
             ],
             [
              1,
              "#f0f921"
             ]
            ],
            "type": "histogram2dcontour"
           }
          ],
          "mesh3d": [
           {
            "colorbar": {
             "outlinewidth": 0,
             "ticks": ""
            },
            "type": "mesh3d"
           }
          ],
          "parcoords": [
           {
            "line": {
             "colorbar": {
              "outlinewidth": 0,
              "ticks": ""
             }
            },
            "type": "parcoords"
           }
          ],
          "pie": [
           {
            "automargin": true,
            "type": "pie"
           }
          ],
          "scatter": [
           {
            "fillpattern": {
             "fillmode": "overlay",
             "size": 10,
             "solidity": 0.2
            },
            "type": "scatter"
           }
          ],
          "scatter3d": [
           {
            "line": {
             "colorbar": {
              "outlinewidth": 0,
              "ticks": ""
             }
            },
            "marker": {
             "colorbar": {
              "outlinewidth": 0,
              "ticks": ""
             }
            },
            "type": "scatter3d"
           }
          ],
          "scattercarpet": [
           {
            "marker": {
             "colorbar": {
              "outlinewidth": 0,
              "ticks": ""
             }
            },
            "type": "scattercarpet"
           }
          ],
          "scattergeo": [
           {
            "marker": {
             "colorbar": {
              "outlinewidth": 0,
              "ticks": ""
             }
            },
            "type": "scattergeo"
           }
          ],
          "scattergl": [
           {
            "marker": {
             "colorbar": {
              "outlinewidth": 0,
              "ticks": ""
             }
            },
            "type": "scattergl"
           }
          ],
          "scattermapbox": [
           {
            "marker": {
             "colorbar": {
              "outlinewidth": 0,
              "ticks": ""
             }
            },
            "type": "scattermapbox"
           }
          ],
          "scatterpolar": [
           {
            "marker": {
             "colorbar": {
              "outlinewidth": 0,
              "ticks": ""
             }
            },
            "type": "scatterpolar"
           }
          ],
          "scatterpolargl": [
           {
            "marker": {
             "colorbar": {
              "outlinewidth": 0,
              "ticks": ""
             }
            },
            "type": "scatterpolargl"
           }
          ],
          "scatterternary": [
           {
            "marker": {
             "colorbar": {
              "outlinewidth": 0,
              "ticks": ""
             }
            },
            "type": "scatterternary"
           }
          ],
          "surface": [
           {
            "colorbar": {
             "outlinewidth": 0,
             "ticks": ""
            },
            "colorscale": [
             [
              0,
              "#0d0887"
             ],
             [
              0.1111111111111111,
              "#46039f"
             ],
             [
              0.2222222222222222,
              "#7201a8"
             ],
             [
              0.3333333333333333,
              "#9c179e"
             ],
             [
              0.4444444444444444,
              "#bd3786"
             ],
             [
              0.5555555555555556,
              "#d8576b"
             ],
             [
              0.6666666666666666,
              "#ed7953"
             ],
             [
              0.7777777777777778,
              "#fb9f3a"
             ],
             [
              0.8888888888888888,
              "#fdca26"
             ],
             [
              1,
              "#f0f921"
             ]
            ],
            "type": "surface"
           }
          ],
          "table": [
           {
            "cells": {
             "fill": {
              "color": "#EBF0F8"
             },
             "line": {
              "color": "white"
             }
            },
            "header": {
             "fill": {
              "color": "#C8D4E3"
             },
             "line": {
              "color": "white"
             }
            },
            "type": "table"
           }
          ]
         },
         "layout": {
          "annotationdefaults": {
           "arrowcolor": "#2a3f5f",
           "arrowhead": 0,
           "arrowwidth": 1
          },
          "autotypenumbers": "strict",
          "coloraxis": {
           "colorbar": {
            "outlinewidth": 0,
            "ticks": ""
           }
          },
          "colorscale": {
           "diverging": [
            [
             0,
             "#8e0152"
            ],
            [
             0.1,
             "#c51b7d"
            ],
            [
             0.2,
             "#de77ae"
            ],
            [
             0.3,
             "#f1b6da"
            ],
            [
             0.4,
             "#fde0ef"
            ],
            [
             0.5,
             "#f7f7f7"
            ],
            [
             0.6,
             "#e6f5d0"
            ],
            [
             0.7,
             "#b8e186"
            ],
            [
             0.8,
             "#7fbc41"
            ],
            [
             0.9,
             "#4d9221"
            ],
            [
             1,
             "#276419"
            ]
           ],
           "sequential": [
            [
             0,
             "#0d0887"
            ],
            [
             0.1111111111111111,
             "#46039f"
            ],
            [
             0.2222222222222222,
             "#7201a8"
            ],
            [
             0.3333333333333333,
             "#9c179e"
            ],
            [
             0.4444444444444444,
             "#bd3786"
            ],
            [
             0.5555555555555556,
             "#d8576b"
            ],
            [
             0.6666666666666666,
             "#ed7953"
            ],
            [
             0.7777777777777778,
             "#fb9f3a"
            ],
            [
             0.8888888888888888,
             "#fdca26"
            ],
            [
             1,
             "#f0f921"
            ]
           ],
           "sequentialminus": [
            [
             0,
             "#0d0887"
            ],
            [
             0.1111111111111111,
             "#46039f"
            ],
            [
             0.2222222222222222,
             "#7201a8"
            ],
            [
             0.3333333333333333,
             "#9c179e"
            ],
            [
             0.4444444444444444,
             "#bd3786"
            ],
            [
             0.5555555555555556,
             "#d8576b"
            ],
            [
             0.6666666666666666,
             "#ed7953"
            ],
            [
             0.7777777777777778,
             "#fb9f3a"
            ],
            [
             0.8888888888888888,
             "#fdca26"
            ],
            [
             1,
             "#f0f921"
            ]
           ]
          },
          "colorway": [
           "#636efa",
           "#EF553B",
           "#00cc96",
           "#ab63fa",
           "#FFA15A",
           "#19d3f3",
           "#FF6692",
           "#B6E880",
           "#FF97FF",
           "#FECB52"
          ],
          "font": {
           "color": "#2a3f5f"
          },
          "geo": {
           "bgcolor": "white",
           "lakecolor": "white",
           "landcolor": "#E5ECF6",
           "showlakes": true,
           "showland": true,
           "subunitcolor": "white"
          },
          "hoverlabel": {
           "align": "left"
          },
          "hovermode": "closest",
          "mapbox": {
           "style": "light"
          },
          "paper_bgcolor": "white",
          "plot_bgcolor": "#E5ECF6",
          "polar": {
           "angularaxis": {
            "gridcolor": "white",
            "linecolor": "white",
            "ticks": ""
           },
           "bgcolor": "#E5ECF6",
           "radialaxis": {
            "gridcolor": "white",
            "linecolor": "white",
            "ticks": ""
           }
          },
          "scene": {
           "xaxis": {
            "backgroundcolor": "#E5ECF6",
            "gridcolor": "white",
            "gridwidth": 2,
            "linecolor": "white",
            "showbackground": true,
            "ticks": "",
            "zerolinecolor": "white"
           },
           "yaxis": {
            "backgroundcolor": "#E5ECF6",
            "gridcolor": "white",
            "gridwidth": 2,
            "linecolor": "white",
            "showbackground": true,
            "ticks": "",
            "zerolinecolor": "white"
           },
           "zaxis": {
            "backgroundcolor": "#E5ECF6",
            "gridcolor": "white",
            "gridwidth": 2,
            "linecolor": "white",
            "showbackground": true,
            "ticks": "",
            "zerolinecolor": "white"
           }
          },
          "shapedefaults": {
           "line": {
            "color": "#2a3f5f"
           }
          },
          "ternary": {
           "aaxis": {
            "gridcolor": "white",
            "linecolor": "white",
            "ticks": ""
           },
           "baxis": {
            "gridcolor": "white",
            "linecolor": "white",
            "ticks": ""
           },
           "bgcolor": "#E5ECF6",
           "caxis": {
            "gridcolor": "white",
            "linecolor": "white",
            "ticks": ""
           }
          },
          "title": {
           "x": 0.05
          },
          "xaxis": {
           "automargin": true,
           "gridcolor": "white",
           "linecolor": "white",
           "ticks": "",
           "title": {
            "standoff": 15
           },
           "zerolinecolor": "white",
           "zerolinewidth": 2
          },
          "yaxis": {
           "automargin": true,
           "gridcolor": "white",
           "linecolor": "white",
           "ticks": "",
           "title": {
            "standoff": 15
           },
           "zerolinecolor": "white",
           "zerolinewidth": 2
          }
         }
        },
        "width": 1000
       }
      },
      "text/html": [
       "<div>                            <div id=\"acc1a7c8-be0c-4061-8a0e-e49c08a819a4\" class=\"plotly-graph-div\" style=\"height:500px; width:1000px;\"></div>            <script type=\"text/javascript\">                require([\"plotly\"], function(Plotly) {                    window.PLOTLYENV=window.PLOTLYENV || {};                                    if (document.getElementById(\"acc1a7c8-be0c-4061-8a0e-e49c08a819a4\")) {                    Plotly.newPlot(                        \"acc1a7c8-be0c-4061-8a0e-e49c08a819a4\",                        [{\"branchvalues\":\"total\",\"customdata\":[[642.0],[1320.0],[1940.0],[2086.0],[2497.0],[2724.0],[2789.0],[2928.0],[3552.0],[3738.0],[3947.0],[3988.0],[4024.0],[4750.0],[5242.0],[5321.0],[5722.0],[5969.0],[9482.0],[11784.0],[18296.0],[27125.0],[27228.0],[3552.0],[4024.0],[3988.0],[5722.0],[5321.0],[5969.0],[3947.0],[27228.0],[11784.0],[4750.0],[18296.0],[27125.0],[2789.0],[9482.0],[2928.0],[3738.0],[1940.0],[2724.0],[642.0],[2497.0],[2086.0],[1320.0],[5242.0]],\"domain\":{\"x\":[0.0,1.0],\"y\":[0.0,1.0]},\"hovertemplate\":\"labels=%{label}<br>Freq_sum=%{value}<br>parent=%{parent}<br>id=%{id}<br>Freq=%{color}<extra></extra>\",\"ids\":[\"Marketing or sales professional/642\",\"Senior executive/VP/1320\",\"Engineer, site reliability/1940\",\"Scientist/2086\",\"Product manager/2497\",\"Engineering manager/2724\",\"Developer, game or graphics/2789\",\"Educator/2928\",\"Academic researcher/3552\",\"Engineer, data/3738\",\"Developer, QA or test/3947\",\"Data scientist or machine learning specialist/3988\",\"Data or business analyst/4024\",\"Developer, embedded applications or devices/4750\",\"System administrator/5242\",\"Designer/5321\",\"Database administrator/5722\",\"DevOps specialist/5969\",\"Developer, mobile/9482\",\"Developer, desktop or enterprise applications/11784\",\"Developer, front-end/18296\",\"Developer, full-stack/27125\",\"Developer, back-end/27228\",\"Academic researcher\",\"Data or business analyst\",\"Data scientist or machine learning specialist\",\"Database administrator\",\"Designer\",\"DevOps specialist\",\"Developer, QA or test\",\"Developer, back-end\",\"Developer, desktop or enterprise applications\",\"Developer, embedded applications or devices\",\"Developer, front-end\",\"Developer, full-stack\",\"Developer, game or graphics\",\"Developer, mobile\",\"Educator\",\"Engineer, data\",\"Engineer, site reliability\",\"Engineering manager\",\"Marketing or sales professional\",\"Product manager\",\"Scientist\",\"Senior executive/VP\",\"System administrator\"],\"labels\":[\"642\",\"1320\",\"1940\",\"2086\",\"2497\",\"2724\",\"2789\",\"2928\",\"3552\",\"3738\",\"3947\",\"3988\",\"4024\",\"4750\",\"5242\",\"5321\",\"5722\",\"5969\",\"9482\",\"11784\",\"18296\",\"27125\",\"27228\",\"Academic researcher\",\"Data or business analyst\",\"Data scientist or machine learning specialist\",\"Database administrator\",\"Designer\",\"DevOps specialist\",\"Developer, QA or test\",\"Developer, back-end\",\"Developer, desktop or enterprise applications\",\"Developer, embedded applications or devices\",\"Developer, front-end\",\"Developer, full-stack\",\"Developer, game or graphics\",\"Developer, mobile\",\"Educator\",\"Engineer, data\",\"Engineer, site reliability\",\"Engineering manager\",\"Marketing or sales professional\",\"Product manager\",\"Scientist\",\"Senior executive/VP\",\"System administrator\"],\"marker\":{\"coloraxis\":\"coloraxis\",\"colors\":[642.0,1320.0,1940.0,2086.0,2497.0,2724.0,2789.0,2928.0,3552.0,3738.0,3947.0,3988.0,4024.0,4750.0,5242.0,5321.0,5722.0,5969.0,9482.0,11784.0,18296.0,27125.0,27228.0,3552.0,4024.0,3988.0,5722.0,5321.0,5969.0,3947.0,27228.0,11784.0,4750.0,18296.0,27125.0,2789.0,9482.0,2928.0,3738.0,1940.0,2724.0,642.0,2497.0,2086.0,1320.0,5242.0]},\"name\":\"\",\"parents\":[\"Marketing or sales professional\",\"Senior executive/VP\",\"Engineer, site reliability\",\"Scientist\",\"Product manager\",\"Engineering manager\",\"Developer, game or graphics\",\"Educator\",\"Academic researcher\",\"Engineer, data\",\"Developer, QA or test\",\"Data scientist or machine learning specialist\",\"Data or business analyst\",\"Developer, embedded applications or devices\",\"System administrator\",\"Designer\",\"Database administrator\",\"DevOps specialist\",\"Developer, mobile\",\"Developer, desktop or enterprise applications\",\"Developer, front-end\",\"Developer, full-stack\",\"Developer, back-end\",\"\",\"\",\"\",\"\",\"\",\"\",\"\",\"\",\"\",\"\",\"\",\"\",\"\",\"\",\"\",\"\",\"\",\"\",\"\",\"\",\"\",\"\",\"\"],\"values\":[642,1320,1940,2086,2497,2724,2789,2928,3552,3738,3947,3988,4024,4750,5242,5321,5722,5969,9482,11784,18296,27125,27228,3552,4024,3988,5722,5321,5969,3947,27228,11784,4750,18296,27125,2789,9482,2928,3738,1940,2724,642,2497,2086,1320,5242],\"type\":\"treemap\"}],                        {\"template\":{\"data\":{\"histogram2dcontour\":[{\"type\":\"histogram2dcontour\",\"colorbar\":{\"outlinewidth\":0,\"ticks\":\"\"},\"colorscale\":[[0.0,\"#0d0887\"],[0.1111111111111111,\"#46039f\"],[0.2222222222222222,\"#7201a8\"],[0.3333333333333333,\"#9c179e\"],[0.4444444444444444,\"#bd3786\"],[0.5555555555555556,\"#d8576b\"],[0.6666666666666666,\"#ed7953\"],[0.7777777777777778,\"#fb9f3a\"],[0.8888888888888888,\"#fdca26\"],[1.0,\"#f0f921\"]]}],\"choropleth\":[{\"type\":\"choropleth\",\"colorbar\":{\"outlinewidth\":0,\"ticks\":\"\"}}],\"histogram2d\":[{\"type\":\"histogram2d\",\"colorbar\":{\"outlinewidth\":0,\"ticks\":\"\"},\"colorscale\":[[0.0,\"#0d0887\"],[0.1111111111111111,\"#46039f\"],[0.2222222222222222,\"#7201a8\"],[0.3333333333333333,\"#9c179e\"],[0.4444444444444444,\"#bd3786\"],[0.5555555555555556,\"#d8576b\"],[0.6666666666666666,\"#ed7953\"],[0.7777777777777778,\"#fb9f3a\"],[0.8888888888888888,\"#fdca26\"],[1.0,\"#f0f921\"]]}],\"heatmap\":[{\"type\":\"heatmap\",\"colorbar\":{\"outlinewidth\":0,\"ticks\":\"\"},\"colorscale\":[[0.0,\"#0d0887\"],[0.1111111111111111,\"#46039f\"],[0.2222222222222222,\"#7201a8\"],[0.3333333333333333,\"#9c179e\"],[0.4444444444444444,\"#bd3786\"],[0.5555555555555556,\"#d8576b\"],[0.6666666666666666,\"#ed7953\"],[0.7777777777777778,\"#fb9f3a\"],[0.8888888888888888,\"#fdca26\"],[1.0,\"#f0f921\"]]}],\"heatmapgl\":[{\"type\":\"heatmapgl\",\"colorbar\":{\"outlinewidth\":0,\"ticks\":\"\"},\"colorscale\":[[0.0,\"#0d0887\"],[0.1111111111111111,\"#46039f\"],[0.2222222222222222,\"#7201a8\"],[0.3333333333333333,\"#9c179e\"],[0.4444444444444444,\"#bd3786\"],[0.5555555555555556,\"#d8576b\"],[0.6666666666666666,\"#ed7953\"],[0.7777777777777778,\"#fb9f3a\"],[0.8888888888888888,\"#fdca26\"],[1.0,\"#f0f921\"]]}],\"contourcarpet\":[{\"type\":\"contourcarpet\",\"colorbar\":{\"outlinewidth\":0,\"ticks\":\"\"}}],\"contour\":[{\"type\":\"contour\",\"colorbar\":{\"outlinewidth\":0,\"ticks\":\"\"},\"colorscale\":[[0.0,\"#0d0887\"],[0.1111111111111111,\"#46039f\"],[0.2222222222222222,\"#7201a8\"],[0.3333333333333333,\"#9c179e\"],[0.4444444444444444,\"#bd3786\"],[0.5555555555555556,\"#d8576b\"],[0.6666666666666666,\"#ed7953\"],[0.7777777777777778,\"#fb9f3a\"],[0.8888888888888888,\"#fdca26\"],[1.0,\"#f0f921\"]]}],\"surface\":[{\"type\":\"surface\",\"colorbar\":{\"outlinewidth\":0,\"ticks\":\"\"},\"colorscale\":[[0.0,\"#0d0887\"],[0.1111111111111111,\"#46039f\"],[0.2222222222222222,\"#7201a8\"],[0.3333333333333333,\"#9c179e\"],[0.4444444444444444,\"#bd3786\"],[0.5555555555555556,\"#d8576b\"],[0.6666666666666666,\"#ed7953\"],[0.7777777777777778,\"#fb9f3a\"],[0.8888888888888888,\"#fdca26\"],[1.0,\"#f0f921\"]]}],\"mesh3d\":[{\"type\":\"mesh3d\",\"colorbar\":{\"outlinewidth\":0,\"ticks\":\"\"}}],\"scatter\":[{\"fillpattern\":{\"fillmode\":\"overlay\",\"size\":10,\"solidity\":0.2},\"type\":\"scatter\"}],\"parcoords\":[{\"type\":\"parcoords\",\"line\":{\"colorbar\":{\"outlinewidth\":0,\"ticks\":\"\"}}}],\"scatterpolargl\":[{\"type\":\"scatterpolargl\",\"marker\":{\"colorbar\":{\"outlinewidth\":0,\"ticks\":\"\"}}}],\"bar\":[{\"error_x\":{\"color\":\"#2a3f5f\"},\"error_y\":{\"color\":\"#2a3f5f\"},\"marker\":{\"line\":{\"color\":\"#E5ECF6\",\"width\":0.5},\"pattern\":{\"fillmode\":\"overlay\",\"size\":10,\"solidity\":0.2}},\"type\":\"bar\"}],\"scattergeo\":[{\"type\":\"scattergeo\",\"marker\":{\"colorbar\":{\"outlinewidth\":0,\"ticks\":\"\"}}}],\"scatterpolar\":[{\"type\":\"scatterpolar\",\"marker\":{\"colorbar\":{\"outlinewidth\":0,\"ticks\":\"\"}}}],\"histogram\":[{\"marker\":{\"pattern\":{\"fillmode\":\"overlay\",\"size\":10,\"solidity\":0.2}},\"type\":\"histogram\"}],\"scattergl\":[{\"type\":\"scattergl\",\"marker\":{\"colorbar\":{\"outlinewidth\":0,\"ticks\":\"\"}}}],\"scatter3d\":[{\"type\":\"scatter3d\",\"line\":{\"colorbar\":{\"outlinewidth\":0,\"ticks\":\"\"}},\"marker\":{\"colorbar\":{\"outlinewidth\":0,\"ticks\":\"\"}}}],\"scattermapbox\":[{\"type\":\"scattermapbox\",\"marker\":{\"colorbar\":{\"outlinewidth\":0,\"ticks\":\"\"}}}],\"scatterternary\":[{\"type\":\"scatterternary\",\"marker\":{\"colorbar\":{\"outlinewidth\":0,\"ticks\":\"\"}}}],\"scattercarpet\":[{\"type\":\"scattercarpet\",\"marker\":{\"colorbar\":{\"outlinewidth\":0,\"ticks\":\"\"}}}],\"carpet\":[{\"aaxis\":{\"endlinecolor\":\"#2a3f5f\",\"gridcolor\":\"white\",\"linecolor\":\"white\",\"minorgridcolor\":\"white\",\"startlinecolor\":\"#2a3f5f\"},\"baxis\":{\"endlinecolor\":\"#2a3f5f\",\"gridcolor\":\"white\",\"linecolor\":\"white\",\"minorgridcolor\":\"white\",\"startlinecolor\":\"#2a3f5f\"},\"type\":\"carpet\"}],\"table\":[{\"cells\":{\"fill\":{\"color\":\"#EBF0F8\"},\"line\":{\"color\":\"white\"}},\"header\":{\"fill\":{\"color\":\"#C8D4E3\"},\"line\":{\"color\":\"white\"}},\"type\":\"table\"}],\"barpolar\":[{\"marker\":{\"line\":{\"color\":\"#E5ECF6\",\"width\":0.5},\"pattern\":{\"fillmode\":\"overlay\",\"size\":10,\"solidity\":0.2}},\"type\":\"barpolar\"}],\"pie\":[{\"automargin\":true,\"type\":\"pie\"}]},\"layout\":{\"autotypenumbers\":\"strict\",\"colorway\":[\"#636efa\",\"#EF553B\",\"#00cc96\",\"#ab63fa\",\"#FFA15A\",\"#19d3f3\",\"#FF6692\",\"#B6E880\",\"#FF97FF\",\"#FECB52\"],\"font\":{\"color\":\"#2a3f5f\"},\"hovermode\":\"closest\",\"hoverlabel\":{\"align\":\"left\"},\"paper_bgcolor\":\"white\",\"plot_bgcolor\":\"#E5ECF6\",\"polar\":{\"bgcolor\":\"#E5ECF6\",\"angularaxis\":{\"gridcolor\":\"white\",\"linecolor\":\"white\",\"ticks\":\"\"},\"radialaxis\":{\"gridcolor\":\"white\",\"linecolor\":\"white\",\"ticks\":\"\"}},\"ternary\":{\"bgcolor\":\"#E5ECF6\",\"aaxis\":{\"gridcolor\":\"white\",\"linecolor\":\"white\",\"ticks\":\"\"},\"baxis\":{\"gridcolor\":\"white\",\"linecolor\":\"white\",\"ticks\":\"\"},\"caxis\":{\"gridcolor\":\"white\",\"linecolor\":\"white\",\"ticks\":\"\"}},\"coloraxis\":{\"colorbar\":{\"outlinewidth\":0,\"ticks\":\"\"}},\"colorscale\":{\"sequential\":[[0.0,\"#0d0887\"],[0.1111111111111111,\"#46039f\"],[0.2222222222222222,\"#7201a8\"],[0.3333333333333333,\"#9c179e\"],[0.4444444444444444,\"#bd3786\"],[0.5555555555555556,\"#d8576b\"],[0.6666666666666666,\"#ed7953\"],[0.7777777777777778,\"#fb9f3a\"],[0.8888888888888888,\"#fdca26\"],[1.0,\"#f0f921\"]],\"sequentialminus\":[[0.0,\"#0d0887\"],[0.1111111111111111,\"#46039f\"],[0.2222222222222222,\"#7201a8\"],[0.3333333333333333,\"#9c179e\"],[0.4444444444444444,\"#bd3786\"],[0.5555555555555556,\"#d8576b\"],[0.6666666666666666,\"#ed7953\"],[0.7777777777777778,\"#fb9f3a\"],[0.8888888888888888,\"#fdca26\"],[1.0,\"#f0f921\"]],\"diverging\":[[0,\"#8e0152\"],[0.1,\"#c51b7d\"],[0.2,\"#de77ae\"],[0.3,\"#f1b6da\"],[0.4,\"#fde0ef\"],[0.5,\"#f7f7f7\"],[0.6,\"#e6f5d0\"],[0.7,\"#b8e186\"],[0.8,\"#7fbc41\"],[0.9,\"#4d9221\"],[1,\"#276419\"]]},\"xaxis\":{\"gridcolor\":\"white\",\"linecolor\":\"white\",\"ticks\":\"\",\"title\":{\"standoff\":15},\"zerolinecolor\":\"white\",\"automargin\":true,\"zerolinewidth\":2},\"yaxis\":{\"gridcolor\":\"white\",\"linecolor\":\"white\",\"ticks\":\"\",\"title\":{\"standoff\":15},\"zerolinecolor\":\"white\",\"automargin\":true,\"zerolinewidth\":2},\"scene\":{\"xaxis\":{\"backgroundcolor\":\"#E5ECF6\",\"gridcolor\":\"white\",\"linecolor\":\"white\",\"showbackground\":true,\"ticks\":\"\",\"zerolinecolor\":\"white\",\"gridwidth\":2},\"yaxis\":{\"backgroundcolor\":\"#E5ECF6\",\"gridcolor\":\"white\",\"linecolor\":\"white\",\"showbackground\":true,\"ticks\":\"\",\"zerolinecolor\":\"white\",\"gridwidth\":2},\"zaxis\":{\"backgroundcolor\":\"#E5ECF6\",\"gridcolor\":\"white\",\"linecolor\":\"white\",\"showbackground\":true,\"ticks\":\"\",\"zerolinecolor\":\"white\",\"gridwidth\":2}},\"shapedefaults\":{\"line\":{\"color\":\"#2a3f5f\"}},\"annotationdefaults\":{\"arrowcolor\":\"#2a3f5f\",\"arrowhead\":0,\"arrowwidth\":1},\"geo\":{\"bgcolor\":\"white\",\"landcolor\":\"#E5ECF6\",\"subunitcolor\":\"white\",\"showland\":true,\"showlakes\":true,\"lakecolor\":\"white\"},\"title\":{\"x\":0.05},\"mapbox\":{\"style\":\"light\"}}},\"coloraxis\":{\"colorbar\":{\"title\":{\"text\":\"Freq\"}},\"colorscale\":[[0.0,\"rgb(253, 253, 204)\"],[0.09090909090909091,\"rgb(206, 236, 179)\"],[0.18181818181818182,\"rgb(156, 219, 165)\"],[0.2727272727272727,\"rgb(111, 201, 163)\"],[0.36363636363636365,\"rgb(86, 177, 163)\"],[0.45454545454545453,\"rgb(76, 153, 160)\"],[0.5454545454545454,\"rgb(68, 130, 155)\"],[0.6363636363636364,\"rgb(62, 108, 150)\"],[0.7272727272727273,\"rgb(62, 82, 143)\"],[0.8181818181818182,\"rgb(64, 60, 115)\"],[0.9090909090909091,\"rgb(54, 43, 77)\"],[1.0,\"rgb(39, 26, 44)\"]]},\"legend\":{\"tracegroupgap\":0},\"margin\":{\"t\":60},\"width\":1000,\"height\":500},                        {\"responsive\": true}                    ).then(function(){\n",
       "                            \n",
       "var gd = document.getElementById('acc1a7c8-be0c-4061-8a0e-e49c08a819a4');\n",
       "var x = new MutationObserver(function (mutations, observer) {{\n",
       "        var display = window.getComputedStyle(gd).display;\n",
       "        if (!display || display === 'none') {{\n",
       "            console.log([gd, 'removed!']);\n",
       "            Plotly.purge(gd);\n",
       "            observer.disconnect();\n",
       "        }}\n",
       "}});\n",
       "\n",
       "// Listen for the removal of the full notebook cells\n",
       "var notebookContainer = gd.closest('#notebook-container');\n",
       "if (notebookContainer) {{\n",
       "    x.observe(notebookContainer, {childList: true});\n",
       "}}\n",
       "\n",
       "// Listen for the clearing of the current output cell\n",
       "var outputEl = gd.closest('.output');\n",
       "if (outputEl) {{\n",
       "    x.observe(outputEl, {childList: true});\n",
       "}}\n",
       "\n",
       "                        })                };                });            </script>        </div>"
      ]
     },
     "metadata": {},
     "output_type": "display_data"
    }
   ],
   "source": [
    "import plotly.express as px\n",
    "fig = px.treemap(jobs_freq, \n",
    "                 path=['Job' ,'Freq'], \n",
    "                 color_continuous_scale='deep',\n",
    "                 values='Freq',color='Freq')\n",
    "\n",
    "fig.update_layout(width=1000, height=500)\n",
    "fig.show()\n"
   ]
  },
  {
   "cell_type": "code",
   "execution_count": 27,
   "id": "43072a9c",
   "metadata": {},
   "outputs": [
    {
     "data": {
      "image/png": "[encoded data removed]",
      "text/plain": [
       "<Figure size 640x480 with 1 Axes>"
      ]
     },
     "metadata": {},
     "output_type": "display_data"
    }
   ],
   "source": [
    "import matplotlib.pyplot as plt\n",
    "plt.bar(jobs_freq['Job'] , jobs_freq['Freq'])\n",
    "plt.xticks(jobs_freq['Job'] , rotation = \"vertical\" , size=8)\n",
    "plt.xlabel(\"Jobs\")\n",
    "plt.ylabel(\"Frequency\")\n",
    "plt.show()"
   ]
  },
  {
   "cell_type": "markdown",
   "id": "78cfaad6",
   "metadata": {},
   "source": [
    "# Skills Frequency"
   ]
  },
  {
   "cell_type": "code",
   "execution_count": 28,
   "id": "3e034718",
   "metadata": {},
   "outputs": [
    {
     "data": {
      "text/html": [
       "<div>\n",
       "<style scoped>\n",
       "    .dataframe tbody tr th:only-of-type {\n",
       "        vertical-align: middle;\n",
       "    }\n",
       "\n",
       "    .dataframe tbody tr th {\n",
       "        vertical-align: top;\n",
       "    }\n",
       "\n",
       "    .dataframe thead th {\n",
       "        text-align: right;\n",
       "    }\n",
       "</style>\n",
       "<table border=\"1\" class=\"dataframe\">\n",
       "  <thead>\n",
       "    <tr style=\"text-align: right;\">\n",
       "      <th></th>\n",
       "      <th>Group</th>\n",
       "      <th>Skill</th>\n",
       "      <th>Freq</th>\n",
       "    </tr>\n",
       "  </thead>\n",
       "  <tbody>\n",
       "    <tr>\n",
       "      <th>0</th>\n",
       "      <td>LanguageWorkedWith</td>\n",
       "      <td>Assembly</td>\n",
       "      <td>3553</td>\n",
       "    </tr>\n",
       "    <tr>\n",
       "      <th>1</th>\n",
       "      <td>LanguageWorkedWith</td>\n",
       "      <td>Bash/Shell/PowerShell</td>\n",
       "      <td>18980</td>\n",
       "    </tr>\n",
       "    <tr>\n",
       "      <th>2</th>\n",
       "      <td>LanguageWorkedWith</td>\n",
       "      <td>C</td>\n",
       "      <td>12487</td>\n",
       "    </tr>\n",
       "    <tr>\n",
       "      <th>3</th>\n",
       "      <td>LanguageWorkedWith</td>\n",
       "      <td>C#</td>\n",
       "      <td>18041</td>\n",
       "    </tr>\n",
       "    <tr>\n",
       "      <th>4</th>\n",
       "      <td>LanguageWorkedWith</td>\n",
       "      <td>C++</td>\n",
       "      <td>13707</td>\n",
       "    </tr>\n",
       "    <tr>\n",
       "      <th>5</th>\n",
       "      <td>LanguageWorkedWith</td>\n",
       "      <td>Dart</td>\n",
       "      <td>2280</td>\n",
       "    </tr>\n",
       "    <tr>\n",
       "      <th>6</th>\n",
       "      <td>LanguageWorkedWith</td>\n",
       "      <td>Go</td>\n",
       "      <td>5038</td>\n",
       "    </tr>\n",
       "    <tr>\n",
       "      <th>7</th>\n",
       "      <td>LanguageWorkedWith</td>\n",
       "      <td>HTML/CSS</td>\n",
       "      <td>36181</td>\n",
       "    </tr>\n",
       "    <tr>\n",
       "      <th>8</th>\n",
       "      <td>LanguageWorkedWith</td>\n",
       "      <td>Haskell</td>\n",
       "      <td>1222</td>\n",
       "    </tr>\n",
       "    <tr>\n",
       "      <th>9</th>\n",
       "      <td>LanguageWorkedWith</td>\n",
       "      <td>Java</td>\n",
       "      <td>23074</td>\n",
       "    </tr>\n",
       "    <tr>\n",
       "      <th>10</th>\n",
       "      <td>LanguageWorkedWith</td>\n",
       "      <td>JavaScript</td>\n",
       "      <td>38822</td>\n",
       "    </tr>\n",
       "    <tr>\n",
       "      <th>11</th>\n",
       "      <td>LanguageWorkedWith</td>\n",
       "      <td>Julia</td>\n",
       "      <td>519</td>\n",
       "    </tr>\n",
       "    <tr>\n",
       "      <th>12</th>\n",
       "      <td>LanguageWorkedWith</td>\n",
       "      <td>Kotlin</td>\n",
       "      <td>4468</td>\n",
       "    </tr>\n",
       "    <tr>\n",
       "      <th>13</th>\n",
       "      <td>LanguageWorkedWith</td>\n",
       "      <td>Objective-C</td>\n",
       "      <td>2340</td>\n",
       "    </tr>\n",
       "    <tr>\n",
       "      <th>14</th>\n",
       "      <td>LanguageWorkedWith</td>\n",
       "      <td>PHP</td>\n",
       "      <td>15007</td>\n",
       "    </tr>\n",
       "    <tr>\n",
       "      <th>15</th>\n",
       "      <td>LanguageWorkedWith</td>\n",
       "      <td>Perl</td>\n",
       "      <td>1796</td>\n",
       "    </tr>\n",
       "    <tr>\n",
       "      <th>16</th>\n",
       "      <td>LanguageWorkedWith</td>\n",
       "      <td>Python</td>\n",
       "      <td>25287</td>\n",
       "    </tr>\n",
       "    <tr>\n",
       "      <th>17</th>\n",
       "      <td>LanguageWorkedWith</td>\n",
       "      <td>R</td>\n",
       "      <td>3288</td>\n",
       "    </tr>\n",
       "    <tr>\n",
       "      <th>18</th>\n",
       "      <td>LanguageWorkedWith</td>\n",
       "      <td>Ruby</td>\n",
       "      <td>4046</td>\n",
       "    </tr>\n",
       "    <tr>\n",
       "      <th>19</th>\n",
       "      <td>LanguageWorkedWith</td>\n",
       "      <td>Rust</td>\n",
       "      <td>2929</td>\n",
       "    </tr>\n",
       "    <tr>\n",
       "      <th>20</th>\n",
       "      <td>LanguageWorkedWith</td>\n",
       "      <td>SQL</td>\n",
       "      <td>31413</td>\n",
       "    </tr>\n",
       "    <tr>\n",
       "      <th>21</th>\n",
       "      <td>LanguageWorkedWith</td>\n",
       "      <td>Scala</td>\n",
       "      <td>2052</td>\n",
       "    </tr>\n",
       "    <tr>\n",
       "      <th>22</th>\n",
       "      <td>LanguageWorkedWith</td>\n",
       "      <td>Swift</td>\n",
       "      <td>3397</td>\n",
       "    </tr>\n",
       "    <tr>\n",
       "      <th>23</th>\n",
       "      <td>LanguageWorkedWith</td>\n",
       "      <td>TypeScript</td>\n",
       "      <td>14578</td>\n",
       "    </tr>\n",
       "    <tr>\n",
       "      <th>24</th>\n",
       "      <td>LanguageWorkedWith</td>\n",
       "      <td>VBA</td>\n",
       "      <td>3499</td>\n",
       "    </tr>\n",
       "    <tr>\n",
       "      <th>25</th>\n",
       "      <td>DatabaseWorkedWith</td>\n",
       "      <td>Cassandra</td>\n",
       "      <td>1654</td>\n",
       "    </tr>\n",
       "    <tr>\n",
       "      <th>26</th>\n",
       "      <td>DatabaseWorkedWith</td>\n",
       "      <td>Couchbase</td>\n",
       "      <td>937</td>\n",
       "    </tr>\n",
       "    <tr>\n",
       "      <th>27</th>\n",
       "      <td>DatabaseWorkedWith</td>\n",
       "      <td>DynamoDB</td>\n",
       "      <td>3497</td>\n",
       "    </tr>\n",
       "    <tr>\n",
       "      <th>28</th>\n",
       "      <td>DatabaseWorkedWith</td>\n",
       "      <td>Elasticsearch</td>\n",
       "      <td>6817</td>\n",
       "    </tr>\n",
       "    <tr>\n",
       "      <th>29</th>\n",
       "      <td>DatabaseWorkedWith</td>\n",
       "      <td>Firebase</td>\n",
       "      <td>7128</td>\n",
       "    </tr>\n",
       "    <tr>\n",
       "      <th>30</th>\n",
       "      <td>DatabaseWorkedWith</td>\n",
       "      <td>IBM DB2</td>\n",
       "      <td>1421</td>\n",
       "    </tr>\n",
       "    <tr>\n",
       "      <th>31</th>\n",
       "      <td>DatabaseWorkedWith</td>\n",
       "      <td>MariaDB</td>\n",
       "      <td>8312</td>\n",
       "    </tr>\n",
       "    <tr>\n",
       "      <th>32</th>\n",
       "      <td>DatabaseWorkedWith</td>\n",
       "      <td>Microsoft SQL Server</td>\n",
       "      <td>16336</td>\n",
       "    </tr>\n",
       "    <tr>\n",
       "      <th>33</th>\n",
       "      <td>DatabaseWorkedWith</td>\n",
       "      <td>MongoDB</td>\n",
       "      <td>13086</td>\n",
       "    </tr>\n",
       "    <tr>\n",
       "      <th>34</th>\n",
       "      <td>DatabaseWorkedWith</td>\n",
       "      <td>MySQL</td>\n",
       "      <td>27559</td>\n",
       "    </tr>\n",
       "    <tr>\n",
       "      <th>35</th>\n",
       "      <td>DatabaseWorkedWith</td>\n",
       "      <td>Oracle</td>\n",
       "      <td>8155</td>\n",
       "    </tr>\n",
       "    <tr>\n",
       "      <th>36</th>\n",
       "      <td>DatabaseWorkedWith</td>\n",
       "      <td>PostgreSQL</td>\n",
       "      <td>17892</td>\n",
       "    </tr>\n",
       "    <tr>\n",
       "      <th>37</th>\n",
       "      <td>DatabaseWorkedWith</td>\n",
       "      <td>Redis</td>\n",
       "      <td>9056</td>\n",
       "    </tr>\n",
       "    <tr>\n",
       "      <th>38</th>\n",
       "      <td>DatabaseWorkedWith</td>\n",
       "      <td>SQLite</td>\n",
       "      <td>15434</td>\n",
       "    </tr>\n",
       "    <tr>\n",
       "      <th>39</th>\n",
       "      <td>WebframeWorkedWith</td>\n",
       "      <td>ASP.NET</td>\n",
       "      <td>9258</td>\n",
       "    </tr>\n",
       "    <tr>\n",
       "      <th>40</th>\n",
       "      <td>WebframeWorkedWith</td>\n",
       "      <td>ASP.NET Core</td>\n",
       "      <td>8082</td>\n",
       "    </tr>\n",
       "    <tr>\n",
       "      <th>41</th>\n",
       "      <td>WebframeWorkedWith</td>\n",
       "      <td>Angular</td>\n",
       "      <td>10617</td>\n",
       "    </tr>\n",
       "    <tr>\n",
       "      <th>42</th>\n",
       "      <td>WebframeWorkedWith</td>\n",
       "      <td>Angular.js</td>\n",
       "      <td>6826</td>\n",
       "    </tr>\n",
       "    <tr>\n",
       "      <th>43</th>\n",
       "      <td>WebframeWorkedWith</td>\n",
       "      <td>Django</td>\n",
       "      <td>6014</td>\n",
       "    </tr>\n",
       "    <tr>\n",
       "      <th>44</th>\n",
       "      <td>WebframeWorkedWith</td>\n",
       "      <td>Drupal</td>\n",
       "      <td>1369</td>\n",
       "    </tr>\n",
       "    <tr>\n",
       "      <th>45</th>\n",
       "      <td>WebframeWorkedWith</td>\n",
       "      <td>Express</td>\n",
       "      <td>8961</td>\n",
       "    </tr>\n",
       "    <tr>\n",
       "      <th>46</th>\n",
       "      <td>WebframeWorkedWith</td>\n",
       "      <td>Flask</td>\n",
       "      <td>6005</td>\n",
       "    </tr>\n",
       "    <tr>\n",
       "      <th>47</th>\n",
       "      <td>WebframeWorkedWith</td>\n",
       "      <td>Gatsby</td>\n",
       "      <td>1703</td>\n",
       "    </tr>\n",
       "    <tr>\n",
       "      <th>48</th>\n",
       "      <td>WebframeWorkedWith</td>\n",
       "      <td>Laravel</td>\n",
       "      <td>4680</td>\n",
       "    </tr>\n",
       "    <tr>\n",
       "      <th>49</th>\n",
       "      <td>WebframeWorkedWith</td>\n",
       "      <td>React.js</td>\n",
       "      <td>15167</td>\n",
       "    </tr>\n",
       "    <tr>\n",
       "      <th>50</th>\n",
       "      <td>WebframeWorkedWith</td>\n",
       "      <td>Ruby on Rails</td>\n",
       "      <td>2944</td>\n",
       "    </tr>\n",
       "    <tr>\n",
       "      <th>51</th>\n",
       "      <td>WebframeWorkedWith</td>\n",
       "      <td>Spring</td>\n",
       "      <td>6941</td>\n",
       "    </tr>\n",
       "    <tr>\n",
       "      <th>52</th>\n",
       "      <td>WebframeWorkedWith</td>\n",
       "      <td>Symfony</td>\n",
       "      <td>1851</td>\n",
       "    </tr>\n",
       "    <tr>\n",
       "      <th>53</th>\n",
       "      <td>WebframeWorkedWith</td>\n",
       "      <td>Vue.js</td>\n",
       "      <td>7322</td>\n",
       "    </tr>\n",
       "    <tr>\n",
       "      <th>54</th>\n",
       "      <td>WebframeWorkedWith</td>\n",
       "      <td>jQuery</td>\n",
       "      <td>18316</td>\n",
       "    </tr>\n",
       "    <tr>\n",
       "      <th>55</th>\n",
       "      <td>MiscTechWorkedWith</td>\n",
       "      <td>.NET</td>\n",
       "      <td>14144</td>\n",
       "    </tr>\n",
       "    <tr>\n",
       "      <th>56</th>\n",
       "      <td>MiscTechWorkedWith</td>\n",
       "      <td>.NET Core</td>\n",
       "      <td>10755</td>\n",
       "    </tr>\n",
       "    <tr>\n",
       "      <th>57</th>\n",
       "      <td>MiscTechWorkedWith</td>\n",
       "      <td>Ansible</td>\n",
       "      <td>2955</td>\n",
       "    </tr>\n",
       "    <tr>\n",
       "      <th>58</th>\n",
       "      <td>MiscTechWorkedWith</td>\n",
       "      <td>Apache Spark</td>\n",
       "      <td>2089</td>\n",
       "    </tr>\n",
       "    <tr>\n",
       "      <th>59</th>\n",
       "      <td>MiscTechWorkedWith</td>\n",
       "      <td>Chef</td>\n",
       "      <td>733</td>\n",
       "    </tr>\n",
       "    <tr>\n",
       "      <th>60</th>\n",
       "      <td>MiscTechWorkedWith</td>\n",
       "      <td>Cordova</td>\n",
       "      <td>2419</td>\n",
       "    </tr>\n",
       "    <tr>\n",
       "      <th>61</th>\n",
       "      <td>MiscTechWorkedWith</td>\n",
       "      <td>Flutter</td>\n",
       "      <td>2897</td>\n",
       "    </tr>\n",
       "    <tr>\n",
       "      <th>62</th>\n",
       "      <td>MiscTechWorkedWith</td>\n",
       "      <td>Hadoop</td>\n",
       "      <td>1798</td>\n",
       "    </tr>\n",
       "    <tr>\n",
       "      <th>63</th>\n",
       "      <td>MiscTechWorkedWith</td>\n",
       "      <td>Keras</td>\n",
       "      <td>2504</td>\n",
       "    </tr>\n",
       "    <tr>\n",
       "      <th>64</th>\n",
       "      <td>MiscTechWorkedWith</td>\n",
       "      <td>Node.js</td>\n",
       "      <td>20741</td>\n",
       "    </tr>\n",
       "    <tr>\n",
       "      <th>65</th>\n",
       "      <td>MiscTechWorkedWith</td>\n",
       "      <td>Pandas</td>\n",
       "      <td>6253</td>\n",
       "    </tr>\n",
       "    <tr>\n",
       "      <th>66</th>\n",
       "      <td>MiscTechWorkedWith</td>\n",
       "      <td>Puppet</td>\n",
       "      <td>945</td>\n",
       "    </tr>\n",
       "    <tr>\n",
       "      <th>67</th>\n",
       "      <td>MiscTechWorkedWith</td>\n",
       "      <td>React Native</td>\n",
       "      <td>4626</td>\n",
       "    </tr>\n",
       "    <tr>\n",
       "      <th>68</th>\n",
       "      <td>MiscTechWorkedWith</td>\n",
       "      <td>TensorFlow</td>\n",
       "      <td>4652</td>\n",
       "    </tr>\n",
       "    <tr>\n",
       "      <th>69</th>\n",
       "      <td>MiscTechWorkedWith</td>\n",
       "      <td>Teraform</td>\n",
       "      <td>2518</td>\n",
       "    </tr>\n",
       "    <tr>\n",
       "      <th>70</th>\n",
       "      <td>MiscTechWorkedWith</td>\n",
       "      <td>Torch/PyTorch</td>\n",
       "      <td>1872</td>\n",
       "    </tr>\n",
       "    <tr>\n",
       "      <th>71</th>\n",
       "      <td>MiscTechWorkedWith</td>\n",
       "      <td>Unity 3D</td>\n",
       "      <td>4413</td>\n",
       "    </tr>\n",
       "    <tr>\n",
       "      <th>72</th>\n",
       "      <td>MiscTechWorkedWith</td>\n",
       "      <td>Unreal Engine</td>\n",
       "      <td>1316</td>\n",
       "    </tr>\n",
       "    <tr>\n",
       "      <th>73</th>\n",
       "      <td>MiscTechWorkedWith</td>\n",
       "      <td>Xamarin</td>\n",
       "      <td>2357</td>\n",
       "    </tr>\n",
       "  </tbody>\n",
       "</table>\n",
       "</div>"
      ],
      "text/plain": [
       "                 Group                  Skill   Freq\n",
       "0   LanguageWorkedWith               Assembly   3553\n",
       "1   LanguageWorkedWith  Bash/Shell/PowerShell  18980\n",
       "2   LanguageWorkedWith                      C  12487\n",
       "3   LanguageWorkedWith                     C#  18041\n",
       "4   LanguageWorkedWith                    C++  13707\n",
       "5   LanguageWorkedWith                   Dart   2280\n",
       "6   LanguageWorkedWith                     Go   5038\n",
       "7   LanguageWorkedWith               HTML/CSS  36181\n",
       "8   LanguageWorkedWith                Haskell   1222\n",
       "9   LanguageWorkedWith                   Java  23074\n",
       "10  LanguageWorkedWith             JavaScript  38822\n",
       "11  LanguageWorkedWith                  Julia    519\n",
       "12  LanguageWorkedWith                 Kotlin   4468\n",
       "13  LanguageWorkedWith            Objective-C   2340\n",
       "14  LanguageWorkedWith                    PHP  15007\n",
       "15  LanguageWorkedWith                   Perl   1796\n",
       "16  LanguageWorkedWith                 Python  25287\n",
       "17  LanguageWorkedWith                      R   3288\n",
       "18  LanguageWorkedWith                   Ruby   4046\n",
       "19  LanguageWorkedWith                   Rust   2929\n",
       "20  LanguageWorkedWith                    SQL  31413\n",
       "21  LanguageWorkedWith                  Scala   2052\n",
       "22  LanguageWorkedWith                  Swift   3397\n",
       "23  LanguageWorkedWith             TypeScript  14578\n",
       "24  LanguageWorkedWith                    VBA   3499\n",
       "25  DatabaseWorkedWith              Cassandra   1654\n",
       "26  DatabaseWorkedWith              Couchbase    937\n",
       "27  DatabaseWorkedWith               DynamoDB   3497\n",
       "28  DatabaseWorkedWith          Elasticsearch   6817\n",
       "29  DatabaseWorkedWith               Firebase   7128\n",
       "30  DatabaseWorkedWith                IBM DB2   1421\n",
       "31  DatabaseWorkedWith                MariaDB   8312\n",
       "32  DatabaseWorkedWith   Microsoft SQL Server  16336\n",
       "33  DatabaseWorkedWith                MongoDB  13086\n",
       "34  DatabaseWorkedWith                  MySQL  27559\n",
       "35  DatabaseWorkedWith                 Oracle   8155\n",
       "36  DatabaseWorkedWith             PostgreSQL  17892\n",
       "37  DatabaseWorkedWith                  Redis   9056\n",
       "38  DatabaseWorkedWith                 SQLite  15434\n",
       "39  WebframeWorkedWith                ASP.NET   9258\n",
       "40  WebframeWorkedWith           ASP.NET Core   8082\n",
       "41  WebframeWorkedWith                Angular  10617\n",
       "42  WebframeWorkedWith             Angular.js   6826\n",
       "43  WebframeWorkedWith                 Django   6014\n",
       "44  WebframeWorkedWith                 Drupal   1369\n",
       "45  WebframeWorkedWith                Express   8961\n",
       "46  WebframeWorkedWith                  Flask   6005\n",
       "47  WebframeWorkedWith                 Gatsby   1703\n",
       "48  WebframeWorkedWith                Laravel   4680\n",
       "49  WebframeWorkedWith               React.js  15167\n",
       "50  WebframeWorkedWith          Ruby on Rails   2944\n",
       "51  WebframeWorkedWith                 Spring   6941\n",
       "52  WebframeWorkedWith                Symfony   1851\n",
       "53  WebframeWorkedWith                 Vue.js   7322\n",
       "54  WebframeWorkedWith                 jQuery  18316\n",
       "55  MiscTechWorkedWith                   .NET  14144\n",
       "56  MiscTechWorkedWith              .NET Core  10755\n",
       "57  MiscTechWorkedWith                Ansible   2955\n",
       "58  MiscTechWorkedWith           Apache Spark   2089\n",
       "59  MiscTechWorkedWith                   Chef    733\n",
       "60  MiscTechWorkedWith                Cordova   2419\n",
       "61  MiscTechWorkedWith                Flutter   2897\n",
       "62  MiscTechWorkedWith                 Hadoop   1798\n",
       "63  MiscTechWorkedWith                  Keras   2504\n",
       "64  MiscTechWorkedWith                Node.js  20741\n",
       "65  MiscTechWorkedWith                 Pandas   6253\n",
       "66  MiscTechWorkedWith                 Puppet    945\n",
       "67  MiscTechWorkedWith           React Native   4626\n",
       "68  MiscTechWorkedWith             TensorFlow   4652\n",
       "69  MiscTechWorkedWith               Teraform   2518\n",
       "70  MiscTechWorkedWith          Torch/PyTorch   1872\n",
       "71  MiscTechWorkedWith               Unity 3D   4413\n",
       "72  MiscTechWorkedWith          Unreal Engine   1316\n",
       "73  MiscTechWorkedWith                Xamarin   2357"
      ]
     },
     "execution_count": 28,
     "metadata": {},
     "output_type": "execute_result"
    }
   ],
   "source": [
    "skills_freq = df.drop('DevType', axis=1).sum().reset_index()\n",
    "skills_freq.columns = ['Group', 'Skill', 'Freq']\n",
    "skills_freq.sort_values('Freq', ascending=False)\n",
    "skills_freq"
   ]
  },
  {
   "cell_type": "code",
   "execution_count": 29,
   "id": "0e4eb126",
   "metadata": {},
   "outputs": [
    {
     "data": {
      "text/plain": [
       "Index(['Group', 'Skill', 'Freq'], dtype='object')"
      ]
     },
     "execution_count": 29,
     "metadata": {},
     "output_type": "execute_result"
    }
   ],
   "source": [
    "skills_freq.columns"
   ]
  },
  {
   "cell_type": "code",
   "execution_count": 30,
   "id": "d3f727f3",
   "metadata": {},
   "outputs": [
    {
     "data": {
      "application/vnd.plotly.v1+json": {
       "config": {
        "plotlyServerURL": "https://plot.ly"
       },
       "data": [
        {
         "branchvalues": "total",
         "customdata": [
          [
           14144
          ],
          [
           10755
          ],
          [
           9258
          ],
          [
           8082
          ],
          [
           10617
          ],
          [
           6826
          ],
          [
           2955
          ],
          [
           2089
          ],
          [
           3553
          ],
          [
           18980
          ],
          [
           12487
          ],
          [
           18041
          ],
          [
           13707
          ],
          [
           1654
          ],
          [
           733
          ],
          [
           2419
          ],
          [
           937
          ],
          [
           2280
          ],
          [
           6014
          ],
          [
           1369
          ],
          [
           3497
          ],
          [
           6817
          ],
          [
           8961
          ],
          [
           7128
          ],
          [
           6005
          ],
          [
           2897
          ],
          [
           1703
          ],
          [
           5038
          ],
          [
           36181
          ],
          [
           1798
          ],
          [
           1222
          ],
          [
           1421
          ],
          [
           23074
          ],
          [
           38822
          ],
          [
           519
          ],
          [
           2504
          ],
          [
           4468
          ],
          [
           4680
          ],
          [
           8312
          ],
          [
           16336
          ],
          [
           13086
          ],
          [
           27559
          ],
          [
           20741
          ],
          [
           2340
          ],
          [
           8155
          ],
          [
           15007
          ],
          [
           6253
          ],
          [
           1796
          ],
          [
           17892
          ],
          [
           945
          ],
          [
           25287
          ],
          [
           3288
          ],
          [
           4626
          ],
          [
           15167
          ],
          [
           9056
          ],
          [
           4046
          ],
          [
           2944
          ],
          [
           2929
          ],
          [
           31413
          ],
          [
           15434
          ],
          [
           2052
          ],
          [
           6941
          ],
          [
           3397
          ],
          [
           1851
          ],
          [
           4652
          ],
          [
           2518
          ],
          [
           1872
          ],
          [
           14578
          ],
          [
           4413
          ],
          [
           1316
          ],
          [
           3499
          ],
          [
           7322
          ],
          [
           2357
          ],
          [
           18316
          ],
          [
           15214.337475598031
          ],
          [
           22845.057860307497
          ],
          [
           10034.034504984053
          ],
          [
           10072.249707037981
          ]
         ],
         "domain": {
          "x": [
           0,
           1
          ],
          "y": [
           0,
           1
          ]
         },
         "hovertemplate": "labels=%{label}<br>Freq_sum=%{value}<br>parent=%{parent}<br>id=%{id}<br>Freq=%{color}<extra></extra>",
         "ids": [
          "MiscTechWorkedWith/.NET",
          "MiscTechWorkedWith/.NET Core",
          "WebframeWorkedWith/ASP.NET",
          "WebframeWorkedWith/ASP.NET Core",
          "WebframeWorkedWith/Angular",
          "WebframeWorkedWith/Angular.js",
          "MiscTechWorkedWith/Ansible",
          "MiscTechWorkedWith/Apache Spark",
          "LanguageWorkedWith/Assembly",
          "LanguageWorkedWith/Bash/Shell/PowerShell",
          "LanguageWorkedWith/C",
          "LanguageWorkedWith/C#",
          "LanguageWorkedWith/C++",
          "DatabaseWorkedWith/Cassandra",
          "MiscTechWorkedWith/Chef",
          "MiscTechWorkedWith/Cordova",
          "DatabaseWorkedWith/Couchbase",
          "LanguageWorkedWith/Dart",
          "WebframeWorkedWith/Django",
          "WebframeWorkedWith/Drupal",
          "DatabaseWorkedWith/DynamoDB",
          "DatabaseWorkedWith/Elasticsearch",
          "WebframeWorkedWith/Express",
          "DatabaseWorkedWith/Firebase",
          "WebframeWorkedWith/Flask",
          "MiscTechWorkedWith/Flutter",
          "WebframeWorkedWith/Gatsby",
          "LanguageWorkedWith/Go",
          "LanguageWorkedWith/HTML/CSS",
          "MiscTechWorkedWith/Hadoop",
          "LanguageWorkedWith/Haskell",
          "DatabaseWorkedWith/IBM DB2",
          "LanguageWorkedWith/Java",
          "LanguageWorkedWith/JavaScript",
          "LanguageWorkedWith/Julia",
          "MiscTechWorkedWith/Keras",
          "LanguageWorkedWith/Kotlin",
          "WebframeWorkedWith/Laravel",
          "DatabaseWorkedWith/MariaDB",
          "DatabaseWorkedWith/Microsoft SQL Server",
          "DatabaseWorkedWith/MongoDB",
          "DatabaseWorkedWith/MySQL",
          "MiscTechWorkedWith/Node.js",
          "LanguageWorkedWith/Objective-C",
          "DatabaseWorkedWith/Oracle",
          "LanguageWorkedWith/PHP",
          "MiscTechWorkedWith/Pandas",
          "LanguageWorkedWith/Perl",
          "DatabaseWorkedWith/PostgreSQL",
          "MiscTechWorkedWith/Puppet",
          "LanguageWorkedWith/Python",
          "LanguageWorkedWith/R",
          "MiscTechWorkedWith/React Native",
          "WebframeWorkedWith/React.js",
          "DatabaseWorkedWith/Redis",
          "LanguageWorkedWith/Ruby",
          "WebframeWorkedWith/Ruby on Rails",
          "LanguageWorkedWith/Rust",
          "LanguageWorkedWith/SQL",
          "DatabaseWorkedWith/SQLite",
          "LanguageWorkedWith/Scala",
          "WebframeWorkedWith/Spring",
          "LanguageWorkedWith/Swift",
          "WebframeWorkedWith/Symfony",
          "MiscTechWorkedWith/TensorFlow",
          "MiscTechWorkedWith/Teraform",
          "MiscTechWorkedWith/Torch/PyTorch",
          "LanguageWorkedWith/TypeScript",
          "MiscTechWorkedWith/Unity 3D",
          "MiscTechWorkedWith/Unreal Engine",
          "LanguageWorkedWith/VBA",
          "WebframeWorkedWith/Vue.js",
          "MiscTechWorkedWith/Xamarin",
          "WebframeWorkedWith/jQuery",
          "DatabaseWorkedWith",
          "LanguageWorkedWith",
          "MiscTechWorkedWith",
          "WebframeWorkedWith"
         ],
         "labels": [
          ".NET",
          ".NET Core",
          "ASP.NET",
          "ASP.NET Core",
          "Angular",
          "Angular.js",
          "Ansible",
          "Apache Spark",
          "Assembly",
          "Bash/Shell/PowerShell",
          "C",
          "C#",
          "C++",
          "Cassandra",
          "Chef",
          "Cordova",
          "Couchbase",
          "Dart",
          "Django",
          "Drupal",
          "DynamoDB",
          "Elasticsearch",
          "Express",
          "Firebase",
          "Flask",
          "Flutter",
          "Gatsby",
          "Go",
          "HTML/CSS",
          "Hadoop",
          "Haskell",
          "IBM DB2",
          "Java",
          "JavaScript",
          "Julia",
          "Keras",
          "Kotlin",
          "Laravel",
          "MariaDB",
          "Microsoft SQL Server",
          "MongoDB",
          "MySQL",
          "Node.js",
          "Objective-C",
          "Oracle",
          "PHP",
          "Pandas",
          "Perl",
          "PostgreSQL",
          "Puppet",
          "Python",
          "R",
          "React Native",
          "React.js",
          "Redis",
          "Ruby",
          "Ruby on Rails",
          "Rust",
          "SQL",
          "SQLite",
          "Scala",
          "Spring",
          "Swift",
          "Symfony",
          "TensorFlow",
          "Teraform",
          "Torch/PyTorch",
          "TypeScript",
          "Unity 3D",
          "Unreal Engine",
          "VBA",
          "Vue.js",
          "Xamarin",
          "jQuery",
          "DatabaseWorkedWith",
          "LanguageWorkedWith",
          "MiscTechWorkedWith",
          "WebframeWorkedWith"
         ],
         "marker": {
          "coloraxis": "coloraxis",
          "colors": [
           14144,
           10755,
           9258,
           8082,
           10617,
           6826,
           2955,
           2089,
           3553,
           18980,
           12487,
           18041,
           13707,
           1654,
           733,
           2419,
           937,
           2280,
           6014,
           1369,
           3497,
           6817,
           8961,
           7128,
           6005,
           2897,
           1703,
           5038,
           36181,
           1798,
           1222,
           1421,
           23074,
           38822,
           519,
           2504,
           4468,
           4680,
           8312,
           16336,
           13086,
           27559,
           20741,
           2340,
           8155,
           15007,
           6253,
           1796,
           17892,
           945,
           25287,
           3288,
           4626,
           15167,
           9056,
           4046,
           2944,
           2929,
           31413,
           15434,
           2052,
           6941,
           3397,
           1851,
           4652,
           2518,
           1872,
           14578,
           4413,
           1316,
           3499,
           7322,
           2357,
           18316,
           15214.337475598031,
           22845.057860307497,
           10034.034504984053,
           10072.249707037981
          ]
         },
         "name": "",
         "parents": [
          "MiscTechWorkedWith",
          "MiscTechWorkedWith",
          "WebframeWorkedWith",
          "WebframeWorkedWith",
          "WebframeWorkedWith",
          "WebframeWorkedWith",
          "MiscTechWorkedWith",
          "MiscTechWorkedWith",
          "LanguageWorkedWith",
          "LanguageWorkedWith",
          "LanguageWorkedWith",
          "LanguageWorkedWith",
          "LanguageWorkedWith",
          "DatabaseWorkedWith",
          "MiscTechWorkedWith",
          "MiscTechWorkedWith",
          "DatabaseWorkedWith",
          "LanguageWorkedWith",
          "WebframeWorkedWith",
          "WebframeWorkedWith",
          "DatabaseWorkedWith",
          "DatabaseWorkedWith",
          "WebframeWorkedWith",
          "DatabaseWorkedWith",
          "WebframeWorkedWith",
          "MiscTechWorkedWith",
          "WebframeWorkedWith",
          "LanguageWorkedWith",
          "LanguageWorkedWith",
          "MiscTechWorkedWith",
          "LanguageWorkedWith",
          "DatabaseWorkedWith",
          "LanguageWorkedWith",
          "LanguageWorkedWith",
          "LanguageWorkedWith",
          "MiscTechWorkedWith",
          "LanguageWorkedWith",
          "WebframeWorkedWith",
          "DatabaseWorkedWith",
          "DatabaseWorkedWith",
          "DatabaseWorkedWith",
          "DatabaseWorkedWith",
          "MiscTechWorkedWith",
          "LanguageWorkedWith",
          "DatabaseWorkedWith",
          "LanguageWorkedWith",
          "MiscTechWorkedWith",
          "LanguageWorkedWith",
          "DatabaseWorkedWith",
          "MiscTechWorkedWith",
          "LanguageWorkedWith",
          "LanguageWorkedWith",
          "MiscTechWorkedWith",
          "WebframeWorkedWith",
          "DatabaseWorkedWith",
          "LanguageWorkedWith",
          "WebframeWorkedWith",
          "LanguageWorkedWith",
          "LanguageWorkedWith",
          "DatabaseWorkedWith",
          "LanguageWorkedWith",
          "WebframeWorkedWith",
          "LanguageWorkedWith",
          "WebframeWorkedWith",
          "MiscTechWorkedWith",
          "MiscTechWorkedWith",
          "MiscTechWorkedWith",
          "LanguageWorkedWith",
          "MiscTechWorkedWith",
          "MiscTechWorkedWith",
          "LanguageWorkedWith",
          "WebframeWorkedWith",
          "MiscTechWorkedWith",
          "WebframeWorkedWith",
          "",
          "",
          "",
          ""
         ],
         "type": "treemap",
         "values": [
          14144,
          10755,
          9258,
          8082,
          10617,
          6826,
          2955,
          2089,
          3553,
          18980,
          12487,
          18041,
          13707,
          1654,
          733,
          2419,
          937,
          2280,
          6014,
          1369,
          3497,
          6817,
          8961,
          7128,
          6005,
          2897,
          1703,
          5038,
          36181,
          1798,
          1222,
          1421,
          23074,
          38822,
          519,
          2504,
          4468,
          4680,
          8312,
          16336,
          13086,
          27559,
          20741,
          2340,
          8155,
          15007,
          6253,
          1796,
          17892,
          945,
          25287,
          3288,
          4626,
          15167,
          9056,
          4046,
          2944,
          2929,
          31413,
          15434,
          2052,
          6941,
          3397,
          1851,
          4652,
          2518,
          1872,
          14578,
          4413,
          1316,
          3499,
          7322,
          2357,
          18316,
          137284,
          288004,
          89987,
          116056
         ]
        }
       ],
       "layout": {
        "coloraxis": {
         "colorbar": {
          "title": {
           "text": "Freq"
          }
         },
         "colorscale": [
          [
           0,
           "rgb(253, 253, 204)"
          ],
          [
           0.09090909090909091,
           "rgb(206, 236, 179)"
          ],
          [
           0.18181818181818182,
           "rgb(156, 219, 165)"
          ],
          [
           0.2727272727272727,
           "rgb(111, 201, 163)"
          ],
          [
           0.36363636363636365,
           "rgb(86, 177, 163)"
          ],
          [
           0.45454545454545453,
           "rgb(76, 153, 160)"
          ],
          [
           0.5454545454545454,
           "rgb(68, 130, 155)"
          ],
          [
           0.6363636363636364,
           "rgb(62, 108, 150)"
          ],
          [
           0.7272727272727273,
           "rgb(62, 82, 143)"
          ],
          [
           0.8181818181818182,
           "rgb(64, 60, 115)"
          ],
          [
           0.9090909090909091,
           "rgb(54, 43, 77)"
          ],
          [
           1,
           "rgb(39, 26, 44)"
          ]
         ]
        },
        "height": 500,
        "legend": {
         "tracegroupgap": 0
        },
        "margin": {
         "t": 60
        },
        "template": {
         "data": {
          "bar": [
           {
            "error_x": {
             "color": "#2a3f5f"
            },
            "error_y": {
             "color": "#2a3f5f"
            },
            "marker": {
             "line": {
              "color": "#E5ECF6",
              "width": 0.5
             },
             "pattern": {
              "fillmode": "overlay",
              "size": 10,
              "solidity": 0.2
             }
            },
            "type": "bar"
           }
          ],
          "barpolar": [
           {
            "marker": {
             "line": {
              "color": "#E5ECF6",
              "width": 0.5
             },
             "pattern": {
              "fillmode": "overlay",
              "size": 10,
              "solidity": 0.2
             }
            },
            "type": "barpolar"
           }
          ],
          "carpet": [
           {
            "aaxis": {
             "endlinecolor": "#2a3f5f",
             "gridcolor": "white",
             "linecolor": "white",
             "minorgridcolor": "white",
             "startlinecolor": "#2a3f5f"
            },
            "baxis": {
             "endlinecolor": "#2a3f5f",
             "gridcolor": "white",
             "linecolor": "white",
             "minorgridcolor": "white",
             "startlinecolor": "#2a3f5f"
            },
            "type": "carpet"
           }
          ],
          "choropleth": [
           {
            "colorbar": {
             "outlinewidth": 0,
             "ticks": ""
            },
            "type": "choropleth"
           }
          ],
          "contour": [
           {
            "colorbar": {
             "outlinewidth": 0,
             "ticks": ""
            },
            "colorscale": [
             [
              0,
              "#0d0887"
             ],
             [
              0.1111111111111111,
              "#46039f"
             ],
             [
              0.2222222222222222,
              "#7201a8"
             ],
             [
              0.3333333333333333,
              "#9c179e"
             ],
             [
              0.4444444444444444,
              "#bd3786"
             ],
             [
              0.5555555555555556,
              "#d8576b"
             ],
             [
              0.6666666666666666,
              "#ed7953"
             ],
             [
              0.7777777777777778,
              "#fb9f3a"
             ],
             [
              0.8888888888888888,
              "#fdca26"
             ],
             [
              1,
              "#f0f921"
             ]
            ],
            "type": "contour"
           }
          ],
          "contourcarpet": [
           {
            "colorbar": {
             "outlinewidth": 0,
             "ticks": ""
            },
            "type": "contourcarpet"
           }
          ],
          "heatmap": [
           {
            "colorbar": {
             "outlinewidth": 0,
             "ticks": ""
            },
            "colorscale": [
             [
              0,
              "#0d0887"
             ],
             [
              0.1111111111111111,
              "#46039f"
             ],
             [
              0.2222222222222222,
              "#7201a8"
             ],
             [
              0.3333333333333333,
              "#9c179e"
             ],
             [
              0.4444444444444444,
              "#bd3786"
             ],
             [
              0.5555555555555556,
              "#d8576b"
             ],
             [
              0.6666666666666666,
              "#ed7953"
             ],
             [
              0.7777777777777778,
              "#fb9f3a"
             ],
             [
              0.8888888888888888,
              "#fdca26"
             ],
             [
              1,
              "#f0f921"
             ]
            ],
            "type": "heatmap"
           }
          ],
          "heatmapgl": [
           {
            "colorbar": {
             "outlinewidth": 0,
             "ticks": ""
            },
            "colorscale": [
             [
              0,
              "#0d0887"
             ],
             [
              0.1111111111111111,
              "#46039f"
             ],
             [
              0.2222222222222222,
              "#7201a8"
             ],
             [
              0.3333333333333333,
              "#9c179e"
             ],
             [
              0.4444444444444444,
              "#bd3786"
             ],
             [
              0.5555555555555556,
              "#d8576b"
             ],
             [
              0.6666666666666666,
              "#ed7953"
             ],
             [
              0.7777777777777778,
              "#fb9f3a"
             ],
             [
              0.8888888888888888,
              "#fdca26"
             ],
             [
              1,
              "#f0f921"
             ]
            ],
            "type": "heatmapgl"
           }
          ],
          "histogram": [
           {
            "marker": {
             "pattern": {
              "fillmode": "overlay",
              "size": 10,
              "solidity": 0.2
             }
            },
            "type": "histogram"
           }
          ],
          "histogram2d": [
           {
            "colorbar": {
             "outlinewidth": 0,
             "ticks": ""
            },
            "colorscale": [
             [
              0,
              "#0d0887"
             ],
             [
              0.1111111111111111,
              "#46039f"
             ],
             [
              0.2222222222222222,
              "#7201a8"
             ],
             [
              0.3333333333333333,
              "#9c179e"
             ],
             [
              0.4444444444444444,
              "#bd3786"
             ],
             [
              0.5555555555555556,
              "#d8576b"
             ],
             [
              0.6666666666666666,
              "#ed7953"
             ],
             [
              0.7777777777777778,
              "#fb9f3a"
             ],
             [
              0.8888888888888888,
              "#fdca26"
             ],
             [
              1,
              "#f0f921"
             ]
            ],
            "type": "histogram2d"
           }
          ],
          "histogram2dcontour": [
           {
            "colorbar": {
             "outlinewidth": 0,
             "ticks": ""
            },
            "colorscale": [
             [
              0,
              "#0d0887"
             ],
             [
              0.1111111111111111,
              "#46039f"
             ],
             [
              0.2222222222222222,
              "#7201a8"
             ],
             [
              0.3333333333333333,
              "#9c179e"
             ],
             [
              0.4444444444444444,
              "#bd3786"
             ],
             [
              0.5555555555555556,
              "#d8576b"
             ],
             [
              0.6666666666666666,
              "#ed7953"
             ],
             [
              0.7777777777777778,
              "#fb9f3a"
             ],
             [
              0.8888888888888888,
              "#fdca26"
             ],
             [
              1,
              "#f0f921"
             ]
            ],
            "type": "histogram2dcontour"
           }
          ],
          "mesh3d": [
           {
            "colorbar": {
             "outlinewidth": 0,
             "ticks": ""
            },
            "type": "mesh3d"
           }
          ],
          "parcoords": [
           {
            "line": {
             "colorbar": {
              "outlinewidth": 0,
              "ticks": ""
             }
            },
            "type": "parcoords"
           }
          ],
          "pie": [
           {
            "automargin": true,
            "type": "pie"
           }
          ],
          "scatter": [
           {
            "fillpattern": {
             "fillmode": "overlay",
             "size": 10,
             "solidity": 0.2
            },
            "type": "scatter"
           }
          ],
          "scatter3d": [
           {
            "line": {
             "colorbar": {
              "outlinewidth": 0,
              "ticks": ""
             }
            },
            "marker": {
             "colorbar": {
              "outlinewidth": 0,
              "ticks": ""
             }
            },
            "type": "scatter3d"
           }
          ],
          "scattercarpet": [
           {
            "marker": {
             "colorbar": {
              "outlinewidth": 0,
              "ticks": ""
             }
            },
            "type": "scattercarpet"
           }
          ],
          "scattergeo": [
           {
            "marker": {
             "colorbar": {
              "outlinewidth": 0,
              "ticks": ""
             }
            },
            "type": "scattergeo"
           }
          ],
          "scattergl": [
           {
            "marker": {
             "colorbar": {
              "outlinewidth": 0,
              "ticks": ""
             }
            },
            "type": "scattergl"
           }
          ],
          "scattermapbox": [
           {
            "marker": {
             "colorbar": {
              "outlinewidth": 0,
              "ticks": ""
             }
            },
            "type": "scattermapbox"
           }
          ],
          "scatterpolar": [
           {
            "marker": {
             "colorbar": {
              "outlinewidth": 0,
              "ticks": ""
             }
            },
            "type": "scatterpolar"
           }
          ],
          "scatterpolargl": [
           {
            "marker": {
             "colorbar": {
              "outlinewidth": 0,
              "ticks": ""
             }
            },
            "type": "scatterpolargl"
           }
          ],
          "scatterternary": [
           {
            "marker": {
             "colorbar": {
              "outlinewidth": 0,
              "ticks": ""
             }
            },
            "type": "scatterternary"
           }
          ],
          "surface": [
           {
            "colorbar": {
             "outlinewidth": 0,
             "ticks": ""
            },
            "colorscale": [
             [
              0,
              "#0d0887"
             ],
             [
              0.1111111111111111,
              "#46039f"
             ],
             [
              0.2222222222222222,
              "#7201a8"
             ],
             [
              0.3333333333333333,
              "#9c179e"
             ],
             [
              0.4444444444444444,
              "#bd3786"
             ],
             [
              0.5555555555555556,
              "#d8576b"
             ],
             [
              0.6666666666666666,
              "#ed7953"
             ],
             [
              0.7777777777777778,
              "#fb9f3a"
             ],
             [
              0.8888888888888888,
              "#fdca26"
             ],
             [
              1,
              "#f0f921"
             ]
            ],
            "type": "surface"
           }
          ],
          "table": [
           {
            "cells": {
             "fill": {
              "color": "#EBF0F8"
             },
             "line": {
              "color": "white"
             }
            },
            "header": {
             "fill": {
              "color": "#C8D4E3"
             },
             "line": {
              "color": "white"
             }
            },
            "type": "table"
           }
          ]
         },
         "layout": {
          "annotationdefaults": {
           "arrowcolor": "#2a3f5f",
           "arrowhead": 0,
           "arrowwidth": 1
          },
          "autotypenumbers": "strict",
          "coloraxis": {
           "colorbar": {
            "outlinewidth": 0,
            "ticks": ""
           }
          },
          "colorscale": {
           "diverging": [
            [
             0,
             "#8e0152"
            ],
            [
             0.1,
             "#c51b7d"
            ],
            [
             0.2,
             "#de77ae"
            ],
            [
             0.3,
             "#f1b6da"
            ],
            [
             0.4,
             "#fde0ef"
            ],
            [
             0.5,
             "#f7f7f7"
            ],
            [
             0.6,
             "#e6f5d0"
            ],
            [
             0.7,
             "#b8e186"
            ],
            [
             0.8,
             "#7fbc41"
            ],
            [
             0.9,
             "#4d9221"
            ],
            [
             1,
             "#276419"
            ]
           ],
           "sequential": [
            [
             0,
             "#0d0887"
            ],
            [
             0.1111111111111111,
             "#46039f"
            ],
            [
             0.2222222222222222,
             "#7201a8"
            ],
            [
             0.3333333333333333,
             "#9c179e"
            ],
            [
             0.4444444444444444,
             "#bd3786"
            ],
            [
             0.5555555555555556,
             "#d8576b"
            ],
            [
             0.6666666666666666,
             "#ed7953"
            ],
            [
             0.7777777777777778,
             "#fb9f3a"
            ],
            [
             0.8888888888888888,
             "#fdca26"
            ],
            [
             1,
             "#f0f921"
            ]
           ],
           "sequentialminus": [
            [
             0,
             "#0d0887"
            ],
            [
             0.1111111111111111,
             "#46039f"
            ],
            [
             0.2222222222222222,
             "#7201a8"
            ],
            [
             0.3333333333333333,
             "#9c179e"
            ],
            [
             0.4444444444444444,
             "#bd3786"
            ],
            [
             0.5555555555555556,
             "#d8576b"
            ],
            [
             0.6666666666666666,
             "#ed7953"
            ],
            [
             0.7777777777777778,
             "#fb9f3a"
            ],
            [
             0.8888888888888888,
             "#fdca26"
            ],
            [
             1,
             "#f0f921"
            ]
           ]
          },
          "colorway": [
           "#636efa",
           "#EF553B",
           "#00cc96",
           "#ab63fa",
           "#FFA15A",
           "#19d3f3",
           "#FF6692",
           "#B6E880",
           "#FF97FF",
           "#FECB52"
          ],
          "font": {
           "color": "#2a3f5f"
          },
          "geo": {
           "bgcolor": "white",
           "lakecolor": "white",
           "landcolor": "#E5ECF6",
           "showlakes": true,
           "showland": true,
           "subunitcolor": "white"
          },
          "hoverlabel": {
           "align": "left"
          },
          "hovermode": "closest",
          "mapbox": {
           "style": "light"
          },
          "paper_bgcolor": "white",
          "plot_bgcolor": "#E5ECF6",
          "polar": {
           "angularaxis": {
            "gridcolor": "white",
            "linecolor": "white",
            "ticks": ""
           },
           "bgcolor": "#E5ECF6",
           "radialaxis": {
            "gridcolor": "white",
            "linecolor": "white",
            "ticks": ""
           }
          },
          "scene": {
           "xaxis": {
            "backgroundcolor": "#E5ECF6",
            "gridcolor": "white",
            "gridwidth": 2,
            "linecolor": "white",
            "showbackground": true,
            "ticks": "",
            "zerolinecolor": "white"
           },
           "yaxis": {
            "backgroundcolor": "#E5ECF6",
            "gridcolor": "white",
            "gridwidth": 2,
            "linecolor": "white",
            "showbackground": true,
            "ticks": "",
            "zerolinecolor": "white"
           },
           "zaxis": {
            "backgroundcolor": "#E5ECF6",
            "gridcolor": "white",
            "gridwidth": 2,
            "linecolor": "white",
            "showbackground": true,
            "ticks": "",
            "zerolinecolor": "white"
           }
          },
          "shapedefaults": {
           "line": {
            "color": "#2a3f5f"
           }
          },
          "ternary": {
           "aaxis": {
            "gridcolor": "white",
            "linecolor": "white",
            "ticks": ""
           },
           "baxis": {
            "gridcolor": "white",
            "linecolor": "white",
            "ticks": ""
           },
           "bgcolor": "#E5ECF6",
           "caxis": {
            "gridcolor": "white",
            "linecolor": "white",
            "ticks": ""
           }
          },
          "title": {
           "x": 0.05
          },
          "xaxis": {
           "automargin": true,
           "gridcolor": "white",
           "linecolor": "white",
           "ticks": "",
           "title": {
            "standoff": 15
           },
           "zerolinecolor": "white",
           "zerolinewidth": 2
          },
          "yaxis": {
           "automargin": true,
           "gridcolor": "white",
           "linecolor": "white",
           "ticks": "",
           "title": {
            "standoff": 15
           },
           "zerolinecolor": "white",
           "zerolinewidth": 2
          }
         }
        },
        "width": 1000
       }
      },
      "text/html": [
       "<div>                            <div id=\"e0c541c9-9881-4512-af98-0f201c7eb111\" class=\"plotly-graph-div\" style=\"height:500px; width:1000px;\"></div>            <script type=\"text/javascript\">                require([\"plotly\"], function(Plotly) {                    window.PLOTLYENV=window.PLOTLYENV || {};                                    if (document.getElementById(\"e0c541c9-9881-4512-af98-0f201c7eb111\")) {                    Plotly.newPlot(                        \"e0c541c9-9881-4512-af98-0f201c7eb111\",                        [{\"branchvalues\":\"total\",\"customdata\":[[14144.0],[10755.0],[9258.0],[8082.0],[10617.0],[6826.0],[2955.0],[2089.0],[3553.0],[18980.0],[12487.0],[18041.0],[13707.0],[1654.0],[733.0],[2419.0],[937.0],[2280.0],[6014.0],[1369.0],[3497.0],[6817.0],[8961.0],[7128.0],[6005.0],[2897.0],[1703.0],[5038.0],[36181.0],[1798.0],[1222.0],[1421.0],[23074.0],[38822.0],[519.0],[2504.0],[4468.0],[4680.0],[8312.0],[16336.0],[13086.0],[27559.0],[20741.0],[2340.0],[8155.0],[15007.0],[6253.0],[1796.0],[17892.0],[945.0],[25287.0],[3288.0],[4626.0],[15167.0],[9056.0],[4046.0],[2944.0],[2929.0],[31413.0],[15434.0],[2052.0],[6941.0],[3397.0],[1851.0],[4652.0],[2518.0],[1872.0],[14578.0],[4413.0],[1316.0],[3499.0],[7322.0],[2357.0],[18316.0],[15214.337475598031],[22845.057860307497],[10034.034504984053],[10072.249707037981]],\"domain\":{\"x\":[0.0,1.0],\"y\":[0.0,1.0]},\"hovertemplate\":\"labels=%{label}<br>Freq_sum=%{value}<br>parent=%{parent}<br>id=%{id}<br>Freq=%{color}<extra></extra>\",\"ids\":[\"MiscTechWorkedWith/.NET\",\"MiscTechWorkedWith/.NET Core\",\"WebframeWorkedWith/ASP.NET\",\"WebframeWorkedWith/ASP.NET Core\",\"WebframeWorkedWith/Angular\",\"WebframeWorkedWith/Angular.js\",\"MiscTechWorkedWith/Ansible\",\"MiscTechWorkedWith/Apache Spark\",\"LanguageWorkedWith/Assembly\",\"LanguageWorkedWith/Bash/Shell/PowerShell\",\"LanguageWorkedWith/C\",\"LanguageWorkedWith/C#\",\"LanguageWorkedWith/C++\",\"DatabaseWorkedWith/Cassandra\",\"MiscTechWorkedWith/Chef\",\"MiscTechWorkedWith/Cordova\",\"DatabaseWorkedWith/Couchbase\",\"LanguageWorkedWith/Dart\",\"WebframeWorkedWith/Django\",\"WebframeWorkedWith/Drupal\",\"DatabaseWorkedWith/DynamoDB\",\"DatabaseWorkedWith/Elasticsearch\",\"WebframeWorkedWith/Express\",\"DatabaseWorkedWith/Firebase\",\"WebframeWorkedWith/Flask\",\"MiscTechWorkedWith/Flutter\",\"WebframeWorkedWith/Gatsby\",\"LanguageWorkedWith/Go\",\"LanguageWorkedWith/HTML/CSS\",\"MiscTechWorkedWith/Hadoop\",\"LanguageWorkedWith/Haskell\",\"DatabaseWorkedWith/IBM DB2\",\"LanguageWorkedWith/Java\",\"LanguageWorkedWith/JavaScript\",\"LanguageWorkedWith/Julia\",\"MiscTechWorkedWith/Keras\",\"LanguageWorkedWith/Kotlin\",\"WebframeWorkedWith/Laravel\",\"DatabaseWorkedWith/MariaDB\",\"DatabaseWorkedWith/Microsoft SQL Server\",\"DatabaseWorkedWith/MongoDB\",\"DatabaseWorkedWith/MySQL\",\"MiscTechWorkedWith/Node.js\",\"LanguageWorkedWith/Objective-C\",\"DatabaseWorkedWith/Oracle\",\"LanguageWorkedWith/PHP\",\"MiscTechWorkedWith/Pandas\",\"LanguageWorkedWith/Perl\",\"DatabaseWorkedWith/PostgreSQL\",\"MiscTechWorkedWith/Puppet\",\"LanguageWorkedWith/Python\",\"LanguageWorkedWith/R\",\"MiscTechWorkedWith/React Native\",\"WebframeWorkedWith/React.js\",\"DatabaseWorkedWith/Redis\",\"LanguageWorkedWith/Ruby\",\"WebframeWorkedWith/Ruby on Rails\",\"LanguageWorkedWith/Rust\",\"LanguageWorkedWith/SQL\",\"DatabaseWorkedWith/SQLite\",\"LanguageWorkedWith/Scala\",\"WebframeWorkedWith/Spring\",\"LanguageWorkedWith/Swift\",\"WebframeWorkedWith/Symfony\",\"MiscTechWorkedWith/TensorFlow\",\"MiscTechWorkedWith/Teraform\",\"MiscTechWorkedWith/Torch/PyTorch\",\"LanguageWorkedWith/TypeScript\",\"MiscTechWorkedWith/Unity 3D\",\"MiscTechWorkedWith/Unreal Engine\",\"LanguageWorkedWith/VBA\",\"WebframeWorkedWith/Vue.js\",\"MiscTechWorkedWith/Xamarin\",\"WebframeWorkedWith/jQuery\",\"DatabaseWorkedWith\",\"LanguageWorkedWith\",\"MiscTechWorkedWith\",\"WebframeWorkedWith\"],\"labels\":[\".NET\",\".NET Core\",\"ASP.NET\",\"ASP.NET Core\",\"Angular\",\"Angular.js\",\"Ansible\",\"Apache Spark\",\"Assembly\",\"Bash/Shell/PowerShell\",\"C\",\"C#\",\"C++\",\"Cassandra\",\"Chef\",\"Cordova\",\"Couchbase\",\"Dart\",\"Django\",\"Drupal\",\"DynamoDB\",\"Elasticsearch\",\"Express\",\"Firebase\",\"Flask\",\"Flutter\",\"Gatsby\",\"Go\",\"HTML/CSS\",\"Hadoop\",\"Haskell\",\"IBM DB2\",\"Java\",\"JavaScript\",\"Julia\",\"Keras\",\"Kotlin\",\"Laravel\",\"MariaDB\",\"Microsoft SQL Server\",\"MongoDB\",\"MySQL\",\"Node.js\",\"Objective-C\",\"Oracle\",\"PHP\",\"Pandas\",\"Perl\",\"PostgreSQL\",\"Puppet\",\"Python\",\"R\",\"React Native\",\"React.js\",\"Redis\",\"Ruby\",\"Ruby on Rails\",\"Rust\",\"SQL\",\"SQLite\",\"Scala\",\"Spring\",\"Swift\",\"Symfony\",\"TensorFlow\",\"Teraform\",\"Torch/PyTorch\",\"TypeScript\",\"Unity 3D\",\"Unreal Engine\",\"VBA\",\"Vue.js\",\"Xamarin\",\"jQuery\",\"DatabaseWorkedWith\",\"LanguageWorkedWith\",\"MiscTechWorkedWith\",\"WebframeWorkedWith\"],\"marker\":{\"coloraxis\":\"coloraxis\",\"colors\":[14144.0,10755.0,9258.0,8082.0,10617.0,6826.0,2955.0,2089.0,3553.0,18980.0,12487.0,18041.0,13707.0,1654.0,733.0,2419.0,937.0,2280.0,6014.0,1369.0,3497.0,6817.0,8961.0,7128.0,6005.0,2897.0,1703.0,5038.0,36181.0,1798.0,1222.0,1421.0,23074.0,38822.0,519.0,2504.0,4468.0,4680.0,8312.0,16336.0,13086.0,27559.0,20741.0,2340.0,8155.0,15007.0,6253.0,1796.0,17892.0,945.0,25287.0,3288.0,4626.0,15167.0,9056.0,4046.0,2944.0,2929.0,31413.0,15434.0,2052.0,6941.0,3397.0,1851.0,4652.0,2518.0,1872.0,14578.0,4413.0,1316.0,3499.0,7322.0,2357.0,18316.0,15214.337475598031,22845.057860307497,10034.034504984053,10072.249707037981]},\"name\":\"\",\"parents\":[\"MiscTechWorkedWith\",\"MiscTechWorkedWith\",\"WebframeWorkedWith\",\"WebframeWorkedWith\",\"WebframeWorkedWith\",\"WebframeWorkedWith\",\"MiscTechWorkedWith\",\"MiscTechWorkedWith\",\"LanguageWorkedWith\",\"LanguageWorkedWith\",\"LanguageWorkedWith\",\"LanguageWorkedWith\",\"LanguageWorkedWith\",\"DatabaseWorkedWith\",\"MiscTechWorkedWith\",\"MiscTechWorkedWith\",\"DatabaseWorkedWith\",\"LanguageWorkedWith\",\"WebframeWorkedWith\",\"WebframeWorkedWith\",\"DatabaseWorkedWith\",\"DatabaseWorkedWith\",\"WebframeWorkedWith\",\"DatabaseWorkedWith\",\"WebframeWorkedWith\",\"MiscTechWorkedWith\",\"WebframeWorkedWith\",\"LanguageWorkedWith\",\"LanguageWorkedWith\",\"MiscTechWorkedWith\",\"LanguageWorkedWith\",\"DatabaseWorkedWith\",\"LanguageWorkedWith\",\"LanguageWorkedWith\",\"LanguageWorkedWith\",\"MiscTechWorkedWith\",\"LanguageWorkedWith\",\"WebframeWorkedWith\",\"DatabaseWorkedWith\",\"DatabaseWorkedWith\",\"DatabaseWorkedWith\",\"DatabaseWorkedWith\",\"MiscTechWorkedWith\",\"LanguageWorkedWith\",\"DatabaseWorkedWith\",\"LanguageWorkedWith\",\"MiscTechWorkedWith\",\"LanguageWorkedWith\",\"DatabaseWorkedWith\",\"MiscTechWorkedWith\",\"LanguageWorkedWith\",\"LanguageWorkedWith\",\"MiscTechWorkedWith\",\"WebframeWorkedWith\",\"DatabaseWorkedWith\",\"LanguageWorkedWith\",\"WebframeWorkedWith\",\"LanguageWorkedWith\",\"LanguageWorkedWith\",\"DatabaseWorkedWith\",\"LanguageWorkedWith\",\"WebframeWorkedWith\",\"LanguageWorkedWith\",\"WebframeWorkedWith\",\"MiscTechWorkedWith\",\"MiscTechWorkedWith\",\"MiscTechWorkedWith\",\"LanguageWorkedWith\",\"MiscTechWorkedWith\",\"MiscTechWorkedWith\",\"LanguageWorkedWith\",\"WebframeWorkedWith\",\"MiscTechWorkedWith\",\"WebframeWorkedWith\",\"\",\"\",\"\",\"\"],\"values\":[14144,10755,9258,8082,10617,6826,2955,2089,3553,18980,12487,18041,13707,1654,733,2419,937,2280,6014,1369,3497,6817,8961,7128,6005,2897,1703,5038,36181,1798,1222,1421,23074,38822,519,2504,4468,4680,8312,16336,13086,27559,20741,2340,8155,15007,6253,1796,17892,945,25287,3288,4626,15167,9056,4046,2944,2929,31413,15434,2052,6941,3397,1851,4652,2518,1872,14578,4413,1316,3499,7322,2357,18316,137284,288004,89987,116056],\"type\":\"treemap\"}],                        {\"template\":{\"data\":{\"histogram2dcontour\":[{\"type\":\"histogram2dcontour\",\"colorbar\":{\"outlinewidth\":0,\"ticks\":\"\"},\"colorscale\":[[0.0,\"#0d0887\"],[0.1111111111111111,\"#46039f\"],[0.2222222222222222,\"#7201a8\"],[0.3333333333333333,\"#9c179e\"],[0.4444444444444444,\"#bd3786\"],[0.5555555555555556,\"#d8576b\"],[0.6666666666666666,\"#ed7953\"],[0.7777777777777778,\"#fb9f3a\"],[0.8888888888888888,\"#fdca26\"],[1.0,\"#f0f921\"]]}],\"choropleth\":[{\"type\":\"choropleth\",\"colorbar\":{\"outlinewidth\":0,\"ticks\":\"\"}}],\"histogram2d\":[{\"type\":\"histogram2d\",\"colorbar\":{\"outlinewidth\":0,\"ticks\":\"\"},\"colorscale\":[[0.0,\"#0d0887\"],[0.1111111111111111,\"#46039f\"],[0.2222222222222222,\"#7201a8\"],[0.3333333333333333,\"#9c179e\"],[0.4444444444444444,\"#bd3786\"],[0.5555555555555556,\"#d8576b\"],[0.6666666666666666,\"#ed7953\"],[0.7777777777777778,\"#fb9f3a\"],[0.8888888888888888,\"#fdca26\"],[1.0,\"#f0f921\"]]}],\"heatmap\":[{\"type\":\"heatmap\",\"colorbar\":{\"outlinewidth\":0,\"ticks\":\"\"},\"colorscale\":[[0.0,\"#0d0887\"],[0.1111111111111111,\"#46039f\"],[0.2222222222222222,\"#7201a8\"],[0.3333333333333333,\"#9c179e\"],[0.4444444444444444,\"#bd3786\"],[0.5555555555555556,\"#d8576b\"],[0.6666666666666666,\"#ed7953\"],[0.7777777777777778,\"#fb9f3a\"],[0.8888888888888888,\"#fdca26\"],[1.0,\"#f0f921\"]]}],\"heatmapgl\":[{\"type\":\"heatmapgl\",\"colorbar\":{\"outlinewidth\":0,\"ticks\":\"\"},\"colorscale\":[[0.0,\"#0d0887\"],[0.1111111111111111,\"#46039f\"],[0.2222222222222222,\"#7201a8\"],[0.3333333333333333,\"#9c179e\"],[0.4444444444444444,\"#bd3786\"],[0.5555555555555556,\"#d8576b\"],[0.6666666666666666,\"#ed7953\"],[0.7777777777777778,\"#fb9f3a\"],[0.8888888888888888,\"#fdca26\"],[1.0,\"#f0f921\"]]}],\"contourcarpet\":[{\"type\":\"contourcarpet\",\"colorbar\":{\"outlinewidth\":0,\"ticks\":\"\"}}],\"contour\":[{\"type\":\"contour\",\"colorbar\":{\"outlinewidth\":0,\"ticks\":\"\"},\"colorscale\":[[0.0,\"#0d0887\"],[0.1111111111111111,\"#46039f\"],[0.2222222222222222,\"#7201a8\"],[0.3333333333333333,\"#9c179e\"],[0.4444444444444444,\"#bd3786\"],[0.5555555555555556,\"#d8576b\"],[0.6666666666666666,\"#ed7953\"],[0.7777777777777778,\"#fb9f3a\"],[0.8888888888888888,\"#fdca26\"],[1.0,\"#f0f921\"]]}],\"surface\":[{\"type\":\"surface\",\"colorbar\":{\"outlinewidth\":0,\"ticks\":\"\"},\"colorscale\":[[0.0,\"#0d0887\"],[0.1111111111111111,\"#46039f\"],[0.2222222222222222,\"#7201a8\"],[0.3333333333333333,\"#9c179e\"],[0.4444444444444444,\"#bd3786\"],[0.5555555555555556,\"#d8576b\"],[0.6666666666666666,\"#ed7953\"],[0.7777777777777778,\"#fb9f3a\"],[0.8888888888888888,\"#fdca26\"],[1.0,\"#f0f921\"]]}],\"mesh3d\":[{\"type\":\"mesh3d\",\"colorbar\":{\"outlinewidth\":0,\"ticks\":\"\"}}],\"scatter\":[{\"fillpattern\":{\"fillmode\":\"overlay\",\"size\":10,\"solidity\":0.2},\"type\":\"scatter\"}],\"parcoords\":[{\"type\":\"parcoords\",\"line\":{\"colorbar\":{\"outlinewidth\":0,\"ticks\":\"\"}}}],\"scatterpolargl\":[{\"type\":\"scatterpolargl\",\"marker\":{\"colorbar\":{\"outlinewidth\":0,\"ticks\":\"\"}}}],\"bar\":[{\"error_x\":{\"color\":\"#2a3f5f\"},\"error_y\":{\"color\":\"#2a3f5f\"},\"marker\":{\"line\":{\"color\":\"#E5ECF6\",\"width\":0.5},\"pattern\":{\"fillmode\":\"overlay\",\"size\":10,\"solidity\":0.2}},\"type\":\"bar\"}],\"scattergeo\":[{\"type\":\"scattergeo\",\"marker\":{\"colorbar\":{\"outlinewidth\":0,\"ticks\":\"\"}}}],\"scatterpolar\":[{\"type\":\"scatterpolar\",\"marker\":{\"colorbar\":{\"outlinewidth\":0,\"ticks\":\"\"}}}],\"histogram\":[{\"marker\":{\"pattern\":{\"fillmode\":\"overlay\",\"size\":10,\"solidity\":0.2}},\"type\":\"histogram\"}],\"scattergl\":[{\"type\":\"scattergl\",\"marker\":{\"colorbar\":{\"outlinewidth\":0,\"ticks\":\"\"}}}],\"scatter3d\":[{\"type\":\"scatter3d\",\"line\":{\"colorbar\":{\"outlinewidth\":0,\"ticks\":\"\"}},\"marker\":{\"colorbar\":{\"outlinewidth\":0,\"ticks\":\"\"}}}],\"scattermapbox\":[{\"type\":\"scattermapbox\",\"marker\":{\"colorbar\":{\"outlinewidth\":0,\"ticks\":\"\"}}}],\"scatterternary\":[{\"type\":\"scatterternary\",\"marker\":{\"colorbar\":{\"outlinewidth\":0,\"ticks\":\"\"}}}],\"scattercarpet\":[{\"type\":\"scattercarpet\",\"marker\":{\"colorbar\":{\"outlinewidth\":0,\"ticks\":\"\"}}}],\"carpet\":[{\"aaxis\":{\"endlinecolor\":\"#2a3f5f\",\"gridcolor\":\"white\",\"linecolor\":\"white\",\"minorgridcolor\":\"white\",\"startlinecolor\":\"#2a3f5f\"},\"baxis\":{\"endlinecolor\":\"#2a3f5f\",\"gridcolor\":\"white\",\"linecolor\":\"white\",\"minorgridcolor\":\"white\",\"startlinecolor\":\"#2a3f5f\"},\"type\":\"carpet\"}],\"table\":[{\"cells\":{\"fill\":{\"color\":\"#EBF0F8\"},\"line\":{\"color\":\"white\"}},\"header\":{\"fill\":{\"color\":\"#C8D4E3\"},\"line\":{\"color\":\"white\"}},\"type\":\"table\"}],\"barpolar\":[{\"marker\":{\"line\":{\"color\":\"#E5ECF6\",\"width\":0.5},\"pattern\":{\"fillmode\":\"overlay\",\"size\":10,\"solidity\":0.2}},\"type\":\"barpolar\"}],\"pie\":[{\"automargin\":true,\"type\":\"pie\"}]},\"layout\":{\"autotypenumbers\":\"strict\",\"colorway\":[\"#636efa\",\"#EF553B\",\"#00cc96\",\"#ab63fa\",\"#FFA15A\",\"#19d3f3\",\"#FF6692\",\"#B6E880\",\"#FF97FF\",\"#FECB52\"],\"font\":{\"color\":\"#2a3f5f\"},\"hovermode\":\"closest\",\"hoverlabel\":{\"align\":\"left\"},\"paper_bgcolor\":\"white\",\"plot_bgcolor\":\"#E5ECF6\",\"polar\":{\"bgcolor\":\"#E5ECF6\",\"angularaxis\":{\"gridcolor\":\"white\",\"linecolor\":\"white\",\"ticks\":\"\"},\"radialaxis\":{\"gridcolor\":\"white\",\"linecolor\":\"white\",\"ticks\":\"\"}},\"ternary\":{\"bgcolor\":\"#E5ECF6\",\"aaxis\":{\"gridcolor\":\"white\",\"linecolor\":\"white\",\"ticks\":\"\"},\"baxis\":{\"gridcolor\":\"white\",\"linecolor\":\"white\",\"ticks\":\"\"},\"caxis\":{\"gridcolor\":\"white\",\"linecolor\":\"white\",\"ticks\":\"\"}},\"coloraxis\":{\"colorbar\":{\"outlinewidth\":0,\"ticks\":\"\"}},\"colorscale\":{\"sequential\":[[0.0,\"#0d0887\"],[0.1111111111111111,\"#46039f\"],[0.2222222222222222,\"#7201a8\"],[0.3333333333333333,\"#9c179e\"],[0.4444444444444444,\"#bd3786\"],[0.5555555555555556,\"#d8576b\"],[0.6666666666666666,\"#ed7953\"],[0.7777777777777778,\"#fb9f3a\"],[0.8888888888888888,\"#fdca26\"],[1.0,\"#f0f921\"]],\"sequentialminus\":[[0.0,\"#0d0887\"],[0.1111111111111111,\"#46039f\"],[0.2222222222222222,\"#7201a8\"],[0.3333333333333333,\"#9c179e\"],[0.4444444444444444,\"#bd3786\"],[0.5555555555555556,\"#d8576b\"],[0.6666666666666666,\"#ed7953\"],[0.7777777777777778,\"#fb9f3a\"],[0.8888888888888888,\"#fdca26\"],[1.0,\"#f0f921\"]],\"diverging\":[[0,\"#8e0152\"],[0.1,\"#c51b7d\"],[0.2,\"#de77ae\"],[0.3,\"#f1b6da\"],[0.4,\"#fde0ef\"],[0.5,\"#f7f7f7\"],[0.6,\"#e6f5d0\"],[0.7,\"#b8e186\"],[0.8,\"#7fbc41\"],[0.9,\"#4d9221\"],[1,\"#276419\"]]},\"xaxis\":{\"gridcolor\":\"white\",\"linecolor\":\"white\",\"ticks\":\"\",\"title\":{\"standoff\":15},\"zerolinecolor\":\"white\",\"automargin\":true,\"zerolinewidth\":2},\"yaxis\":{\"gridcolor\":\"white\",\"linecolor\":\"white\",\"ticks\":\"\",\"title\":{\"standoff\":15},\"zerolinecolor\":\"white\",\"automargin\":true,\"zerolinewidth\":2},\"scene\":{\"xaxis\":{\"backgroundcolor\":\"#E5ECF6\",\"gridcolor\":\"white\",\"linecolor\":\"white\",\"showbackground\":true,\"ticks\":\"\",\"zerolinecolor\":\"white\",\"gridwidth\":2},\"yaxis\":{\"backgroundcolor\":\"#E5ECF6\",\"gridcolor\":\"white\",\"linecolor\":\"white\",\"showbackground\":true,\"ticks\":\"\",\"zerolinecolor\":\"white\",\"gridwidth\":2},\"zaxis\":{\"backgroundcolor\":\"#E5ECF6\",\"gridcolor\":\"white\",\"linecolor\":\"white\",\"showbackground\":true,\"ticks\":\"\",\"zerolinecolor\":\"white\",\"gridwidth\":2}},\"shapedefaults\":{\"line\":{\"color\":\"#2a3f5f\"}},\"annotationdefaults\":{\"arrowcolor\":\"#2a3f5f\",\"arrowhead\":0,\"arrowwidth\":1},\"geo\":{\"bgcolor\":\"white\",\"landcolor\":\"#E5ECF6\",\"subunitcolor\":\"white\",\"showland\":true,\"showlakes\":true,\"lakecolor\":\"white\"},\"title\":{\"x\":0.05},\"mapbox\":{\"style\":\"light\"}}},\"coloraxis\":{\"colorbar\":{\"title\":{\"text\":\"Freq\"}},\"colorscale\":[[0.0,\"rgb(253, 253, 204)\"],[0.09090909090909091,\"rgb(206, 236, 179)\"],[0.18181818181818182,\"rgb(156, 219, 165)\"],[0.2727272727272727,\"rgb(111, 201, 163)\"],[0.36363636363636365,\"rgb(86, 177, 163)\"],[0.45454545454545453,\"rgb(76, 153, 160)\"],[0.5454545454545454,\"rgb(68, 130, 155)\"],[0.6363636363636364,\"rgb(62, 108, 150)\"],[0.7272727272727273,\"rgb(62, 82, 143)\"],[0.8181818181818182,\"rgb(64, 60, 115)\"],[0.9090909090909091,\"rgb(54, 43, 77)\"],[1.0,\"rgb(39, 26, 44)\"]]},\"legend\":{\"tracegroupgap\":0},\"margin\":{\"t\":60},\"width\":1000,\"height\":500},                        {\"responsive\": true}                    ).then(function(){\n",
       "                            \n",
       "var gd = document.getElementById('e0c541c9-9881-4512-af98-0f201c7eb111');\n",
       "var x = new MutationObserver(function (mutations, observer) {{\n",
       "        var display = window.getComputedStyle(gd).display;\n",
       "        if (!display || display === 'none') {{\n",
       "            console.log([gd, 'removed!']);\n",
       "            Plotly.purge(gd);\n",
       "            observer.disconnect();\n",
       "        }}\n",
       "}});\n",
       "\n",
       "// Listen for the removal of the full notebook cells\n",
       "var notebookContainer = gd.closest('#notebook-container');\n",
       "if (notebookContainer) {{\n",
       "    x.observe(notebookContainer, {childList: true});\n",
       "}}\n",
       "\n",
       "// Listen for the clearing of the current output cell\n",
       "var outputEl = gd.closest('.output');\n",
       "if (outputEl) {{\n",
       "    x.observe(outputEl, {childList: true});\n",
       "}}\n",
       "\n",
       "                        })                };                });            </script>        </div>"
      ]
     },
     "metadata": {},
     "output_type": "display_data"
    }
   ],
   "source": [
    "fig = px.treemap(skills_freq, \n",
    "                 path=['Group', 'Skill'], \n",
    "                 color_continuous_scale='deep',\n",
    "                 values='Freq',color='Freq')\n",
    "fig.update_layout(width=1000, height=500)\n",
    "fig.show()"
   ]
  },
  {
   "cell_type": "code",
   "execution_count": 31,
   "id": "5a0e5455",
   "metadata": {},
   "outputs": [
    {
     "data": {
      "image/png": "[encoded data removed]",
      "text/plain": [
       "<Figure size 640x480 with 1 Axes>"
      ]
     },
     "metadata": {},
     "output_type": "display_data"
    }
   ],
   "source": [
    "plt.bar(skills_freq['Skill'] , skills_freq['Freq'])\n",
    "plt.xticks(skills_freq['Skill'] , rotation = \"vertical\" , size=4)\n",
    "plt.xlabel(\"Skill\")\n",
    "plt.ylabel(\"Frequency\")\n",
    "plt.show()"
   ]
  },
  {
   "cell_type": "markdown",
   "id": "47453c94",
   "metadata": {},
   "source": [
    "# Jobs & Skills Heatmap"
   ]
  },
  {
   "cell_type": "code",
   "execution_count": 32,
   "id": "7aa71ee1",
   "metadata": {},
   "outputs": [
    {
     "data": {
      "text/html": [
       "<div>\n",
       "<style scoped>\n",
       "    .dataframe tbody tr th:only-of-type {\n",
       "        vertical-align: middle;\n",
       "    }\n",
       "\n",
       "    .dataframe tbody tr th {\n",
       "        vertical-align: top;\n",
       "    }\n",
       "\n",
       "    .dataframe thead th {\n",
       "        text-align: right;\n",
       "    }\n",
       "</style>\n",
       "<table border=\"1\" class=\"dataframe\">\n",
       "  <thead>\n",
       "    <tr style=\"text-align: right;\">\n",
       "      <th></th>\n",
       "      <th>JavaScript</th>\n",
       "      <th>HTML/CSS</th>\n",
       "      <th>SQL</th>\n",
       "      <th>MySQL</th>\n",
       "      <th>Python</th>\n",
       "      <th>Java</th>\n",
       "      <th>Node.js</th>\n",
       "      <th>Bash/Shell/PowerShell</th>\n",
       "      <th>jQuery</th>\n",
       "      <th>C#</th>\n",
       "      <th>...</th>\n",
       "      <th>Gatsby</th>\n",
       "      <th>Cassandra</th>\n",
       "      <th>IBM DB2</th>\n",
       "      <th>Drupal</th>\n",
       "      <th>Unreal Engine</th>\n",
       "      <th>Haskell</th>\n",
       "      <th>Puppet</th>\n",
       "      <th>Couchbase</th>\n",
       "      <th>Chef</th>\n",
       "      <th>Julia</th>\n",
       "    </tr>\n",
       "  </thead>\n",
       "  <tbody>\n",
       "    <tr>\n",
       "      <th>Marketing or sales professional</th>\n",
       "      <td>71.028037</td>\n",
       "      <td>76.635514</td>\n",
       "      <td>57.788162</td>\n",
       "      <td>61.370717</td>\n",
       "      <td>38.629283</td>\n",
       "      <td>32.242991</td>\n",
       "      <td>41.744548</td>\n",
       "      <td>31.152648</td>\n",
       "      <td>45.482866</td>\n",
       "      <td>25.700935</td>\n",
       "      <td>...</td>\n",
       "      <td>9.034268</td>\n",
       "      <td>5.919003</td>\n",
       "      <td>5.763240</td>\n",
       "      <td>9.968847</td>\n",
       "      <td>6.853583</td>\n",
       "      <td>4.205607</td>\n",
       "      <td>4.517134</td>\n",
       "      <td>6.230530</td>\n",
       "      <td>4.672897</td>\n",
       "      <td>4.049844</td>\n",
       "    </tr>\n",
       "    <tr>\n",
       "      <th>Senior executive/VP</th>\n",
       "      <td>72.878788</td>\n",
       "      <td>69.166667</td>\n",
       "      <td>65.075758</td>\n",
       "      <td>49.545455</td>\n",
       "      <td>45.984848</td>\n",
       "      <td>33.333333</td>\n",
       "      <td>43.787879</td>\n",
       "      <td>44.393939</td>\n",
       "      <td>36.439394</td>\n",
       "      <td>34.848485</td>\n",
       "      <td>...</td>\n",
       "      <td>5.227273</td>\n",
       "      <td>6.590909</td>\n",
       "      <td>5.227273</td>\n",
       "      <td>6.060606</td>\n",
       "      <td>4.318182</td>\n",
       "      <td>3.409091</td>\n",
       "      <td>4.848485</td>\n",
       "      <td>5.227273</td>\n",
       "      <td>3.939394</td>\n",
       "      <td>2.727273</td>\n",
       "    </tr>\n",
       "    <tr>\n",
       "      <th>Engineer, site reliability</th>\n",
       "      <td>65.876289</td>\n",
       "      <td>58.505155</td>\n",
       "      <td>61.701031</td>\n",
       "      <td>53.762887</td>\n",
       "      <td>59.896907</td>\n",
       "      <td>39.948454</td>\n",
       "      <td>42.628866</td>\n",
       "      <td>61.494845</td>\n",
       "      <td>30.979381</td>\n",
       "      <td>26.134021</td>\n",
       "      <td>...</td>\n",
       "      <td>4.896907</td>\n",
       "      <td>8.865979</td>\n",
       "      <td>3.711340</td>\n",
       "      <td>5.206186</td>\n",
       "      <td>3.144330</td>\n",
       "      <td>3.969072</td>\n",
       "      <td>9.278351</td>\n",
       "      <td>3.659794</td>\n",
       "      <td>8.041237</td>\n",
       "      <td>2.010309</td>\n",
       "    </tr>\n",
       "    <tr>\n",
       "      <th>Scientist</th>\n",
       "      <td>48.465964</td>\n",
       "      <td>47.027804</td>\n",
       "      <td>43.672100</td>\n",
       "      <td>39.213806</td>\n",
       "      <td>67.689358</td>\n",
       "      <td>32.981783</td>\n",
       "      <td>25.982742</td>\n",
       "      <td>42.425695</td>\n",
       "      <td>25.071908</td>\n",
       "      <td>22.339406</td>\n",
       "      <td>...</td>\n",
       "      <td>2.924257</td>\n",
       "      <td>4.122723</td>\n",
       "      <td>3.499521</td>\n",
       "      <td>3.691275</td>\n",
       "      <td>4.026846</td>\n",
       "      <td>4.554171</td>\n",
       "      <td>2.301055</td>\n",
       "      <td>3.259827</td>\n",
       "      <td>2.157239</td>\n",
       "      <td>5.465005</td>\n",
       "    </tr>\n",
       "    <tr>\n",
       "      <th>Product manager</th>\n",
       "      <td>73.007609</td>\n",
       "      <td>69.603524</td>\n",
       "      <td>63.115739</td>\n",
       "      <td>52.422907</td>\n",
       "      <td>42.010412</td>\n",
       "      <td>36.283540</td>\n",
       "      <td>42.571085</td>\n",
       "      <td>37.484982</td>\n",
       "      <td>41.529836</td>\n",
       "      <td>34.521426</td>\n",
       "      <td>...</td>\n",
       "      <td>4.805767</td>\n",
       "      <td>4.325190</td>\n",
       "      <td>3.924710</td>\n",
       "      <td>5.246296</td>\n",
       "      <td>3.203845</td>\n",
       "      <td>2.282739</td>\n",
       "      <td>3.003604</td>\n",
       "      <td>3.123748</td>\n",
       "      <td>2.643172</td>\n",
       "      <td>1.561874</td>\n",
       "    </tr>\n",
       "    <tr>\n",
       "      <th>Engineering manager</th>\n",
       "      <td>69.346549</td>\n",
       "      <td>60.682819</td>\n",
       "      <td>60.425844</td>\n",
       "      <td>47.099853</td>\n",
       "      <td>46.512482</td>\n",
       "      <td>37.995595</td>\n",
       "      <td>43.465492</td>\n",
       "      <td>45.888399</td>\n",
       "      <td>30.837004</td>\n",
       "      <td>33.333333</td>\n",
       "      <td>...</td>\n",
       "      <td>4.809104</td>\n",
       "      <td>6.461087</td>\n",
       "      <td>3.817915</td>\n",
       "      <td>4.662261</td>\n",
       "      <td>2.679883</td>\n",
       "      <td>2.679883</td>\n",
       "      <td>4.515419</td>\n",
       "      <td>4.001468</td>\n",
       "      <td>4.331865</td>\n",
       "      <td>1.578561</td>\n",
       "    </tr>\n",
       "    <tr>\n",
       "      <th>Developer, game or graphics</th>\n",
       "      <td>67.228397</td>\n",
       "      <td>62.459663</td>\n",
       "      <td>49.264970</td>\n",
       "      <td>48.045895</td>\n",
       "      <td>43.850843</td>\n",
       "      <td>41.376838</td>\n",
       "      <td>41.233417</td>\n",
       "      <td>35.353173</td>\n",
       "      <td>34.313374</td>\n",
       "      <td>53.531732</td>\n",
       "      <td>...</td>\n",
       "      <td>3.728935</td>\n",
       "      <td>2.653281</td>\n",
       "      <td>2.617426</td>\n",
       "      <td>3.657225</td>\n",
       "      <td>16.098960</td>\n",
       "      <td>3.155253</td>\n",
       "      <td>2.402295</td>\n",
       "      <td>3.011832</td>\n",
       "      <td>2.007888</td>\n",
       "      <td>1.398351</td>\n",
       "    </tr>\n",
       "    <tr>\n",
       "      <th>Educator</th>\n",
       "      <td>68.408470</td>\n",
       "      <td>66.803279</td>\n",
       "      <td>56.625683</td>\n",
       "      <td>53.859290</td>\n",
       "      <td>45.252732</td>\n",
       "      <td>39.993169</td>\n",
       "      <td>39.583333</td>\n",
       "      <td>38.183060</td>\n",
       "      <td>37.363388</td>\n",
       "      <td>29.576503</td>\n",
       "      <td>...</td>\n",
       "      <td>4.474044</td>\n",
       "      <td>3.517760</td>\n",
       "      <td>3.790984</td>\n",
       "      <td>4.678962</td>\n",
       "      <td>3.381148</td>\n",
       "      <td>4.200820</td>\n",
       "      <td>2.834699</td>\n",
       "      <td>2.766393</td>\n",
       "      <td>2.288251</td>\n",
       "      <td>2.185792</td>\n",
       "    </tr>\n",
       "    <tr>\n",
       "      <th>Academic researcher</th>\n",
       "      <td>54.194820</td>\n",
       "      <td>53.462838</td>\n",
       "      <td>46.706081</td>\n",
       "      <td>47.015766</td>\n",
       "      <td>59.037162</td>\n",
       "      <td>39.864865</td>\n",
       "      <td>28.293919</td>\n",
       "      <td>36.768018</td>\n",
       "      <td>29.898649</td>\n",
       "      <td>24.239865</td>\n",
       "      <td>...</td>\n",
       "      <td>2.533784</td>\n",
       "      <td>3.800676</td>\n",
       "      <td>3.040541</td>\n",
       "      <td>3.293919</td>\n",
       "      <td>2.956081</td>\n",
       "      <td>4.504505</td>\n",
       "      <td>2.111486</td>\n",
       "      <td>2.505631</td>\n",
       "      <td>1.520270</td>\n",
       "      <td>4.335586</td>\n",
       "    </tr>\n",
       "    <tr>\n",
       "      <th>Engineer, data</th>\n",
       "      <td>56.902087</td>\n",
       "      <td>52.594971</td>\n",
       "      <td>67.174960</td>\n",
       "      <td>49.678973</td>\n",
       "      <td>65.088283</td>\n",
       "      <td>40.449438</td>\n",
       "      <td>31.942215</td>\n",
       "      <td>43.900482</td>\n",
       "      <td>29.507758</td>\n",
       "      <td>26.645265</td>\n",
       "      <td>...</td>\n",
       "      <td>2.782236</td>\n",
       "      <td>7.490637</td>\n",
       "      <td>4.333868</td>\n",
       "      <td>3.210273</td>\n",
       "      <td>2.701980</td>\n",
       "      <td>2.835741</td>\n",
       "      <td>2.808989</td>\n",
       "      <td>3.504548</td>\n",
       "      <td>2.354200</td>\n",
       "      <td>2.247191</td>\n",
       "    </tr>\n",
       "    <tr>\n",
       "      <th>Developer, QA or test</th>\n",
       "      <td>71.548011</td>\n",
       "      <td>67.240942</td>\n",
       "      <td>63.389916</td>\n",
       "      <td>52.520902</td>\n",
       "      <td>44.210793</td>\n",
       "      <td>43.374715</td>\n",
       "      <td>40.689131</td>\n",
       "      <td>42.386623</td>\n",
       "      <td>38.484925</td>\n",
       "      <td>38.358247</td>\n",
       "      <td>...</td>\n",
       "      <td>3.014948</td>\n",
       "      <td>3.470991</td>\n",
       "      <td>3.724348</td>\n",
       "      <td>4.459083</td>\n",
       "      <td>3.166962</td>\n",
       "      <td>2.280213</td>\n",
       "      <td>3.217634</td>\n",
       "      <td>2.584241</td>\n",
       "      <td>2.482898</td>\n",
       "      <td>1.368128</td>\n",
       "    </tr>\n",
       "    <tr>\n",
       "      <th>Data scientist or machine learning specialist</th>\n",
       "      <td>48.269809</td>\n",
       "      <td>48.244734</td>\n",
       "      <td>58.450351</td>\n",
       "      <td>46.263791</td>\n",
       "      <td>78.335005</td>\n",
       "      <td>35.055165</td>\n",
       "      <td>25.651956</td>\n",
       "      <td>39.568706</td>\n",
       "      <td>24.172518</td>\n",
       "      <td>21.339017</td>\n",
       "      <td>...</td>\n",
       "      <td>2.683049</td>\n",
       "      <td>5.441324</td>\n",
       "      <td>3.786359</td>\n",
       "      <td>2.833501</td>\n",
       "      <td>2.758275</td>\n",
       "      <td>3.660983</td>\n",
       "      <td>2.432297</td>\n",
       "      <td>2.357071</td>\n",
       "      <td>2.081244</td>\n",
       "      <td>4.237713</td>\n",
       "    </tr>\n",
       "    <tr>\n",
       "      <th>Data or business analyst</th>\n",
       "      <td>57.554672</td>\n",
       "      <td>58.971173</td>\n",
       "      <td>73.459245</td>\n",
       "      <td>49.652087</td>\n",
       "      <td>53.230616</td>\n",
       "      <td>31.088469</td>\n",
       "      <td>27.907555</td>\n",
       "      <td>34.691849</td>\n",
       "      <td>33.648111</td>\n",
       "      <td>31.635189</td>\n",
       "      <td>...</td>\n",
       "      <td>2.261431</td>\n",
       "      <td>3.528827</td>\n",
       "      <td>5.516899</td>\n",
       "      <td>3.827038</td>\n",
       "      <td>2.012922</td>\n",
       "      <td>2.360835</td>\n",
       "      <td>2.311133</td>\n",
       "      <td>2.385686</td>\n",
       "      <td>1.988072</td>\n",
       "      <td>1.863817</td>\n",
       "    </tr>\n",
       "    <tr>\n",
       "      <th>Developer, embedded applications or devices</th>\n",
       "      <td>58.378947</td>\n",
       "      <td>54.105263</td>\n",
       "      <td>49.557895</td>\n",
       "      <td>45.031579</td>\n",
       "      <td>50.273684</td>\n",
       "      <td>39.831579</td>\n",
       "      <td>34.000000</td>\n",
       "      <td>43.978947</td>\n",
       "      <td>30.484211</td>\n",
       "      <td>38.336842</td>\n",
       "      <td>...</td>\n",
       "      <td>2.484211</td>\n",
       "      <td>3.663158</td>\n",
       "      <td>3.494737</td>\n",
       "      <td>2.926316</td>\n",
       "      <td>3.789474</td>\n",
       "      <td>2.863158</td>\n",
       "      <td>2.168421</td>\n",
       "      <td>2.800000</td>\n",
       "      <td>1.831579</td>\n",
       "      <td>1.263158</td>\n",
       "    </tr>\n",
       "    <tr>\n",
       "      <th>System administrator</th>\n",
       "      <td>71.041587</td>\n",
       "      <td>69.496375</td>\n",
       "      <td>68.141931</td>\n",
       "      <td>57.535292</td>\n",
       "      <td>50.915681</td>\n",
       "      <td>35.806944</td>\n",
       "      <td>38.744754</td>\n",
       "      <td>54.940862</td>\n",
       "      <td>41.262877</td>\n",
       "      <td>31.896223</td>\n",
       "      <td>...</td>\n",
       "      <td>2.861503</td>\n",
       "      <td>4.311332</td>\n",
       "      <td>3.719954</td>\n",
       "      <td>5.112552</td>\n",
       "      <td>3.414727</td>\n",
       "      <td>2.708890</td>\n",
       "      <td>5.036246</td>\n",
       "      <td>2.689813</td>\n",
       "      <td>3.586417</td>\n",
       "      <td>1.259061</td>\n",
       "    </tr>\n",
       "    <tr>\n",
       "      <th>Designer</th>\n",
       "      <td>75.981958</td>\n",
       "      <td>74.873144</td>\n",
       "      <td>58.804736</td>\n",
       "      <td>55.196392</td>\n",
       "      <td>35.951889</td>\n",
       "      <td>35.895508</td>\n",
       "      <td>41.890622</td>\n",
       "      <td>30.182297</td>\n",
       "      <td>45.743281</td>\n",
       "      <td>35.087390</td>\n",
       "      <td>...</td>\n",
       "      <td>4.698365</td>\n",
       "      <td>2.555911</td>\n",
       "      <td>3.457997</td>\n",
       "      <td>4.773539</td>\n",
       "      <td>4.021800</td>\n",
       "      <td>1.935726</td>\n",
       "      <td>2.161248</td>\n",
       "      <td>2.236422</td>\n",
       "      <td>1.541064</td>\n",
       "      <td>0.920880</td>\n",
       "    </tr>\n",
       "    <tr>\n",
       "      <th>Database administrator</th>\n",
       "      <td>74.274729</td>\n",
       "      <td>73.068857</td>\n",
       "      <td>80.076896</td>\n",
       "      <td>59.402307</td>\n",
       "      <td>42.240475</td>\n",
       "      <td>35.040196</td>\n",
       "      <td>38.675288</td>\n",
       "      <td>43.411395</td>\n",
       "      <td>47.658161</td>\n",
       "      <td>40.387976</td>\n",
       "      <td>...</td>\n",
       "      <td>2.778749</td>\n",
       "      <td>3.670045</td>\n",
       "      <td>4.037050</td>\n",
       "      <td>4.596295</td>\n",
       "      <td>2.673890</td>\n",
       "      <td>2.009787</td>\n",
       "      <td>2.901084</td>\n",
       "      <td>2.638937</td>\n",
       "      <td>2.271933</td>\n",
       "      <td>0.926250</td>\n",
       "    </tr>\n",
       "    <tr>\n",
       "      <th>DevOps specialist</th>\n",
       "      <td>70.296532</td>\n",
       "      <td>62.707321</td>\n",
       "      <td>63.059139</td>\n",
       "      <td>48.433573</td>\n",
       "      <td>51.767465</td>\n",
       "      <td>38.431898</td>\n",
       "      <td>43.457866</td>\n",
       "      <td>58.686547</td>\n",
       "      <td>33.690735</td>\n",
       "      <td>35.131513</td>\n",
       "      <td>...</td>\n",
       "      <td>3.886748</td>\n",
       "      <td>5.846876</td>\n",
       "      <td>3.668956</td>\n",
       "      <td>3.886748</td>\n",
       "      <td>2.060647</td>\n",
       "      <td>2.479477</td>\n",
       "      <td>5.712850</td>\n",
       "      <td>3.534930</td>\n",
       "      <td>5.277266</td>\n",
       "      <td>0.988440</td>\n",
       "    </tr>\n",
       "    <tr>\n",
       "      <th>Developer, mobile</th>\n",
       "      <td>66.642059</td>\n",
       "      <td>60.693946</td>\n",
       "      <td>50.284750</td>\n",
       "      <td>50.348028</td>\n",
       "      <td>31.195950</td>\n",
       "      <td>49.441046</td>\n",
       "      <td>40.824721</td>\n",
       "      <td>26.323560</td>\n",
       "      <td>33.769247</td>\n",
       "      <td>34.096182</td>\n",
       "      <td>...</td>\n",
       "      <td>3.374815</td>\n",
       "      <td>2.278000</td>\n",
       "      <td>2.204176</td>\n",
       "      <td>2.773676</td>\n",
       "      <td>3.290445</td>\n",
       "      <td>1.497574</td>\n",
       "      <td>1.497574</td>\n",
       "      <td>2.309639</td>\n",
       "      <td>1.065176</td>\n",
       "      <td>0.548408</td>\n",
       "    </tr>\n",
       "    <tr>\n",
       "      <th>Developer, desktop or enterprise applications</th>\n",
       "      <td>65.699253</td>\n",
       "      <td>61.311948</td>\n",
       "      <td>62.024779</td>\n",
       "      <td>43.737271</td>\n",
       "      <td>36.108282</td>\n",
       "      <td>40.733198</td>\n",
       "      <td>33.715207</td>\n",
       "      <td>36.210115</td>\n",
       "      <td>35.429396</td>\n",
       "      <td>51.332315</td>\n",
       "      <td>...</td>\n",
       "      <td>1.858452</td>\n",
       "      <td>2.715547</td>\n",
       "      <td>3.920570</td>\n",
       "      <td>2.316701</td>\n",
       "      <td>2.774949</td>\n",
       "      <td>1.849966</td>\n",
       "      <td>1.756619</td>\n",
       "      <td>2.197895</td>\n",
       "      <td>1.298371</td>\n",
       "      <td>0.721317</td>\n",
       "    </tr>\n",
       "    <tr>\n",
       "      <th>Developer, front-end</th>\n",
       "      <td>84.012899</td>\n",
       "      <td>78.312199</td>\n",
       "      <td>56.394840</td>\n",
       "      <td>50.841714</td>\n",
       "      <td>31.296458</td>\n",
       "      <td>33.728684</td>\n",
       "      <td>49.360516</td>\n",
       "      <td>29.334281</td>\n",
       "      <td>43.566900</td>\n",
       "      <td>33.542851</td>\n",
       "      <td>...</td>\n",
       "      <td>5.329034</td>\n",
       "      <td>2.109751</td>\n",
       "      <td>2.361172</td>\n",
       "      <td>3.470704</td>\n",
       "      <td>2.104285</td>\n",
       "      <td>1.617840</td>\n",
       "      <td>1.579580</td>\n",
       "      <td>1.841933</td>\n",
       "      <td>1.043944</td>\n",
       "      <td>0.448185</td>\n",
       "    </tr>\n",
       "    <tr>\n",
       "      <th>Developer, full-stack</th>\n",
       "      <td>81.990783</td>\n",
       "      <td>73.784332</td>\n",
       "      <td>62.046083</td>\n",
       "      <td>50.226728</td>\n",
       "      <td>36.202765</td>\n",
       "      <td>36.781567</td>\n",
       "      <td>47.340092</td>\n",
       "      <td>33.500461</td>\n",
       "      <td>42.086636</td>\n",
       "      <td>36.376037</td>\n",
       "      <td>...</td>\n",
       "      <td>4.173272</td>\n",
       "      <td>2.798157</td>\n",
       "      <td>2.647005</td>\n",
       "      <td>3.041475</td>\n",
       "      <td>1.824885</td>\n",
       "      <td>1.692166</td>\n",
       "      <td>1.725346</td>\n",
       "      <td>1.994470</td>\n",
       "      <td>1.441475</td>\n",
       "      <td>0.512442</td>\n",
       "    </tr>\n",
       "    <tr>\n",
       "      <th>Developer, back-end</th>\n",
       "      <td>69.391803</td>\n",
       "      <td>61.389011</td>\n",
       "      <td>61.374321</td>\n",
       "      <td>49.397679</td>\n",
       "      <td>39.867049</td>\n",
       "      <td>39.848685</td>\n",
       "      <td>37.556927</td>\n",
       "      <td>35.713236</td>\n",
       "      <td>35.547965</td>\n",
       "      <td>34.023799</td>\n",
       "      <td>...</td>\n",
       "      <td>2.651682</td>\n",
       "      <td>3.782871</td>\n",
       "      <td>2.743499</td>\n",
       "      <td>2.703100</td>\n",
       "      <td>1.777582</td>\n",
       "      <td>2.001616</td>\n",
       "      <td>1.986925</td>\n",
       "      <td>2.060379</td>\n",
       "      <td>1.604965</td>\n",
       "      <td>0.561922</td>\n",
       "    </tr>\n",
       "  </tbody>\n",
       "</table>\n",
       "<p>23 rows × 74 columns</p>\n",
       "</div>"
      ],
      "text/plain": [
       "                                               JavaScript   HTML/CSS  \\\n",
       "Marketing or sales professional                 71.028037  76.635514   \n",
       "Senior executive/VP                             72.878788  69.166667   \n",
       "Engineer, site reliability                      65.876289  58.505155   \n",
       "Scientist                                       48.465964  47.027804   \n",
       "Product manager                                 73.007609  69.603524   \n",
       "Engineering manager                             69.346549  60.682819   \n",
       "Developer, game or graphics                     67.228397  62.459663   \n",
       "Educator                                        68.408470  66.803279   \n",
       "Academic researcher                             54.194820  53.462838   \n",
       "Engineer, data                                  56.902087  52.594971   \n",
       "Developer, QA or test                           71.548011  67.240942   \n",
       "Data scientist or machine learning specialist   48.269809  48.244734   \n",
       "Data or business analyst                        57.554672  58.971173   \n",
       "Developer, embedded applications or devices     58.378947  54.105263   \n",
       "System administrator                            71.041587  69.496375   \n",
       "Designer                                        75.981958  74.873144   \n",
       "Database administrator                          74.274729  73.068857   \n",
       "DevOps specialist                               70.296532  62.707321   \n",
       "Developer, mobile                               66.642059  60.693946   \n",
       "Developer, desktop or enterprise applications   65.699253  61.311948   \n",
       "Developer, front-end                            84.012899  78.312199   \n",
       "Developer, full-stack                           81.990783  73.784332   \n",
       "Developer, back-end                             69.391803  61.389011   \n",
       "\n",
       "                                                     SQL      MySQL  \\\n",
       "Marketing or sales professional                57.788162  61.370717   \n",
       "Senior executive/VP                            65.075758  49.545455   \n",
       "Engineer, site reliability                     61.701031  53.762887   \n",
       "Scientist                                      43.672100  39.213806   \n",
       "Product manager                                63.115739  52.422907   \n",
       "Engineering manager                            60.425844  47.099853   \n",
       "Developer, game or graphics                    49.264970  48.045895   \n",
       "Educator                                       56.625683  53.859290   \n",
       "Academic researcher                            46.706081  47.015766   \n",
       "Engineer, data                                 67.174960  49.678973   \n",
       "Developer, QA or test                          63.389916  52.520902   \n",
       "Data scientist or machine learning specialist  58.450351  46.263791   \n",
       "Data or business analyst                       73.459245  49.652087   \n",
       "Developer, embedded applications or devices    49.557895  45.031579   \n",
       "System administrator                           68.141931  57.535292   \n",
       "Designer                                       58.804736  55.196392   \n",
       "Database administrator                         80.076896  59.402307   \n",
       "DevOps specialist                              63.059139  48.433573   \n",
       "Developer, mobile                              50.284750  50.348028   \n",
       "Developer, desktop or enterprise applications  62.024779  43.737271   \n",
       "Developer, front-end                           56.394840  50.841714   \n",
       "Developer, full-stack                          62.046083  50.226728   \n",
       "Developer, back-end                            61.374321  49.397679   \n",
       "\n",
       "                                                  Python       Java  \\\n",
       "Marketing or sales professional                38.629283  32.242991   \n",
       "Senior executive/VP                            45.984848  33.333333   \n",
       "Engineer, site reliability                     59.896907  39.948454   \n",
       "Scientist                                      67.689358  32.981783   \n",
       "Product manager                                42.010412  36.283540   \n",
       "Engineering manager                            46.512482  37.995595   \n",
       "Developer, game or graphics                    43.850843  41.376838   \n",
       "Educator                                       45.252732  39.993169   \n",
       "Academic researcher                            59.037162  39.864865   \n",
       "Engineer, data                                 65.088283  40.449438   \n",
       "Developer, QA or test                          44.210793  43.374715   \n",
       "Data scientist or machine learning specialist  78.335005  35.055165   \n",
       "Data or business analyst                       53.230616  31.088469   \n",
       "Developer, embedded applications or devices    50.273684  39.831579   \n",
       "System administrator                           50.915681  35.806944   \n",
       "Designer                                       35.951889  35.895508   \n",
       "Database administrator                         42.240475  35.040196   \n",
       "DevOps specialist                              51.767465  38.431898   \n",
       "Developer, mobile                              31.195950  49.441046   \n",
       "Developer, desktop or enterprise applications  36.108282  40.733198   \n",
       "Developer, front-end                           31.296458  33.728684   \n",
       "Developer, full-stack                          36.202765  36.781567   \n",
       "Developer, back-end                            39.867049  39.848685   \n",
       "\n",
       "                                                 Node.js  \\\n",
       "Marketing or sales professional                41.744548   \n",
       "Senior executive/VP                            43.787879   \n",
       "Engineer, site reliability                     42.628866   \n",
       "Scientist                                      25.982742   \n",
       "Product manager                                42.571085   \n",
       "Engineering manager                            43.465492   \n",
       "Developer, game or graphics                    41.233417   \n",
       "Educator                                       39.583333   \n",
       "Academic researcher                            28.293919   \n",
       "Engineer, data                                 31.942215   \n",
       "Developer, QA or test                          40.689131   \n",
       "Data scientist or machine learning specialist  25.651956   \n",
       "Data or business analyst                       27.907555   \n",
       "Developer, embedded applications or devices    34.000000   \n",
       "System administrator                           38.744754   \n",
       "Designer                                       41.890622   \n",
       "Database administrator                         38.675288   \n",
       "DevOps specialist                              43.457866   \n",
       "Developer, mobile                              40.824721   \n",
       "Developer, desktop or enterprise applications  33.715207   \n",
       "Developer, front-end                           49.360516   \n",
       "Developer, full-stack                          47.340092   \n",
       "Developer, back-end                            37.556927   \n",
       "\n",
       "                                               Bash/Shell/PowerShell  \\\n",
       "Marketing or sales professional                            31.152648   \n",
       "Senior executive/VP                                        44.393939   \n",
       "Engineer, site reliability                                 61.494845   \n",
       "Scientist                                                  42.425695   \n",
       "Product manager                                            37.484982   \n",
       "Engineering manager                                        45.888399   \n",
       "Developer, game or graphics                                35.353173   \n",
       "Educator                                                   38.183060   \n",
       "Academic researcher                                        36.768018   \n",
       "Engineer, data                                             43.900482   \n",
       "Developer, QA or test                                      42.386623   \n",
       "Data scientist or machine learning specialist              39.568706   \n",
       "Data or business analyst                                   34.691849   \n",
       "Developer, embedded applications or devices                43.978947   \n",
       "System administrator                                       54.940862   \n",
       "Designer                                                   30.182297   \n",
       "Database administrator                                     43.411395   \n",
       "DevOps specialist                                          58.686547   \n",
       "Developer, mobile                                          26.323560   \n",
       "Developer, desktop or enterprise applications              36.210115   \n",
       "Developer, front-end                                       29.334281   \n",
       "Developer, full-stack                                      33.500461   \n",
       "Developer, back-end                                        35.713236   \n",
       "\n",
       "                                                  jQuery         C#  ...  \\\n",
       "Marketing or sales professional                45.482866  25.700935  ...   \n",
       "Senior executive/VP                            36.439394  34.848485  ...   \n",
       "Engineer, site reliability                     30.979381  26.134021  ...   \n",
       "Scientist                                      25.071908  22.339406  ...   \n",
       "Product manager                                41.529836  34.521426  ...   \n",
       "Engineering manager                            30.837004  33.333333  ...   \n",
       "Developer, game or graphics                    34.313374  53.531732  ...   \n",
       "Educator                                       37.363388  29.576503  ...   \n",
       "Academic researcher                            29.898649  24.239865  ...   \n",
       "Engineer, data                                 29.507758  26.645265  ...   \n",
       "Developer, QA or test                          38.484925  38.358247  ...   \n",
       "Data scientist or machine learning specialist  24.172518  21.339017  ...   \n",
       "Data or business analyst                       33.648111  31.635189  ...   \n",
       "Developer, embedded applications or devices    30.484211  38.336842  ...   \n",
       "System administrator                           41.262877  31.896223  ...   \n",
       "Designer                                       45.743281  35.087390  ...   \n",
       "Database administrator                         47.658161  40.387976  ...   \n",
       "DevOps specialist                              33.690735  35.131513  ...   \n",
       "Developer, mobile                              33.769247  34.096182  ...   \n",
       "Developer, desktop or enterprise applications  35.429396  51.332315  ...   \n",
       "Developer, front-end                           43.566900  33.542851  ...   \n",
       "Developer, full-stack                          42.086636  36.376037  ...   \n",
       "Developer, back-end                            35.547965  34.023799  ...   \n",
       "\n",
       "                                                 Gatsby  Cassandra   IBM DB2  \\\n",
       "Marketing or sales professional                9.034268   5.919003  5.763240   \n",
       "Senior executive/VP                            5.227273   6.590909  5.227273   \n",
       "Engineer, site reliability                     4.896907   8.865979  3.711340   \n",
       "Scientist                                      2.924257   4.122723  3.499521   \n",
       "Product manager                                4.805767   4.325190  3.924710   \n",
       "Engineering manager                            4.809104   6.461087  3.817915   \n",
       "Developer, game or graphics                    3.728935   2.653281  2.617426   \n",
       "Educator                                       4.474044   3.517760  3.790984   \n",
       "Academic researcher                            2.533784   3.800676  3.040541   \n",
       "Engineer, data                                 2.782236   7.490637  4.333868   \n",
       "Developer, QA or test                          3.014948   3.470991  3.724348   \n",
       "Data scientist or machine learning specialist  2.683049   5.441324  3.786359   \n",
       "Data or business analyst                       2.261431   3.528827  5.516899   \n",
       "Developer, embedded applications or devices    2.484211   3.663158  3.494737   \n",
       "System administrator                           2.861503   4.311332  3.719954   \n",
       "Designer                                       4.698365   2.555911  3.457997   \n",
       "Database administrator                         2.778749   3.670045  4.037050   \n",
       "DevOps specialist                              3.886748   5.846876  3.668956   \n",
       "Developer, mobile                              3.374815   2.278000  2.204176   \n",
       "Developer, desktop or enterprise applications  1.858452   2.715547  3.920570   \n",
       "Developer, front-end                           5.329034   2.109751  2.361172   \n",
       "Developer, full-stack                          4.173272   2.798157  2.647005   \n",
       "Developer, back-end                            2.651682   3.782871  2.743499   \n",
       "\n",
       "                                                 Drupal  Unreal Engine  \\\n",
       "Marketing or sales professional                9.968847       6.853583   \n",
       "Senior executive/VP                            6.060606       4.318182   \n",
       "Engineer, site reliability                     5.206186       3.144330   \n",
       "Scientist                                      3.691275       4.026846   \n",
       "Product manager                                5.246296       3.203845   \n",
       "Engineering manager                            4.662261       2.679883   \n",
       "Developer, game or graphics                    3.657225      16.098960   \n",
       "Educator                                       4.678962       3.381148   \n",
       "Academic researcher                            3.293919       2.956081   \n",
       "Engineer, data                                 3.210273       2.701980   \n",
       "Developer, QA or test                          4.459083       3.166962   \n",
       "Data scientist or machine learning specialist  2.833501       2.758275   \n",
       "Data or business analyst                       3.827038       2.012922   \n",
       "Developer, embedded applications or devices    2.926316       3.789474   \n",
       "System administrator                           5.112552       3.414727   \n",
       "Designer                                       4.773539       4.021800   \n",
       "Database administrator                         4.596295       2.673890   \n",
       "DevOps specialist                              3.886748       2.060647   \n",
       "Developer, mobile                              2.773676       3.290445   \n",
       "Developer, desktop or enterprise applications  2.316701       2.774949   \n",
       "Developer, front-end                           3.470704       2.104285   \n",
       "Developer, full-stack                          3.041475       1.824885   \n",
       "Developer, back-end                            2.703100       1.777582   \n",
       "\n",
       "                                                Haskell    Puppet  Couchbase  \\\n",
       "Marketing or sales professional                4.205607  4.517134   6.230530   \n",
       "Senior executive/VP                            3.409091  4.848485   5.227273   \n",
       "Engineer, site reliability                     3.969072  9.278351   3.659794   \n",
       "Scientist                                      4.554171  2.301055   3.259827   \n",
       "Product manager                                2.282739  3.003604   3.123748   \n",
       "Engineering manager                            2.679883  4.515419   4.001468   \n",
       "Developer, game or graphics                    3.155253  2.402295   3.011832   \n",
       "Educator                                       4.200820  2.834699   2.766393   \n",
       "Academic researcher                            4.504505  2.111486   2.505631   \n",
       "Engineer, data                                 2.835741  2.808989   3.504548   \n",
       "Developer, QA or test                          2.280213  3.217634   2.584241   \n",
       "Data scientist or machine learning specialist  3.660983  2.432297   2.357071   \n",
       "Data or business analyst                       2.360835  2.311133   2.385686   \n",
       "Developer, embedded applications or devices    2.863158  2.168421   2.800000   \n",
       "System administrator                           2.708890  5.036246   2.689813   \n",
       "Designer                                       1.935726  2.161248   2.236422   \n",
       "Database administrator                         2.009787  2.901084   2.638937   \n",
       "DevOps specialist                              2.479477  5.712850   3.534930   \n",
       "Developer, mobile                              1.497574  1.497574   2.309639   \n",
       "Developer, desktop or enterprise applications  1.849966  1.756619   2.197895   \n",
       "Developer, front-end                           1.617840  1.579580   1.841933   \n",
       "Developer, full-stack                          1.692166  1.725346   1.994470   \n",
       "Developer, back-end                            2.001616  1.986925   2.060379   \n",
       "\n",
       "                                                   Chef     Julia  \n",
       "Marketing or sales professional                4.672897  4.049844  \n",
       "Senior executive/VP                            3.939394  2.727273  \n",
       "Engineer, site reliability                     8.041237  2.010309  \n",
       "Scientist                                      2.157239  5.465005  \n",
       "Product manager                                2.643172  1.561874  \n",
       "Engineering manager                            4.331865  1.578561  \n",
       "Developer, game or graphics                    2.007888  1.398351  \n",
       "Educator                                       2.288251  2.185792  \n",
       "Academic researcher                            1.520270  4.335586  \n",
       "Engineer, data                                 2.354200  2.247191  \n",
       "Developer, QA or test                          2.482898  1.368128  \n",
       "Data scientist or machine learning specialist  2.081244  4.237713  \n",
       "Data or business analyst                       1.988072  1.863817  \n",
       "Developer, embedded applications or devices    1.831579  1.263158  \n",
       "System administrator                           3.586417  1.259061  \n",
       "Designer                                       1.541064  0.920880  \n",
       "Database administrator                         2.271933  0.926250  \n",
       "DevOps specialist                              5.277266  0.988440  \n",
       "Developer, mobile                              1.065176  0.548408  \n",
       "Developer, desktop or enterprise applications  1.298371  0.721317  \n",
       "Developer, front-end                           1.043944  0.448185  \n",
       "Developer, full-stack                          1.441475  0.512442  \n",
       "Developer, back-end                            1.604965  0.561922  \n",
       "\n",
       "[23 rows x 74 columns]"
      ]
     },
     "execution_count": 32,
     "metadata": {},
     "output_type": "execute_result"
    }
   ],
   "source": [
    "sorted_roles = df['DevType'].sum().sort_values().index.tolist()\n",
    "sorted_skills = df.drop('DevType', axis=1).sum().sort_values(ascending=False).droplevel(level=0).index.tolist()\n",
    "\n",
    "skills = []\n",
    "\n",
    "# For each role, calculate the percentage of each skill\n",
    "for role in sorted_roles:\n",
    "    # Filter for the role\n",
    "    role_mask = (df[('DevType', role)] == 1)\n",
    "\n",
    "    #For each skill column, calculate mean of the one-hot-encoded -> percentage\n",
    "    skills_role = pd.concat({tech_col: df.loc[role_mask, tech_col].mean() * 100 for tech_col in needed_cols})\n",
    "\n",
    "    # Append to original list\n",
    "    skills.append(skills_role)\n",
    "\n",
    "# Concat and format\n",
    "skills = pd.concat(skills, axis=1)\n",
    "skills.columns = sorted_roles\n",
    "skills = skills.reset_index(level=0, drop=True)\n",
    "skills = skills.loc[sorted_skills]\n",
    "skills = skills.T\n",
    "skills"
   ]
  },
  {
   "cell_type": "code",
   "execution_count": 33,
   "id": "beed36eb",
   "metadata": {},
   "outputs": [
    {
     "data": {
      "application/vnd.plotly.v1+json": {
       "config": {
        "plotlyServerURL": "https://plot.ly"
       },
       "data": [
        {
         "colorscale": [
          [
           0,
           "#000004"
          ],
          [
           0.1111111111111111,
           "#180f3d"
          ],
          [
           0.2222222222222222,
           "#440f76"
          ],
          [
           0.3333333333333333,
           "#721f81"
          ],
          [
           0.4444444444444444,
           "#9e2f7f"
          ],
          [
           0.5555555555555556,
           "#cd4071"
          ],
          [
           0.6666666666666666,
           "#f1605d"
          ],
          [
           0.7777777777777778,
           "#fd9668"
          ],
          [
           0.8888888888888888,
           "#feca8d"
          ],
          [
           1,
           "#fcfdbf"
          ]
         ],
         "type": "heatmap",
         "x": [
          "JavaScript",
          "HTML/CSS",
          "SQL",
          "MySQL",
          "Python",
          "Java",
          "Node.js",
          "Bash/Shell/PowerShell",
          "jQuery",
          "C#",
          "PostgreSQL",
          "Microsoft SQL Server",
          "SQLite",
          "React.js",
          "PHP",
          "TypeScript",
          ".NET",
          "C++",
          "MongoDB",
          "C",
          ".NET Core",
          "Angular",
          "ASP.NET",
          "Redis",
          "Express",
          "MariaDB",
          "Oracle",
          "ASP.NET Core",
          "Vue.js",
          "Firebase",
          "Spring",
          "Angular.js",
          "Elasticsearch",
          "Pandas",
          "Django",
          "Flask",
          "Go",
          "Laravel",
          "TensorFlow",
          "React Native",
          "Kotlin",
          "Unity 3D",
          "Ruby",
          "Assembly",
          "VBA",
          "DynamoDB",
          "Swift",
          "R",
          "Ansible",
          "Ruby on Rails",
          "Rust",
          "Flutter",
          "Teraform",
          "Keras",
          "Cordova",
          "Xamarin",
          "Objective-C",
          "Dart",
          "Apache Spark",
          "Scala",
          "Torch/PyTorch",
          "Symfony",
          "Hadoop",
          "Perl",
          "Gatsby",
          "Cassandra",
          "IBM DB2",
          "Drupal",
          "Unreal Engine",
          "Haskell",
          "Puppet",
          "Couchbase",
          "Chef",
          "Julia"
         ],
         "y": [
          "Marketing or sales professional",
          "Senior executive/VP",
          "Engineer, site reliability",
          "Scientist",
          "Product manager",
          "Engineering manager",
          "Developer, game or graphics",
          "Educator",
          "Academic researcher",
          "Engineer, data",
          "Developer, QA or test",
          "Data scientist or machine learning specialist",
          "Data or business analyst",
          "Developer, embedded applications or devices",
          "System administrator",
          "Designer",
          "Database administrator",
          "DevOps specialist",
          "Developer, mobile",
          "Developer, desktop or enterprise applications",
          "Developer, front-end",
          "Developer, full-stack",
          "Developer, back-end"
         ],
         "ygap": 1,
         "z": [
          [
           71.02803738317756,
           76.63551401869158,
           57.78816199376947,
           61.37071651090342,
           38.62928348909657,
           32.242990654205606,
           41.74454828660436,
           31.15264797507788,
           45.482866043613704,
           25.70093457943925,
           30.062305295950154,
           31.15264797507788,
           32.398753894081,
           26.635514018691588,
           49.06542056074766,
           22.897196261682243,
           26.168224299065418,
           21.339563862928348,
           24.922118380062305,
           21.651090342679126,
           19.003115264797508,
           19.626168224299064,
           19.003115264797508,
           13.239875389408098,
           19.470404984423677,
           23.98753894080997,
           15.732087227414329,
           15.42056074766355,
           18.22429906542056,
           19.470404984423677,
           9.968847352024921,
           16.355140186915886,
           9.968847352024921,
           11.682242990654206,
           15.109034267912772,
           11.993769470404985,
           10.903426791277258,
           18.06853582554517,
           11.838006230529595,
           14.953271028037381,
           9.034267912772584,
           11.059190031152648,
           11.214953271028037,
           9.813084112149532,
           13.862928348909657,
           7.78816199376947,
           10.12461059190031,
           10.43613707165109,
           7.009345794392523,
           9.345794392523365,
           6.230529595015576,
           10.59190031152648,
           5.451713395638629,
           6.074766355140187,
           9.813084112149532,
           8.566978193146417,
           9.345794392523365,
           9.034267912772584,
           6.853582554517133,
           5.451713395638629,
           5.919003115264798,
           9.190031152647975,
           4.8286604361370715,
           7.78816199376947,
           9.034267912772584,
           5.919003115264798,
           5.763239875389408,
           9.968847352024921,
           6.853582554517133,
           4.205607476635514,
           4.517133956386292,
           6.230529595015576,
           4.672897196261682,
           4.049844236760125
          ],
          [
           72.87878787878788,
           69.16666666666667,
           65.07575757575758,
           49.54545454545455,
           45.984848484848484,
           33.33333333333333,
           43.78787878787879,
           44.3939393939394,
           36.43939393939394,
           34.84848484848485,
           45.75757575757576,
           34.54545454545455,
           33.63636363636363,
           31.439393939393938,
           31.515151515151512,
           29.772727272727273,
           28.939393939393938,
           23.636363636363637,
           25.833333333333336,
           23.40909090909091,
           26.136363636363637,
           20.606060606060606,
           20.530303030303028,
           29.393939393939394,
           18.409090909090907,
           22.954545454545457,
           13.712121212121211,
           20.303030303030305,
           19.015151515151516,
           15.757575757575756,
           10.303030303030303,
           15.075757575757576,
           21.59090909090909,
           12.878787878787879,
           13.560606060606062,
           12.727272727272727,
           13.863636363636363,
           12.424242424242424,
           11.363636363636363,
           15.151515151515152,
           9.393939393939393,
           8.787878787878787,
           12.5,
           10.606060606060606,
           10.303030303030303,
           12.727272727272727,
           10.681818181818182,
           6.8181818181818175,
           10.53030303030303,
           10.378787878787879,
           7.954545454545454,
           7.878787878787878,
           9.242424242424242,
           6.4393939393939394,
           8.409090909090908,
           8.93939393939394,
           9.318181818181818,
           7.348484848484849,
           5.681818181818182,
           6.212121212121212,
           5.151515151515151,
           6.666666666666667,
           4.772727272727273,
           8.333333333333332,
           5.227272727272727,
           6.59090909090909,
           5.227272727272727,
           6.0606060606060606,
           4.318181818181818,
           3.4090909090909087,
           4.848484848484849,
           5.227272727272727,
           3.939393939393939,
           2.727272727272727
          ],
          [
           65.87628865979381,
           58.50515463917526,
           61.701030927835056,
           53.76288659793814,
           59.896907216494846,
           39.948453608247426,
           42.628865979381445,
           61.49484536082475,
           30.97938144329897,
           26.134020618556704,
           49.432989690721655,
           28.04123711340206,
           30.77319587628866,
           28.298969072164947,
           28.09278350515464,
           27.010309278350515,
           20.36082474226804,
           21.494845360824744,
           28.60824742268041,
           20.670103092783503,
           19.02061855670103,
           18.04123711340206,
           14.484536082474229,
           40,
           19.329896907216497,
           24.690721649484537,
           12.886597938144329,
           14.896907216494846,
           14.793814432989691,
           10.77319587628866,
           15.206185567010309,
           15.257731958762887,
           33.76288659793815,
           12.216494845360824,
           16.34020618556701,
           20.412371134020617,
           30.20618556701031,
           9.587628865979383,
           8.350515463917525,
           9.742268041237114,
           9.175257731958762,
           6.701030927835052,
           16.391752577319586,
           7.628865979381444,
           6.855670103092784,
           18.402061855670105,
           5.206185567010309,
           5.309278350515464,
           26.134020618556704,
           10.257731958762886,
           11.237113402061857,
           5.927835051546391,
           25.51546391752577,
           4.22680412371134,
           5.103092783505154,
           4.587628865979381,
           4.587628865979381,
           4.278350515463917,
           7.422680412371134,
           7.783505154639175,
           3.865979381443299,
           6.288659793814433,
           6.494845360824743,
           9.845360824742269,
           4.896907216494846,
           8.8659793814433,
           3.711340206185567,
           5.206185567010309,
           3.1443298969072164,
           3.9690721649484533,
           9.278350515463918,
           3.65979381443299,
           8.041237113402062,
           2.0103092783505154
          ],
          [
           48.465963566634706,
           47.02780441035475,
           43.672099712368166,
           39.213806327900286,
           67.68935762224353,
           32.98178331735379,
           25.98274209012464,
           42.42569511025887,
           25.071907957814,
           22.33940556088207,
           31.1601150527325,
           20.949185043144773,
           33.17353787152445,
           17.449664429530202,
           20.086289549376797,
           14.04602109300096,
           19.12751677852349,
           39.83700862895494,
           19.606903163950143,
           34.851390220517736,
           13.422818791946309,
           11.553211888782359,
           11.073825503355705,
           11.84084372003835,
           10.738255033557047,
           14.669223394055608,
           11.984659635666347,
           9.683604985618409,
           9.683604985618409,
           10.354745925215724,
           8.964525407478426,
           9.827420901246404,
           9.491850431447748,
           30.393096836049853,
           14.285714285714285,
           15.771812080536913,
           9.491850431447748,
           6.7114093959731544,
           24.30488974113135,
           7.28667305848514,
           5.944391179290508,
           8.724832214765101,
           7.766059443911794,
           11.601150527325025,
           9.731543624161073,
           5.512943432406519,
           6.2320230105465,
           22.24352828379674,
           6.136145733461169,
           5.704697986577181,
           8.820709491850431,
           5.417066155321189,
           3.883029721955897,
           16.155321188878236,
           4.650047938638543,
           4.410354745925216,
           5.321188878235858,
           3.978906999041227,
           6.85522531160115,
           5.129434324065196,
           12.224352828379674,
           3.883029721955897,
           6.85522531160115,
           6.615532118887824,
           2.924256951102589,
           4.1227229146692235,
           3.4995206136145733,
           3.691275167785235,
           4.026845637583892,
           4.554170661553212,
           2.3010546500479387,
           3.2598274209012463,
           2.1572387344199426,
           5.465004793863854
          ],
          [
           73.00760913095715,
           69.60352422907489,
           63.115738886664,
           52.42290748898678,
           42.01041249499399,
           36.28354024829796,
           42.57108530236284,
           37.48498197837405,
           41.529835802963554,
           34.52142571085302,
           36.72406888265919,
           35.32238686423708,
           34.96195434521426,
           28.55426511814177,
           34.88185822987585,
           28.39407288746496,
           28.994793752503,
           22.947537044453345,
           26.111333600320386,
           20.94513416099319,
           22.3468161794153,
           21.105326391670005,
           20.464557468962756,
           20.50460552663196,
           18.622346816179416,
           20.704845814977972,
           15.618742490989188,
           16.900280336403682,
           16.940328394072885,
           17.22066479775731,
           10.732879455346415,
           15.818982779335203,
           15.93912695234281,
           10.332398878654384,
           12.975570684821786,
           11.17340808970765,
           11.533840608730477,
           12.655186223468162,
           8.970764917901482,
           12.214657589106928,
           9.130957148578293,
           9.010812975570685,
           10.13215859030837,
           7.649179014817781,
           10.492591109331197,
           8.53023628354025,
           10.01201441730076,
           6.888265919102923,
           6.888265919102923,
           7.929515418502203,
           5.206247496996395,
           7.889467360833,
           5.206247496996395,
           3.884661593912695,
           7.8494193031637955,
           7.529034841810173,
           8.049659591509812,
           6.207448938726472,
           4.685622747296756,
           3.2839407288746494,
           3.644373247897477,
           5.967160592711253,
           4.004805766920304,
           5.246295554665599,
           4.805766920304365,
           4.325190228273929,
           3.9247096515818978,
           5.246295554665599,
           3.2038446135362433,
           2.2827392871445733,
           3.0036043251902282,
           3.123748498197837,
           2.643171806167401,
           1.5618742490989186
          ],
          [
           69.34654919236417,
           60.68281938325991,
           60.4258443465492,
           47.09985315712188,
           46.51248164464023,
           37.99559471365639,
           43.4654919236417,
           45.88839941262849,
           30.837004405286343,
           33.33333333333333,
           44.860499265785606,
           32.8928046989721,
           30.726872246696036,
           33.627019089574155,
           26.431718061674008,
           30.066079295154186,
           27.019089574155654,
           23.017621145374452,
           28.524229074889867,
           21.73274596182085,
           23.53157121879589,
           21.292217327459618,
           18.869309838472834,
           32.305433186490454,
           18.68575624082232,
           18.318649045521294,
           14.574155653450807,
           18.355359765051396,
           15.52863436123348,
           13.215859030837004,
           14.4640234948605,
           16.079295154185022,
           25.40381791483113,
           11.380323054331864,
           11.930983847283407,
           13.362701908957417,
           16.409691629955947,
           8.994126284875184,
           9.140969162995596,
           10.38913362701909,
           9.544787077826726,
           7.048458149779736,
           12.812041116005874,
           7.856093979441997,
           6.571218795888399,
           13.876651982378855,
           8.737151248164464,
           5.39647577092511,
           11.490455212922173,
           10.205580029368576,
           7.63582966226138,
           5.469897209985316,
           11.637298091042585,
           3.9647577092511015,
           5.947136563876652,
           5.726872246696035,
           7.599118942731277,
           4.441997063142438,
           6.424375917767988,
           7.085168869309838,
           3.81791483113069,
           5.359765051395008,
           5.8370044052863435,
           6.130690161527165,
           4.809104258443465,
           6.4610866372980915,
           3.81791483113069,
           4.662261380323055,
           2.679882525697504,
           2.679882525697504,
           4.5154185022026425,
           4.001468428781204,
           4.331864904552129,
           1.57856093979442
          ],
          [
           67.22839727500897,
           62.459662961635,
           49.26496952312657,
           48.04589458587307,
           43.85084259591252,
           41.37683757619218,
           41.23341699533883,
           35.353173180351384,
           34.31337396916457,
           53.53173180351381,
           27.321620652563645,
           26.78379347436357,
           33.95482251703119,
           27.142344926496953,
           30.36930799569738,
           28.074578702043745,
           36.966654714951595,
           42.595912513445676,
           24.632484761563283,
           31.33739691645751,
           27.895302975977053,
           18.64467551093582,
           18.60882036572248,
           15.059160989602008,
           17.999282897095732,
           18.142703477949084,
           13.409824309788455,
           16.2782359268555,
           16.134815346002153,
           16.780207959842237,
           9.358192900681248,
           13.553244890641809,
           9.824309788454643,
           7.565435640014343,
           10.254571531014701,
           9.680889207601291,
           10.326281821441377,
           9.5016134815346,
           9.465758336321262,
           12.19074937253496,
           10.039440659734671,
           43.09788454643241,
           8.031552527787737,
           11.939763356041592,
           7.60129078522768,
           6.704912154894227,
           9.788454643241305,
           4.195051989960559,
           4.553603442093941,
           5.808533524560774,
           10.362136966654715,
           8.103262818214414,
           4.051631409107207,
           4.230907135173897,
           7.60129078522768,
           8.246683399067766,
           10.147006095374685,
           6.09537468626748,
           3.1911079239870923,
           3.2628182144137687,
           3.513804230907135,
           4.697024022947293,
           3.04768734313374,
           3.872355683040516,
           3.7289351021871644,
           2.6532807457870207,
           2.6174256005736822,
           3.657224811760488,
           16.098960200788813,
           3.155252778773754,
           2.4022947292936534,
           3.0118321979204015,
           2.007888131946934,
           1.3983506633201863
          ],
          [
           68.4084699453552,
           66.80327868852459,
           56.62568306010929,
           53.85928961748634,
           45.25273224043716,
           39.9931693989071,
           39.58333333333333,
           38.18306010928962,
           37.36338797814208,
           29.57650273224044,
           34.18715846994536,
           28.927595628415297,
           34.80191256830601,
           27.86885245901639,
           32.99180327868852,
           26.331967213114755,
           25.136612021857925,
           27.732240437158467,
           26.400273224043712,
           25.37568306010929,
           18.237704918032787,
           20.32103825136612,
           16.35928961748634,
           16.87158469945355,
           18.954918032786885,
           21.311475409836063,
           15.881147540983607,
           13.866120218579233,
           15.23224043715847,
           16.188524590163937,
           13.524590163934427,
           14.685792349726775,
           12.295081967213115,
           12.978142076502733,
           13.114754098360656,
           12.09016393442623,
           9.084699453551913,
           11.441256830601093,
           10.758196721311474,
           11.441256830601093,
           9.870218579234972,
           9.426229508196721,
           8.777322404371585,
           9.562841530054644,
           8.435792349726775,
           6.796448087431695,
           6.864754098360656,
           9.221311475409836,
           6.762295081967213,
           6.4890710382513666,
           5.669398907103825,
           7.41120218579235,
           4.67896174863388,
           5.532786885245901,
           7.035519125683059,
           5.942622950819672,
           5.976775956284152,
           5.601092896174864,
           4.5423497267759565,
           4.132513661202186,
           4.337431693989071,
           5.498633879781421,
           3.927595628415301,
           5.669398907103825,
           4.474043715846995,
           3.5177595628415297,
           3.790983606557377,
           4.67896174863388,
           3.3811475409836067,
           4.200819672131147,
           2.8346994535519126,
           2.7663934426229506,
           2.288251366120219,
           2.185792349726776
          ],
          [
           54.19481981981982,
           53.46283783783784,
           46.70608108108108,
           47.015765765765764,
           59.03716216216216,
           39.86486486486486,
           28.29391891891892,
           36.76801801801802,
           29.898648648648653,
           24.239864864864867,
           30.236486486486484,
           22.804054054054053,
           32.74211711711711,
           18.86261261261261,
           25.788288288288285,
           15.79391891891892,
           19.98873873873874,
           36.76801801801802,
           23.170045045045047,
           33.164414414414416,
           13.65427927927928,
           15.118243243243242,
           13.034909909909908,
           12.443693693693694,
           11.79617117117117,
           16.019144144144143,
           13.56981981981982,
           9.628378378378379,
           11.233108108108109,
           12.528153153153154,
           11.120495495495495,
           11.683558558558559,
           9.90990990990991,
           25.11261261261261,
           13.992117117117116,
           14.076576576576578,
           7.85472972972973,
           9.121621621621621,
           19.90427927927928,
           7.573198198198199,
           6.587837837837837,
           7.882882882882883,
           6.925675675675675,
           10.838963963963964,
           7.967342342342343,
           4.5608108108108105,
           5.63063063063063,
           17.989864864864867,
           4.842342342342342,
           5.405405405405405,
           6.78490990990991,
           5.574324324324325,
           3.0968468468468466,
           13.147522522522523,
           5.123873873873873,
           4.391891891891892,
           4.870495495495495,
           4.110360360360361,
           6.221846846846847,
           4.983108108108108,
           10.022522522522523,
           3.350225225225225,
           5.79954954954955,
           5.405405405405405,
           2.5337837837837838,
           3.800675675675676,
           3.040540540540541,
           3.2939189189189184,
           2.956081081081081,
           4.504504504504505,
           2.1114864864864864,
           2.505630630630631,
           1.5202702702702704,
           4.335585585585585
          ],
          [
           56.90208667736758,
           52.59497057249867,
           67.1749598715891,
           49.67897271268058,
           65.08828250401284,
           40.44943820224719,
           31.942215088282506,
           43.90048154093098,
           29.507758159443554,
           26.64526484751204,
           44.0342429106474,
           34.4836811128946,
           32.102728731942214,
           21.187800963081862,
           22.953451043338685,
           18.432316746923487,
           21.74959871589085,
           23.809523809523807,
           27.314071696094167,
           22.98020331728197,
           16.934189406099517,
           15.302300695559124,
           14.526484751203853,
           21.910112359550563,
           13.456393793472445,
           16.613162118780096,
           18.726591760299627,
           12.413055109684324,
           11.985018726591761,
           11.20920278223649,
           14.018191546281432,
           12.867843766720172,
           20.278223649010165,
           32.530765115034775,
           16.559657570893528,
           22.364901016586412,
           11.797752808988763,
           7.784911717495987,
           17.415730337078653,
           7.410379882289994,
           6.71482075976458,
           6.821829855537722,
           7.811663991439273,
           7.2766185125735685,
           11.15569823434992,
           10.112359550561797,
           4.628143392188336,
           13.857677902621724,
           8.507223113964688,
           5.591225254146603,
           5.858747993579454,
           4.574638844301766,
           8.801498127340825,
           10.914927768860354,
           4.5211342964151955,
           4.735152487961477,
           4.360620652755484,
           3.2370251471375067,
           17.46923488496522,
           12.680577849117174,
           8.079186730872125,
           4.226859283039058,
           14.686998394863563,
           5.778491171749598,
           2.7822364901016585,
           7.490636704119851,
           4.333868378812198,
           3.210272873194221,
           2.701979668271803,
           2.8357410379882286,
           2.8089887640449436,
           3.504547886570358,
           2.354200107009096,
           2.247191011235955
          ],
          [
           71.54801114770713,
           67.24094248796554,
           63.38991639219661,
           52.52090195084874,
           44.210793007347355,
           43.374714973397516,
           40.689130985558656,
           42.386622751456805,
           38.484925259690904,
           38.3582467696985,
           33.18976437800861,
           35.39397010387636,
           31.59361540410438,
           25.918419052444897,
           30.833544464149988,
           27.793260704332408,
           31.5682797061059,
           23.43552064859387,
           24.423612870534583,
           21.560678996706358,
           24.220927286546747,
           22.194071446668357,
           21.28198631872308,
           17.329617430960223,
           16.18951102102863,
           19.50848745882949,
           18.267038256903977,
           18.191031162908537,
           15.150747403090955,
           13.757284013174562,
           14.694704839118316,
           17.101596148973904,
           15.252090195084875,
           8.538130225487713,
           11.147707119331137,
           10.61565746136306,
           10.134279199391944,
           11.147707119331137,
           6.764631365594122,
           9.095515581454269,
           8.79148720547251,
           8.71548011147707,
           9.602229541423867,
           6.865974157588041,
           8.99417278946035,
           7.575373701545478,
           6.6632885736002025,
           4.079047377755257,
           7.347352419559158,
           6.435267291613885,
           5.117810995692931,
           5.4218393716746895,
           5.573853559665569,
           2.837598175829744,
           6.485938687610844,
           6.257917405624525,
           5.649860653661008,
           4.155054471750697,
           3.749683303775019,
           3.775019001773499,
           2.5842411958449456,
           5.092475297694452,
           3.2936407398023815,
           5.903217633645807,
           3.014948061819103,
           3.4709906257917407,
           3.7243476057765394,
           4.4590828477324544,
           3.166962249809982,
           2.2802128198631872,
           3.2176336458069423,
           2.5842411958449456,
           2.482898403851026,
           1.3681276919179122
          ],
          [
           48.26980942828485,
           48.24473420260782,
           58.45035105315948,
           46.26379137412236,
           78.33500501504514,
           35.05516549648947,
           25.651955867602812,
           39.56870611835506,
           24.172517552657975,
           21.339017051153462,
           39.1173520561685,
           27.256770310932797,
           33.45035105315948,
           18.756268806419257,
           18.004012036108325,
           13.99197592778335,
           17.201604814443332,
           29.789368104312942,
           25.827482447342025,
           25.050150451354064,
           13.440320962888666,
           12.637913741223672,
           11.158475426278837,
           15.220661985957873,
           10.782347041123371,
           13.665997993981946,
           16.098294884653964,
           9.378134403209629,
           9.829488465396189,
           9.954864593781345,
           9.553660982948847,
           10.75727181544634,
           15.57171514543631,
           50.075225677031085,
           19.132397191574725,
           26.4543630892678,
           9.553660982948847,
           6.218655967903711,
           37.938816449348046,
           7.246740220661986,
           5.917753259779338,
           6.64493480441324,
           6.41925777331996,
           7.5225677031093285,
           9.327983951855568,
           7.096288866599799,
           4.689067201604814,
           27.632898696088265,
           6.093279839518555,
           4.663991975927784,
           6.218655967903711,
           4.789368104312939,
           5.1654964894684054,
           27.256770310932797,
           3.7612838515546643,
           3.5857572718154462,
           3.8114343029087263,
           3.3600802407221666,
           15.697091273821465,
           8.375125376128386,
           19.834503510531594,
           2.8084252758274824,
           12.963891675025074,
           4.413239719157472,
           2.683049147442327,
           5.441323971915748,
           3.786359077231695,
           2.8335005015045134,
           2.7582748244734203,
           3.6609829488465397,
           2.432296890672016,
           2.3570712136409226,
           2.0812437311935805,
           4.237713139418255
          ],
          [
           57.55467196819085,
           58.97117296222664,
           73.45924453280318,
           49.6520874751491,
           53.23061630218688,
           31.088469184890656,
           27.907554671968192,
           34.69184890656064,
           33.64811133200795,
           31.6351888667992,
           34.09542743538768,
           45.80019880715705,
           30.66600397614314,
           17.2713717693837,
           25.894632206759443,
           16.84890656063618,
           28.45427435387674,
           18.961232604373755,
           19.905566600397613,
           17.544731610337973,
           19.25944333996024,
           14.48807157057654,
           20.601391650099405,
           11.928429423459244,
           10.636182902584492,
           16.575546719681906,
           22.39065606361829,
           15.283300198807156,
           10.43737574552684,
           9.542743538767395,
           8.722664015904574,
           12.226640159045726,
           11.456262425447317,
           26.988071570576537,
           13.543737574552683,
           14.41351888667992,
           6.312127236580517,
           8.623260437375746,
           13.643141153081512,
           6.535785288270378,
           4.920477137176938,
           5.193836978131213,
           6.163021868787276,
           5.8399602385685885,
           18.961232604373755,
           5.666003976143141,
           4.150099403578529,
           18.93638170974155,
           4.52286282306163,
           4.920477137176938,
           3.354870775347912,
           4.398608349900597,
           3.354870775347912,
           7.75347912524851,
           4.796222664015905,
           5.318091451292246,
           3.6779324055666,
           3.1560636182902586,
           8.499005964214712,
           4.473161033797217,
           5.790258449304175,
           3.6530815109343937,
           7.952286282306163,
           4.970178926441352,
           2.261431411530815,
           3.5288270377733597,
           5.5168986083499005,
           3.8270377733598413,
           2.0129224652087476,
           2.360834990059642,
           2.3111332007952288,
           2.3856858846918487,
           1.9880715705765408,
           1.8638170974155068
          ],
          [
           58.37894736842105,
           54.10526315789473,
           49.55789473684211,
           45.03157894736842,
           50.27368421052631,
           39.83157894736842,
           34,
           43.97894736842105,
           30.484210526315792,
           38.33684210526316,
           29.957894736842107,
           30.589473684210528,
           38.821052631578944,
           19.747368421052634,
           25.157894736842106,
           22.526315789473685,
           32.61052631578947,
           47.473684210526315,
           20.968421052631577,
           47.89473684210526,
           24.08421052631579,
           18.821052631578947,
           19.11578947368421,
           14.526315789473685,
           13.094736842105261,
           17.49473684210526,
           15.073684210526316,
           16.568421052631578,
           12.021052631578948,
           13.368421052631579,
           10.505263157894737,
           14.547368421052632,
           10.042105263157895,
           9.284210526315789,
           10.547368421052632,
           10.821052631578947,
           10.778947368421052,
           8.063157894736841,
           10.442105263157893,
           9.178947368421053,
           9.284210526315789,
           10.063157894736841,
           7.178947368421053,
           15.389473684210525,
           9.494736842105263,
           6.421052631578947,
           9.263157894736842,
           4.378947368421052,
           5.747368421052632,
           4.905263157894737,
           9.031578947368422,
           7.178947368421053,
           3.4526315789473685,
           4.757894736842106,
           7.284210526315789,
           9.010526315789473,
           8.715789473684211,
           5.663157894736842,
           3.494736842105263,
           3.136842105263158,
           3.8947368421052633,
           3.7263157894736847,
           3.0947368421052635,
           5.6421052631578945,
           2.4842105263157896,
           3.663157894736842,
           3.494736842105263,
           2.926315789473684,
           3.7894736842105265,
           2.863157894736842,
           2.168421052631579,
           2.8000000000000003,
           1.831578947368421,
           1.263157894736842
          ],
          [
           71.04158718046547,
           69.49637542922548,
           68.14193056085463,
           57.535291873330785,
           50.91568103777184,
           35.80694391453644,
           38.744753910721094,
           54.94086226631056,
           41.26287676459366,
           31.896222815719188,
           40.499809233117126,
           35.23464326592903,
           35.12018313620756,
           22.128958412819536,
           39.75581838992751,
           23.52155665776421,
           26.955360549408624,
           23.61694009919878,
           23.712323540633346,
           23.998473864937047,
           19.896985883250668,
           17.798550171690195,
           18.06562380770698,
           23.73140022892026,
           15.566577642121327,
           31.55284242655475,
           15.261350629530712,
           14.6699732926364,
           16.19610835558947,
           10.282334986646319,
           9.786341091186571,
           13.620755436856161,
           17.3788630293781,
           9.462037390309042,
           14.498283098054177,
           13.639832125143075,
           13.964135826020602,
           12.361694009919878,
           7.058374666157954,
           7.458985120183136,
           6.447920640976726,
           7.954979015642884,
           10.511255246089279,
           8.393742846241894,
           10.702022128958413,
           7.039297977871041,
           5.322396032048837,
           5.207935902327356,
           15.070583746661578,
           6.75314765356734,
           7.306371613887828,
           5.265165967188096,
           9.080503624570776,
           3.0331934376192295,
           5.990080122090805,
           5.589469668065624,
           4.425791682563907,
           4.101487981686379,
           4.120564669973293,
           3.452880579931324,
           2.918733307897749,
           6.447920640976726,
           3.6818008393742843,
           8.260206028233497,
           2.861503243037009,
           4.311331552842427,
           3.719954215948111,
           5.11255246089279,
           3.4147272033574967,
           2.708889736741702,
           5.0362457077451355,
           2.689813048454788,
           3.5864173979397176,
           1.2590614269362839
          ],
          [
           75.98195827851907,
           74.87314414583724,
           58.804735951888745,
           55.19639165570381,
           35.951888742717536,
           35.89550836308965,
           41.890622063521896,
           30.182296560796846,
           45.74328133809434,
           35.08738958842323,
           25.803420409697424,
           32.77579402367976,
           29.900394662657398,
           29.017102048487125,
           37.981582409321554,
           27.870700996053372,
           29.24262356699868,
           24.130802480736705,
           23.003194888178914,
           22.533358391279833,
           19.921067468520956,
           22.834053749295244,
           20.710392783311406,
           11.445217064461568,
           18.248449539560234,
           18.53035143769968,
           15.260289419282088,
           14.809246382258973,
           17.308776545762075,
           16.500657771095657,
           9.302762638601767,
           16.93290734824281,
           8.851719601578651,
           6.483743657207292,
           10.129674873144145,
           7.83687276827664,
           6.558917496711144,
           12.666791956399173,
           6.107874459688029,
           11.069347866942305,
           7.103927833114076,
           10.467957150911483,
           6.840819394850592,
           7.0287539936102235,
           9.528284157113324,
           4.999060327006202,
           7.479797030633339,
           4.491636910355196,
           3.7398985153166695,
           5.299755685021613,
           3.6083442961849275,
           6.897199774478481,
           2.3491824844953957,
           2.180041345611727,
           6.9723736139823345,
           6.29580905844766,
           5.713211802292802,
           4.961473407254275,
           2.837812441270438,
           1.8793459875963165,
           2.405562864123285,
           4.134561172711896,
           2.499530163503101,
           4.134561172711896,
           4.698364968990791,
           2.5559105431309903,
           3.4579966171772227,
           4.773538808494644,
           4.021800413456117,
           1.935726367224206,
           2.161247885735764,
           2.2364217252396164,
           1.5410637098289794,
           0.9208795339221951
          ],
          [
           74.27472911569382,
           73.06885704299197,
           80.07689619014332,
           59.402306885704306,
           42.24047535826634,
           35.04019573575673,
           38.67528836071304,
           43.411394617266694,
           47.6581614819993,
           40.38797623208668,
           37.189793778399164,
           46.01537923802866,
           32.52359314924851,
           22.859140160782943,
           41.50646627053477,
           24.23977630199231,
           35.389723872771754,
           20.447396015379237,
           23.593149248514507,
           19.18909472212513,
           25.09612023767913,
           19.64348130024467,
           26.82628451590353,
           19.975533030408947,
           15.798671793079343,
           27.455435162530584,
           18.175463124781547,
           20.027962250961203,
           16.58511010136316,
           12.320866829779797,
           9.664452988465571,
           16.07829430269137,
           14.872422229989516,
           10.013981125480601,
           12.111149947570778,
           11.464522894092974,
           10.013981125480601,
           15.379238028661307,
           6.850751485494583,
           9.140160782943028,
           6.291506466270534,
           7.462425725270884,
           7.444949318420132,
           6.850751485494583,
           13.491786088780147,
           6.815798671793079,
           5.924501922404754,
           6.274030059419783,
           8.091576371897938,
           5.522544564837469,
           4.526389374344634,
           5.522544564837469,
           5.312827682628452,
           2.883607130373995,
           6.780845858091576,
           7.3051380636141205,
           5.173016427822439,
           4.229290457881859,
           4.2642432715833625,
           3.0408947920307585,
           2.7962250961202377,
           6.256553652569032,
           3.862285914016078,
           6.23907724571828,
           2.778748689269486,
           3.670045438657812,
           4.037049982523593,
           4.596295001747641,
           2.6738902481649776,
           2.009786787836421,
           2.9010835372247463,
           2.6389374344634744,
           2.2719328905976934,
           0.9262495630898288
          ],
          [
           70.29653208242587,
           62.70732115932317,
           63.05913888423521,
           48.4335734628916,
           51.76746523705813,
           38.43189814039202,
           43.457865639135534,
           58.68654716032836,
           33.690735466577316,
           35.13151281621712,
           45.04942201373765,
           35.91891439102027,
           29.88775339252806,
           28.76528731780868,
           26.553861618361534,
           32.166191991958456,
           28.7987937678003,
           18.26101524543475,
           29.38515664265371,
           17.574133020606467,
           26.687887418328028,
           23.370748869157314,
           20.924778019768805,
           32.83632099179092,
           18.445300720388673,
           23.203216619199196,
           15.831797621042051,
           22.04724409448819,
           16.736471770815882,
           10.956609147260847,
           16.334394370916403,
           15.412966996146757,
           27.00619869324845,
           10.722063997319484,
           13.63712514659072,
           15.915563746021109,
           19.919584520020102,
           9.130507622717374,
           7.823756073044061,
           8.828949572792762,
           8.175573797956107,
           6.13168034846708,
           12.079075221980231,
           5.327525548668119,
           5.8803819735299045,
           13.838163846540457,
           4.891941698777014,
           4.288825598927794,
           20.857765119785558,
           7.287652873178087,
           7.321159323169709,
           4.875188473781203,
           17.440107220639973,
           3.7862288490534426,
           5.763109398559223,
           5.394538448651366,
           4.087786898978053,
           3.7694756240576313,
           5.243759423689061,
           5.411291673647177,
           2.680515999329871,
           5.428044898642989,
           4.741162673814709,
           6.349472273412632,
           3.886748199028313,
           5.846875523538281,
           3.668956274082761,
           3.886748199028313,
           2.0606466744848384,
           2.4794772993801306,
           5.712849723571788,
           3.5349304741162673,
           5.277265873680684,
           0.9884402747528899
          ],
          [
           66.64205863741827,
           60.69394642480489,
           50.28475005273149,
           50.34802784222738,
           31.195950221472263,
           49.44104619278633,
           40.82472052309639,
           26.323560430288968,
           33.769246994305,
           34.09618224003375,
           27.54693102720945,
           28.11643113267243,
           43.35583210293187,
           30.24678337903396,
           29.339801729592914,
           29.962033326302468,
           26.102088167053367,
           22.51634676228644,
           25.079097236869856,
           19.521198059481122,
           20.702383463404345,
           22.54798565703438,
           18.519299725796245,
           14.047669268086901,
           19.721577726218097,
           15.85108626871968,
           12.507909723686986,
           15.977641847711455,
           13.636363636363635,
           28.685931238135414,
           11.970048512971946,
           14.764817549040288,
           9.586585108626872,
           5.526260282640793,
           9.20691837165155,
           7.456232862265345,
           7.4035013710187725,
           11.0630668635309,
           7.034380932292765,
           19.700485129719468,
           20.934402024889266,
           11.126344653026788,
           7.087112423539338,
           5.357519510651762,
           5.389158405399705,
           6.116852984602405,
           21.145327989875554,
           2.963509808057372,
           3.0478801940518876,
           5.199325036912044,
           3.4591858257751533,
           14.226956338325248,
           2.858046825564227,
           2.815861632566969,
           11.020881670533642,
           11.569289179497996,
           14.923012022780005,
           11.27399282851719,
           2.1619911411094703,
           2.214722632356043,
           2.0987133516135836,
           3.627926597764185,
           1.9510651761231808,
           2.4151022990930184,
           3.3748154397806367,
           2.27800042185193,
           2.2041763341067284,
           2.7736764395697113,
           3.290445053786121,
           1.4975743514026576,
           1.4975743514026576,
           2.3096393165998736,
           1.0651761231807635,
           0.5484075089643535
          ],
          [
           65.69925322471147,
           61.31194840461644,
           62.02477936184657,
           43.73727087576375,
           36.10828241683639,
           40.73319755600815,
           33.71520706042091,
           36.21011541072641,
           35.429395790902916,
           51.332315003394434,
           29.14969450101833,
           45.13747454175153,
           31.551255940257978,
           21.452817379497624,
           22.174134419551937,
           28.301086218601494,
           45.58723693143245,
           28.131364562118126,
           20.38357094365241,
           22.87847929395791,
           33.29938900203666,
           22.284453496266124,
           28.615071283095723,
           13.441955193482688,
           12.81398506449423,
           14.850644942294636,
           20.08655804480652,
           25.19517990495587,
           11.617447386286491,
           10.140868974881196,
           15.08825526137135,
           14.867617107942973,
           11.074338085539715,
           6.916157501697216,
           7.781737949762389,
           7.73082145281738,
           7.909029192124915,
           6.839782756279702,
           5.872369314324508,
           7.4168363883231505,
           6.907671418873049,
           8.630346232179226,
           5.337746096401901,
           6.737949762389681,
           10.123896809232859,
           5.18499660556687,
           5.762050237610318,
           3.63204344874406,
           4.2175831636116765,
           3.513238289205703,
           5.371690427698574,
           4.760692464358452,
           3.250169721656483,
           2.6391717583163614,
           5.609300746775289,
           8.621860149355058,
           5.066191446028514,
           3.699932111337407,
           2.842837746096402,
           3.054989816700611,
           2.096062457569586,
           2.842837746096402,
           2.6476578411405294,
           3.699932111337407,
           1.8584521384928716,
           2.7155465037338766,
           3.920570264765784,
           2.3167006109979633,
           2.774949083503055,
           1.8499660556687034,
           1.7566191446028514,
           2.197895451459606,
           1.2983706720977597,
           0.721317040054311
          ],
          [
           84.0128989943157,
           78.31219938784434,
           56.394840402273715,
           50.841714035854835,
           31.29645824223874,
           33.728683865325756,
           49.36051595977263,
           29.334280717096632,
           43.56689986882379,
           33.542850896370794,
           30.908395277656318,
           31.383909051158724,
           25.912767818102317,
           40.10712724092698,
           32.624617402710975,
           39.0194578049847,
           27.169873196327067,
           16.04722343681679,
           26.929383471797113,
           14.675338871884566,
           21.523830345430696,
           28.377787494534324,
           20.529077393965895,
           16.40249234805422,
           23.048753825972888,
           16.708570179274158,
           13.609532138172279,
           17.539352864013992,
           19.266506340183646,
           15.828596414516834,
           11.636423261915173,
           18.03126366418889,
           11.368605159597726,
           5.596851770878881,
           9.368167905553126,
           7.804984696108439,
           7.542632269348491,
           11.472452995190205,
           5.0120244862264975,
           12.762352426759948,
           6.711849584608657,
           7.362264975951027,
           7.25295146480105,
           3.9735461303017057,
           6.3456493222562305,
           6.006777437691299,
           5.875601224311325,
           2.9514648010494096,
           3.9516834280717097,
           5.711630957586357,
           3.8860953213817226,
           5.728027984258855,
           3.219282903366856,
           2.1425448185395717,
           7.1217752514210755,
           5.378224748578924,
           4.328815041539134,
           4.394403148229121,
           2.04962833406209,
           2.295583734149541,
           1.5686488850021865,
           4.257761259291649,
           1.7654132050721467,
           2.6125929164844774,
           5.329033668561435,
           2.109750765194578,
           2.3611718408395275,
           3.4707039790118057,
           2.104285089637079,
           1.6178399650196764,
           1.579580236117184,
           1.8419326628771315,
           1.0439440314822912,
           0.4481853957149104
          ],
          [
           81.99078341013825,
           73.78433179723503,
           62.046082949308754,
           50.22672811059908,
           36.20276497695853,
           36.781566820276495,
           47.34009216589862,
           33.500460829493086,
           42.08663594470046,
           36.37603686635945,
           36.022119815668205,
           34.82764976958526,
           26.392626728110596,
           36.22857142857143,
           30.311520737327193,
           37.235023041474655,
           29.423041474654376,
           16.250691244239633,
           27.188940092165897,
           14.422119815668202,
           24.287557603686636,
           26.70230414746544,
           22.55115207373272,
           20.903225806451616,
           21.92442396313364,
           17.142857142857142,
           14.816589861751153,
           20.468202764976958,
           18.001843317972348,
           13.12442396313364,
           14.975115207373271,
           16.94377880184332,
           14.381566820276499,
           7.498617511520737,
           10.665437788018433,
           10.031336405529954,
           9.209216589861752,
           11.163133640552996,
           5.7695852534562215,
           10.694930875576036,
           6.705990783410138,
           6.473732718894009,
           8.468202764976958,
           3.845161290322581,
           5.776958525345622,
           7.472811059907834,
           4.836866359447005,
           3.288479262672811,
           5.393548387096774,
           6.731797235023042,
           4.497695852534562,
           5.172350230414747,
           4.748387096774193,
           2.6764976958525346,
           6.016589861751152,
           5.131797235023042,
           3.44331797235023,
           3.911520737327189,
           2.790783410138249,
           3.1889400921658986,
           1.9649769585253458,
           4.313364055299539,
           2.3483870967741938,
           2.8829493087557605,
           4.1732718894009215,
           2.79815668202765,
           2.647004608294931,
           3.0414746543778803,
           1.824884792626728,
           1.6921658986175117,
           1.7253456221198158,
           1.9944700460829492,
           1.4414746543778802,
           0.5124423963133641
          ],
          [
           69.39180255619215,
           61.38901131188482,
           61.37432055237255,
           49.397678859997065,
           39.86704862641399,
           39.848685177023654,
           37.55692669311003,
           35.71323637432055,
           35.54796532980755,
           34.023799030409876,
           36.95093286322903,
           32.90362861759953,
           27.03099750257088,
           26.23402379903041,
           28.14382253562509,
           27.838989275745558,
           27.725135889525486,
           19.244894961069487,
           24.63273101219333,
           17.17349786983987,
           22.62009695901278,
           20.761715880711034,
           19.861906860584693,
           21.77537828705744,
           16.203907742030264,
           17.412222711914204,
           15.715439988247393,
           18.168796826795948,
           14.297781695313647,
           10.78301748200382,
           16.369178786543266,
           13.478771852504776,
           16.101072425444396,
           8.939327163214337,
           11.223740267371824,
           11.10621419127369,
           11.146613779932423,
           10.327603937123548,
           6.335390039665051,
           7.973409725282797,
           7.271925958572058,
           6.217863963566916,
           7.988100484795065,
           4.745115322462171,
           5.718378140149846,
           7.841192889672397,
           4.539444689290437,
           3.5735272513588954,
           6.691640957837521,
           5.935066842955781,
           5.417217570148377,
           4.392537094167769,
           5.79183193771118,
           3.114441016600558,
           4.712061113559571,
           4.7157338034376375,
           3.400910827089761,
           3.4045835169678274,
           3.926105479653298,
           4.631261936242104,
           2.2770677244013515,
           4.381519024533569,
           3.3127662700161595,
           3.514764213309828,
           2.6516820919641546,
           3.782870574408697,
           2.743499338915822,
           2.7030997502570884,
           1.7775819009842808,
           2.0016159835463494,
           1.9869252240340824,
           2.0603790215954163,
           1.604965476715146,
           0.5619215513442045
          ]
         ]
        }
       ],
       "layout": {
        "height": 800,
        "template": {
         "data": {
          "bar": [
           {
            "error_x": {
             "color": "#2a3f5f"
            },
            "error_y": {
             "color": "#2a3f5f"
            },
            "marker": {
             "line": {
              "color": "#E5ECF6",
              "width": 0.5
             },
             "pattern": {
              "fillmode": "overlay",
              "size": 10,
              "solidity": 0.2
             }
            },
            "type": "bar"
           }
          ],
          "barpolar": [
           {
            "marker": {
             "line": {
              "color": "#E5ECF6",
              "width": 0.5
             },
             "pattern": {
              "fillmode": "overlay",
              "size": 10,
              "solidity": 0.2
             }
            },
            "type": "barpolar"
           }
          ],
          "carpet": [
           {
            "aaxis": {
             "endlinecolor": "#2a3f5f",
             "gridcolor": "white",
             "linecolor": "white",
             "minorgridcolor": "white",
             "startlinecolor": "#2a3f5f"
            },
            "baxis": {
             "endlinecolor": "#2a3f5f",
             "gridcolor": "white",
             "linecolor": "white",
             "minorgridcolor": "white",
             "startlinecolor": "#2a3f5f"
            },
            "type": "carpet"
           }
          ],
          "choropleth": [
           {
            "colorbar": {
             "outlinewidth": 0,
             "ticks": ""
            },
            "type": "choropleth"
           }
          ],
          "contour": [
           {
            "colorbar": {
             "outlinewidth": 0,
             "ticks": ""
            },
            "colorscale": [
             [
              0,
              "#0d0887"
             ],
             [
              0.1111111111111111,
              "#46039f"
             ],
             [
              0.2222222222222222,
              "#7201a8"
             ],
             [
              0.3333333333333333,
              "#9c179e"
             ],
             [
              0.4444444444444444,
              "#bd3786"
             ],
             [
              0.5555555555555556,
              "#d8576b"
             ],
             [
              0.6666666666666666,
              "#ed7953"
             ],
             [
              0.7777777777777778,
              "#fb9f3a"
             ],
             [
              0.8888888888888888,
              "#fdca26"
             ],
             [
              1,
              "#f0f921"
             ]
            ],
            "type": "contour"
           }
          ],
          "contourcarpet": [
           {
            "colorbar": {
             "outlinewidth": 0,
             "ticks": ""
            },
            "type": "contourcarpet"
           }
          ],
          "heatmap": [
           {
            "colorbar": {
             "outlinewidth": 0,
             "ticks": ""
            },
            "colorscale": [
             [
              0,
              "#0d0887"
             ],
             [
              0.1111111111111111,
              "#46039f"
             ],
             [
              0.2222222222222222,
              "#7201a8"
             ],
             [
              0.3333333333333333,
              "#9c179e"
             ],
             [
              0.4444444444444444,
              "#bd3786"
             ],
             [
              0.5555555555555556,
              "#d8576b"
             ],
             [
              0.6666666666666666,
              "#ed7953"
             ],
             [
              0.7777777777777778,
              "#fb9f3a"
             ],
             [
              0.8888888888888888,
              "#fdca26"
             ],
             [
              1,
              "#f0f921"
             ]
            ],
            "type": "heatmap"
           }
          ],
          "heatmapgl": [
           {
            "colorbar": {
             "outlinewidth": 0,
             "ticks": ""
            },
            "colorscale": [
             [
              0,
              "#0d0887"
             ],
             [
              0.1111111111111111,
              "#46039f"
             ],
             [
              0.2222222222222222,
              "#7201a8"
             ],
             [
              0.3333333333333333,
              "#9c179e"
             ],
             [
              0.4444444444444444,
              "#bd3786"
             ],
             [
              0.5555555555555556,
              "#d8576b"
             ],
             [
              0.6666666666666666,
              "#ed7953"
             ],
             [
              0.7777777777777778,
              "#fb9f3a"
             ],
             [
              0.8888888888888888,
              "#fdca26"
             ],
             [
              1,
              "#f0f921"
             ]
            ],
            "type": "heatmapgl"
           }
          ],
          "histogram": [
           {
            "marker": {
             "pattern": {
              "fillmode": "overlay",
              "size": 10,
              "solidity": 0.2
             }
            },
            "type": "histogram"
           }
          ],
          "histogram2d": [
           {
            "colorbar": {
             "outlinewidth": 0,
             "ticks": ""
            },
            "colorscale": [
             [
              0,
              "#0d0887"
             ],
             [
              0.1111111111111111,
              "#46039f"
             ],
             [
              0.2222222222222222,
              "#7201a8"
             ],
             [
              0.3333333333333333,
              "#9c179e"
             ],
             [
              0.4444444444444444,
              "#bd3786"
             ],
             [
              0.5555555555555556,
              "#d8576b"
             ],
             [
              0.6666666666666666,
              "#ed7953"
             ],
             [
              0.7777777777777778,
              "#fb9f3a"
             ],
             [
              0.8888888888888888,
              "#fdca26"
             ],
             [
              1,
              "#f0f921"
             ]
            ],
            "type": "histogram2d"
           }
          ],
          "histogram2dcontour": [
           {
            "colorbar": {
             "outlinewidth": 0,
             "ticks": ""
            },
            "colorscale": [
             [
              0,
              "#0d0887"
             ],
             [
              0.1111111111111111,
              "#46039f"
             ],
             [
              0.2222222222222222,
              "#7201a8"
             ],
             [
              0.3333333333333333,
              "#9c179e"
             ],
             [
              0.4444444444444444,
              "#bd3786"
             ],
             [
              0.5555555555555556,
              "#d8576b"
             ],
             [
              0.6666666666666666,
              "#ed7953"
             ],
             [
              0.7777777777777778,
              "#fb9f3a"
             ],
             [
              0.8888888888888888,
              "#fdca26"
             ],
             [
              1,
              "#f0f921"
             ]
            ],
            "type": "histogram2dcontour"
           }
          ],
          "mesh3d": [
           {
            "colorbar": {
             "outlinewidth": 0,
             "ticks": ""
            },
            "type": "mesh3d"
           }
          ],
          "parcoords": [
           {
            "line": {
             "colorbar": {
              "outlinewidth": 0,
              "ticks": ""
             }
            },
            "type": "parcoords"
           }
          ],
          "pie": [
           {
            "automargin": true,
            "type": "pie"
           }
          ],
          "scatter": [
           {
            "fillpattern": {
             "fillmode": "overlay",
             "size": 10,
             "solidity": 0.2
            },
            "type": "scatter"
           }
          ],
          "scatter3d": [
           {
            "line": {
             "colorbar": {
              "outlinewidth": 0,
              "ticks": ""
             }
            },
            "marker": {
             "colorbar": {
              "outlinewidth": 0,
              "ticks": ""
             }
            },
            "type": "scatter3d"
           }
          ],
          "scattercarpet": [
           {
            "marker": {
             "colorbar": {
              "outlinewidth": 0,
              "ticks": ""
             }
            },
            "type": "scattercarpet"
           }
          ],
          "scattergeo": [
           {
            "marker": {
             "colorbar": {
              "outlinewidth": 0,
              "ticks": ""
             }
            },
            "type": "scattergeo"
           }
          ],
          "scattergl": [
           {
            "marker": {
             "colorbar": {
              "outlinewidth": 0,
              "ticks": ""
             }
            },
            "type": "scattergl"
           }
          ],
          "scattermapbox": [
           {
            "marker": {
             "colorbar": {
              "outlinewidth": 0,
              "ticks": ""
             }
            },
            "type": "scattermapbox"
           }
          ],
          "scatterpolar": [
           {
            "marker": {
             "colorbar": {
              "outlinewidth": 0,
              "ticks": ""
             }
            },
            "type": "scatterpolar"
           }
          ],
          "scatterpolargl": [
           {
            "marker": {
             "colorbar": {
              "outlinewidth": 0,
              "ticks": ""
             }
            },
            "type": "scatterpolargl"
           }
          ],
          "scatterternary": [
           {
            "marker": {
             "colorbar": {
              "outlinewidth": 0,
              "ticks": ""
             }
            },
            "type": "scatterternary"
           }
          ],
          "surface": [
           {
            "colorbar": {
             "outlinewidth": 0,
             "ticks": ""
            },
            "colorscale": [
             [
              0,
              "#0d0887"
             ],
             [
              0.1111111111111111,
              "#46039f"
             ],
             [
              0.2222222222222222,
              "#7201a8"
             ],
             [
              0.3333333333333333,
              "#9c179e"
             ],
             [
              0.4444444444444444,
              "#bd3786"
             ],
             [
              0.5555555555555556,
              "#d8576b"
             ],
             [
              0.6666666666666666,
              "#ed7953"
             ],
             [
              0.7777777777777778,
              "#fb9f3a"
             ],
             [
              0.8888888888888888,
              "#fdca26"
             ],
             [
              1,
              "#f0f921"
             ]
            ],
            "type": "surface"
           }
          ],
          "table": [
           {
            "cells": {
             "fill": {
              "color": "#EBF0F8"
             },
             "line": {
              "color": "white"
             }
            },
            "header": {
             "fill": {
              "color": "#C8D4E3"
             },
             "line": {
              "color": "white"
             }
            },
            "type": "table"
           }
          ]
         },
         "layout": {
          "annotationdefaults": {
           "arrowcolor": "#2a3f5f",
           "arrowhead": 0,
           "arrowwidth": 1
          },
          "autotypenumbers": "strict",
          "coloraxis": {
           "colorbar": {
            "outlinewidth": 0,
            "ticks": ""
           }
          },
          "colorscale": {
           "diverging": [
            [
             0,
             "#8e0152"
            ],
            [
             0.1,
             "#c51b7d"
            ],
            [
             0.2,
             "#de77ae"
            ],
            [
             0.3,
             "#f1b6da"
            ],
            [
             0.4,
             "#fde0ef"
            ],
            [
             0.5,
             "#f7f7f7"
            ],
            [
             0.6,
             "#e6f5d0"
            ],
            [
             0.7,
             "#b8e186"
            ],
            [
             0.8,
             "#7fbc41"
            ],
            [
             0.9,
             "#4d9221"
            ],
            [
             1,
             "#276419"
            ]
           ],
           "sequential": [
            [
             0,
             "#0d0887"
            ],
            [
             0.1111111111111111,
             "#46039f"
            ],
            [
             0.2222222222222222,
             "#7201a8"
            ],
            [
             0.3333333333333333,
             "#9c179e"
            ],
            [
             0.4444444444444444,
             "#bd3786"
            ],
            [
             0.5555555555555556,
             "#d8576b"
            ],
            [
             0.6666666666666666,
             "#ed7953"
            ],
            [
             0.7777777777777778,
             "#fb9f3a"
            ],
            [
             0.8888888888888888,
             "#fdca26"
            ],
            [
             1,
             "#f0f921"
            ]
           ],
           "sequentialminus": [
            [
             0,
             "#0d0887"
            ],
            [
             0.1111111111111111,
             "#46039f"
            ],
            [
             0.2222222222222222,
             "#7201a8"
            ],
            [
             0.3333333333333333,
             "#9c179e"
            ],
            [
             0.4444444444444444,
             "#bd3786"
            ],
            [
             0.5555555555555556,
             "#d8576b"
            ],
            [
             0.6666666666666666,
             "#ed7953"
            ],
            [
             0.7777777777777778,
             "#fb9f3a"
            ],
            [
             0.8888888888888888,
             "#fdca26"
            ],
            [
             1,
             "#f0f921"
            ]
           ]
          },
          "colorway": [
           "#636efa",
           "#EF553B",
           "#00cc96",
           "#ab63fa",
           "#FFA15A",
           "#19d3f3",
           "#FF6692",
           "#B6E880",
           "#FF97FF",
           "#FECB52"
          ],
          "font": {
           "color": "#2a3f5f"
          },
          "geo": {
           "bgcolor": "white",
           "lakecolor": "white",
           "landcolor": "#E5ECF6",
           "showlakes": true,
           "showland": true,
           "subunitcolor": "white"
          },
          "hoverlabel": {
           "align": "left"
          },
          "hovermode": "closest",
          "mapbox": {
           "style": "light"
          },
          "paper_bgcolor": "white",
          "plot_bgcolor": "#E5ECF6",
          "polar": {
           "angularaxis": {
            "gridcolor": "white",
            "linecolor": "white",
            "ticks": ""
           },
           "bgcolor": "#E5ECF6",
           "radialaxis": {
            "gridcolor": "white",
            "linecolor": "white",
            "ticks": ""
           }
          },
          "scene": {
           "xaxis": {
            "backgroundcolor": "#E5ECF6",
            "gridcolor": "white",
            "gridwidth": 2,
            "linecolor": "white",
            "showbackground": true,
            "ticks": "",
            "zerolinecolor": "white"
           },
           "yaxis": {
            "backgroundcolor": "#E5ECF6",
            "gridcolor": "white",
            "gridwidth": 2,
            "linecolor": "white",
            "showbackground": true,
            "ticks": "",
            "zerolinecolor": "white"
           },
           "zaxis": {
            "backgroundcolor": "#E5ECF6",
            "gridcolor": "white",
            "gridwidth": 2,
            "linecolor": "white",
            "showbackground": true,
            "ticks": "",
            "zerolinecolor": "white"
           }
          },
          "shapedefaults": {
           "line": {
            "color": "#2a3f5f"
           }
          },
          "ternary": {
           "aaxis": {
            "gridcolor": "white",
            "linecolor": "white",
            "ticks": ""
           },
           "baxis": {
            "gridcolor": "white",
            "linecolor": "white",
            "ticks": ""
           },
           "bgcolor": "#E5ECF6",
           "caxis": {
            "gridcolor": "white",
            "linecolor": "white",
            "ticks": ""
           }
          },
          "title": {
           "x": 0.05
          },
          "xaxis": {
           "automargin": true,
           "gridcolor": "white",
           "linecolor": "white",
           "ticks": "",
           "title": {
            "standoff": 15
           },
           "zerolinecolor": "white",
           "zerolinewidth": 2
          },
          "yaxis": {
           "automargin": true,
           "gridcolor": "white",
           "linecolor": "white",
           "ticks": "",
           "title": {
            "standoff": 15
           },
           "zerolinecolor": "white",
           "zerolinewidth": 2
          }
         }
        },
        "width": 1800
       }
      },
      "text/html": [
       "<div>                            <div id=\"d86b744f-1091-43a5-b513-3a0c62782f5c\" class=\"plotly-graph-div\" style=\"height:800px; width:1800px;\"></div>            <script type=\"text/javascript\">                require([\"plotly\"], function(Plotly) {                    window.PLOTLYENV=window.PLOTLYENV || {};                                    if (document.getElementById(\"d86b744f-1091-43a5-b513-3a0c62782f5c\")) {                    Plotly.newPlot(                        \"d86b744f-1091-43a5-b513-3a0c62782f5c\",                        [{\"colorscale\":[[0.0,\"#000004\"],[0.1111111111111111,\"#180f3d\"],[0.2222222222222222,\"#440f76\"],[0.3333333333333333,\"#721f81\"],[0.4444444444444444,\"#9e2f7f\"],[0.5555555555555556,\"#cd4071\"],[0.6666666666666666,\"#f1605d\"],[0.7777777777777778,\"#fd9668\"],[0.8888888888888888,\"#feca8d\"],[1.0,\"#fcfdbf\"]],\"x\":[\"JavaScript\",\"HTML/CSS\",\"SQL\",\"MySQL\",\"Python\",\"Java\",\"Node.js\",\"Bash/Shell/PowerShell\",\"jQuery\",\"C#\",\"PostgreSQL\",\"Microsoft SQL Server\",\"SQLite\",\"React.js\",\"PHP\",\"TypeScript\",\".NET\",\"C++\",\"MongoDB\",\"C\",\".NET Core\",\"Angular\",\"ASP.NET\",\"Redis\",\"Express\",\"MariaDB\",\"Oracle\",\"ASP.NET Core\",\"Vue.js\",\"Firebase\",\"Spring\",\"Angular.js\",\"Elasticsearch\",\"Pandas\",\"Django\",\"Flask\",\"Go\",\"Laravel\",\"TensorFlow\",\"React Native\",\"Kotlin\",\"Unity 3D\",\"Ruby\",\"Assembly\",\"VBA\",\"DynamoDB\",\"Swift\",\"R\",\"Ansible\",\"Ruby on Rails\",\"Rust\",\"Flutter\",\"Teraform\",\"Keras\",\"Cordova\",\"Xamarin\",\"Objective-C\",\"Dart\",\"Apache Spark\",\"Scala\",\"Torch/PyTorch\",\"Symfony\",\"Hadoop\",\"Perl\",\"Gatsby\",\"Cassandra\",\"IBM DB2\",\"Drupal\",\"Unreal Engine\",\"Haskell\",\"Puppet\",\"Couchbase\",\"Chef\",\"Julia\"],\"y\":[\"Marketing or sales professional\",\"Senior executive/VP\",\"Engineer, site reliability\",\"Scientist\",\"Product manager\",\"Engineering manager\",\"Developer, game or graphics\",\"Educator\",\"Academic researcher\",\"Engineer, data\",\"Developer, QA or test\",\"Data scientist or machine learning specialist\",\"Data or business analyst\",\"Developer, embedded applications or devices\",\"System administrator\",\"Designer\",\"Database administrator\",\"DevOps specialist\",\"Developer, mobile\",\"Developer, desktop or enterprise applications\",\"Developer, front-end\",\"Developer, full-stack\",\"Developer, back-end\"],\"ygap\":1,\"z\":[[71.02803738317756,76.63551401869158,57.78816199376947,61.37071651090342,38.62928348909657,32.242990654205606,41.74454828660436,31.15264797507788,45.482866043613704,25.70093457943925,30.062305295950154,31.15264797507788,32.398753894081,26.635514018691588,49.06542056074766,22.897196261682243,26.168224299065418,21.339563862928348,24.922118380062305,21.651090342679126,19.003115264797508,19.626168224299064,19.003115264797508,13.239875389408098,19.470404984423677,23.98753894080997,15.732087227414329,15.42056074766355,18.22429906542056,19.470404984423677,9.968847352024921,16.355140186915886,9.968847352024921,11.682242990654206,15.109034267912772,11.993769470404985,10.903426791277258,18.06853582554517,11.838006230529595,14.953271028037381,9.034267912772584,11.059190031152648,11.214953271028037,9.813084112149532,13.862928348909657,7.78816199376947,10.12461059190031,10.43613707165109,7.009345794392523,9.345794392523365,6.230529595015576,10.59190031152648,5.451713395638629,6.074766355140187,9.813084112149532,8.566978193146417,9.345794392523365,9.034267912772584,6.853582554517133,5.451713395638629,5.919003115264798,9.190031152647975,4.8286604361370715,7.78816199376947,9.034267912772584,5.919003115264798,5.763239875389408,9.968847352024921,6.853582554517133,4.205607476635514,4.517133956386292,6.230529595015576,4.672897196261682,4.049844236760125],[72.87878787878788,69.16666666666667,65.07575757575758,49.54545454545455,45.984848484848484,33.33333333333333,43.78787878787879,44.3939393939394,36.43939393939394,34.84848484848485,45.75757575757576,34.54545454545455,33.63636363636363,31.439393939393938,31.515151515151512,29.772727272727273,28.939393939393938,23.636363636363637,25.833333333333336,23.40909090909091,26.136363636363637,20.606060606060606,20.530303030303028,29.393939393939394,18.409090909090907,22.954545454545457,13.712121212121211,20.303030303030305,19.015151515151516,15.757575757575756,10.303030303030303,15.075757575757576,21.59090909090909,12.878787878787879,13.560606060606062,12.727272727272727,13.863636363636363,12.424242424242424,11.363636363636363,15.151515151515152,9.393939393939393,8.787878787878787,12.5,10.606060606060606,10.303030303030303,12.727272727272727,10.681818181818182,6.8181818181818175,10.53030303030303,10.378787878787879,7.954545454545454,7.878787878787878,9.242424242424242,6.4393939393939394,8.409090909090908,8.93939393939394,9.318181818181818,7.348484848484849,5.681818181818182,6.212121212121212,5.151515151515151,6.666666666666667,4.772727272727273,8.333333333333332,5.227272727272727,6.59090909090909,5.227272727272727,6.0606060606060606,4.318181818181818,3.4090909090909087,4.848484848484849,5.227272727272727,3.939393939393939,2.727272727272727],[65.87628865979381,58.50515463917526,61.701030927835056,53.76288659793814,59.896907216494846,39.948453608247426,42.628865979381445,61.49484536082475,30.97938144329897,26.134020618556704,49.432989690721655,28.04123711340206,30.77319587628866,28.298969072164947,28.09278350515464,27.010309278350515,20.36082474226804,21.494845360824744,28.60824742268041,20.670103092783503,19.02061855670103,18.04123711340206,14.484536082474229,40.0,19.329896907216497,24.690721649484537,12.886597938144329,14.896907216494846,14.793814432989691,10.77319587628866,15.206185567010309,15.257731958762887,33.76288659793815,12.216494845360824,16.34020618556701,20.412371134020617,30.20618556701031,9.587628865979383,8.350515463917525,9.742268041237114,9.175257731958762,6.701030927835052,16.391752577319586,7.628865979381444,6.855670103092784,18.402061855670105,5.206185567010309,5.309278350515464,26.134020618556704,10.257731958762886,11.237113402061857,5.927835051546391,25.51546391752577,4.22680412371134,5.103092783505154,4.587628865979381,4.587628865979381,4.278350515463917,7.422680412371134,7.783505154639175,3.865979381443299,6.288659793814433,6.494845360824743,9.845360824742269,4.896907216494846,8.8659793814433,3.711340206185567,5.206185567010309,3.1443298969072164,3.9690721649484533,9.278350515463918,3.65979381443299,8.041237113402062,2.0103092783505154],[48.465963566634706,47.02780441035475,43.672099712368166,39.213806327900286,67.68935762224353,32.98178331735379,25.98274209012464,42.42569511025887,25.071907957814,22.33940556088207,31.1601150527325,20.949185043144773,33.17353787152445,17.449664429530202,20.086289549376797,14.04602109300096,19.12751677852349,39.83700862895494,19.606903163950143,34.851390220517736,13.422818791946309,11.553211888782359,11.073825503355705,11.84084372003835,10.738255033557047,14.669223394055608,11.984659635666347,9.683604985618409,9.683604985618409,10.354745925215724,8.964525407478426,9.827420901246404,9.491850431447748,30.393096836049853,14.285714285714285,15.771812080536913,9.491850431447748,6.7114093959731544,24.30488974113135,7.28667305848514,5.944391179290508,8.724832214765101,7.766059443911794,11.601150527325025,9.731543624161073,5.512943432406519,6.2320230105465,22.24352828379674,6.136145733461169,5.704697986577181,8.820709491850431,5.417066155321189,3.883029721955897,16.155321188878236,4.650047938638543,4.410354745925216,5.321188878235858,3.978906999041227,6.85522531160115,5.129434324065196,12.224352828379674,3.883029721955897,6.85522531160115,6.615532118887824,2.924256951102589,4.1227229146692235,3.4995206136145733,3.691275167785235,4.026845637583892,4.554170661553212,2.3010546500479387,3.2598274209012463,2.1572387344199426,5.465004793863854],[73.00760913095715,69.60352422907489,63.115738886664,52.42290748898678,42.01041249499399,36.28354024829796,42.57108530236284,37.48498197837405,41.529835802963554,34.52142571085302,36.72406888265919,35.32238686423708,34.96195434521426,28.55426511814177,34.88185822987585,28.39407288746496,28.994793752503,22.947537044453345,26.111333600320386,20.94513416099319,22.3468161794153,21.105326391670005,20.464557468962756,20.50460552663196,18.622346816179416,20.704845814977972,15.618742490989188,16.900280336403682,16.940328394072885,17.22066479775731,10.732879455346415,15.818982779335203,15.93912695234281,10.332398878654384,12.975570684821786,11.17340808970765,11.533840608730477,12.655186223468162,8.970764917901482,12.214657589106928,9.130957148578293,9.010812975570685,10.13215859030837,7.649179014817781,10.492591109331197,8.53023628354025,10.01201441730076,6.888265919102923,6.888265919102923,7.929515418502203,5.206247496996395,7.889467360833,5.206247496996395,3.884661593912695,7.8494193031637955,7.529034841810173,8.049659591509812,6.207448938726472,4.685622747296756,3.2839407288746494,3.644373247897477,5.967160592711253,4.004805766920304,5.246295554665599,4.805766920304365,4.325190228273929,3.9247096515818978,5.246295554665599,3.2038446135362433,2.2827392871445733,3.0036043251902282,3.123748498197837,2.643171806167401,1.5618742490989186],[69.34654919236417,60.68281938325991,60.4258443465492,47.09985315712188,46.51248164464023,37.99559471365639,43.4654919236417,45.88839941262849,30.837004405286343,33.33333333333333,44.860499265785606,32.8928046989721,30.726872246696036,33.627019089574155,26.431718061674008,30.066079295154186,27.019089574155654,23.017621145374452,28.524229074889867,21.73274596182085,23.53157121879589,21.292217327459618,18.869309838472834,32.305433186490454,18.68575624082232,18.318649045521294,14.574155653450807,18.355359765051396,15.52863436123348,13.215859030837004,14.4640234948605,16.079295154185022,25.40381791483113,11.380323054331864,11.930983847283407,13.362701908957417,16.409691629955947,8.994126284875184,9.140969162995596,10.38913362701909,9.544787077826726,7.048458149779736,12.812041116005874,7.856093979441997,6.571218795888399,13.876651982378855,8.737151248164464,5.39647577092511,11.490455212922173,10.205580029368576,7.63582966226138,5.469897209985316,11.637298091042585,3.9647577092511015,5.947136563876652,5.726872246696035,7.599118942731277,4.441997063142438,6.424375917767988,7.085168869309838,3.81791483113069,5.359765051395008,5.8370044052863435,6.130690161527165,4.809104258443465,6.4610866372980915,3.81791483113069,4.662261380323055,2.679882525697504,2.679882525697504,4.5154185022026425,4.001468428781204,4.331864904552129,1.57856093979442],[67.22839727500897,62.459662961635,49.26496952312657,48.04589458587307,43.85084259591252,41.37683757619218,41.23341699533883,35.353173180351384,34.31337396916457,53.53173180351381,27.321620652563645,26.78379347436357,33.95482251703119,27.142344926496953,30.36930799569738,28.074578702043745,36.966654714951595,42.595912513445676,24.632484761563283,31.33739691645751,27.895302975977053,18.64467551093582,18.60882036572248,15.059160989602008,17.999282897095732,18.142703477949084,13.409824309788455,16.2782359268555,16.134815346002153,16.780207959842237,9.358192900681248,13.553244890641809,9.824309788454643,7.565435640014343,10.254571531014701,9.680889207601291,10.326281821441377,9.5016134815346,9.465758336321262,12.19074937253496,10.039440659734671,43.09788454643241,8.031552527787737,11.939763356041592,7.60129078522768,6.704912154894227,9.788454643241305,4.195051989960559,4.553603442093941,5.808533524560774,10.362136966654715,8.103262818214414,4.051631409107207,4.230907135173897,7.60129078522768,8.246683399067766,10.147006095374685,6.09537468626748,3.1911079239870923,3.2628182144137687,3.513804230907135,4.697024022947293,3.04768734313374,3.872355683040516,3.7289351021871644,2.6532807457870207,2.6174256005736822,3.657224811760488,16.098960200788813,3.155252778773754,2.4022947292936534,3.0118321979204015,2.007888131946934,1.3983506633201863],[68.4084699453552,66.80327868852459,56.62568306010929,53.85928961748634,45.25273224043716,39.9931693989071,39.58333333333333,38.18306010928962,37.36338797814208,29.57650273224044,34.18715846994536,28.927595628415297,34.80191256830601,27.86885245901639,32.99180327868852,26.331967213114755,25.136612021857925,27.732240437158467,26.400273224043712,25.37568306010929,18.237704918032787,20.32103825136612,16.35928961748634,16.87158469945355,18.954918032786885,21.311475409836063,15.881147540983607,13.866120218579233,15.23224043715847,16.188524590163937,13.524590163934427,14.685792349726775,12.295081967213115,12.978142076502733,13.114754098360656,12.09016393442623,9.084699453551913,11.441256830601093,10.758196721311474,11.441256830601093,9.870218579234972,9.426229508196721,8.777322404371585,9.562841530054644,8.435792349726775,6.796448087431695,6.864754098360656,9.221311475409836,6.762295081967213,6.4890710382513666,5.669398907103825,7.41120218579235,4.67896174863388,5.532786885245901,7.035519125683059,5.942622950819672,5.976775956284152,5.601092896174864,4.5423497267759565,4.132513661202186,4.337431693989071,5.498633879781421,3.927595628415301,5.669398907103825,4.474043715846995,3.5177595628415297,3.790983606557377,4.67896174863388,3.3811475409836067,4.200819672131147,2.8346994535519126,2.7663934426229506,2.288251366120219,2.185792349726776],[54.19481981981982,53.46283783783784,46.70608108108108,47.015765765765764,59.03716216216216,39.86486486486486,28.29391891891892,36.76801801801802,29.898648648648653,24.239864864864867,30.236486486486484,22.804054054054053,32.74211711711711,18.86261261261261,25.788288288288285,15.79391891891892,19.98873873873874,36.76801801801802,23.170045045045047,33.164414414414416,13.65427927927928,15.118243243243242,13.034909909909908,12.443693693693694,11.79617117117117,16.019144144144143,13.56981981981982,9.628378378378379,11.233108108108109,12.528153153153154,11.120495495495495,11.683558558558559,9.90990990990991,25.11261261261261,13.992117117117116,14.076576576576578,7.85472972972973,9.121621621621621,19.90427927927928,7.573198198198199,6.587837837837837,7.882882882882883,6.925675675675675,10.838963963963964,7.967342342342343,4.5608108108108105,5.63063063063063,17.989864864864867,4.842342342342342,5.405405405405405,6.78490990990991,5.574324324324325,3.0968468468468466,13.147522522522523,5.123873873873873,4.391891891891892,4.870495495495495,4.110360360360361,6.221846846846847,4.983108108108108,10.022522522522523,3.350225225225225,5.79954954954955,5.405405405405405,2.5337837837837838,3.800675675675676,3.040540540540541,3.2939189189189184,2.956081081081081,4.504504504504505,2.1114864864864864,2.505630630630631,1.5202702702702704,4.335585585585585],[56.90208667736758,52.59497057249867,67.1749598715891,49.67897271268058,65.08828250401284,40.44943820224719,31.942215088282506,43.90048154093098,29.507758159443554,26.64526484751204,44.0342429106474,34.4836811128946,32.102728731942214,21.187800963081862,22.953451043338685,18.432316746923487,21.74959871589085,23.809523809523807,27.314071696094167,22.98020331728197,16.934189406099517,15.302300695559124,14.526484751203853,21.910112359550563,13.456393793472445,16.613162118780096,18.726591760299627,12.413055109684324,11.985018726591761,11.20920278223649,14.018191546281432,12.867843766720172,20.278223649010165,32.530765115034775,16.559657570893528,22.364901016586412,11.797752808988763,7.784911717495987,17.415730337078653,7.410379882289994,6.71482075976458,6.821829855537722,7.811663991439273,7.2766185125735685,11.15569823434992,10.112359550561797,4.628143392188336,13.857677902621724,8.507223113964688,5.591225254146603,5.858747993579454,4.574638844301766,8.801498127340825,10.914927768860354,4.5211342964151955,4.735152487961477,4.360620652755484,3.2370251471375067,17.46923488496522,12.680577849117174,8.079186730872125,4.226859283039058,14.686998394863563,5.778491171749598,2.7822364901016585,7.490636704119851,4.333868378812198,3.210272873194221,2.701979668271803,2.8357410379882286,2.8089887640449436,3.504547886570358,2.354200107009096,2.247191011235955],[71.54801114770713,67.24094248796554,63.38991639219661,52.52090195084874,44.210793007347355,43.374714973397516,40.689130985558656,42.386622751456805,38.484925259690904,38.3582467696985,33.18976437800861,35.39397010387636,31.59361540410438,25.918419052444897,30.833544464149988,27.793260704332408,31.5682797061059,23.43552064859387,24.423612870534583,21.560678996706358,24.220927286546747,22.194071446668357,21.28198631872308,17.329617430960223,16.18951102102863,19.50848745882949,18.267038256903977,18.191031162908537,15.150747403090955,13.757284013174562,14.694704839118316,17.101596148973904,15.252090195084875,8.538130225487713,11.147707119331137,10.61565746136306,10.134279199391944,11.147707119331137,6.764631365594122,9.095515581454269,8.79148720547251,8.71548011147707,9.602229541423867,6.865974157588041,8.99417278946035,7.575373701545478,6.6632885736002025,4.079047377755257,7.347352419559158,6.435267291613885,5.117810995692931,5.4218393716746895,5.573853559665569,2.837598175829744,6.485938687610844,6.257917405624525,5.649860653661008,4.155054471750697,3.749683303775019,3.775019001773499,2.5842411958449456,5.092475297694452,3.2936407398023815,5.903217633645807,3.014948061819103,3.4709906257917407,3.7243476057765394,4.4590828477324544,3.166962249809982,2.2802128198631872,3.2176336458069423,2.5842411958449456,2.482898403851026,1.3681276919179122],[48.26980942828485,48.24473420260782,58.45035105315948,46.26379137412236,78.33500501504514,35.05516549648947,25.651955867602812,39.56870611835506,24.172517552657975,21.339017051153462,39.1173520561685,27.256770310932797,33.45035105315948,18.756268806419257,18.004012036108325,13.99197592778335,17.201604814443332,29.789368104312942,25.827482447342025,25.050150451354064,13.440320962888666,12.637913741223672,11.158475426278837,15.220661985957873,10.782347041123371,13.665997993981946,16.098294884653964,9.378134403209629,9.829488465396189,9.954864593781345,9.553660982948847,10.75727181544634,15.57171514543631,50.075225677031085,19.132397191574725,26.4543630892678,9.553660982948847,6.218655967903711,37.938816449348046,7.246740220661986,5.917753259779338,6.64493480441324,6.41925777331996,7.5225677031093285,9.327983951855568,7.096288866599799,4.689067201604814,27.632898696088265,6.093279839518555,4.663991975927784,6.218655967903711,4.789368104312939,5.1654964894684054,27.256770310932797,3.7612838515546643,3.5857572718154462,3.8114343029087263,3.3600802407221666,15.697091273821465,8.375125376128386,19.834503510531594,2.8084252758274824,12.963891675025074,4.413239719157472,2.683049147442327,5.441323971915748,3.786359077231695,2.8335005015045134,2.7582748244734203,3.6609829488465397,2.432296890672016,2.3570712136409226,2.0812437311935805,4.237713139418255],[57.55467196819085,58.97117296222664,73.45924453280318,49.6520874751491,53.23061630218688,31.088469184890656,27.907554671968192,34.69184890656064,33.64811133200795,31.6351888667992,34.09542743538768,45.80019880715705,30.66600397614314,17.2713717693837,25.894632206759443,16.84890656063618,28.45427435387674,18.961232604373755,19.905566600397613,17.544731610337973,19.25944333996024,14.48807157057654,20.601391650099405,11.928429423459244,10.636182902584492,16.575546719681906,22.39065606361829,15.283300198807156,10.43737574552684,9.542743538767395,8.722664015904574,12.226640159045726,11.456262425447317,26.988071570576537,13.543737574552683,14.41351888667992,6.312127236580517,8.623260437375746,13.643141153081512,6.535785288270378,4.920477137176938,5.193836978131213,6.163021868787276,5.8399602385685885,18.961232604373755,5.666003976143141,4.150099403578529,18.93638170974155,4.52286282306163,4.920477137176938,3.354870775347912,4.398608349900597,3.354870775347912,7.75347912524851,4.796222664015905,5.318091451292246,3.6779324055666,3.1560636182902586,8.499005964214712,4.473161033797217,5.790258449304175,3.6530815109343937,7.952286282306163,4.970178926441352,2.261431411530815,3.5288270377733597,5.5168986083499005,3.8270377733598413,2.0129224652087476,2.360834990059642,2.3111332007952288,2.3856858846918487,1.9880715705765408,1.8638170974155068],[58.37894736842105,54.10526315789473,49.55789473684211,45.03157894736842,50.27368421052631,39.83157894736842,34.0,43.97894736842105,30.484210526315792,38.33684210526316,29.957894736842107,30.589473684210528,38.821052631578944,19.747368421052634,25.157894736842106,22.526315789473685,32.61052631578947,47.473684210526315,20.968421052631577,47.89473684210526,24.08421052631579,18.821052631578947,19.11578947368421,14.526315789473685,13.094736842105261,17.49473684210526,15.073684210526316,16.568421052631578,12.021052631578948,13.368421052631579,10.505263157894737,14.547368421052632,10.042105263157895,9.284210526315789,10.547368421052632,10.821052631578947,10.778947368421052,8.063157894736841,10.442105263157893,9.178947368421053,9.284210526315789,10.063157894736841,7.178947368421053,15.389473684210525,9.494736842105263,6.421052631578947,9.263157894736842,4.378947368421052,5.747368421052632,4.905263157894737,9.031578947368422,7.178947368421053,3.4526315789473685,4.757894736842106,7.284210526315789,9.010526315789473,8.715789473684211,5.663157894736842,3.494736842105263,3.136842105263158,3.8947368421052633,3.7263157894736847,3.0947368421052635,5.6421052631578945,2.4842105263157896,3.663157894736842,3.494736842105263,2.926315789473684,3.7894736842105265,2.863157894736842,2.168421052631579,2.8000000000000003,1.831578947368421,1.263157894736842],[71.04158718046547,69.49637542922548,68.14193056085463,57.535291873330785,50.91568103777184,35.80694391453644,38.744753910721094,54.94086226631056,41.26287676459366,31.896222815719188,40.499809233117126,35.23464326592903,35.12018313620756,22.128958412819536,39.75581838992751,23.52155665776421,26.955360549408624,23.61694009919878,23.712323540633346,23.998473864937047,19.896985883250668,17.798550171690195,18.06562380770698,23.73140022892026,15.566577642121327,31.55284242655475,15.261350629530712,14.6699732926364,16.19610835558947,10.282334986646319,9.786341091186571,13.620755436856161,17.3788630293781,9.462037390309042,14.498283098054177,13.639832125143075,13.964135826020602,12.361694009919878,7.058374666157954,7.458985120183136,6.447920640976726,7.954979015642884,10.511255246089279,8.393742846241894,10.702022128958413,7.039297977871041,5.322396032048837,5.207935902327356,15.070583746661578,6.75314765356734,7.306371613887828,5.265165967188096,9.080503624570776,3.0331934376192295,5.990080122090805,5.589469668065624,4.425791682563907,4.101487981686379,4.120564669973293,3.452880579931324,2.918733307897749,6.447920640976726,3.6818008393742843,8.260206028233497,2.861503243037009,4.311331552842427,3.719954215948111,5.11255246089279,3.4147272033574967,2.708889736741702,5.0362457077451355,2.689813048454788,3.5864173979397176,1.2590614269362839],[75.98195827851907,74.87314414583724,58.804735951888745,55.19639165570381,35.951888742717536,35.89550836308965,41.890622063521896,30.182296560796846,45.74328133809434,35.08738958842323,25.803420409697424,32.77579402367976,29.900394662657398,29.017102048487125,37.981582409321554,27.870700996053372,29.24262356699868,24.130802480736705,23.003194888178914,22.533358391279833,19.921067468520956,22.834053749295244,20.710392783311406,11.445217064461568,18.248449539560234,18.53035143769968,15.260289419282088,14.809246382258973,17.308776545762075,16.500657771095657,9.302762638601767,16.93290734824281,8.851719601578651,6.483743657207292,10.129674873144145,7.83687276827664,6.558917496711144,12.666791956399173,6.107874459688029,11.069347866942305,7.103927833114076,10.467957150911483,6.840819394850592,7.0287539936102235,9.528284157113324,4.999060327006202,7.479797030633339,4.491636910355196,3.7398985153166695,5.299755685021613,3.6083442961849275,6.897199774478481,2.3491824844953957,2.180041345611727,6.9723736139823345,6.29580905844766,5.713211802292802,4.961473407254275,2.837812441270438,1.8793459875963165,2.405562864123285,4.134561172711896,2.499530163503101,4.134561172711896,4.698364968990791,2.5559105431309903,3.4579966171772227,4.773538808494644,4.021800413456117,1.935726367224206,2.161247885735764,2.2364217252396164,1.5410637098289794,0.9208795339221951],[74.27472911569382,73.06885704299197,80.07689619014332,59.402306885704306,42.24047535826634,35.04019573575673,38.67528836071304,43.411394617266694,47.6581614819993,40.38797623208668,37.189793778399164,46.01537923802866,32.52359314924851,22.859140160782943,41.50646627053477,24.23977630199231,35.389723872771754,20.447396015379237,23.593149248514507,19.18909472212513,25.09612023767913,19.64348130024467,26.82628451590353,19.975533030408947,15.798671793079343,27.455435162530584,18.175463124781547,20.027962250961203,16.58511010136316,12.320866829779797,9.664452988465571,16.07829430269137,14.872422229989516,10.013981125480601,12.111149947570778,11.464522894092974,10.013981125480601,15.379238028661307,6.850751485494583,9.140160782943028,6.291506466270534,7.462425725270884,7.444949318420132,6.850751485494583,13.491786088780147,6.815798671793079,5.924501922404754,6.274030059419783,8.091576371897938,5.522544564837469,4.526389374344634,5.522544564837469,5.312827682628452,2.883607130373995,6.780845858091576,7.3051380636141205,5.173016427822439,4.229290457881859,4.2642432715833625,3.0408947920307585,2.7962250961202377,6.256553652569032,3.862285914016078,6.23907724571828,2.778748689269486,3.670045438657812,4.037049982523593,4.596295001747641,2.6738902481649776,2.009786787836421,2.9010835372247463,2.6389374344634744,2.2719328905976934,0.9262495630898288],[70.29653208242587,62.70732115932317,63.05913888423521,48.4335734628916,51.76746523705813,38.43189814039202,43.457865639135534,58.68654716032836,33.690735466577316,35.13151281621712,45.04942201373765,35.91891439102027,29.88775339252806,28.76528731780868,26.553861618361534,32.166191991958456,28.7987937678003,18.26101524543475,29.38515664265371,17.574133020606467,26.687887418328028,23.370748869157314,20.924778019768805,32.83632099179092,18.445300720388673,23.203216619199196,15.831797621042051,22.04724409448819,16.736471770815882,10.956609147260847,16.334394370916403,15.412966996146757,27.00619869324845,10.722063997319484,13.63712514659072,15.915563746021109,19.919584520020102,9.130507622717374,7.823756073044061,8.828949572792762,8.175573797956107,6.13168034846708,12.079075221980231,5.327525548668119,5.8803819735299045,13.838163846540457,4.891941698777014,4.288825598927794,20.857765119785558,7.287652873178087,7.321159323169709,4.875188473781203,17.440107220639973,3.7862288490534426,5.763109398559223,5.394538448651366,4.087786898978053,3.7694756240576313,5.243759423689061,5.411291673647177,2.680515999329871,5.428044898642989,4.741162673814709,6.349472273412632,3.886748199028313,5.846875523538281,3.668956274082761,3.886748199028313,2.0606466744848384,2.4794772993801306,5.712849723571788,3.5349304741162673,5.277265873680684,0.9884402747528899],[66.64205863741827,60.69394642480489,50.28475005273149,50.34802784222738,31.195950221472263,49.44104619278633,40.82472052309639,26.323560430288968,33.769246994305,34.09618224003375,27.54693102720945,28.11643113267243,43.35583210293187,30.24678337903396,29.339801729592914,29.962033326302468,26.102088167053367,22.51634676228644,25.079097236869856,19.521198059481122,20.702383463404345,22.54798565703438,18.519299725796245,14.047669268086901,19.721577726218097,15.85108626871968,12.507909723686986,15.977641847711455,13.636363636363635,28.685931238135414,11.970048512971946,14.764817549040288,9.586585108626872,5.526260282640793,9.20691837165155,7.456232862265345,7.4035013710187725,11.0630668635309,7.034380932292765,19.700485129719468,20.934402024889266,11.126344653026788,7.087112423539338,5.357519510651762,5.389158405399705,6.116852984602405,21.145327989875554,2.963509808057372,3.0478801940518876,5.199325036912044,3.4591858257751533,14.226956338325248,2.858046825564227,2.815861632566969,11.020881670533642,11.569289179497996,14.923012022780005,11.27399282851719,2.1619911411094703,2.214722632356043,2.0987133516135836,3.627926597764185,1.9510651761231808,2.4151022990930184,3.3748154397806367,2.27800042185193,2.2041763341067284,2.7736764395697113,3.290445053786121,1.4975743514026576,1.4975743514026576,2.3096393165998736,1.0651761231807635,0.5484075089643535],[65.69925322471147,61.31194840461644,62.02477936184657,43.73727087576375,36.10828241683639,40.73319755600815,33.71520706042091,36.21011541072641,35.429395790902916,51.332315003394434,29.14969450101833,45.13747454175153,31.551255940257978,21.452817379497624,22.174134419551937,28.301086218601494,45.58723693143245,28.131364562118126,20.38357094365241,22.87847929395791,33.29938900203666,22.284453496266124,28.615071283095723,13.441955193482688,12.81398506449423,14.850644942294636,20.08655804480652,25.19517990495587,11.617447386286491,10.140868974881196,15.08825526137135,14.867617107942973,11.074338085539715,6.916157501697216,7.781737949762389,7.73082145281738,7.909029192124915,6.839782756279702,5.872369314324508,7.4168363883231505,6.907671418873049,8.630346232179226,5.337746096401901,6.737949762389681,10.123896809232859,5.18499660556687,5.762050237610318,3.63204344874406,4.2175831636116765,3.513238289205703,5.371690427698574,4.760692464358452,3.250169721656483,2.6391717583163614,5.609300746775289,8.621860149355058,5.066191446028514,3.699932111337407,2.842837746096402,3.054989816700611,2.096062457569586,2.842837746096402,2.6476578411405294,3.699932111337407,1.8584521384928716,2.7155465037338766,3.920570264765784,2.3167006109979633,2.774949083503055,1.8499660556687034,1.7566191446028514,2.197895451459606,1.2983706720977597,0.721317040054311],[84.0128989943157,78.31219938784434,56.394840402273715,50.841714035854835,31.29645824223874,33.728683865325756,49.36051595977263,29.334280717096632,43.56689986882379,33.542850896370794,30.908395277656318,31.383909051158724,25.912767818102317,40.10712724092698,32.624617402710975,39.0194578049847,27.169873196327067,16.04722343681679,26.929383471797113,14.675338871884566,21.523830345430696,28.377787494534324,20.529077393965895,16.40249234805422,23.048753825972888,16.708570179274158,13.609532138172279,17.539352864013992,19.266506340183646,15.828596414516834,11.636423261915173,18.03126366418889,11.368605159597726,5.596851770878881,9.368167905553126,7.804984696108439,7.542632269348491,11.472452995190205,5.0120244862264975,12.762352426759948,6.711849584608657,7.362264975951027,7.25295146480105,3.9735461303017057,6.3456493222562305,6.006777437691299,5.875601224311325,2.9514648010494096,3.9516834280717097,5.711630957586357,3.8860953213817226,5.728027984258855,3.219282903366856,2.1425448185395717,7.1217752514210755,5.378224748578924,4.328815041539134,4.394403148229121,2.04962833406209,2.295583734149541,1.5686488850021865,4.257761259291649,1.7654132050721467,2.6125929164844774,5.329033668561435,2.109750765194578,2.3611718408395275,3.4707039790118057,2.104285089637079,1.6178399650196764,1.579580236117184,1.8419326628771315,1.0439440314822912,0.4481853957149104],[81.99078341013825,73.78433179723503,62.046082949308754,50.22672811059908,36.20276497695853,36.781566820276495,47.34009216589862,33.500460829493086,42.08663594470046,36.37603686635945,36.022119815668205,34.82764976958526,26.392626728110596,36.22857142857143,30.311520737327193,37.235023041474655,29.423041474654376,16.250691244239633,27.188940092165897,14.422119815668202,24.287557603686636,26.70230414746544,22.55115207373272,20.903225806451616,21.92442396313364,17.142857142857142,14.816589861751153,20.468202764976958,18.001843317972348,13.12442396313364,14.975115207373271,16.94377880184332,14.381566820276499,7.498617511520737,10.665437788018433,10.031336405529954,9.209216589861752,11.163133640552996,5.7695852534562215,10.694930875576036,6.705990783410138,6.473732718894009,8.468202764976958,3.845161290322581,5.776958525345622,7.472811059907834,4.836866359447005,3.288479262672811,5.393548387096774,6.731797235023042,4.497695852534562,5.172350230414747,4.748387096774193,2.6764976958525346,6.016589861751152,5.131797235023042,3.44331797235023,3.911520737327189,2.790783410138249,3.1889400921658986,1.9649769585253458,4.313364055299539,2.3483870967741938,2.8829493087557605,4.1732718894009215,2.79815668202765,2.647004608294931,3.0414746543778803,1.824884792626728,1.6921658986175117,1.7253456221198158,1.9944700460829492,1.4414746543778802,0.5124423963133641],[69.39180255619215,61.38901131188482,61.37432055237255,49.397678859997065,39.86704862641399,39.848685177023654,37.55692669311003,35.71323637432055,35.54796532980755,34.023799030409876,36.95093286322903,32.90362861759953,27.03099750257088,26.23402379903041,28.14382253562509,27.838989275745558,27.725135889525486,19.244894961069487,24.63273101219333,17.17349786983987,22.62009695901278,20.761715880711034,19.861906860584693,21.77537828705744,16.203907742030264,17.412222711914204,15.715439988247393,18.168796826795948,14.297781695313647,10.78301748200382,16.369178786543266,13.478771852504776,16.101072425444396,8.939327163214337,11.223740267371824,11.10621419127369,11.146613779932423,10.327603937123548,6.335390039665051,7.973409725282797,7.271925958572058,6.217863963566916,7.988100484795065,4.745115322462171,5.718378140149846,7.841192889672397,4.539444689290437,3.5735272513588954,6.691640957837521,5.935066842955781,5.417217570148377,4.392537094167769,5.79183193771118,3.114441016600558,4.712061113559571,4.7157338034376375,3.400910827089761,3.4045835169678274,3.926105479653298,4.631261936242104,2.2770677244013515,4.381519024533569,3.3127662700161595,3.514764213309828,2.6516820919641546,3.782870574408697,2.743499338915822,2.7030997502570884,1.7775819009842808,2.0016159835463494,1.9869252240340824,2.0603790215954163,1.604965476715146,0.5619215513442045]],\"type\":\"heatmap\"}],                        {\"template\":{\"data\":{\"histogram2dcontour\":[{\"type\":\"histogram2dcontour\",\"colorbar\":{\"outlinewidth\":0,\"ticks\":\"\"},\"colorscale\":[[0.0,\"#0d0887\"],[0.1111111111111111,\"#46039f\"],[0.2222222222222222,\"#7201a8\"],[0.3333333333333333,\"#9c179e\"],[0.4444444444444444,\"#bd3786\"],[0.5555555555555556,\"#d8576b\"],[0.6666666666666666,\"#ed7953\"],[0.7777777777777778,\"#fb9f3a\"],[0.8888888888888888,\"#fdca26\"],[1.0,\"#f0f921\"]]}],\"choropleth\":[{\"type\":\"choropleth\",\"colorbar\":{\"outlinewidth\":0,\"ticks\":\"\"}}],\"histogram2d\":[{\"type\":\"histogram2d\",\"colorbar\":{\"outlinewidth\":0,\"ticks\":\"\"},\"colorscale\":[[0.0,\"#0d0887\"],[0.1111111111111111,\"#46039f\"],[0.2222222222222222,\"#7201a8\"],[0.3333333333333333,\"#9c179e\"],[0.4444444444444444,\"#bd3786\"],[0.5555555555555556,\"#d8576b\"],[0.6666666666666666,\"#ed7953\"],[0.7777777777777778,\"#fb9f3a\"],[0.8888888888888888,\"#fdca26\"],[1.0,\"#f0f921\"]]}],\"heatmap\":[{\"type\":\"heatmap\",\"colorbar\":{\"outlinewidth\":0,\"ticks\":\"\"},\"colorscale\":[[0.0,\"#0d0887\"],[0.1111111111111111,\"#46039f\"],[0.2222222222222222,\"#7201a8\"],[0.3333333333333333,\"#9c179e\"],[0.4444444444444444,\"#bd3786\"],[0.5555555555555556,\"#d8576b\"],[0.6666666666666666,\"#ed7953\"],[0.7777777777777778,\"#fb9f3a\"],[0.8888888888888888,\"#fdca26\"],[1.0,\"#f0f921\"]]}],\"heatmapgl\":[{\"type\":\"heatmapgl\",\"colorbar\":{\"outlinewidth\":0,\"ticks\":\"\"},\"colorscale\":[[0.0,\"#0d0887\"],[0.1111111111111111,\"#46039f\"],[0.2222222222222222,\"#7201a8\"],[0.3333333333333333,\"#9c179e\"],[0.4444444444444444,\"#bd3786\"],[0.5555555555555556,\"#d8576b\"],[0.6666666666666666,\"#ed7953\"],[0.7777777777777778,\"#fb9f3a\"],[0.8888888888888888,\"#fdca26\"],[1.0,\"#f0f921\"]]}],\"contourcarpet\":[{\"type\":\"contourcarpet\",\"colorbar\":{\"outlinewidth\":0,\"ticks\":\"\"}}],\"contour\":[{\"type\":\"contour\",\"colorbar\":{\"outlinewidth\":0,\"ticks\":\"\"},\"colorscale\":[[0.0,\"#0d0887\"],[0.1111111111111111,\"#46039f\"],[0.2222222222222222,\"#7201a8\"],[0.3333333333333333,\"#9c179e\"],[0.4444444444444444,\"#bd3786\"],[0.5555555555555556,\"#d8576b\"],[0.6666666666666666,\"#ed7953\"],[0.7777777777777778,\"#fb9f3a\"],[0.8888888888888888,\"#fdca26\"],[1.0,\"#f0f921\"]]}],\"surface\":[{\"type\":\"surface\",\"colorbar\":{\"outlinewidth\":0,\"ticks\":\"\"},\"colorscale\":[[0.0,\"#0d0887\"],[0.1111111111111111,\"#46039f\"],[0.2222222222222222,\"#7201a8\"],[0.3333333333333333,\"#9c179e\"],[0.4444444444444444,\"#bd3786\"],[0.5555555555555556,\"#d8576b\"],[0.6666666666666666,\"#ed7953\"],[0.7777777777777778,\"#fb9f3a\"],[0.8888888888888888,\"#fdca26\"],[1.0,\"#f0f921\"]]}],\"mesh3d\":[{\"type\":\"mesh3d\",\"colorbar\":{\"outlinewidth\":0,\"ticks\":\"\"}}],\"scatter\":[{\"fillpattern\":{\"fillmode\":\"overlay\",\"size\":10,\"solidity\":0.2},\"type\":\"scatter\"}],\"parcoords\":[{\"type\":\"parcoords\",\"line\":{\"colorbar\":{\"outlinewidth\":0,\"ticks\":\"\"}}}],\"scatterpolargl\":[{\"type\":\"scatterpolargl\",\"marker\":{\"colorbar\":{\"outlinewidth\":0,\"ticks\":\"\"}}}],\"bar\":[{\"error_x\":{\"color\":\"#2a3f5f\"},\"error_y\":{\"color\":\"#2a3f5f\"},\"marker\":{\"line\":{\"color\":\"#E5ECF6\",\"width\":0.5},\"pattern\":{\"fillmode\":\"overlay\",\"size\":10,\"solidity\":0.2}},\"type\":\"bar\"}],\"scattergeo\":[{\"type\":\"scattergeo\",\"marker\":{\"colorbar\":{\"outlinewidth\":0,\"ticks\":\"\"}}}],\"scatterpolar\":[{\"type\":\"scatterpolar\",\"marker\":{\"colorbar\":{\"outlinewidth\":0,\"ticks\":\"\"}}}],\"histogram\":[{\"marker\":{\"pattern\":{\"fillmode\":\"overlay\",\"size\":10,\"solidity\":0.2}},\"type\":\"histogram\"}],\"scattergl\":[{\"type\":\"scattergl\",\"marker\":{\"colorbar\":{\"outlinewidth\":0,\"ticks\":\"\"}}}],\"scatter3d\":[{\"type\":\"scatter3d\",\"line\":{\"colorbar\":{\"outlinewidth\":0,\"ticks\":\"\"}},\"marker\":{\"colorbar\":{\"outlinewidth\":0,\"ticks\":\"\"}}}],\"scattermapbox\":[{\"type\":\"scattermapbox\",\"marker\":{\"colorbar\":{\"outlinewidth\":0,\"ticks\":\"\"}}}],\"scatterternary\":[{\"type\":\"scatterternary\",\"marker\":{\"colorbar\":{\"outlinewidth\":0,\"ticks\":\"\"}}}],\"scattercarpet\":[{\"type\":\"scattercarpet\",\"marker\":{\"colorbar\":{\"outlinewidth\":0,\"ticks\":\"\"}}}],\"carpet\":[{\"aaxis\":{\"endlinecolor\":\"#2a3f5f\",\"gridcolor\":\"white\",\"linecolor\":\"white\",\"minorgridcolor\":\"white\",\"startlinecolor\":\"#2a3f5f\"},\"baxis\":{\"endlinecolor\":\"#2a3f5f\",\"gridcolor\":\"white\",\"linecolor\":\"white\",\"minorgridcolor\":\"white\",\"startlinecolor\":\"#2a3f5f\"},\"type\":\"carpet\"}],\"table\":[{\"cells\":{\"fill\":{\"color\":\"#EBF0F8\"},\"line\":{\"color\":\"white\"}},\"header\":{\"fill\":{\"color\":\"#C8D4E3\"},\"line\":{\"color\":\"white\"}},\"type\":\"table\"}],\"barpolar\":[{\"marker\":{\"line\":{\"color\":\"#E5ECF6\",\"width\":0.5},\"pattern\":{\"fillmode\":\"overlay\",\"size\":10,\"solidity\":0.2}},\"type\":\"barpolar\"}],\"pie\":[{\"automargin\":true,\"type\":\"pie\"}]},\"layout\":{\"autotypenumbers\":\"strict\",\"colorway\":[\"#636efa\",\"#EF553B\",\"#00cc96\",\"#ab63fa\",\"#FFA15A\",\"#19d3f3\",\"#FF6692\",\"#B6E880\",\"#FF97FF\",\"#FECB52\"],\"font\":{\"color\":\"#2a3f5f\"},\"hovermode\":\"closest\",\"hoverlabel\":{\"align\":\"left\"},\"paper_bgcolor\":\"white\",\"plot_bgcolor\":\"#E5ECF6\",\"polar\":{\"bgcolor\":\"#E5ECF6\",\"angularaxis\":{\"gridcolor\":\"white\",\"linecolor\":\"white\",\"ticks\":\"\"},\"radialaxis\":{\"gridcolor\":\"white\",\"linecolor\":\"white\",\"ticks\":\"\"}},\"ternary\":{\"bgcolor\":\"#E5ECF6\",\"aaxis\":{\"gridcolor\":\"white\",\"linecolor\":\"white\",\"ticks\":\"\"},\"baxis\":{\"gridcolor\":\"white\",\"linecolor\":\"white\",\"ticks\":\"\"},\"caxis\":{\"gridcolor\":\"white\",\"linecolor\":\"white\",\"ticks\":\"\"}},\"coloraxis\":{\"colorbar\":{\"outlinewidth\":0,\"ticks\":\"\"}},\"colorscale\":{\"sequential\":[[0.0,\"#0d0887\"],[0.1111111111111111,\"#46039f\"],[0.2222222222222222,\"#7201a8\"],[0.3333333333333333,\"#9c179e\"],[0.4444444444444444,\"#bd3786\"],[0.5555555555555556,\"#d8576b\"],[0.6666666666666666,\"#ed7953\"],[0.7777777777777778,\"#fb9f3a\"],[0.8888888888888888,\"#fdca26\"],[1.0,\"#f0f921\"]],\"sequentialminus\":[[0.0,\"#0d0887\"],[0.1111111111111111,\"#46039f\"],[0.2222222222222222,\"#7201a8\"],[0.3333333333333333,\"#9c179e\"],[0.4444444444444444,\"#bd3786\"],[0.5555555555555556,\"#d8576b\"],[0.6666666666666666,\"#ed7953\"],[0.7777777777777778,\"#fb9f3a\"],[0.8888888888888888,\"#fdca26\"],[1.0,\"#f0f921\"]],\"diverging\":[[0,\"#8e0152\"],[0.1,\"#c51b7d\"],[0.2,\"#de77ae\"],[0.3,\"#f1b6da\"],[0.4,\"#fde0ef\"],[0.5,\"#f7f7f7\"],[0.6,\"#e6f5d0\"],[0.7,\"#b8e186\"],[0.8,\"#7fbc41\"],[0.9,\"#4d9221\"],[1,\"#276419\"]]},\"xaxis\":{\"gridcolor\":\"white\",\"linecolor\":\"white\",\"ticks\":\"\",\"title\":{\"standoff\":15},\"zerolinecolor\":\"white\",\"automargin\":true,\"zerolinewidth\":2},\"yaxis\":{\"gridcolor\":\"white\",\"linecolor\":\"white\",\"ticks\":\"\",\"title\":{\"standoff\":15},\"zerolinecolor\":\"white\",\"automargin\":true,\"zerolinewidth\":2},\"scene\":{\"xaxis\":{\"backgroundcolor\":\"#E5ECF6\",\"gridcolor\":\"white\",\"linecolor\":\"white\",\"showbackground\":true,\"ticks\":\"\",\"zerolinecolor\":\"white\",\"gridwidth\":2},\"yaxis\":{\"backgroundcolor\":\"#E5ECF6\",\"gridcolor\":\"white\",\"linecolor\":\"white\",\"showbackground\":true,\"ticks\":\"\",\"zerolinecolor\":\"white\",\"gridwidth\":2},\"zaxis\":{\"backgroundcolor\":\"#E5ECF6\",\"gridcolor\":\"white\",\"linecolor\":\"white\",\"showbackground\":true,\"ticks\":\"\",\"zerolinecolor\":\"white\",\"gridwidth\":2}},\"shapedefaults\":{\"line\":{\"color\":\"#2a3f5f\"}},\"annotationdefaults\":{\"arrowcolor\":\"#2a3f5f\",\"arrowhead\":0,\"arrowwidth\":1},\"geo\":{\"bgcolor\":\"white\",\"landcolor\":\"#E5ECF6\",\"subunitcolor\":\"white\",\"showland\":true,\"showlakes\":true,\"lakecolor\":\"white\"},\"title\":{\"x\":0.05},\"mapbox\":{\"style\":\"light\"}}},\"width\":1800,\"height\":800},                        {\"responsive\": true}                    ).then(function(){\n",
       "                            \n",
       "var gd = document.getElementById('d86b744f-1091-43a5-b513-3a0c62782f5c');\n",
       "var x = new MutationObserver(function (mutations, observer) {{\n",
       "        var display = window.getComputedStyle(gd).display;\n",
       "        if (!display || display === 'none') {{\n",
       "            console.log([gd, 'removed!']);\n",
       "            Plotly.purge(gd);\n",
       "            observer.disconnect();\n",
       "        }}\n",
       "}});\n",
       "\n",
       "// Listen for the removal of the full notebook cells\n",
       "var notebookContainer = gd.closest('#notebook-container');\n",
       "if (notebookContainer) {{\n",
       "    x.observe(notebookContainer, {childList: true});\n",
       "}}\n",
       "\n",
       "// Listen for the clearing of the current output cell\n",
       "var outputEl = gd.closest('.output');\n",
       "if (outputEl) {{\n",
       "    x.observe(outputEl, {childList: true});\n",
       "}}\n",
       "\n",
       "                        })                };                });            </script>        </div>"
      ]
     },
     "metadata": {},
     "output_type": "display_data"
    }
   ],
   "source": [
    "import plotly \n",
    "import plotly.graph_objects as go\n",
    "fig = go.Figure(data=go.Heatmap(z=skills, x=skills.columns,y=skills.index, colorscale='magma', ygap=1))\n",
    "fig.update_layout(width=1800, height=800)\n",
    "fig.show()"
   ]
  },
  {
   "cell_type": "markdown",
   "id": "d383b1da",
   "metadata": {},
   "source": [
    "# Creating Jobs Dendogram"
   ]
  },
  {
   "cell_type": "code",
   "execution_count": 34,
   "id": "efb11071",
   "metadata": {},
   "outputs": [],
   "source": [
    "roles = [role for role in df['DevType'].columns]"
   ]
  },
  {
   "cell_type": "code",
   "execution_count": 35,
   "id": "2107bd9c",
   "metadata": {},
   "outputs": [
    {
     "data": {
      "application/vnd.plotly.v1+json": {
       "config": {
        "plotlyServerURL": "https://plot.ly"
       },
       "data": [
        {
         "hoverinfo": "text",
         "marker": {
          "color": "rgb(0,116,217)"
         },
         "mode": "lines",
         "type": "scatter",
         "x": [
          0,
          41.14498935018818,
          41.14498935018818,
          0
         ],
         "xaxis": "x",
         "y": [
          -5,
          -5,
          -15,
          -15
         ],
         "yaxis": "y"
        },
        {
         "hoverinfo": "text",
         "marker": {
          "color": "rgb(0,116,217)"
         },
         "mode": "lines",
         "type": "scatter",
         "x": [
          0,
          23.415207784184553,
          23.415207784184553,
          0
         ],
         "xaxis": "x",
         "y": [
          -35,
          -35,
          -45,
          -45
         ],
         "yaxis": "y"
        },
        {
         "hoverinfo": "text",
         "marker": {
          "color": "rgb(0,116,217)"
         },
         "mode": "lines",
         "type": "scatter",
         "x": [
          0,
          52.340165012688196,
          52.340165012688196,
          23.415207784184553
         ],
         "xaxis": "x",
         "y": [
          -25,
          -25,
          -40,
          -40
         ],
         "yaxis": "y"
        },
        {
         "hoverinfo": "text",
         "marker": {
          "color": "rgb(0,116,217)"
         },
         "mode": "lines",
         "type": "scatter",
         "x": [
          41.14498935018818,
          67.31889053873888,
          67.31889053873888,
          52.340165012688196
         ],
         "xaxis": "x",
         "y": [
          -10,
          -10,
          -32.5,
          -32.5
         ],
         "yaxis": "y"
        },
        {
         "hoverinfo": "text",
         "marker": {
          "color": "rgb(0,116,217)"
         },
         "mode": "lines",
         "type": "scatter",
         "x": [
          0,
          21.7634879959641,
          21.7634879959641,
          0
         ],
         "xaxis": "x",
         "y": [
          -75,
          -75,
          -85,
          -85
         ],
         "yaxis": "y"
        },
        {
         "hoverinfo": "text",
         "marker": {
          "color": "rgb(0,116,217)"
         },
         "mode": "lines",
         "type": "scatter",
         "x": [
          0,
          32.92909740643204,
          32.92909740643204,
          21.7634879959641
         ],
         "xaxis": "x",
         "y": [
          -65,
          -65,
          -80,
          -80
         ],
         "yaxis": "y"
        },
        {
         "hoverinfo": "text",
         "marker": {
          "color": "rgb(0,116,217)"
         },
         "mode": "lines",
         "type": "scatter",
         "x": [
          0,
          51.05983424128819,
          51.05983424128819,
          32.92909740643204
         ],
         "xaxis": "x",
         "y": [
          -55,
          -55,
          -72.5,
          -72.5
         ],
         "yaxis": "y"
        },
        {
         "hoverinfo": "text",
         "marker": {
          "color": "rgb(0,116,217)"
         },
         "mode": "lines",
         "type": "scatter",
         "x": [
          0,
          49.27575626327805,
          49.27575626327805,
          0
         ],
         "xaxis": "x",
         "y": [
          -105,
          -105,
          -115,
          -115
         ],
         "yaxis": "y"
        },
        {
         "hoverinfo": "text",
         "marker": {
          "color": "rgb(0,116,217)"
         },
         "mode": "lines",
         "type": "scatter",
         "x": [
          0,
          55.90828047237967,
          55.90828047237967,
          49.27575626327805
         ],
         "xaxis": "x",
         "y": [
          -95,
          -95,
          -110,
          -110
         ],
         "yaxis": "y"
        },
        {
         "hoverinfo": "text",
         "marker": {
          "color": "rgb(0,116,217)"
         },
         "mode": "lines",
         "type": "scatter",
         "x": [
          0,
          17.827405625265275,
          17.827405625265275,
          0
         ],
         "xaxis": "x",
         "y": [
          -155,
          -155,
          -165,
          -165
         ],
         "yaxis": "y"
        },
        {
         "hoverinfo": "text",
         "marker": {
          "color": "rgb(0,116,217)"
         },
         "mode": "lines",
         "type": "scatter",
         "x": [
          0,
          23.285912330283182,
          23.285912330283182,
          17.827405625265275
         ],
         "xaxis": "x",
         "y": [
          -145,
          -145,
          -160,
          -160
         ],
         "yaxis": "y"
        },
        {
         "hoverinfo": "text",
         "marker": {
          "color": "rgb(0,116,217)"
         },
         "mode": "lines",
         "type": "scatter",
         "x": [
          0,
          27.53924855309033,
          27.53924855309033,
          23.285912330283182
         ],
         "xaxis": "x",
         "y": [
          -135,
          -135,
          -152.5,
          -152.5
         ],
         "yaxis": "y"
        },
        {
         "hoverinfo": "text",
         "marker": {
          "color": "rgb(0,116,217)"
         },
         "mode": "lines",
         "type": "scatter",
         "x": [
          0,
          32.77090231093491,
          32.77090231093491,
          0
         ],
         "xaxis": "x",
         "y": [
          -175,
          -175,
          -185,
          -185
         ],
         "yaxis": "y"
        },
        {
         "hoverinfo": "text",
         "marker": {
          "color": "rgb(0,116,217)"
         },
         "mode": "lines",
         "type": "scatter",
         "x": [
          27.53924855309033,
          44.62429616342113,
          44.62429616342113,
          32.77090231093491
         ],
         "xaxis": "x",
         "y": [
          -143.75,
          -143.75,
          -180,
          -180
         ],
         "yaxis": "y"
        },
        {
         "hoverinfo": "text",
         "marker": {
          "color": "rgb(0,116,217)"
         },
         "mode": "lines",
         "type": "scatter",
         "x": [
          0,
          48.36731010579319,
          48.36731010579319,
          44.62429616342113
         ],
         "xaxis": "x",
         "y": [
          -125,
          -125,
          -161.875,
          -161.875
         ],
         "yaxis": "y"
        },
        {
         "hoverinfo": "text",
         "marker": {
          "color": "rgb(0,116,217)"
         },
         "mode": "lines",
         "type": "scatter",
         "x": [
          0,
          17.394169057077576,
          17.394169057077576,
          0
         ],
         "xaxis": "x",
         "y": [
          -215,
          -215,
          -225,
          -225
         ],
         "yaxis": "y"
        },
        {
         "hoverinfo": "text",
         "marker": {
          "color": "rgb(0,116,217)"
         },
         "mode": "lines",
         "type": "scatter",
         "x": [
          0,
          30.858646725388144,
          30.858646725388144,
          17.394169057077576
         ],
         "xaxis": "x",
         "y": [
          -205,
          -205,
          -220,
          -220
         ],
         "yaxis": "y"
        },
        {
         "hoverinfo": "text",
         "marker": {
          "color": "rgb(0,116,217)"
         },
         "mode": "lines",
         "type": "scatter",
         "x": [
          0,
          53.339640034636545,
          53.339640034636545,
          30.858646725388144
         ],
         "xaxis": "x",
         "y": [
          -195,
          -195,
          -212.5,
          -212.5
         ],
         "yaxis": "y"
        },
        {
         "hoverinfo": "text",
         "marker": {
          "color": "rgb(0,116,217)"
         },
         "mode": "lines",
         "type": "scatter",
         "x": [
          48.36731010579319,
          68.14874442316504,
          68.14874442316504,
          53.339640034636545
         ],
         "xaxis": "x",
         "y": [
          -143.4375,
          -143.4375,
          -203.75,
          -203.75
         ],
         "yaxis": "y"
        },
        {
         "hoverinfo": "text",
         "marker": {
          "color": "rgb(0,116,217)"
         },
         "mode": "lines",
         "type": "scatter",
         "x": [
          55.90828047237967,
          77.97692101887418,
          77.97692101887418,
          68.14874442316504
         ],
         "xaxis": "x",
         "y": [
          -102.5,
          -102.5,
          -173.59375,
          -173.59375
         ],
         "yaxis": "y"
        },
        {
         "hoverinfo": "text",
         "marker": {
          "color": "rgb(0,116,217)"
         },
         "mode": "lines",
         "type": "scatter",
         "x": [
          51.05983424128819,
          90.68525019578078,
          90.68525019578078,
          77.97692101887418
         ],
         "xaxis": "x",
         "y": [
          -63.75,
          -63.75,
          -138.046875,
          -138.046875
         ],
         "yaxis": "y"
        },
        {
         "hoverinfo": "text",
         "marker": {
          "color": "rgb(0,116,217)"
         },
         "mode": "lines",
         "type": "scatter",
         "x": [
          67.31889053873888,
          117.7922934028628,
          117.7922934028628,
          90.68525019578078
         ],
         "xaxis": "x",
         "y": [
          -21.25,
          -21.25,
          -100.8984375,
          -100.8984375
         ],
         "yaxis": "y"
        }
       ],
       "layout": {
        "autosize": false,
        "height": 700,
        "hovermode": "closest",
        "showlegend": false,
        "template": {
         "data": {
          "bar": [
           {
            "error_x": {
             "color": "#2a3f5f"
            },
            "error_y": {
             "color": "#2a3f5f"
            },
            "marker": {
             "line": {
              "color": "#E5ECF6",
              "width": 0.5
             },
             "pattern": {
              "fillmode": "overlay",
              "size": 10,
              "solidity": 0.2
             }
            },
            "type": "bar"
           }
          ],
          "barpolar": [
           {
            "marker": {
             "line": {
              "color": "#E5ECF6",
              "width": 0.5
             },
             "pattern": {
              "fillmode": "overlay",
              "size": 10,
              "solidity": 0.2
             }
            },
            "type": "barpolar"
           }
          ],
          "carpet": [
           {
            "aaxis": {
             "endlinecolor": "#2a3f5f",
             "gridcolor": "white",
             "linecolor": "white",
             "minorgridcolor": "white",
             "startlinecolor": "#2a3f5f"
            },
            "baxis": {
             "endlinecolor": "#2a3f5f",
             "gridcolor": "white",
             "linecolor": "white",
             "minorgridcolor": "white",
             "startlinecolor": "#2a3f5f"
            },
            "type": "carpet"
           }
          ],
          "choropleth": [
           {
            "colorbar": {
             "outlinewidth": 0,
             "ticks": ""
            },
            "type": "choropleth"
           }
          ],
          "contour": [
           {
            "colorbar": {
             "outlinewidth": 0,
             "ticks": ""
            },
            "colorscale": [
             [
              0,
              "#0d0887"
             ],
             [
              0.1111111111111111,
              "#46039f"
             ],
             [
              0.2222222222222222,
              "#7201a8"
             ],
             [
              0.3333333333333333,
              "#9c179e"
             ],
             [
              0.4444444444444444,
              "#bd3786"
             ],
             [
              0.5555555555555556,
              "#d8576b"
             ],
             [
              0.6666666666666666,
              "#ed7953"
             ],
             [
              0.7777777777777778,
              "#fb9f3a"
             ],
             [
              0.8888888888888888,
              "#fdca26"
             ],
             [
              1,
              "#f0f921"
             ]
            ],
            "type": "contour"
           }
          ],
          "contourcarpet": [
           {
            "colorbar": {
             "outlinewidth": 0,
             "ticks": ""
            },
            "type": "contourcarpet"
           }
          ],
          "heatmap": [
           {
            "colorbar": {
             "outlinewidth": 0,
             "ticks": ""
            },
            "colorscale": [
             [
              0,
              "#0d0887"
             ],
             [
              0.1111111111111111,
              "#46039f"
             ],
             [
              0.2222222222222222,
              "#7201a8"
             ],
             [
              0.3333333333333333,
              "#9c179e"
             ],
             [
              0.4444444444444444,
              "#bd3786"
             ],
             [
              0.5555555555555556,
              "#d8576b"
             ],
             [
              0.6666666666666666,
              "#ed7953"
             ],
             [
              0.7777777777777778,
              "#fb9f3a"
             ],
             [
              0.8888888888888888,
              "#fdca26"
             ],
             [
              1,
              "#f0f921"
             ]
            ],
            "type": "heatmap"
           }
          ],
          "heatmapgl": [
           {
            "colorbar": {
             "outlinewidth": 0,
             "ticks": ""
            },
            "colorscale": [
             [
              0,
              "#0d0887"
             ],
             [
              0.1111111111111111,
              "#46039f"
             ],
             [
              0.2222222222222222,
              "#7201a8"
             ],
             [
              0.3333333333333333,
              "#9c179e"
             ],
             [
              0.4444444444444444,
              "#bd3786"
             ],
             [
              0.5555555555555556,
              "#d8576b"
             ],
             [
              0.6666666666666666,
              "#ed7953"
             ],
             [
              0.7777777777777778,
              "#fb9f3a"
             ],
             [
              0.8888888888888888,
              "#fdca26"
             ],
             [
              1,
              "#f0f921"
             ]
            ],
            "type": "heatmapgl"
           }
          ],
          "histogram": [
           {
            "marker": {
             "pattern": {
              "fillmode": "overlay",
              "size": 10,
              "solidity": 0.2
             }
            },
            "type": "histogram"
           }
          ],
          "histogram2d": [
           {
            "colorbar": {
             "outlinewidth": 0,
             "ticks": ""
            },
            "colorscale": [
             [
              0,
              "#0d0887"
             ],
             [
              0.1111111111111111,
              "#46039f"
             ],
             [
              0.2222222222222222,
              "#7201a8"
             ],
             [
              0.3333333333333333,
              "#9c179e"
             ],
             [
              0.4444444444444444,
              "#bd3786"
             ],
             [
              0.5555555555555556,
              "#d8576b"
             ],
             [
              0.6666666666666666,
              "#ed7953"
             ],
             [
              0.7777777777777778,
              "#fb9f3a"
             ],
             [
              0.8888888888888888,
              "#fdca26"
             ],
             [
              1,
              "#f0f921"
             ]
            ],
            "type": "histogram2d"
           }
          ],
          "histogram2dcontour": [
           {
            "colorbar": {
             "outlinewidth": 0,
             "ticks": ""
            },
            "colorscale": [
             [
              0,
              "#0d0887"
             ],
             [
              0.1111111111111111,
              "#46039f"
             ],
             [
              0.2222222222222222,
              "#7201a8"
             ],
             [
              0.3333333333333333,
              "#9c179e"
             ],
             [
              0.4444444444444444,
              "#bd3786"
             ],
             [
              0.5555555555555556,
              "#d8576b"
             ],
             [
              0.6666666666666666,
              "#ed7953"
             ],
             [
              0.7777777777777778,
              "#fb9f3a"
             ],
             [
              0.8888888888888888,
              "#fdca26"
             ],
             [
              1,
              "#f0f921"
             ]
            ],
            "type": "histogram2dcontour"
           }
          ],
          "mesh3d": [
           {
            "colorbar": {
             "outlinewidth": 0,
             "ticks": ""
            },
            "type": "mesh3d"
           }
          ],
          "parcoords": [
           {
            "line": {
             "colorbar": {
              "outlinewidth": 0,
              "ticks": ""
             }
            },
            "type": "parcoords"
           }
          ],
          "pie": [
           {
            "automargin": true,
            "type": "pie"
           }
          ],
          "scatter": [
           {
            "fillpattern": {
             "fillmode": "overlay",
             "size": 10,
             "solidity": 0.2
            },
            "type": "scatter"
           }
          ],
          "scatter3d": [
           {
            "line": {
             "colorbar": {
              "outlinewidth": 0,
              "ticks": ""
             }
            },
            "marker": {
             "colorbar": {
              "outlinewidth": 0,
              "ticks": ""
             }
            },
            "type": "scatter3d"
           }
          ],
          "scattercarpet": [
           {
            "marker": {
             "colorbar": {
              "outlinewidth": 0,
              "ticks": ""
             }
            },
            "type": "scattercarpet"
           }
          ],
          "scattergeo": [
           {
            "marker": {
             "colorbar": {
              "outlinewidth": 0,
              "ticks": ""
             }
            },
            "type": "scattergeo"
           }
          ],
          "scattergl": [
           {
            "marker": {
             "colorbar": {
              "outlinewidth": 0,
              "ticks": ""
             }
            },
            "type": "scattergl"
           }
          ],
          "scattermapbox": [
           {
            "marker": {
             "colorbar": {
              "outlinewidth": 0,
              "ticks": ""
             }
            },
            "type": "scattermapbox"
           }
          ],
          "scatterpolar": [
           {
            "marker": {
             "colorbar": {
              "outlinewidth": 0,
              "ticks": ""
             }
            },
            "type": "scatterpolar"
           }
          ],
          "scatterpolargl": [
           {
            "marker": {
             "colorbar": {
              "outlinewidth": 0,
              "ticks": ""
             }
            },
            "type": "scatterpolargl"
           }
          ],
          "scatterternary": [
           {
            "marker": {
             "colorbar": {
              "outlinewidth": 0,
              "ticks": ""
             }
            },
            "type": "scatterternary"
           }
          ],
          "surface": [
           {
            "colorbar": {
             "outlinewidth": 0,
             "ticks": ""
            },
            "colorscale": [
             [
              0,
              "#0d0887"
             ],
             [
              0.1111111111111111,
              "#46039f"
             ],
             [
              0.2222222222222222,
              "#7201a8"
             ],
             [
              0.3333333333333333,
              "#9c179e"
             ],
             [
              0.4444444444444444,
              "#bd3786"
             ],
             [
              0.5555555555555556,
              "#d8576b"
             ],
             [
              0.6666666666666666,
              "#ed7953"
             ],
             [
              0.7777777777777778,
              "#fb9f3a"
             ],
             [
              0.8888888888888888,
              "#fdca26"
             ],
             [
              1,
              "#f0f921"
             ]
            ],
            "type": "surface"
           }
          ],
          "table": [
           {
            "cells": {
             "fill": {
              "color": "#EBF0F8"
             },
             "line": {
              "color": "white"
             }
            },
            "header": {
             "fill": {
              "color": "#C8D4E3"
             },
             "line": {
              "color": "white"
             }
            },
            "type": "table"
           }
          ]
         },
         "layout": {
          "annotationdefaults": {
           "arrowcolor": "#2a3f5f",
           "arrowhead": 0,
           "arrowwidth": 1
          },
          "autotypenumbers": "strict",
          "coloraxis": {
           "colorbar": {
            "outlinewidth": 0,
            "ticks": ""
           }
          },
          "colorscale": {
           "diverging": [
            [
             0,
             "#8e0152"
            ],
            [
             0.1,
             "#c51b7d"
            ],
            [
             0.2,
             "#de77ae"
            ],
            [
             0.3,
             "#f1b6da"
            ],
            [
             0.4,
             "#fde0ef"
            ],
            [
             0.5,
             "#f7f7f7"
            ],
            [
             0.6,
             "#e6f5d0"
            ],
            [
             0.7,
             "#b8e186"
            ],
            [
             0.8,
             "#7fbc41"
            ],
            [
             0.9,
             "#4d9221"
            ],
            [
             1,
             "#276419"
            ]
           ],
           "sequential": [
            [
             0,
             "#0d0887"
            ],
            [
             0.1111111111111111,
             "#46039f"
            ],
            [
             0.2222222222222222,
             "#7201a8"
            ],
            [
             0.3333333333333333,
             "#9c179e"
            ],
            [
             0.4444444444444444,
             "#bd3786"
            ],
            [
             0.5555555555555556,
             "#d8576b"
            ],
            [
             0.6666666666666666,
             "#ed7953"
            ],
            [
             0.7777777777777778,
             "#fb9f3a"
            ],
            [
             0.8888888888888888,
             "#fdca26"
            ],
            [
             1,
             "#f0f921"
            ]
           ],
           "sequentialminus": [
            [
             0,
             "#0d0887"
            ],
            [
             0.1111111111111111,
             "#46039f"
            ],
            [
             0.2222222222222222,
             "#7201a8"
            ],
            [
             0.3333333333333333,
             "#9c179e"
            ],
            [
             0.4444444444444444,
             "#bd3786"
            ],
            [
             0.5555555555555556,
             "#d8576b"
            ],
            [
             0.6666666666666666,
             "#ed7953"
            ],
            [
             0.7777777777777778,
             "#fb9f3a"
            ],
            [
             0.8888888888888888,
             "#fdca26"
            ],
            [
             1,
             "#f0f921"
            ]
           ]
          },
          "colorway": [
           "#636efa",
           "#EF553B",
           "#00cc96",
           "#ab63fa",
           "#FFA15A",
           "#19d3f3",
           "#FF6692",
           "#B6E880",
           "#FF97FF",
           "#FECB52"
          ],
          "font": {
           "color": "#2a3f5f"
          },
          "geo": {
           "bgcolor": "white",
           "lakecolor": "white",
           "landcolor": "#E5ECF6",
           "showlakes": true,
           "showland": true,
           "subunitcolor": "white"
          },
          "hoverlabel": {
           "align": "left"
          },
          "hovermode": "closest",
          "mapbox": {
           "style": "light"
          },
          "paper_bgcolor": "white",
          "plot_bgcolor": "#E5ECF6",
          "polar": {
           "angularaxis": {
            "gridcolor": "white",
            "linecolor": "white",
            "ticks": ""
           },
           "bgcolor": "#E5ECF6",
           "radialaxis": {
            "gridcolor": "white",
            "linecolor": "white",
            "ticks": ""
           }
          },
          "scene": {
           "xaxis": {
            "backgroundcolor": "#E5ECF6",
            "gridcolor": "white",
            "gridwidth": 2,
            "linecolor": "white",
            "showbackground": true,
            "ticks": "",
            "zerolinecolor": "white"
           },
           "yaxis": {
            "backgroundcolor": "#E5ECF6",
            "gridcolor": "white",
            "gridwidth": 2,
            "linecolor": "white",
            "showbackground": true,
            "ticks": "",
            "zerolinecolor": "white"
           },
           "zaxis": {
            "backgroundcolor": "#E5ECF6",
            "gridcolor": "white",
            "gridwidth": 2,
            "linecolor": "white",
            "showbackground": true,
            "ticks": "",
            "zerolinecolor": "white"
           }
          },
          "shapedefaults": {
           "line": {
            "color": "#2a3f5f"
           }
          },
          "ternary": {
           "aaxis": {
            "gridcolor": "white",
            "linecolor": "white",
            "ticks": ""
           },
           "baxis": {
            "gridcolor": "white",
            "linecolor": "white",
            "ticks": ""
           },
           "bgcolor": "#E5ECF6",
           "caxis": {
            "gridcolor": "white",
            "linecolor": "white",
            "ticks": ""
           }
          },
          "title": {
           "x": 0.05
          },
          "xaxis": {
           "automargin": true,
           "gridcolor": "white",
           "linecolor": "white",
           "ticks": "",
           "title": {
            "standoff": 15
           },
           "zerolinecolor": "white",
           "zerolinewidth": 2
          },
          "yaxis": {
           "automargin": true,
           "gridcolor": "white",
           "linecolor": "white",
           "ticks": "",
           "title": {
            "standoff": 15
           },
           "zerolinecolor": "white",
           "zerolinewidth": 2
          }
         }
        },
        "width": 1000,
        "xaxis": {
         "mirror": "allticks",
         "rangemode": "tozero",
         "showgrid": false,
         "showline": true,
         "showticklabels": true,
         "ticks": "outside",
         "type": "linear",
         "zeroline": false
        },
        "yaxis": {
         "mirror": "allticks",
         "rangemode": "tozero",
         "showgrid": false,
         "showline": true,
         "showticklabels": true,
         "tickmode": "array",
         "ticks": "outside",
         "ticktext": [
          "Developer, embedded applications or devices",
          "Developer, game or graphics",
          "Developer, full-stack",
          "Database administrator",
          "Developer, desktop or enterprise applications",
          "Data scientist or machine learning specialist",
          "Engineering manager",
          "Data or business analyst",
          "DevOps specialist",
          "Product manager",
          "Developer, QA or test",
          "Developer, mobile",
          "Academic researcher",
          "System administrator",
          "Developer, back-end",
          "Designer",
          "Developer, front-end",
          "Educator",
          "Engineer, site reliability",
          "Marketing or sales professional",
          "Engineer, data",
          "Scientist",
          "Senior executive/VP"
         ],
         "tickvals": [
          -5,
          -15,
          -25,
          -35,
          -45,
          -55,
          -65,
          -75,
          -85,
          -95,
          -105,
          -115,
          -125,
          -135,
          -145,
          -155,
          -165,
          -175,
          -185,
          -195,
          -205,
          -215,
          -225
         ],
         "type": "linear",
         "zeroline": false
        }
       }
      },
      "text/html": [
       "<div>                            <div id=\"ac47ffae-4afa-491f-ace4-9f1086826fe6\" class=\"plotly-graph-div\" style=\"height:700px; width:1000px;\"></div>            <script type=\"text/javascript\">                require([\"plotly\"], function(Plotly) {                    window.PLOTLYENV=window.PLOTLYENV || {};                                    if (document.getElementById(\"ac47ffae-4afa-491f-ace4-9f1086826fe6\")) {                    Plotly.newPlot(                        \"ac47ffae-4afa-491f-ace4-9f1086826fe6\",                        [{\"hoverinfo\":\"text\",\"marker\":{\"color\":\"rgb(0,116,217)\"},\"mode\":\"lines\",\"x\":[0.0,41.14498935018818,41.14498935018818,0.0],\"xaxis\":\"x\",\"y\":[-5.0,-5.0,-15.0,-15.0],\"yaxis\":\"y\",\"type\":\"scatter\"},{\"hoverinfo\":\"text\",\"marker\":{\"color\":\"rgb(0,116,217)\"},\"mode\":\"lines\",\"x\":[0.0,23.415207784184553,23.415207784184553,0.0],\"xaxis\":\"x\",\"y\":[-35.0,-35.0,-45.0,-45.0],\"yaxis\":\"y\",\"type\":\"scatter\"},{\"hoverinfo\":\"text\",\"marker\":{\"color\":\"rgb(0,116,217)\"},\"mode\":\"lines\",\"x\":[0.0,52.340165012688196,52.340165012688196,23.415207784184553],\"xaxis\":\"x\",\"y\":[-25.0,-25.0,-40.0,-40.0],\"yaxis\":\"y\",\"type\":\"scatter\"},{\"hoverinfo\":\"text\",\"marker\":{\"color\":\"rgb(0,116,217)\"},\"mode\":\"lines\",\"x\":[41.14498935018818,67.31889053873888,67.31889053873888,52.340165012688196],\"xaxis\":\"x\",\"y\":[-10.0,-10.0,-32.5,-32.5],\"yaxis\":\"y\",\"type\":\"scatter\"},{\"hoverinfo\":\"text\",\"marker\":{\"color\":\"rgb(0,116,217)\"},\"mode\":\"lines\",\"x\":[0.0,21.7634879959641,21.7634879959641,0.0],\"xaxis\":\"x\",\"y\":[-75.0,-75.0,-85.0,-85.0],\"yaxis\":\"y\",\"type\":\"scatter\"},{\"hoverinfo\":\"text\",\"marker\":{\"color\":\"rgb(0,116,217)\"},\"mode\":\"lines\",\"x\":[0.0,32.92909740643204,32.92909740643204,21.7634879959641],\"xaxis\":\"x\",\"y\":[-65.0,-65.0,-80.0,-80.0],\"yaxis\":\"y\",\"type\":\"scatter\"},{\"hoverinfo\":\"text\",\"marker\":{\"color\":\"rgb(0,116,217)\"},\"mode\":\"lines\",\"x\":[0.0,51.05983424128819,51.05983424128819,32.92909740643204],\"xaxis\":\"x\",\"y\":[-55.0,-55.0,-72.5,-72.5],\"yaxis\":\"y\",\"type\":\"scatter\"},{\"hoverinfo\":\"text\",\"marker\":{\"color\":\"rgb(0,116,217)\"},\"mode\":\"lines\",\"x\":[0.0,49.27575626327805,49.27575626327805,0.0],\"xaxis\":\"x\",\"y\":[-105.0,-105.0,-115.0,-115.0],\"yaxis\":\"y\",\"type\":\"scatter\"},{\"hoverinfo\":\"text\",\"marker\":{\"color\":\"rgb(0,116,217)\"},\"mode\":\"lines\",\"x\":[0.0,55.90828047237967,55.90828047237967,49.27575626327805],\"xaxis\":\"x\",\"y\":[-95.0,-95.0,-110.0,-110.0],\"yaxis\":\"y\",\"type\":\"scatter\"},{\"hoverinfo\":\"text\",\"marker\":{\"color\":\"rgb(0,116,217)\"},\"mode\":\"lines\",\"x\":[0.0,17.827405625265275,17.827405625265275,0.0],\"xaxis\":\"x\",\"y\":[-155.0,-155.0,-165.0,-165.0],\"yaxis\":\"y\",\"type\":\"scatter\"},{\"hoverinfo\":\"text\",\"marker\":{\"color\":\"rgb(0,116,217)\"},\"mode\":\"lines\",\"x\":[0.0,23.285912330283182,23.285912330283182,17.827405625265275],\"xaxis\":\"x\",\"y\":[-145.0,-145.0,-160.0,-160.0],\"yaxis\":\"y\",\"type\":\"scatter\"},{\"hoverinfo\":\"text\",\"marker\":{\"color\":\"rgb(0,116,217)\"},\"mode\":\"lines\",\"x\":[0.0,27.53924855309033,27.53924855309033,23.285912330283182],\"xaxis\":\"x\",\"y\":[-135.0,-135.0,-152.5,-152.5],\"yaxis\":\"y\",\"type\":\"scatter\"},{\"hoverinfo\":\"text\",\"marker\":{\"color\":\"rgb(0,116,217)\"},\"mode\":\"lines\",\"x\":[0.0,32.77090231093491,32.77090231093491,0.0],\"xaxis\":\"x\",\"y\":[-175.0,-175.0,-185.0,-185.0],\"yaxis\":\"y\",\"type\":\"scatter\"},{\"hoverinfo\":\"text\",\"marker\":{\"color\":\"rgb(0,116,217)\"},\"mode\":\"lines\",\"x\":[27.53924855309033,44.62429616342113,44.62429616342113,32.77090231093491],\"xaxis\":\"x\",\"y\":[-143.75,-143.75,-180.0,-180.0],\"yaxis\":\"y\",\"type\":\"scatter\"},{\"hoverinfo\":\"text\",\"marker\":{\"color\":\"rgb(0,116,217)\"},\"mode\":\"lines\",\"x\":[0.0,48.36731010579319,48.36731010579319,44.62429616342113],\"xaxis\":\"x\",\"y\":[-125.0,-125.0,-161.875,-161.875],\"yaxis\":\"y\",\"type\":\"scatter\"},{\"hoverinfo\":\"text\",\"marker\":{\"color\":\"rgb(0,116,217)\"},\"mode\":\"lines\",\"x\":[0.0,17.394169057077576,17.394169057077576,0.0],\"xaxis\":\"x\",\"y\":[-215.0,-215.0,-225.0,-225.0],\"yaxis\":\"y\",\"type\":\"scatter\"},{\"hoverinfo\":\"text\",\"marker\":{\"color\":\"rgb(0,116,217)\"},\"mode\":\"lines\",\"x\":[0.0,30.858646725388144,30.858646725388144,17.394169057077576],\"xaxis\":\"x\",\"y\":[-205.0,-205.0,-220.0,-220.0],\"yaxis\":\"y\",\"type\":\"scatter\"},{\"hoverinfo\":\"text\",\"marker\":{\"color\":\"rgb(0,116,217)\"},\"mode\":\"lines\",\"x\":[0.0,53.339640034636545,53.339640034636545,30.858646725388144],\"xaxis\":\"x\",\"y\":[-195.0,-195.0,-212.5,-212.5],\"yaxis\":\"y\",\"type\":\"scatter\"},{\"hoverinfo\":\"text\",\"marker\":{\"color\":\"rgb(0,116,217)\"},\"mode\":\"lines\",\"x\":[48.36731010579319,68.14874442316504,68.14874442316504,53.339640034636545],\"xaxis\":\"x\",\"y\":[-143.4375,-143.4375,-203.75,-203.75],\"yaxis\":\"y\",\"type\":\"scatter\"},{\"hoverinfo\":\"text\",\"marker\":{\"color\":\"rgb(0,116,217)\"},\"mode\":\"lines\",\"x\":[55.90828047237967,77.97692101887418,77.97692101887418,68.14874442316504],\"xaxis\":\"x\",\"y\":[-102.5,-102.5,-173.59375,-173.59375],\"yaxis\":\"y\",\"type\":\"scatter\"},{\"hoverinfo\":\"text\",\"marker\":{\"color\":\"rgb(0,116,217)\"},\"mode\":\"lines\",\"x\":[51.05983424128819,90.68525019578078,90.68525019578078,77.97692101887418],\"xaxis\":\"x\",\"y\":[-63.75,-63.75,-138.046875,-138.046875],\"yaxis\":\"y\",\"type\":\"scatter\"},{\"hoverinfo\":\"text\",\"marker\":{\"color\":\"rgb(0,116,217)\"},\"mode\":\"lines\",\"x\":[67.31889053873888,117.7922934028628,117.7922934028628,90.68525019578078],\"xaxis\":\"x\",\"y\":[-21.25,-21.25,-100.8984375,-100.8984375],\"yaxis\":\"y\",\"type\":\"scatter\"}],                        {\"autosize\":false,\"height\":700,\"hovermode\":\"closest\",\"showlegend\":false,\"width\":1000,\"xaxis\":{\"mirror\":\"allticks\",\"rangemode\":\"tozero\",\"showgrid\":false,\"showline\":true,\"showticklabels\":true,\"ticks\":\"outside\",\"type\":\"linear\",\"zeroline\":false},\"yaxis\":{\"mirror\":\"allticks\",\"rangemode\":\"tozero\",\"showgrid\":false,\"showline\":true,\"showticklabels\":true,\"tickmode\":\"array\",\"ticks\":\"outside\",\"ticktext\":[\"Developer, embedded applications or devices\",\"Developer, game or graphics\",\"Developer, full-stack\",\"Database administrator\",\"Developer, desktop or enterprise applications\",\"Data scientist or machine learning specialist\",\"Engineering manager\",\"Data or business analyst\",\"DevOps specialist\",\"Product manager\",\"Developer, QA or test\",\"Developer, mobile\",\"Academic researcher\",\"System administrator\",\"Developer, back-end\",\"Designer\",\"Developer, front-end\",\"Educator\",\"Engineer, site reliability\",\"Marketing or sales professional\",\"Engineer, data\",\"Scientist\",\"Senior executive/VP\"],\"tickvals\":[-5.0,-15.0,-25.0,-35.0,-45.0,-55.0,-65.0,-75.0,-85.0,-95.0,-105.0,-115.0,-125.0,-135.0,-145.0,-155.0,-165.0,-175.0,-185.0,-195.0,-205.0,-215.0,-225.0],\"type\":\"linear\",\"zeroline\":false},\"template\":{\"data\":{\"histogram2dcontour\":[{\"type\":\"histogram2dcontour\",\"colorbar\":{\"outlinewidth\":0,\"ticks\":\"\"},\"colorscale\":[[0.0,\"#0d0887\"],[0.1111111111111111,\"#46039f\"],[0.2222222222222222,\"#7201a8\"],[0.3333333333333333,\"#9c179e\"],[0.4444444444444444,\"#bd3786\"],[0.5555555555555556,\"#d8576b\"],[0.6666666666666666,\"#ed7953\"],[0.7777777777777778,\"#fb9f3a\"],[0.8888888888888888,\"#fdca26\"],[1.0,\"#f0f921\"]]}],\"choropleth\":[{\"type\":\"choropleth\",\"colorbar\":{\"outlinewidth\":0,\"ticks\":\"\"}}],\"histogram2d\":[{\"type\":\"histogram2d\",\"colorbar\":{\"outlinewidth\":0,\"ticks\":\"\"},\"colorscale\":[[0.0,\"#0d0887\"],[0.1111111111111111,\"#46039f\"],[0.2222222222222222,\"#7201a8\"],[0.3333333333333333,\"#9c179e\"],[0.4444444444444444,\"#bd3786\"],[0.5555555555555556,\"#d8576b\"],[0.6666666666666666,\"#ed7953\"],[0.7777777777777778,\"#fb9f3a\"],[0.8888888888888888,\"#fdca26\"],[1.0,\"#f0f921\"]]}],\"heatmap\":[{\"type\":\"heatmap\",\"colorbar\":{\"outlinewidth\":0,\"ticks\":\"\"},\"colorscale\":[[0.0,\"#0d0887\"],[0.1111111111111111,\"#46039f\"],[0.2222222222222222,\"#7201a8\"],[0.3333333333333333,\"#9c179e\"],[0.4444444444444444,\"#bd3786\"],[0.5555555555555556,\"#d8576b\"],[0.6666666666666666,\"#ed7953\"],[0.7777777777777778,\"#fb9f3a\"],[0.8888888888888888,\"#fdca26\"],[1.0,\"#f0f921\"]]}],\"heatmapgl\":[{\"type\":\"heatmapgl\",\"colorbar\":{\"outlinewidth\":0,\"ticks\":\"\"},\"colorscale\":[[0.0,\"#0d0887\"],[0.1111111111111111,\"#46039f\"],[0.2222222222222222,\"#7201a8\"],[0.3333333333333333,\"#9c179e\"],[0.4444444444444444,\"#bd3786\"],[0.5555555555555556,\"#d8576b\"],[0.6666666666666666,\"#ed7953\"],[0.7777777777777778,\"#fb9f3a\"],[0.8888888888888888,\"#fdca26\"],[1.0,\"#f0f921\"]]}],\"contourcarpet\":[{\"type\":\"contourcarpet\",\"colorbar\":{\"outlinewidth\":0,\"ticks\":\"\"}}],\"contour\":[{\"type\":\"contour\",\"colorbar\":{\"outlinewidth\":0,\"ticks\":\"\"},\"colorscale\":[[0.0,\"#0d0887\"],[0.1111111111111111,\"#46039f\"],[0.2222222222222222,\"#7201a8\"],[0.3333333333333333,\"#9c179e\"],[0.4444444444444444,\"#bd3786\"],[0.5555555555555556,\"#d8576b\"],[0.6666666666666666,\"#ed7953\"],[0.7777777777777778,\"#fb9f3a\"],[0.8888888888888888,\"#fdca26\"],[1.0,\"#f0f921\"]]}],\"surface\":[{\"type\":\"surface\",\"colorbar\":{\"outlinewidth\":0,\"ticks\":\"\"},\"colorscale\":[[0.0,\"#0d0887\"],[0.1111111111111111,\"#46039f\"],[0.2222222222222222,\"#7201a8\"],[0.3333333333333333,\"#9c179e\"],[0.4444444444444444,\"#bd3786\"],[0.5555555555555556,\"#d8576b\"],[0.6666666666666666,\"#ed7953\"],[0.7777777777777778,\"#fb9f3a\"],[0.8888888888888888,\"#fdca26\"],[1.0,\"#f0f921\"]]}],\"mesh3d\":[{\"type\":\"mesh3d\",\"colorbar\":{\"outlinewidth\":0,\"ticks\":\"\"}}],\"scatter\":[{\"fillpattern\":{\"fillmode\":\"overlay\",\"size\":10,\"solidity\":0.2},\"type\":\"scatter\"}],\"parcoords\":[{\"type\":\"parcoords\",\"line\":{\"colorbar\":{\"outlinewidth\":0,\"ticks\":\"\"}}}],\"scatterpolargl\":[{\"type\":\"scatterpolargl\",\"marker\":{\"colorbar\":{\"outlinewidth\":0,\"ticks\":\"\"}}}],\"bar\":[{\"error_x\":{\"color\":\"#2a3f5f\"},\"error_y\":{\"color\":\"#2a3f5f\"},\"marker\":{\"line\":{\"color\":\"#E5ECF6\",\"width\":0.5},\"pattern\":{\"fillmode\":\"overlay\",\"size\":10,\"solidity\":0.2}},\"type\":\"bar\"}],\"scattergeo\":[{\"type\":\"scattergeo\",\"marker\":{\"colorbar\":{\"outlinewidth\":0,\"ticks\":\"\"}}}],\"scatterpolar\":[{\"type\":\"scatterpolar\",\"marker\":{\"colorbar\":{\"outlinewidth\":0,\"ticks\":\"\"}}}],\"histogram\":[{\"marker\":{\"pattern\":{\"fillmode\":\"overlay\",\"size\":10,\"solidity\":0.2}},\"type\":\"histogram\"}],\"scattergl\":[{\"type\":\"scattergl\",\"marker\":{\"colorbar\":{\"outlinewidth\":0,\"ticks\":\"\"}}}],\"scatter3d\":[{\"type\":\"scatter3d\",\"line\":{\"colorbar\":{\"outlinewidth\":0,\"ticks\":\"\"}},\"marker\":{\"colorbar\":{\"outlinewidth\":0,\"ticks\":\"\"}}}],\"scattermapbox\":[{\"type\":\"scattermapbox\",\"marker\":{\"colorbar\":{\"outlinewidth\":0,\"ticks\":\"\"}}}],\"scatterternary\":[{\"type\":\"scatterternary\",\"marker\":{\"colorbar\":{\"outlinewidth\":0,\"ticks\":\"\"}}}],\"scattercarpet\":[{\"type\":\"scattercarpet\",\"marker\":{\"colorbar\":{\"outlinewidth\":0,\"ticks\":\"\"}}}],\"carpet\":[{\"aaxis\":{\"endlinecolor\":\"#2a3f5f\",\"gridcolor\":\"white\",\"linecolor\":\"white\",\"minorgridcolor\":\"white\",\"startlinecolor\":\"#2a3f5f\"},\"baxis\":{\"endlinecolor\":\"#2a3f5f\",\"gridcolor\":\"white\",\"linecolor\":\"white\",\"minorgridcolor\":\"white\",\"startlinecolor\":\"#2a3f5f\"},\"type\":\"carpet\"}],\"table\":[{\"cells\":{\"fill\":{\"color\":\"#EBF0F8\"},\"line\":{\"color\":\"white\"}},\"header\":{\"fill\":{\"color\":\"#C8D4E3\"},\"line\":{\"color\":\"white\"}},\"type\":\"table\"}],\"barpolar\":[{\"marker\":{\"line\":{\"color\":\"#E5ECF6\",\"width\":0.5},\"pattern\":{\"fillmode\":\"overlay\",\"size\":10,\"solidity\":0.2}},\"type\":\"barpolar\"}],\"pie\":[{\"automargin\":true,\"type\":\"pie\"}]},\"layout\":{\"autotypenumbers\":\"strict\",\"colorway\":[\"#636efa\",\"#EF553B\",\"#00cc96\",\"#ab63fa\",\"#FFA15A\",\"#19d3f3\",\"#FF6692\",\"#B6E880\",\"#FF97FF\",\"#FECB52\"],\"font\":{\"color\":\"#2a3f5f\"},\"hovermode\":\"closest\",\"hoverlabel\":{\"align\":\"left\"},\"paper_bgcolor\":\"white\",\"plot_bgcolor\":\"#E5ECF6\",\"polar\":{\"bgcolor\":\"#E5ECF6\",\"angularaxis\":{\"gridcolor\":\"white\",\"linecolor\":\"white\",\"ticks\":\"\"},\"radialaxis\":{\"gridcolor\":\"white\",\"linecolor\":\"white\",\"ticks\":\"\"}},\"ternary\":{\"bgcolor\":\"#E5ECF6\",\"aaxis\":{\"gridcolor\":\"white\",\"linecolor\":\"white\",\"ticks\":\"\"},\"baxis\":{\"gridcolor\":\"white\",\"linecolor\":\"white\",\"ticks\":\"\"},\"caxis\":{\"gridcolor\":\"white\",\"linecolor\":\"white\",\"ticks\":\"\"}},\"coloraxis\":{\"colorbar\":{\"outlinewidth\":0,\"ticks\":\"\"}},\"colorscale\":{\"sequential\":[[0.0,\"#0d0887\"],[0.1111111111111111,\"#46039f\"],[0.2222222222222222,\"#7201a8\"],[0.3333333333333333,\"#9c179e\"],[0.4444444444444444,\"#bd3786\"],[0.5555555555555556,\"#d8576b\"],[0.6666666666666666,\"#ed7953\"],[0.7777777777777778,\"#fb9f3a\"],[0.8888888888888888,\"#fdca26\"],[1.0,\"#f0f921\"]],\"sequentialminus\":[[0.0,\"#0d0887\"],[0.1111111111111111,\"#46039f\"],[0.2222222222222222,\"#7201a8\"],[0.3333333333333333,\"#9c179e\"],[0.4444444444444444,\"#bd3786\"],[0.5555555555555556,\"#d8576b\"],[0.6666666666666666,\"#ed7953\"],[0.7777777777777778,\"#fb9f3a\"],[0.8888888888888888,\"#fdca26\"],[1.0,\"#f0f921\"]],\"diverging\":[[0,\"#8e0152\"],[0.1,\"#c51b7d\"],[0.2,\"#de77ae\"],[0.3,\"#f1b6da\"],[0.4,\"#fde0ef\"],[0.5,\"#f7f7f7\"],[0.6,\"#e6f5d0\"],[0.7,\"#b8e186\"],[0.8,\"#7fbc41\"],[0.9,\"#4d9221\"],[1,\"#276419\"]]},\"xaxis\":{\"gridcolor\":\"white\",\"linecolor\":\"white\",\"ticks\":\"\",\"title\":{\"standoff\":15},\"zerolinecolor\":\"white\",\"automargin\":true,\"zerolinewidth\":2},\"yaxis\":{\"gridcolor\":\"white\",\"linecolor\":\"white\",\"ticks\":\"\",\"title\":{\"standoff\":15},\"zerolinecolor\":\"white\",\"automargin\":true,\"zerolinewidth\":2},\"scene\":{\"xaxis\":{\"backgroundcolor\":\"#E5ECF6\",\"gridcolor\":\"white\",\"linecolor\":\"white\",\"showbackground\":true,\"ticks\":\"\",\"zerolinecolor\":\"white\",\"gridwidth\":2},\"yaxis\":{\"backgroundcolor\":\"#E5ECF6\",\"gridcolor\":\"white\",\"linecolor\":\"white\",\"showbackground\":true,\"ticks\":\"\",\"zerolinecolor\":\"white\",\"gridwidth\":2},\"zaxis\":{\"backgroundcolor\":\"#E5ECF6\",\"gridcolor\":\"white\",\"linecolor\":\"white\",\"showbackground\":true,\"ticks\":\"\",\"zerolinecolor\":\"white\",\"gridwidth\":2}},\"shapedefaults\":{\"line\":{\"color\":\"#2a3f5f\"}},\"annotationdefaults\":{\"arrowcolor\":\"#2a3f5f\",\"arrowhead\":0,\"arrowwidth\":1},\"geo\":{\"bgcolor\":\"white\",\"landcolor\":\"#E5ECF6\",\"subunitcolor\":\"white\",\"showland\":true,\"showlakes\":true,\"lakecolor\":\"white\"},\"title\":{\"x\":0.05},\"mapbox\":{\"style\":\"light\"}}}},                        {\"responsive\": true}                    ).then(function(){\n",
       "                            \n",
       "var gd = document.getElementById('ac47ffae-4afa-491f-ace4-9f1086826fe6');\n",
       "var x = new MutationObserver(function (mutations, observer) {{\n",
       "        var display = window.getComputedStyle(gd).display;\n",
       "        if (!display || display === 'none') {{\n",
       "            console.log([gd, 'removed!']);\n",
       "            Plotly.purge(gd);\n",
       "            observer.disconnect();\n",
       "        }}\n",
       "}});\n",
       "\n",
       "// Listen for the removal of the full notebook cells\n",
       "var notebookContainer = gd.closest('#notebook-container');\n",
       "if (notebookContainer) {{\n",
       "    x.observe(notebookContainer, {childList: true});\n",
       "}}\n",
       "\n",
       "// Listen for the clearing of the current output cell\n",
       "var outputEl = gd.closest('.output');\n",
       "if (outputEl) {{\n",
       "    x.observe(outputEl, {childList: true});\n",
       "}}\n",
       "\n",
       "                        })                };                });            </script>        </div>"
      ]
     },
     "metadata": {},
     "output_type": "display_data"
    }
   ],
   "source": [
    "import plotly.figure_factory as ff\n",
    "fig = ff.create_dendrogram(skills, labels=roles, orientation='left', color_threshold=0)\n",
    "fig.update_layout(height=700, width=1000, showlegend=False)\n",
    "fig.show()"
   ]
  },
  {
   "cell_type": "markdown",
   "id": "eb16ced8",
   "metadata": {},
   "source": [
    "# Normalizing Features\n",
    "Relation between Skills & Jobs becomes more specific and clearer"
   ]
  },
  {
   "cell_type": "code",
   "execution_count": 36,
   "id": "4d1910e1",
   "metadata": {},
   "outputs": [],
   "source": [
    "from sklearn.preprocessing import StandardScaler\n",
    "normalized_skills = StandardScaler().fit_transform(skills)\n",
    "normalized_skills = pd.DataFrame(normalized_skills, columns=skills.columns, index=skills.index)"
   ]
  },
  {
   "cell_type": "code",
   "execution_count": 37,
   "id": "539e3b56",
   "metadata": {},
   "outputs": [
    {
     "data": {
      "text/html": [
       "<div>\n",
       "<style scoped>\n",
       "    .dataframe tbody tr th:only-of-type {\n",
       "        vertical-align: middle;\n",
       "    }\n",
       "\n",
       "    .dataframe tbody tr th {\n",
       "        vertical-align: top;\n",
       "    }\n",
       "\n",
       "    .dataframe thead th {\n",
       "        text-align: right;\n",
       "    }\n",
       "</style>\n",
       "<table border=\"1\" class=\"dataframe\">\n",
       "  <thead>\n",
       "    <tr style=\"text-align: right;\">\n",
       "      <th></th>\n",
       "      <th>JavaScript</th>\n",
       "      <th>HTML/CSS</th>\n",
       "      <th>SQL</th>\n",
       "      <th>MySQL</th>\n",
       "      <th>Python</th>\n",
       "      <th>Java</th>\n",
       "      <th>Node.js</th>\n",
       "      <th>Bash/Shell/PowerShell</th>\n",
       "      <th>jQuery</th>\n",
       "      <th>C#</th>\n",
       "      <th>...</th>\n",
       "      <th>Gatsby</th>\n",
       "      <th>Cassandra</th>\n",
       "      <th>IBM DB2</th>\n",
       "      <th>Drupal</th>\n",
       "      <th>Unreal Engine</th>\n",
       "      <th>Haskell</th>\n",
       "      <th>Puppet</th>\n",
       "      <th>Couchbase</th>\n",
       "      <th>Chef</th>\n",
       "      <th>Julia</th>\n",
       "    </tr>\n",
       "  </thead>\n",
       "  <tbody>\n",
       "    <tr>\n",
       "      <th>Marketing or sales professional</th>\n",
       "      <td>0.433816</td>\n",
       "      <td>1.510025</td>\n",
       "      <td>-0.260708</td>\n",
       "      <td>2.216239</td>\n",
       "      <td>-0.766784</td>\n",
       "      <td>-1.369926</td>\n",
       "      <td>0.528826</td>\n",
       "      <td>-1.040611</td>\n",
       "      <td>1.505056</td>\n",
       "      <td>-1.020478</td>\n",
       "      <td>...</td>\n",
       "      <td>3.452427</td>\n",
       "      <td>0.903457</td>\n",
       "      <td>2.315078</td>\n",
       "      <td>3.687879</td>\n",
       "      <td>1.109495</td>\n",
       "      <td>1.468417</td>\n",
       "      <td>0.763845</td>\n",
       "      <td>3.170701</td>\n",
       "      <td>1.239791</td>\n",
       "      <td>1.589551</td>\n",
       "    </tr>\n",
       "    <tr>\n",
       "      <th>Senior executive/VP</th>\n",
       "      <td>0.636243</td>\n",
       "      <td>0.649598</td>\n",
       "      <td>0.622312</td>\n",
       "      <td>-0.185986</td>\n",
       "      <td>-0.140330</td>\n",
       "      <td>-1.101400</td>\n",
       "      <td>0.843117</td>\n",
       "      <td>0.472389</td>\n",
       "      <td>0.076494</td>\n",
       "      <td>0.163804</td>\n",
       "      <td>...</td>\n",
       "      <td>0.944052</td>\n",
       "      <td>1.288963</td>\n",
       "      <td>1.714835</td>\n",
       "      <td>1.193263</td>\n",
       "      <td>0.218279</td>\n",
       "      <td>0.627067</td>\n",
       "      <td>0.952938</td>\n",
       "      <td>2.187051</td>\n",
       "      <td>0.785153</td>\n",
       "      <td>0.621855</td>\n",
       "    </tr>\n",
       "    <tr>\n",
       "      <th>Engineer, site reliability</th>\n",
       "      <td>-0.129660</td>\n",
       "      <td>-0.578629</td>\n",
       "      <td>0.213405</td>\n",
       "      <td>0.670758</td>\n",
       "      <td>1.044524</td>\n",
       "      <td>0.527746</td>\n",
       "      <td>0.664846</td>\n",
       "      <td>2.426403</td>\n",
       "      <td>-0.786003</td>\n",
       "      <td>-0.964409</td>\n",
       "      <td>...</td>\n",
       "      <td>0.726379</td>\n",
       "      <td>2.594284</td>\n",
       "      <td>0.017105</td>\n",
       "      <td>0.647890</td>\n",
       "      <td>-0.194340</td>\n",
       "      <td>1.218568</td>\n",
       "      <td>3.480932</td>\n",
       "      <td>0.650205</td>\n",
       "      <td>3.327545</td>\n",
       "      <td>0.097269</td>\n",
       "    </tr>\n",
       "    <tr>\n",
       "      <th>Scientist</th>\n",
       "      <td>-2.033926</td>\n",
       "      <td>-1.900843</td>\n",
       "      <td>-1.971116</td>\n",
       "      <td>-2.284794</td>\n",
       "      <td>1.708186</td>\n",
       "      <td>-1.187979</td>\n",
       "      <td>-1.895546</td>\n",
       "      <td>0.247490</td>\n",
       "      <td>-1.719184</td>\n",
       "      <td>-1.455676</td>\n",
       "      <td>...</td>\n",
       "      <td>-0.573372</td>\n",
       "      <td>-0.127158</td>\n",
       "      <td>-0.220117</td>\n",
       "      <td>-0.319072</td>\n",
       "      <td>0.115872</td>\n",
       "      <td>1.836601</td>\n",
       "      <td>-0.500806</td>\n",
       "      <td>0.258055</td>\n",
       "      <td>-0.319457</td>\n",
       "      <td>2.624992</td>\n",
       "    </tr>\n",
       "    <tr>\n",
       "      <th>Product manager</th>\n",
       "      <td>0.650333</td>\n",
       "      <td>0.699925</td>\n",
       "      <td>0.384822</td>\n",
       "      <td>0.398550</td>\n",
       "      <td>-0.478822</td>\n",
       "      <td>-0.374835</td>\n",
       "      <td>0.655958</td>\n",
       "      <td>-0.317055</td>\n",
       "      <td>0.880611</td>\n",
       "      <td>0.121461</td>\n",
       "      <td>...</td>\n",
       "      <td>0.666328</td>\n",
       "      <td>-0.010992</td>\n",
       "      <td>0.256063</td>\n",
       "      <td>0.673492</td>\n",
       "      <td>-0.173420</td>\n",
       "      <td>-0.562685</td>\n",
       "      <td>-0.099882</td>\n",
       "      <td>0.124635</td>\n",
       "      <td>-0.018268</td>\n",
       "      <td>-0.230841</td>\n",
       "    </tr>\n",
       "    <tr>\n",
       "      <th>Engineering manager</th>\n",
       "      <td>0.249902</td>\n",
       "      <td>-0.327758</td>\n",
       "      <td>0.058894</td>\n",
       "      <td>-0.682794</td>\n",
       "      <td>-0.095392</td>\n",
       "      <td>0.046803</td>\n",
       "      <td>0.793530</td>\n",
       "      <td>0.643151</td>\n",
       "      <td>-0.808494</td>\n",
       "      <td>-0.032354</td>\n",
       "      <td>...</td>\n",
       "      <td>0.668527</td>\n",
       "      <td>1.214478</td>\n",
       "      <td>0.136461</td>\n",
       "      <td>0.300705</td>\n",
       "      <td>-0.357597</td>\n",
       "      <td>-0.143187</td>\n",
       "      <td>0.762866</td>\n",
       "      <td>0.985202</td>\n",
       "      <td>1.028413</td>\n",
       "      <td>-0.218632</td>\n",
       "    </tr>\n",
       "    <tr>\n",
       "      <th>Developer, game or graphics</th>\n",
       "      <td>0.018228</td>\n",
       "      <td>-0.123062</td>\n",
       "      <td>-1.293442</td>\n",
       "      <td>-0.490612</td>\n",
       "      <td>-0.322077</td>\n",
       "      <td>0.879523</td>\n",
       "      <td>0.450207</td>\n",
       "      <td>-0.560643</td>\n",
       "      <td>-0.259346</td>\n",
       "      <td>2.582619</td>\n",
       "      <td>...</td>\n",
       "      <td>-0.043181</td>\n",
       "      <td>-0.970250</td>\n",
       "      <td>-1.207997</td>\n",
       "      <td>-0.340806</td>\n",
       "      <td>4.359325</td>\n",
       "      <td>0.358940</td>\n",
       "      <td>-0.443031</td>\n",
       "      <td>0.014906</td>\n",
       "      <td>-0.412027</td>\n",
       "      <td>-0.350488</td>\n",
       "    </tr>\n",
       "    <tr>\n",
       "      <th>Educator</th>\n",
       "      <td>0.147299</td>\n",
       "      <td>0.377331</td>\n",
       "      <td>-0.401562</td>\n",
       "      <td>0.690342</td>\n",
       "      <td>-0.202682</td>\n",
       "      <td>0.538758</td>\n",
       "      <td>0.196403</td>\n",
       "      <td>-0.237290</td>\n",
       "      <td>0.222453</td>\n",
       "      <td>-0.518730</td>\n",
       "      <td>...</td>\n",
       "      <td>0.447761</td>\n",
       "      <td>-0.474256</td>\n",
       "      <td>0.106300</td>\n",
       "      <td>0.311365</td>\n",
       "      <td>-0.111096</td>\n",
       "      <td>1.463360</td>\n",
       "      <td>-0.196271</td>\n",
       "      <td>-0.225736</td>\n",
       "      <td>-0.238253</td>\n",
       "      <td>0.225666</td>\n",
       "    </tr>\n",
       "    <tr>\n",
       "      <th>Academic researcher</th>\n",
       "      <td>-1.407328</td>\n",
       "      <td>-1.159514</td>\n",
       "      <td>-1.603496</td>\n",
       "      <td>-0.699876</td>\n",
       "      <td>0.971301</td>\n",
       "      <td>0.507160</td>\n",
       "      <td>-1.540057</td>\n",
       "      <td>-0.398978</td>\n",
       "      <td>-0.956723</td>\n",
       "      <td>-1.209634</td>\n",
       "      <td>...</td>\n",
       "      <td>-0.830649</td>\n",
       "      <td>-0.311933</td>\n",
       "      <td>-0.734140</td>\n",
       "      <td>-0.572703</td>\n",
       "      <td>-0.260511</td>\n",
       "      <td>1.784139</td>\n",
       "      <td>-0.608987</td>\n",
       "      <td>-0.481403</td>\n",
       "      <td>-0.714261</td>\n",
       "      <td>1.798622</td>\n",
       "    </tr>\n",
       "    <tr>\n",
       "      <th>Engineer, data</th>\n",
       "      <td>-1.111219</td>\n",
       "      <td>-1.259494</td>\n",
       "      <td>0.876667</td>\n",
       "      <td>-0.158863</td>\n",
       "      <td>1.486659</td>\n",
       "      <td>0.651127</td>\n",
       "      <td>-0.978901</td>\n",
       "      <td>0.416004</td>\n",
       "      <td>-1.018470</td>\n",
       "      <td>-0.898221</td>\n",
       "      <td>...</td>\n",
       "      <td>-0.666947</td>\n",
       "      <td>1.805182</td>\n",
       "      <td>0.714290</td>\n",
       "      <td>-0.626094</td>\n",
       "      <td>-0.349830</td>\n",
       "      <td>0.021444</td>\n",
       "      <td>-0.210943</td>\n",
       "      <td>0.497993</td>\n",
       "      <td>-0.197377</td>\n",
       "      <td>0.270590</td>\n",
       "    </tr>\n",
       "    <tr>\n",
       "      <th>Developer, QA or test</th>\n",
       "      <td>0.490689</td>\n",
       "      <td>0.427751</td>\n",
       "      <td>0.418043</td>\n",
       "      <td>0.418457</td>\n",
       "      <td>-0.291421</td>\n",
       "      <td>1.371552</td>\n",
       "      <td>0.366489</td>\n",
       "      <td>0.243025</td>\n",
       "      <td>0.399618</td>\n",
       "      <td>0.618193</td>\n",
       "      <td>...</td>\n",
       "      <td>-0.513617</td>\n",
       "      <td>-0.501089</td>\n",
       "      <td>0.031672</td>\n",
       "      <td>0.171017</td>\n",
       "      <td>-0.186384</td>\n",
       "      <td>-0.565354</td>\n",
       "      <td>0.022259</td>\n",
       "      <td>-0.404328</td>\n",
       "      <td>-0.117608</td>\n",
       "      <td>-0.372601</td>\n",
       "    </tr>\n",
       "    <tr>\n",
       "      <th>Data scientist or machine learning specialist</th>\n",
       "      <td>-2.055381</td>\n",
       "      <td>-1.760650</td>\n",
       "      <td>-0.180472</td>\n",
       "      <td>-0.852635</td>\n",
       "      <td>2.614848</td>\n",
       "      <td>-0.677354</td>\n",
       "      <td>-1.946425</td>\n",
       "      <td>-0.078961</td>\n",
       "      <td>-1.861257</td>\n",
       "      <td>-1.585191</td>\n",
       "      <td>...</td>\n",
       "      <td>-0.732300</td>\n",
       "      <td>0.629389</td>\n",
       "      <td>0.101120</td>\n",
       "      <td>-0.866586</td>\n",
       "      <td>-0.330042</td>\n",
       "      <td>0.893137</td>\n",
       "      <td>-0.425910</td>\n",
       "      <td>-0.627059</td>\n",
       "      <td>-0.366560</td>\n",
       "      <td>1.727011</td>\n",
       "    </tr>\n",
       "    <tr>\n",
       "      <th>Data or business analyst</th>\n",
       "      <td>-1.039842</td>\n",
       "      <td>-0.524943</td>\n",
       "      <td>1.638119</td>\n",
       "      <td>-0.164324</td>\n",
       "      <td>0.476773</td>\n",
       "      <td>-1.654257</td>\n",
       "      <td>-1.599485</td>\n",
       "      <td>-0.636209</td>\n",
       "      <td>-0.364434</td>\n",
       "      <td>-0.252203</td>\n",
       "      <td>...</td>\n",
       "      <td>-1.010098</td>\n",
       "      <td>-0.467906</td>\n",
       "      <td>2.039194</td>\n",
       "      <td>-0.232415</td>\n",
       "      <td>-0.592039</td>\n",
       "      <td>-0.480193</td>\n",
       "      <td>-0.495055</td>\n",
       "      <td>-0.599003</td>\n",
       "      <td>-0.424310</td>\n",
       "      <td>-0.009916</td>\n",
       "    </tr>\n",
       "    <tr>\n",
       "      <th>Developer, embedded applications or devices</th>\n",
       "      <td>-0.949687</td>\n",
       "      <td>-1.085506</td>\n",
       "      <td>-1.257949</td>\n",
       "      <td>-1.102951</td>\n",
       "      <td>0.224939</td>\n",
       "      <td>0.498963</td>\n",
       "      <td>-0.662387</td>\n",
       "      <td>0.424970</td>\n",
       "      <td>-0.864224</td>\n",
       "      <td>0.615422</td>\n",
       "      <td>...</td>\n",
       "      <td>-0.863312</td>\n",
       "      <td>-0.390833</td>\n",
       "      <td>-0.225474</td>\n",
       "      <td>-0.807342</td>\n",
       "      <td>0.032434</td>\n",
       "      <td>0.050404</td>\n",
       "      <td>-0.576496</td>\n",
       "      <td>-0.192786</td>\n",
       "      <td>-0.521307</td>\n",
       "      <td>-0.449405</td>\n",
       "    </tr>\n",
       "    <tr>\n",
       "      <th>System administrator</th>\n",
       "      <td>0.435298</td>\n",
       "      <td>0.687582</td>\n",
       "      <td>0.993833</td>\n",
       "      <td>1.437098</td>\n",
       "      <td>0.279616</td>\n",
       "      <td>-0.492209</td>\n",
       "      <td>0.067418</td>\n",
       "      <td>1.677520</td>\n",
       "      <td>0.838441</td>\n",
       "      <td>-0.218409</td>\n",
       "      <td>...</td>\n",
       "      <td>-0.614719</td>\n",
       "      <td>-0.018944</td>\n",
       "      <td>0.026752</td>\n",
       "      <td>0.588124</td>\n",
       "      <td>-0.099293</td>\n",
       "      <td>-0.112547</td>\n",
       "      <td>1.060087</td>\n",
       "      <td>-0.300820</td>\n",
       "      <td>0.566372</td>\n",
       "      <td>-0.452402</td>\n",
       "    </tr>\n",
       "    <tr>\n",
       "      <th>Designer</th>\n",
       "      <td>0.975655</td>\n",
       "      <td>1.306996</td>\n",
       "      <td>-0.137532</td>\n",
       "      <td>0.961965</td>\n",
       "      <td>-0.994810</td>\n",
       "      <td>-0.470398</td>\n",
       "      <td>0.551294</td>\n",
       "      <td>-1.151487</td>\n",
       "      <td>1.546193</td>\n",
       "      <td>0.194734</td>\n",
       "      <td>...</td>\n",
       "      <td>0.595563</td>\n",
       "      <td>-1.026116</td>\n",
       "      <td>-0.266621</td>\n",
       "      <td>0.371733</td>\n",
       "      <td>0.114099</td>\n",
       "      <td>-0.929230</td>\n",
       "      <td>-0.580590</td>\n",
       "      <td>-0.745351</td>\n",
       "      <td>-0.701373</td>\n",
       "      <td>-0.699843</td>\n",
       "    </tr>\n",
       "    <tr>\n",
       "      <th>Database administrator</th>\n",
       "      <td>0.788925</td>\n",
       "      <td>1.099139</td>\n",
       "      <td>2.439963</td>\n",
       "      <td>1.816370</td>\n",
       "      <td>-0.459228</td>\n",
       "      <td>-0.681041</td>\n",
       "      <td>0.056734</td>\n",
       "      <td>0.360120</td>\n",
       "      <td>1.848679</td>\n",
       "      <td>0.880971</td>\n",
       "      <td>...</td>\n",
       "      <td>-0.669245</td>\n",
       "      <td>-0.386882</td>\n",
       "      <td>0.381875</td>\n",
       "      <td>0.258599</td>\n",
       "      <td>-0.359703</td>\n",
       "      <td>-0.851001</td>\n",
       "      <td>-0.158387</td>\n",
       "      <td>-0.350701</td>\n",
       "      <td>-0.248368</td>\n",
       "      <td>-0.695913</td>\n",
       "    </tr>\n",
       "    <tr>\n",
       "      <th>DevOps specialist</th>\n",
       "      <td>0.353807</td>\n",
       "      <td>-0.094531</td>\n",
       "      <td>0.377964</td>\n",
       "      <td>-0.411858</td>\n",
       "      <td>0.352161</td>\n",
       "      <td>0.154255</td>\n",
       "      <td>0.792357</td>\n",
       "      <td>2.105516</td>\n",
       "      <td>-0.357701</td>\n",
       "      <td>0.200446</td>\n",
       "      <td>...</td>\n",
       "      <td>0.060800</td>\n",
       "      <td>0.862074</td>\n",
       "      <td>-0.030362</td>\n",
       "      <td>-0.194302</td>\n",
       "      <td>-0.575264</td>\n",
       "      <td>-0.354873</td>\n",
       "      <td>1.446205</td>\n",
       "      <td>0.527782</td>\n",
       "      <td>1.614389</td>\n",
       "      <td>-0.650410</td>\n",
       "    </tr>\n",
       "    <tr>\n",
       "      <th>Developer, mobile</th>\n",
       "      <td>-0.045903</td>\n",
       "      <td>-0.326476</td>\n",
       "      <td>-1.169877</td>\n",
       "      <td>-0.022949</td>\n",
       "      <td>-1.399861</td>\n",
       "      <td>2.865545</td>\n",
       "      <td>0.387344</td>\n",
       "      <td>-1.592401</td>\n",
       "      <td>-0.345299</td>\n",
       "      <td>0.066408</td>\n",
       "      <td>...</td>\n",
       "      <td>-0.276505</td>\n",
       "      <td>-1.185567</td>\n",
       "      <td>-1.670805</td>\n",
       "      <td>-0.904772</td>\n",
       "      <td>-0.142979</td>\n",
       "      <td>-1.392045</td>\n",
       "      <td>-0.959329</td>\n",
       "      <td>-0.673564</td>\n",
       "      <td>-0.996336</td>\n",
       "      <td>-0.972372</td>\n",
       "    </tr>\n",
       "    <tr>\n",
       "      <th>Developer, desktop or enterprise applications</th>\n",
       "      <td>-0.149023</td>\n",
       "      <td>-0.255281</td>\n",
       "      <td>0.252633</td>\n",
       "      <td>-1.365881</td>\n",
       "      <td>-0.981491</td>\n",
       "      <td>0.721010</td>\n",
       "      <td>-0.706192</td>\n",
       "      <td>-0.462726</td>\n",
       "      <td>-0.083052</td>\n",
       "      <td>2.297873</td>\n",
       "      <td>...</td>\n",
       "      <td>-1.275615</td>\n",
       "      <td>-0.934525</td>\n",
       "      <td>0.251427</td>\n",
       "      <td>-1.196458</td>\n",
       "      <td>-0.324180</td>\n",
       "      <td>-1.019818</td>\n",
       "      <td>-0.811499</td>\n",
       "      <td>-0.783124</td>\n",
       "      <td>-0.851798</td>\n",
       "      <td>-0.845858</td>\n",
       "    </tr>\n",
       "    <tr>\n",
       "      <th>Developer, front-end</th>\n",
       "      <td>1.854045</td>\n",
       "      <td>1.703182</td>\n",
       "      <td>-0.429533</td>\n",
       "      <td>0.077341</td>\n",
       "      <td>-1.391301</td>\n",
       "      <td>-1.004035</td>\n",
       "      <td>1.700262</td>\n",
       "      <td>-1.248385</td>\n",
       "      <td>1.202398</td>\n",
       "      <td>-0.005229</td>\n",
       "      <td>...</td>\n",
       "      <td>1.011101</td>\n",
       "      <td>-1.282100</td>\n",
       "      <td>-1.494982</td>\n",
       "      <td>-0.459861</td>\n",
       "      <td>-0.559925</td>\n",
       "      <td>-1.265010</td>\n",
       "      <td>-0.912530</td>\n",
       "      <td>-1.132130</td>\n",
       "      <td>-1.009496</td>\n",
       "      <td>-1.045702</td>\n",
       "    </tr>\n",
       "    <tr>\n",
       "      <th>Developer, full-stack</th>\n",
       "      <td>1.632874</td>\n",
       "      <td>1.181563</td>\n",
       "      <td>0.255214</td>\n",
       "      <td>-0.047590</td>\n",
       "      <td>-0.973444</td>\n",
       "      <td>-0.252183</td>\n",
       "      <td>1.389494</td>\n",
       "      <td>-0.772341</td>\n",
       "      <td>0.968567</td>\n",
       "      <td>0.361568</td>\n",
       "      <td>...</td>\n",
       "      <td>0.249586</td>\n",
       "      <td>-0.887128</td>\n",
       "      <td>-1.174870</td>\n",
       "      <td>-0.733837</td>\n",
       "      <td>-0.658136</td>\n",
       "      <td>-1.186500</td>\n",
       "      <td>-0.829346</td>\n",
       "      <td>-0.982574</td>\n",
       "      <td>-0.763100</td>\n",
       "      <td>-0.998687</td>\n",
       "    </tr>\n",
       "    <tr>\n",
       "      <th>Developer, back-end</th>\n",
       "      <td>0.254852</td>\n",
       "      <td>-0.246403</td>\n",
       "      <td>0.173818</td>\n",
       "      <td>-0.216006</td>\n",
       "      <td>-0.661366</td>\n",
       "      <td>0.503175</td>\n",
       "      <td>-0.115285</td>\n",
       "      <td>-0.519501</td>\n",
       "      <td>-0.064322</td>\n",
       "      <td>0.057037</td>\n",
       "      <td>...</td>\n",
       "      <td>-0.752967</td>\n",
       "      <td>-0.322148</td>\n",
       "      <td>-1.066804</td>\n",
       "      <td>-0.949820</td>\n",
       "      <td>-0.674764</td>\n",
       "      <td>-0.859632</td>\n",
       "      <td>-0.680071</td>\n",
       "      <td>-0.917953</td>\n",
       "      <td>-0.661765</td>\n",
       "      <td>-0.962484</td>\n",
       "    </tr>\n",
       "  </tbody>\n",
       "</table>\n",
       "<p>23 rows × 74 columns</p>\n",
       "</div>"
      ],
      "text/plain": [
       "                                               JavaScript  HTML/CSS       SQL  \\\n",
       "Marketing or sales professional                  0.433816  1.510025 -0.260708   \n",
       "Senior executive/VP                              0.636243  0.649598  0.622312   \n",
       "Engineer, site reliability                      -0.129660 -0.578629  0.213405   \n",
       "Scientist                                       -2.033926 -1.900843 -1.971116   \n",
       "Product manager                                  0.650333  0.699925  0.384822   \n",
       "Engineering manager                              0.249902 -0.327758  0.058894   \n",
       "Developer, game or graphics                      0.018228 -0.123062 -1.293442   \n",
       "Educator                                         0.147299  0.377331 -0.401562   \n",
       "Academic researcher                             -1.407328 -1.159514 -1.603496   \n",
       "Engineer, data                                  -1.111219 -1.259494  0.876667   \n",
       "Developer, QA or test                            0.490689  0.427751  0.418043   \n",
       "Data scientist or machine learning specialist   -2.055381 -1.760650 -0.180472   \n",
       "Data or business analyst                        -1.039842 -0.524943  1.638119   \n",
       "Developer, embedded applications or devices     -0.949687 -1.085506 -1.257949   \n",
       "System administrator                             0.435298  0.687582  0.993833   \n",
       "Designer                                         0.975655  1.306996 -0.137532   \n",
       "Database administrator                           0.788925  1.099139  2.439963   \n",
       "DevOps specialist                                0.353807 -0.094531  0.377964   \n",
       "Developer, mobile                               -0.045903 -0.326476 -1.169877   \n",
       "Developer, desktop or enterprise applications   -0.149023 -0.255281  0.252633   \n",
       "Developer, front-end                             1.854045  1.703182 -0.429533   \n",
       "Developer, full-stack                            1.632874  1.181563  0.255214   \n",
       "Developer, back-end                              0.254852 -0.246403  0.173818   \n",
       "\n",
       "                                                  MySQL    Python      Java  \\\n",
       "Marketing or sales professional                2.216239 -0.766784 -1.369926   \n",
       "Senior executive/VP                           -0.185986 -0.140330 -1.101400   \n",
       "Engineer, site reliability                     0.670758  1.044524  0.527746   \n",
       "Scientist                                     -2.284794  1.708186 -1.187979   \n",
       "Product manager                                0.398550 -0.478822 -0.374835   \n",
       "Engineering manager                           -0.682794 -0.095392  0.046803   \n",
       "Developer, game or graphics                   -0.490612 -0.322077  0.879523   \n",
       "Educator                                       0.690342 -0.202682  0.538758   \n",
       "Academic researcher                           -0.699876  0.971301  0.507160   \n",
       "Engineer, data                                -0.158863  1.486659  0.651127   \n",
       "Developer, QA or test                          0.418457 -0.291421  1.371552   \n",
       "Data scientist or machine learning specialist -0.852635  2.614848 -0.677354   \n",
       "Data or business analyst                      -0.164324  0.476773 -1.654257   \n",
       "Developer, embedded applications or devices   -1.102951  0.224939  0.498963   \n",
       "System administrator                           1.437098  0.279616 -0.492209   \n",
       "Designer                                       0.961965 -0.994810 -0.470398   \n",
       "Database administrator                         1.816370 -0.459228 -0.681041   \n",
       "DevOps specialist                             -0.411858  0.352161  0.154255   \n",
       "Developer, mobile                             -0.022949 -1.399861  2.865545   \n",
       "Developer, desktop or enterprise applications -1.365881 -0.981491  0.721010   \n",
       "Developer, front-end                           0.077341 -1.391301 -1.004035   \n",
       "Developer, full-stack                         -0.047590 -0.973444 -0.252183   \n",
       "Developer, back-end                           -0.216006 -0.661366  0.503175   \n",
       "\n",
       "                                                Node.js  \\\n",
       "Marketing or sales professional                0.528826   \n",
       "Senior executive/VP                            0.843117   \n",
       "Engineer, site reliability                     0.664846   \n",
       "Scientist                                     -1.895546   \n",
       "Product manager                                0.655958   \n",
       "Engineering manager                            0.793530   \n",
       "Developer, game or graphics                    0.450207   \n",
       "Educator                                       0.196403   \n",
       "Academic researcher                           -1.540057   \n",
       "Engineer, data                                -0.978901   \n",
       "Developer, QA or test                          0.366489   \n",
       "Data scientist or machine learning specialist -1.946425   \n",
       "Data or business analyst                      -1.599485   \n",
       "Developer, embedded applications or devices   -0.662387   \n",
       "System administrator                           0.067418   \n",
       "Designer                                       0.551294   \n",
       "Database administrator                         0.056734   \n",
       "DevOps specialist                              0.792357   \n",
       "Developer, mobile                              0.387344   \n",
       "Developer, desktop or enterprise applications -0.706192   \n",
       "Developer, front-end                           1.700262   \n",
       "Developer, full-stack                          1.389494   \n",
       "Developer, back-end                           -0.115285   \n",
       "\n",
       "                                               Bash/Shell/PowerShell  \\\n",
       "Marketing or sales professional                            -1.040611   \n",
       "Senior executive/VP                                         0.472389   \n",
       "Engineer, site reliability                                  2.426403   \n",
       "Scientist                                                   0.247490   \n",
       "Product manager                                            -0.317055   \n",
       "Engineering manager                                         0.643151   \n",
       "Developer, game or graphics                                -0.560643   \n",
       "Educator                                                   -0.237290   \n",
       "Academic researcher                                        -0.398978   \n",
       "Engineer, data                                              0.416004   \n",
       "Developer, QA or test                                       0.243025   \n",
       "Data scientist or machine learning specialist              -0.078961   \n",
       "Data or business analyst                                   -0.636209   \n",
       "Developer, embedded applications or devices                 0.424970   \n",
       "System administrator                                        1.677520   \n",
       "Designer                                                   -1.151487   \n",
       "Database administrator                                      0.360120   \n",
       "DevOps specialist                                           2.105516   \n",
       "Developer, mobile                                          -1.592401   \n",
       "Developer, desktop or enterprise applications              -0.462726   \n",
       "Developer, front-end                                       -1.248385   \n",
       "Developer, full-stack                                      -0.772341   \n",
       "Developer, back-end                                        -0.519501   \n",
       "\n",
       "                                                 jQuery        C#  ...  \\\n",
       "Marketing or sales professional                1.505056 -1.020478  ...   \n",
       "Senior executive/VP                            0.076494  0.163804  ...   \n",
       "Engineer, site reliability                    -0.786003 -0.964409  ...   \n",
       "Scientist                                     -1.719184 -1.455676  ...   \n",
       "Product manager                                0.880611  0.121461  ...   \n",
       "Engineering manager                           -0.808494 -0.032354  ...   \n",
       "Developer, game or graphics                   -0.259346  2.582619  ...   \n",
       "Educator                                       0.222453 -0.518730  ...   \n",
       "Academic researcher                           -0.956723 -1.209634  ...   \n",
       "Engineer, data                                -1.018470 -0.898221  ...   \n",
       "Developer, QA or test                          0.399618  0.618193  ...   \n",
       "Data scientist or machine learning specialist -1.861257 -1.585191  ...   \n",
       "Data or business analyst                      -0.364434 -0.252203  ...   \n",
       "Developer, embedded applications or devices   -0.864224  0.615422  ...   \n",
       "System administrator                           0.838441 -0.218409  ...   \n",
       "Designer                                       1.546193  0.194734  ...   \n",
       "Database administrator                         1.848679  0.880971  ...   \n",
       "DevOps specialist                             -0.357701  0.200446  ...   \n",
       "Developer, mobile                             -0.345299  0.066408  ...   \n",
       "Developer, desktop or enterprise applications -0.083052  2.297873  ...   \n",
       "Developer, front-end                           1.202398 -0.005229  ...   \n",
       "Developer, full-stack                          0.968567  0.361568  ...   \n",
       "Developer, back-end                           -0.064322  0.057037  ...   \n",
       "\n",
       "                                                 Gatsby  Cassandra   IBM DB2  \\\n",
       "Marketing or sales professional                3.452427   0.903457  2.315078   \n",
       "Senior executive/VP                            0.944052   1.288963  1.714835   \n",
       "Engineer, site reliability                     0.726379   2.594284  0.017105   \n",
       "Scientist                                     -0.573372  -0.127158 -0.220117   \n",
       "Product manager                                0.666328  -0.010992  0.256063   \n",
       "Engineering manager                            0.668527   1.214478  0.136461   \n",
       "Developer, game or graphics                   -0.043181  -0.970250 -1.207997   \n",
       "Educator                                       0.447761  -0.474256  0.106300   \n",
       "Academic researcher                           -0.830649  -0.311933 -0.734140   \n",
       "Engineer, data                                -0.666947   1.805182  0.714290   \n",
       "Developer, QA or test                         -0.513617  -0.501089  0.031672   \n",
       "Data scientist or machine learning specialist -0.732300   0.629389  0.101120   \n",
       "Data or business analyst                      -1.010098  -0.467906  2.039194   \n",
       "Developer, embedded applications or devices   -0.863312  -0.390833 -0.225474   \n",
       "System administrator                          -0.614719  -0.018944  0.026752   \n",
       "Designer                                       0.595563  -1.026116 -0.266621   \n",
       "Database administrator                        -0.669245  -0.386882  0.381875   \n",
       "DevOps specialist                              0.060800   0.862074 -0.030362   \n",
       "Developer, mobile                             -0.276505  -1.185567 -1.670805   \n",
       "Developer, desktop or enterprise applications -1.275615  -0.934525  0.251427   \n",
       "Developer, front-end                           1.011101  -1.282100 -1.494982   \n",
       "Developer, full-stack                          0.249586  -0.887128 -1.174870   \n",
       "Developer, back-end                           -0.752967  -0.322148 -1.066804   \n",
       "\n",
       "                                                 Drupal  Unreal Engine  \\\n",
       "Marketing or sales professional                3.687879       1.109495   \n",
       "Senior executive/VP                            1.193263       0.218279   \n",
       "Engineer, site reliability                     0.647890      -0.194340   \n",
       "Scientist                                     -0.319072       0.115872   \n",
       "Product manager                                0.673492      -0.173420   \n",
       "Engineering manager                            0.300705      -0.357597   \n",
       "Developer, game or graphics                   -0.340806       4.359325   \n",
       "Educator                                       0.311365      -0.111096   \n",
       "Academic researcher                           -0.572703      -0.260511   \n",
       "Engineer, data                                -0.626094      -0.349830   \n",
       "Developer, QA or test                          0.171017      -0.186384   \n",
       "Data scientist or machine learning specialist -0.866586      -0.330042   \n",
       "Data or business analyst                      -0.232415      -0.592039   \n",
       "Developer, embedded applications or devices   -0.807342       0.032434   \n",
       "System administrator                           0.588124      -0.099293   \n",
       "Designer                                       0.371733       0.114099   \n",
       "Database administrator                         0.258599      -0.359703   \n",
       "DevOps specialist                             -0.194302      -0.575264   \n",
       "Developer, mobile                             -0.904772      -0.142979   \n",
       "Developer, desktop or enterprise applications -1.196458      -0.324180   \n",
       "Developer, front-end                          -0.459861      -0.559925   \n",
       "Developer, full-stack                         -0.733837      -0.658136   \n",
       "Developer, back-end                           -0.949820      -0.674764   \n",
       "\n",
       "                                                Haskell    Puppet  Couchbase  \\\n",
       "Marketing or sales professional                1.468417  0.763845   3.170701   \n",
       "Senior executive/VP                            0.627067  0.952938   2.187051   \n",
       "Engineer, site reliability                     1.218568  3.480932   0.650205   \n",
       "Scientist                                      1.836601 -0.500806   0.258055   \n",
       "Product manager                               -0.562685 -0.099882   0.124635   \n",
       "Engineering manager                           -0.143187  0.762866   0.985202   \n",
       "Developer, game or graphics                    0.358940 -0.443031   0.014906   \n",
       "Educator                                       1.463360 -0.196271  -0.225736   \n",
       "Academic researcher                            1.784139 -0.608987  -0.481403   \n",
       "Engineer, data                                 0.021444 -0.210943   0.497993   \n",
       "Developer, QA or test                         -0.565354  0.022259  -0.404328   \n",
       "Data scientist or machine learning specialist  0.893137 -0.425910  -0.627059   \n",
       "Data or business analyst                      -0.480193 -0.495055  -0.599003   \n",
       "Developer, embedded applications or devices    0.050404 -0.576496  -0.192786   \n",
       "System administrator                          -0.112547  1.060087  -0.300820   \n",
       "Designer                                      -0.929230 -0.580590  -0.745351   \n",
       "Database administrator                        -0.851001 -0.158387  -0.350701   \n",
       "DevOps specialist                             -0.354873  1.446205   0.527782   \n",
       "Developer, mobile                             -1.392045 -0.959329  -0.673564   \n",
       "Developer, desktop or enterprise applications -1.019818 -0.811499  -0.783124   \n",
       "Developer, front-end                          -1.265010 -0.912530  -1.132130   \n",
       "Developer, full-stack                         -1.186500 -0.829346  -0.982574   \n",
       "Developer, back-end                           -0.859632 -0.680071  -0.917953   \n",
       "\n",
       "                                                   Chef     Julia  \n",
       "Marketing or sales professional                1.239791  1.589551  \n",
       "Senior executive/VP                            0.785153  0.621855  \n",
       "Engineer, site reliability                     3.327545  0.097269  \n",
       "Scientist                                     -0.319457  2.624992  \n",
       "Product manager                               -0.018268 -0.230841  \n",
       "Engineering manager                            1.028413 -0.218632  \n",
       "Developer, game or graphics                   -0.412027 -0.350488  \n",
       "Educator                                      -0.238253  0.225666  \n",
       "Academic researcher                           -0.714261  1.798622  \n",
       "Engineer, data                                -0.197377  0.270590  \n",
       "Developer, QA or test                         -0.117608 -0.372601  \n",
       "Data scientist or machine learning specialist -0.366560  1.727011  \n",
       "Data or business analyst                      -0.424310 -0.009916  \n",
       "Developer, embedded applications or devices   -0.521307 -0.449405  \n",
       "System administrator                           0.566372 -0.452402  \n",
       "Designer                                      -0.701373 -0.699843  \n",
       "Database administrator                        -0.248368 -0.695913  \n",
       "DevOps specialist                              1.614389 -0.650410  \n",
       "Developer, mobile                             -0.996336 -0.972372  \n",
       "Developer, desktop or enterprise applications -0.851798 -0.845858  \n",
       "Developer, front-end                          -1.009496 -1.045702  \n",
       "Developer, full-stack                         -0.763100 -0.998687  \n",
       "Developer, back-end                           -0.661765 -0.962484  \n",
       "\n",
       "[23 rows x 74 columns]"
      ]
     },
     "execution_count": 37,
     "metadata": {},
     "output_type": "execute_result"
    }
   ],
   "source": [
    "normalized_skills"
   ]
  },
  {
   "cell_type": "code",
   "execution_count": 38,
   "id": "4b62f586",
   "metadata": {},
   "outputs": [
    {
     "data": {
      "application/vnd.plotly.v1+json": {
       "config": {
        "plotlyServerURL": "https://plot.ly"
       },
       "data": [
        {
         "colorscale": [
          [
           0,
           "#000004"
          ],
          [
           0.1111111111111111,
           "#180f3d"
          ],
          [
           0.2222222222222222,
           "#440f76"
          ],
          [
           0.3333333333333333,
           "#721f81"
          ],
          [
           0.4444444444444444,
           "#9e2f7f"
          ],
          [
           0.5555555555555556,
           "#cd4071"
          ],
          [
           0.6666666666666666,
           "#f1605d"
          ],
          [
           0.7777777777777778,
           "#fd9668"
          ],
          [
           0.8888888888888888,
           "#feca8d"
          ],
          [
           1,
           "#fcfdbf"
          ]
         ],
         "type": "heatmap",
         "x": [
          "JavaScript",
          "HTML/CSS",
          "SQL",
          "MySQL",
          "Python",
          "Java",
          "Node.js",
          "Bash/Shell/PowerShell",
          "jQuery",
          "C#",
          "PostgreSQL",
          "Microsoft SQL Server",
          "SQLite",
          "React.js",
          "PHP",
          "TypeScript",
          ".NET",
          "C++",
          "MongoDB",
          "C",
          ".NET Core",
          "Angular",
          "ASP.NET",
          "Redis",
          "Express",
          "MariaDB",
          "Oracle",
          "ASP.NET Core",
          "Vue.js",
          "Firebase",
          "Spring",
          "Angular.js",
          "Elasticsearch",
          "Pandas",
          "Django",
          "Flask",
          "Go",
          "Laravel",
          "TensorFlow",
          "React Native",
          "Kotlin",
          "Unity 3D",
          "Ruby",
          "Assembly",
          "VBA",
          "DynamoDB",
          "Swift",
          "R",
          "Ansible",
          "Ruby on Rails",
          "Rust",
          "Flutter",
          "Teraform",
          "Keras",
          "Cordova",
          "Xamarin",
          "Objective-C",
          "Dart",
          "Apache Spark",
          "Scala",
          "Torch/PyTorch",
          "Symfony",
          "Hadoop",
          "Perl",
          "Gatsby",
          "Cassandra",
          "IBM DB2",
          "Drupal",
          "Unreal Engine",
          "Haskell",
          "Puppet",
          "Couchbase",
          "Chef",
          "Julia"
         ],
         "y": [
          "Marketing or sales professional",
          "Senior executive/VP",
          "Engineer, site reliability",
          "Scientist",
          "Product manager",
          "Engineering manager",
          "Developer, game or graphics",
          "Educator",
          "Academic researcher",
          "Engineer, data",
          "Developer, QA or test",
          "Data scientist or machine learning specialist",
          "Data or business analyst",
          "Developer, embedded applications or devices",
          "System administrator",
          "Designer",
          "Database administrator",
          "DevOps specialist",
          "Developer, mobile",
          "Developer, desktop or enterprise applications",
          "Developer, front-end",
          "Developer, full-stack",
          "Developer, back-end"
         ],
         "ygap": 1,
         "z": [
          [
           0.4338163524993637,
           1.5100246629109877,
           -0.2607076348377079,
           2.216239261492258,
           -0.766783536482833,
           -1.369925824210894,
           0.5288259953880806,
           -1.0406113889216824,
           1.5050559422746528,
           -1.0204779892222724,
           -0.8441624618555672,
           -0.281531555022435,
           -0.003603769998175798,
           0.09427735916279231,
           2.704155227861616,
           -0.43885850955150835,
           -0.27611323412854916,
           -0.5344944959944712,
           0.04936790011888692,
           -0.25201612171010984,
           -0.5339247200075792,
           -0.02905222760552471,
           0.014187097486912064,
           -0.820911321044297,
           0.8370470594229039,
           1.0454246307319,
           0.0468631744297066,
           -0.24244875284572454,
           1.193101515382013,
           1.3396951646362145,
           -0.8036855123577558,
           0.8496365372616713,
           -0.8345762760596926,
           -0.2590411025324499,
           0.9305669945807491,
           -0.21591490034679836,
           -0.09549340174786018,
           2.7845083008742386,
           0.08291266909780944,
           1.5061172389203747,
           0.23952191407703682,
           0.19828687934782416,
           0.893225946478879,
           0.6828994650024179,
           1.4908988646765222,
           -0.10276866334912911,
           0.7846123036572243,
           0.29539533409288876,
           -0.2089625897866079,
           1.5213540364260216,
           -0.03243080888395138,
           1.8719418237385896,
           -0.22968672323927344,
           -0.02074126259875836,
           1.9766650652683115,
           1.1187916420635642,
           1.156486625023335,
           2.100966929728105,
           0.3060348084903469,
           0.29756698250245944,
           0.23942613999440443,
           2.975431822509126,
           -0.04550947583260416,
           1.2383030629840182,
           3.4524270657129876,
           0.903457365237252,
           2.3150776214497837,
           3.6878790371710695,
           1.109494740344591,
           1.4684174343266807,
           0.7638453825987382,
           3.17070146491487,
           1.2397908126697035,
           1.5895510345363648
          ],
          [
           0.6362434631208689,
           0.6495983863750474,
           0.6223122554097734,
           -0.18598616746928967,
           -0.1403295385780517,
           -1.1014004242199276,
           0.84311697784535,
           0.47238880190340804,
           0.07649364687685707,
           0.16380398213338432,
           1.539840994691499,
           0.257640258033824,
           0.33016063015860886,
           0.9069881698040273,
           0.21230101927399417,
           0.6206983775414742,
           0.1773321713083857,
           -0.25403384225748743,
           0.38825808156944075,
           -0.010306767706210999,
           0.9724583005139231,
           0.21610474341989114,
           0.3818823515007265,
           1.3177234240222326,
           0.5360483555824651,
           0.807396530012036,
           -0.7754594925585436,
           1.029975547372305,
           1.4667620885466455,
           0.4533569112637105,
           -0.6721998394120345,
           0.2277060910813466,
           0.9921455000603165,
           -0.14838332570946267,
           0.3428668711780654,
           -0.058145229099036785,
           0.48814268151343926,
           0.7168769376790908,
           0.01879254602260417,
           1.5694281496492861,
           0.3568528460433733,
           -0.1122642703264157,
           1.389405299126169,
           0.9722131849007412,
           0.34075416271276926,
           1.3642784756695965,
           0.9407117571164615,
           -0.2392395899668647,
           0.43173734848544887,
           2.0778020631958545,
           0.7840223836933355,
           0.6569951655570462,
           0.4913596128860081,
           0.04298537446674966,
           1.151266943617935,
           1.3112626387506945,
           1.1464198089438498,
           1.228555775242473,
           -0.003959905970358648,
           0.6138499731871262,
           0.05283605873665295,
           1.235903097024402,
           -0.0631943094669577,
           1.5290421534673575,
           0.9440524844590716,
           1.288963282710352,
           1.7148349046609506,
           1.1932632852403189,
           0.21827930534968687,
           0.6270666288867056,
           0.952937617616768,
           2.1870510038198474,
           0.7851530195651726,
           0.6218549753633835
          ],
          [
           -0.12965971366735277,
           -0.5786292990616523,
           0.21340499364719842,
           0.670757856552762,
           1.0445236734538377,
           0.5277459458283661,
           0.6648456340583337,
           2.4264031931525714,
           -0.7860034001016524,
           -0.9644087714440196,
           2.098111050775231,
           -0.7759850408474297,
           -0.4419918807186283,
           0.3756973628451362,
           -0.2736198578869332,
           0.19499467461735565,
           -1.2263757544173046,
           -0.5155331782004765,
           1.420277075411412,
           -0.38689309444186504,
           -0.5302284149929103,
           -0.4255824156787828,
           -1.073734216285482,
           2.721858613411109,
           0.7971976405737167,
           1.2074558989155189,
           -1.1115277705285738,
           -0.3789185188930396,
           0.006042676450849233,
           -0.7365299077095582,
           1.2569670061802325,
           0.3161670473494777,
           2.90530143315448,
           -0.20963290807883123,
           1.3978536821526917,
           1.5948473619862573,
           3.7102461084545793,
           -0.3222382785808486,
           -0.3884881360236053,
           -0.15805993373813568,
           0.28551518223723177,
           -0.3975941669009067,
           2.892080050901662,
           -0.11400218077495505,
           -0.7730314060364137,
           3.049841647776285,
           -0.5932645812910365,
           -0.4622142909601231,
           3.2711075043185036,
           2.012592234941947,
           2.3385690346345083,
           -0.21665223258424868,
           3.5867198525895945,
           -0.34371303851102053,
           -0.7923070260376768,
           -0.9378059612425166,
           -0.5782149873285092,
           -0.36027228611216555,
           0.4565918078803389,
           1.2674492683027727,
           -0.2597007302776667,
           0.9753169560169536,
           0.48130147854312466,
           2.335404237706277,
           0.7263793828711069,
           2.5942844012302086,
           0.017105000648608554,
           0.6478898901082598,
           -0.19433986591018568,
           1.2185680487497017,
           3.4809320180349124,
           0.6502049527776805,
           3.3275451777886578,
           0.0972688194420319
          ],
          [
           -2.0339260164177344,
           -1.900843190500415,
           -1.9711159068413413,
           -2.2847936310003516,
           1.7081860451377664,
           -1.1879788095888808,
           -1.8955461518015233,
           0.2474897431486787,
           -1.7191841281638556,
           -1.4556762768269267,
           -0.6774127227415373,
           -1.9030267668322678,
           0.205343607068808,
           -1.4597663282873141,
           -1.4104124396931155,
           -1.8028729534943928,
           -1.4281814546206495,
           1.7242158676800443,
           -1.927415121901193,
           1.5629070456028857,
           -1.7123589225353533,
           -2.048806191686597,
           -1.894918173545292,
           -1.006128968858698,
           -1.6394732073295126,
           -1.1017534308869366,
           -1.478704398618984,
           -1.7375613875734066,
           -1.7622553756506463,
           -0.8364235941942094,
           -1.1988401614371602,
           -2.3236029084431107,
           -0.9095492611923776,
           1.4713590767878737,
           0.6180789807001654,
           0.5967066319772566,
           -0.3738003518934821,
           -1.3758620292960047,
           1.7680494386387597,
           -0.9422746282877319,
           -0.7684482358621345,
           -0.12088448291130781,
           -0.43845318075160444,
           1.3352670319755877,
           0.1561161850310397,
           -0.7785690373817062,
           -0.30588036906660676,
           2.040205112488038,
           -0.3678566596809844,
           -0.4400144884561133,
           1.194217214352331,
           -0.44537735141225754,
           -0.5280723456635235,
           1.7410559437846094,
           -1.058649030515795,
           -1.0294243391372622,
           -0.3107783609817974,
           -0.5152375775542959,
           0.3064694061151367,
           0.16351866476708007,
           1.7723696790443833,
           -0.6830493387200649,
           0.595245677049173,
           0.6129412389941036,
           -0.573371612943204,
           -0.12715803612949986,
           -0.22011694133175652,
           -0.3190717335172324,
           0.1158721011549666,
           1.836600505874412,
           -0.5008060760370959,
           0.25805500587011104,
           -0.31945708512482307,
           2.6249924336461112
          ],
          [
           0.6503333763345197,
           0.6999252585258842,
           0.3848216498657335,
           0.3985497736193528,
           -0.4788217300954861,
           -0.37483481593725454,
           0.6559582094660333,
           -0.3170548828162475,
           0.8806110510558178,
           0.12146147196700795,
           0.16771353328856564,
           0.3811073635851661,
           0.6876521500434744,
           0.4188878380244141,
           0.6903188932091617,
           0.4082402057320506,
           0.1863972210804347,
           -0.33814598756200803,
           0.4916492304793089,
           -0.34907878249107194,
           0.17219036545054725,
           0.3410148764251,
           0.366053039988864,
           0.1408654975098941,
           0.5965297466351862,
           0.2890082347161541,
           0.0007208407267917738,
           0.14318215398747552,
           0.7488060592990008,
           0.8026301218454714,
           -0.5030739013969567,
           0.5890009675647815,
           0.10381486317657505,
           -0.3838761588457009,
           0.12081888669876292,
           -0.3923669394143161,
           0.028799234384311045,
           0.8014768350381414,
           -0.3046496081102556,
           0.631518244955421,
           0.27106358124340096,
           -0.08178299282892035,
           0.47513969979489934,
           -0.10659106595674932,
           0.40199815179816345,
           0.11764712048072677,
           0.7530689405828245,
           -0.22888307493318044,
           -0.23099519723575065,
           0.7584396028611646,
           -0.5175066186015989,
           0.6617774963094557,
           -0.27637777777058004,
           -0.4035099210364507,
           0.822239786458685,
           0.5823642934635155,
           0.6839500735728771,
           0.6380572250850366,
           -0.26750719112993937,
           -0.604093425645504,
           -0.31357715364659294,
           0.7536854403772769,
           -0.3059941664129983,
           -0.11727064935823618,
           0.6663283475656507,
           -0.010992455945976096,
           0.25606266071127015,
           0.6734919447291777,
           -0.17341992481014418,
           -0.5626849506121135,
           -0.09988158344713007,
           0.12463544068570279,
           -0.018267503119184486,
           -0.23084108424860547
          ],
          [
           0.2499024230864781,
           -0.327757929092047,
           0.058893796863016476,
           -0.6827942602897009,
           -0.0953924191902726,
           0.04680337076977009,
           0.793529657424499,
           0.6431514731513361,
           -0.8084941498813029,
           -0.03235417720880735,
           1.4035812556545881,
           -0.004992519754083886,
           -0.45448465442251895,
           1.2770862235709872,
           -0.5094642717431013,
           0.6659055266628694,
           -0.13688648163361267,
           -0.3295880658013734,
           1.3890297906453948,
           -0.2407892044208742,
           0.4223842156905283,
           0.3877726802238408,
           -0.018028731720305283,
           1.703175764872722,
           0.6145132588417855,
           -0.26083248793115993,
           -0.42452761773340425,
           0.5223915689696118,
           0.2603141815898922,
           -0.15340968814109965,
           0.9649602500072132,
           0.7155434029743365,
           1.5914473911968237,
           -0.28696298767298956,
           -0.275650132936271,
           0.07852962838384436,
           0.9901239389476352,
           -0.5396515956392918,
           -0.28164326241879684,
           0.04852197465139428,
           0.40606191671543934,
           -0.35009124385477625,
           1.50988991299153,
           -0.031099120637150438,
           -0.864932960443704,
           1.7056746578634951,
           0.39592117817201633,
           -0.44932889493588685,
           0.6064538823478051,
           1.9844992812209667,
           0.6330861120246456,
           -0.4217193147832346,
           0.9468981870014106,
           -0.389511374867833,
           -0.29609938814341613,
           -0.3490249787917541,
           0.5196948400157041,
           -0.27558340970081857,
           0.19248656286718488,
           0.9769842256770007,
           -0.2713860840187613,
           0.33496591027338096,
           0.2733066656746861,
           0.35437572118098787,
           0.6685272718482588,
           1.2144776762385143,
           0.13646052951375645,
           0.30070512264126936,
           -0.35759716091404775,
           -0.14318735665549243,
           0.7628664232134083,
           0.9852023026629841,
           1.0284131984211984,
           -0.21863180504453905
          ],
          [
           0.01822809772247545,
           -0.12306196570305356,
           -1.2934417369586808,
           -0.49061206731694956,
           -0.32207717066999336,
           0.8795228538366778,
           0.4502073110409796,
           -0.5606434434921687,
           -0.25934550137630685,
           2.5826190620678697,
           -1.2604535782854382,
           -0.9758131632626651,
           0.4160441147896908,
           0.18002199989900564,
           0.049609781383763644,
           0.3590044064889955,
           1.4908297154317531,
           2.0611037392268394,
           -0.05834981146493396,
           1.079764396091661,
           1.343907073541746,
           -0.2746095818315985,
           -0.08074580228245802,
           -0.5800563018563994,
           0.4198229296685591,
           -0.3013748435569801,
           -0.8985237387223516,
           -0.01892933765590177,
           0.4700724440694868,
           0.6974828822200569,
           -1.0439500477886199,
           -0.5124141710753862,
           -0.8572942688541886,
           -0.6397679382309419,
           -0.9119261452795061,
           -0.7133937530736522,
           -0.20928353093811608,
           -0.3537476445812541,
           -0.23774181921894214,
           0.6238829570158768,
           0.5674262972814617,
           4.578863713652795,
           -0.3359415883558294,
           1.4588083195591637,
           -0.532133586441635,
           -0.42452265160952857,
           0.6904395737587022,
           -0.62686650026797,
           -0.6558279926045161,
           -0.38408085384192653,
           1.9242008603690703,
           0.7575162771080656,
           -0.4960019415365297,
           -0.34299594761158925,
           0.6763667065989031,
           0.9532576686180816,
           1.4485872728502838,
           0.5800575749241338,
           -0.662886762913694,
           -0.6128790955185075,
           -0.3453208221348193,
           -0.12190707139329861,
           -0.6086139193675572,
           -0.8499908047769706,
           -0.04318070858934757,
           -0.970250182981443,
           -1.2079967189525274,
           -0.3408059480051374,
           4.359325484112452,
           0.35894048550707547,
           -0.4430313323605931,
           0.014906293633239705,
           -0.4120271285041992,
           -0.3504876427936669
          ],
          [
           0.1472993591097731,
           0.3773313253149117,
           -0.40156232536865377,
           0.6903415060028965,
           -0.20268194094379596,
           0.5387583787108493,
           0.19640284086596763,
           -0.23728982728838652,
           0.22245340986567727,
           -0.5187299411515335,
           -0.21762568132689283,
           -0.6351283437017143,
           0.6444913329903635,
           0.30293109326462636,
           0.4219616747333671,
           0.09045845685165556,
           -0.44491554795464056,
           0.24611088017903643,
           0.5991088382923162,
           0.2600820634999152,
           -0.6955623204441256,
           0.14479567065639212,
           -0.6223568592639015,
           -0.34010972757121544,
           0.6908500872959836,
           0.42879119774982194,
           0.10754522237921442,
           -0.6475527437710878,
           0.1577522799703479,
           0.5562343699970888,
           0.5953362960237971,
           0.038137118590335604,
           -0.46894550215740183,
           -0.1391949410979118,
           0.17364542972246422,
           -0.1951813551902591,
           -0.45407439879001926,
           0.3567872508969132,
           -0.06304415375499293,
           0.38452627606144507,
           0.5122231870712759,
           -0.024984048085992878,
           -0.04798660100431768,
           0.5915996435590947,
           -0.26251981076059266,
           -0.3973340471841215,
           -0.12862331302216878,
           0.11587730667408891,
           -0.2539178009963889,
           -0.01749213699980467,
           -0.2981690496699542,
           0.44760772246277336,
           -0.3766749178888411,
           -0.11546401662625794,
           0.3437533691170641,
           -0.23752122666246905,
           -0.07176860922281798,
           0.3242613480720634,
           -0.30541061277431714,
           -0.25113915685313665,
           -0.14508222228531778,
           0.4306977466349567,
           -0.33040631067779397,
           0.10836975933740818,
           0.44776068106525013,
           -0.4742556367428962,
           0.10629959248405549,
           0.31136490507146464,
           -0.11109640200511889,
           1.463360134403271,
           -0.196270639415094,
           -0.22573591135070586,
           -0.23825322789945558,
           0.22566586671261402
          ],
          [
           -1.4073284165528295,
           -1.159514362847717,
           -1.6034959058309513,
           -0.6998760695858411,
           0.9713014632257141,
           0.5071600317105205,
           -1.5400568975173112,
           -0.3989779048628884,
           -0.9567225778737534,
           -1.2096344815040827,
           -0.8177055389679136,
           -1.6082580946875435,
           0.08899603449364828,
           -1.2207265766236057,
           -0.6008208876773803,
           -1.5335123504498964,
           -1.28726004178549,
           1.3494635174703211,
           -0.6022461326482726,
           1.3309629608829898,
           -1.663479628015083,
           -1.1568793793777803,
           -1.4227552573031033,
           -0.9263177275908591,
           -1.3394381907451036,
           -0.7906971884822971,
           -0.8333900020559722,
           -1.7519540379061813,
           -1.2260770875702658,
           -0.31758099503899045,
           -0.3505647571386167,
           -1.4213016646118326,
           -0.8438398913595577,
           0.9830141341874881,
           0.5066452756042361,
           0.232077374174819,
           -0.6965757131714451,
           -0.49294719206289106,
           1.1732231140495144,
           -0.8507704403010632,
           -0.5585450323246552,
           -0.23600227390440895,
           -0.7629402711411283,
           1.0571868724806754,
           -0.4138683289440666,
           -1.0613777278213377,
           -0.47435801279944634,
           1.4116298926105413,
           -0.6032868842720676,
           -0.6012359951106474,
           0.23011061467401228,
           -0.37495627906869355,
           -0.6776153481593508,
           1.2153774097009749,
           -0.7800899633632848,
           -1.038966266279948,
           -0.4750892773117458,
           -0.44720902682383934,
           0.13890672807020965,
           0.10265593795746125,
           1.237065263743245,
           -1.050348130582867,
           0.2614642657079451,
           -0.032417595035830166,
           -0.8306487882059292,
           -0.31193257429138704,
           -0.7341399499843646,
           -0.5727027362207943,
           -0.2605109637880939,
           1.7841387455812736,
           -0.6089870666150133,
           -0.48140269869078,
           -0.7142609719607407,
           1.7986216029083848
          ],
          [
           -1.111219238706015,
           -1.2594944219448896,
           0.8766673935370626,
           -0.1588628159971729,
           1.4866593632843212,
           0.651126504132036,
           -0.9789011830358688,
           0.41600443559436534,
           -1.0184700359377246,
           -0.8982208516727304,
           1.2780786074868136,
           0.24782346095412586,
           -0.08343722419378917,
           -0.8273558553739503,
           -1.0033219035385106,
           -1.1269208326365683,
           -0.9991312117645479,
           -0.23288937162168918,
           0.9389598568590709,
           -0.06927497553109108,
           -0.9708357347261461,
           -1.1108304781471172,
           -1.0636343930990548,
           0.3269403915096321,
           -0.8685833617986662,
           -0.653820265078493,
           1.2659178194818985,
           -1.0262372052695796,
           -0.9658916498279777,
           -0.6324449698186138,
           0.7895458142819239,
           -0.8455997428467167,
           0.7858214298749256,
           1.6690529716708766,
           1.4811456330669768,
           2.0148182275408195,
           0.08083226755934611,
           -0.9826140333766025,
           0.8368483238512785,
           -0.9027678245496404,
           -0.5171210514042347,
           -0.38107760802392665,
           -0.4208444554346195,
           -0.24251800152055208,
           0.6162371937160923,
           0.587579773886257,
           -0.7552007594744646,
           0.8010055736278389,
           0.06360246621607538,
           -0.50113944121986,
           -0.20849779443754773,
           -0.8226209311229561,
           0.40748928549017305,
           0.8251826967250814,
           -1.1344364901092276,
           -0.8615631631227035,
           -0.6609761925240395,
           -0.8991695416499988,
           3.1144459444353783,
           3.304331009700809,
           0.7646054983762581,
           -0.4460239698136905,
           3.0714797320542107,
           0.16654850700828508,
           -0.666946859833337,
           1.8051818186060946,
           0.7142895257226128,
           -0.6260936933527668,
           -0.34982982289553666,
           0.021444102618120457,
           -0.2109429757771199,
           0.49799295858643433,
           -0.19737707672355462,
           0.27058989717502474
          ],
          [
           0.49068884125587603,
           0.4277510775977667,
           0.4180430585073047,
           0.41845671427487535,
           -0.2914211470442006,
           1.371552412513277,
           0.3664889969234814,
           0.24302518720368194,
           0.3996183145438262,
           0.6181931513418076,
           -0.3691229727262635,
           0.39248309759774996,
           -0.22073729437925257,
           -0.02703933503964947,
           0.1155238476973944,
           0.3156517663133605,
           0.6074957221016084,
           -0.2785586425034176,
           -0.13603140876152958,
           -0.2644468731257963,
           0.5679608480271604,
           0.6134054418282808,
           0.5628623095100562,
           -0.2794708249580323,
           -0.09344548126086032,
           0.013336692658198385,
           1.0788348390381568,
           0.4795657603872318,
           0.12955304960894748,
           -0.024159015983275033,
           1.0557227850034228,
           1.212501942409234,
           -0.004171571044384622,
           -0.5498120816444604,
           -0.5729398797283982,
           -0.5123338685973243,
           -0.24713884339814773,
           0.24925340272053195,
           -0.6028505790545716,
           -0.3646057143983469,
           0.16032273331754537,
           -0.122163174432151,
           0.27052468736273794,
           -0.3923396504702544,
           -0.08211624409577153,
           -0.16597244074297374,
           -0.18506306523484153,
           -0.6440088120689497,
           -0.14745635458696127,
           -0.04647488379089574,
           -0.559388056890263,
           -0.4432398788963805,
           -0.2064539520454366,
           -0.586507130546268,
           0.020658741384983317,
           -0.0745715163516658,
           -0.19095330328174098,
           -0.42407933585543073,
           -0.5151135250541866,
           -0.39983499819906965,
           -0.5713142584345373,
           0.15070469586184618,
           -0.5308488755773263,
           0.23306494956360876,
           -0.5136165395106329,
           -0.5010893049050701,
           0.03167230555951224,
           0.1710170276488853,
           -0.18638439680104968,
           -0.5653536274089623,
           0.02225867197360148,
           -0.4043284007654946,
           -0.1176076836026772,
           -0.3726011165171511
          ],
          [
           -2.0553805104496368,
           -1.7606504243877041,
           -0.1804718281210389,
           -0.8526348000741512,
           2.6148476507869254,
           -0.6773542237183563,
           -1.9464254034912876,
           -0.07896065758627525,
           -1.8612573503556866,
           -1.5851909601659178,
           0.5312367597338895,
           -0.9006494976610825,
           0.27999588425071037,
           -1.2387176093647903,
           -1.7060621514670447,
           -1.8112016086816658,
           -1.743317676770024,
           0.49730533649320385,
           0.3860820770952778,
           0.21532424141910095,
           -1.7086628542426907,
           -1.7774271856246004,
           -1.8745373300010353,
           -0.558675202829391,
           -1.6269682972038035,
           -1.3329222037288517,
           0.19594531496716336,
           -1.8171703206452872,
           -1.7117749646652345,
           -0.9318845214829982,
           -0.967042317280396,
           -1.8715859833217252,
           0.046066146678692826,
           3.291583827472921,
           2.4576193148447327,
           2.894423165550614,
           -0.361613759255187,
           -1.5563686702093122,
           3.6109343256038575,
           -0.9550275123895259,
           -0.7771379765992944,
           -0.4052640605240288,
           -0.9584772125571626,
           -0.15278460366290778,
           0.025732670377953126,
           -0.30827336784848913,
           -0.7381332005886125,
           2.8366067922330895,
           -0.3756568610929471,
           -1.0006170612443355,
           -0.03805387824805691,
           -0.7264639883747208,
           -0.2841291905950077,
           3.6812767324840125,
           -1.5811474346898458,
           -1.4555907923734033,
           -0.8611950460393678,
           -0.8354871862308635,
           2.6456186225613307,
           1.5135269767983148,
           3.6225337223070273,
           -1.42384810677716,
           2.526671360474744,
           -0.5615381270492553,
           -0.7322999787593654,
           0.6293890534649687,
           0.10112046899473152,
           -0.8665860844886855,
           -0.33004158531899946,
           0.8931371403710135,
           -0.42590997887795695,
           -0.6270588548760868,
           -0.3665600805516514,
           1.72701051815543
          ],
          [
           -1.039842272891999,
           -0.5249430484795043,
           1.638118586787189,
           -0.1643243779862855,
           0.47677332431323494,
           -1.6542569297253285,
           -1.599484776993867,
           -0.6362088638723429,
           -0.3644344659937136,
           -0.2522034064914315,
           -0.23155899353026235,
           2.0462010684407006,
           -0.4708998951204451,
           -1.489929524443529,
           -0.5857217720962122,
           -1.370932991883436,
           0.09795224308639305,
           -0.8249109037685193,
           -1.8163391284629864,
           -0.8166037193855255,
           -0.4797939453597701,
           -1.3145405484739843,
           0.3989980910999552,
           -0.9945335072798364,
           -1.6684218285106058,
           -0.6624878144137162,
           2.7575484247048405,
           -0.2782203343877258,
           -1.5014262687022435,
           -1.0302673540242104,
           -1.294001532581329,
           -1.1573001226512827,
           -0.6007887118739684,
           1.156458624961878,
           0.33646450051056703,
           0.3045505049983551,
           -1.0007158272827656,
           -0.6755080799338185,
           0.32691103720543463,
           -1.182076887005522,
           -1.102466347125415,
           -0.6036693207349204,
           -1.0574144436862833,
           -0.7666759717335971,
           3.1380773941877056,
           -0.7331059884846038,
           -0.88912285009506,
           1.5514992182459755,
           -0.6614217875292514,
           -0.8624548523141153,
           -1.39427490741848,
           -0.9014483539492442,
           -0.6285355803273869,
           0.2726504720306157,
           -0.9727138967157232,
           -0.560290071395095,
           -0.9098663155190627,
           -0.9410680174069564,
           0.7413378198639561,
           -0.10945075302845263,
           0.20812600394311023,
           -0.8415684589930015,
           0.9421121793336104,
           -0.2645232496535238,
           -1.010097864029715,
           -0.4679056752417882,
           2.039194011970035,
           -0.23241497178320442,
           -0.5920394295125304,
           -0.4801934052679366,
           -0.49505454274718147,
           -0.5990033934301551,
           -0.42430977025664146,
           -0.009916240249301161
          ],
          [
           -0.9496865830673903,
           -1.085505670470425,
           -1.2579487149933684,
           -1.1029507790418418,
           0.224939246112101,
           0.4989625040149623,
           -0.6623869230147599,
           0.4249702387181163,
           -0.8642236338379458,
           0.6154220096210046,
           -0.8600217064873934,
           -0.3710290542682916,
           1.7283918765415498,
           -1.071045355992324,
           -0.690326571046481,
           -0.4960132162913369,
           0.7780381275954887,
           2.6567251141353108,
           -1.4210526629807172,
           3.356250543999909,
           0.5390893163623508,
           -0.23048220472379674,
           0.041315242953483176,
           -0.650599618907558,
           -0.9711526917703572,
           -0.45068291733533766,
           -0.22117090173859708,
           0.05669604032386313,
           -0.9534227511155716,
           -0.11698960316908487,
           -0.5926304809705374,
           -0.029153193917820484,
           -0.8230618111956887,
           -0.48081376136427945,
           -0.8007961829117196,
           -0.46815529382286836,
           -0.12003581370436402,
           -0.880686213214107,
           -0.1057699350795273,
           -0.3379610788654308,
           0.3210574300150527,
           0.062101701736249154,
           -0.6651475748001795,
           2.7174188020612386,
           0.07960779567257506,
           -0.5088364732734394,
           0.5432798135021216,
           -0.599691788362982,
           -0.43860151210953496,
           -0.8706502464414412,
           1.294080008086517,
           0.3436027388112135,
           -0.6099401052038163,
           -0.25089335011265407,
           0.4899573639125327,
           1.3480250998429624,
           0.9268034535566918,
           0.3563806629445746,
           -0.5825605796237388,
           -0.6652774266420355,
           -0.252709276111445,
           -0.7910830329211891,
           -0.5937379046534434,
           0.09381409831684859,
           -0.8633118972679769,
           -0.3908333732593599,
           -0.22547440403695276,
           -0.8073424344366122,
           0.032433792705546,
           0.050404196416529254,
           -0.5764961797066562,
           -0.19278611880742244,
           -0.521306559550117,
           -0.4494051746233768
          ],
          [
           0.43529837091351725,
           0.6875815007083236,
           0.993832834772325,
           1.4370975712563177,
           0.2796164162958217,
           -0.492209127341742,
           0.06741834695425453,
           1.6775202210174434,
           0.838440564738629,
           -0.21840880678709254,
           0.7412224810014459,
           0.36716348732741055,
           0.7303240325514507,
           -0.6681327177136918,
           1.3823423662259868,
           -0.34264116188279325,
           -0.14731443705141653,
           -0.2564056371323158,
           -0.4005672015607681,
           0.07072811717397358,
           -0.3451591742082446,
           -0.48629969100910725,
           -0.2115291944037437,
           0.5680604908920315,
           -0.27011527579953376,
           2.788663909609683,
           -0.14477241334252602,
           -0.4380599504958067,
           0.4912818114304359,
           -0.853709760859935,
           -0.8754933602774163,
           -0.4795961041712596,
           0.33010838173419216,
           -0.46436813895257867,
           0.6987586768295782,
           0.13813773876516736,
           0.5079571950342029,
           0.693964049567787,
           -0.5631455769050375,
           -0.8872453373090274,
           -0.6041883929063019,
           -0.2261447358932763,
           0.6215156478560285,
           0.16505952321596726,
           0.4696618810810645,
           -0.3252011762680336,
           -0.5607086893631615,
           -0.4771899355701895,
           1.2579210763194753,
           0.12475940036468372,
           0.47706256158687943,
           -0.5133990904756711,
           0.46056004178567334,
           -0.5523225850042688,
           -0.27085316030575496,
           -0.42003704399804076,
           -0.6372165545172014,
           -0.45180057972645016,
           -0.4169954512398972,
           -0.5338248142769475,
           -0.4899932302022711,
           1.0851064137124016,
           -0.40812120623151016,
           1.4900434669420672,
           -0.6147191320550417,
           -0.01894386816858651,
           0.026752040845910322,
           0.5881242298006872,
           -0.09929285829676428,
           -0.11254739087193483,
           1.0600872326414141,
           -0.30081971337224295,
           0.566372156192193,
           -0.4524024686968485
          ],
          [
           0.9756548636709039,
           1.3069960995854752,
           -0.1375318884851582,
           0.9619651306386323,
           -0.9948101590206099,
           -0.4703978156981817,
           0.5512940546814848,
           -1.1514874227263088,
           1.5461927386900876,
           0.19473363740271257,
           -1.4910577361158472,
           -0.02358740768408014,
           -0.6773730057786675,
           0.49718966551902766,
           1.1304295674071032,
           0.32758573829307047,
           0.22694951678905548,
           -0.19365825221708013,
           -0.6642994162697045,
           -0.13071215619386306,
           -0.3400736802973634,
           0.7735211093670246,
           0.4252418839520499,
           -1.0585059379887969,
           0.49048894472029914,
           -0.21205084603495022,
           -0.1452044291463944,
           -0.4017638790932899,
           0.8763010584066283,
           0.6307477832201087,
           -1.0657593151050753,
           1.1304993419445237,
           -1.0101631585162374,
           -0.7398039930515657,
           -0.9593302037284163,
           -1.1100243947017039,
           -0.9520585625557657,
           0.8057282755099437,
           -0.6916237844712382,
           0.2657540532867125,
           -0.390187730467353,
           0.1174489707486249,
           -0.7957047874334888,
           -0.33295019788794616,
           0.09044638321760107,
           -0.9312059755361314,
           0.04367847776263261,
           -0.5830393533621572,
           -0.803895879098755,
           -0.6581468848868605,
           -1.2742358345890572,
           0.21743461780721451,
           -0.8198315896281763,
           -0.7014295535302834,
           0.3066305492665937,
           -0.05498844485569233,
           -0.16785714593646783,
           -0.0067487258703311966,
           -0.7563524244722094,
           -1.1883186477459695,
           -0.6147541636964515,
           -0.50965140656095,
           -0.7819291394673045,
           -0.7101569946434766,
           0.5955627406959202,
           -1.026116317039055,
           -0.2666206804528324,
           0.37173308751147577,
           0.11409866094441398,
           -0.929230496015008,
           -0.5805896956525362,
           -0.7453505194662586,
           -0.7013728444936687,
           -0.6998426129959124
          ],
          [
           0.7889254977087327,
           1.0991385868352528,
           2.4399630325195076,
           1.8163695867161784,
           -0.45922788508839046,
           -0.6810409187964063,
           0.05673363591737181,
           0.36011950825411737,
           1.8486789455654433,
           0.8809708282428956,
           0.23845393651759833,
           2.0803967175709106,
           0.030063465878745678,
           -0.5446020279174297,
           1.6309060365442398,
           -0.2319595913590223,
           1.2327971378976414,
           -0.6434365033303976,
           -0.444889342385406,
           -0.5905184989983914,
           0.752782086906366,
           -0.024720709841984826,
           1.8977421324018997,
           0.07082164831106558,
           -0.20429118071683583,
           1.8445165535035988,
           1.0415548519955087,
           0.9582898420755573,
           0.6258890200781249,
           -0.3670650371484969,
           -0.9234507415924488,
           0.7150568714156148,
           -0.06384667474947407,
           -0.4133237800896815,
           -0.20726876473836203,
           -0.32975087526845426,
           -0.27085685895254685,
           1.7993581546176163,
           -0.5912098044762153,
           -0.35034789774106767,
           -0.6552133472103976,
           -0.2934904116802609,
           -0.562439500161487,
           -0.397893570320298,
           1.3709888844856808,
           -0.39158640940934053,
           -0.39203115856535004,
           -0.31965035069801384,
           -0.012031750317168828,
           -0.5381360288570771,
           -0.8394713683284336,
           -0.3981435399395961,
           -0.2561047325662189,
           -0.5784660604939142,
           0.19403267513746725,
           0.4666505072215403,
           -0.36479812704592035,
           -0.3856614019367326,
           -0.3789847315781977,
           -0.7051856213232468,
           -0.5197771724528158,
           0.9531839842361743,
           -0.3510558030977967,
           0.4121783971306734,
           -0.6692449218285871,
           -0.3868816463293476,
           0.3818753447280892,
           0.2585990307135848,
           -0.3597034986425284,
           -0.8510013705049211,
           -0.15838719002457186,
           -0.35070107752740487,
           -0.24836769655235888,
           -0.6959134824907671
          ],
          [
           0.3538074562236667,
           -0.09453124190500113,
           0.3779635678865136,
           -0.411857612712373,
           0.35216062157484446,
           0.15425450005633778,
           0.7923566350238415,
           2.105516386961418,
           -0.35770129638606424,
           0.20044602396058103,
           1.4322773195573564,
           0.4759052312154307,
           -0.6807821627994873,
           0.454588152309022,
           -0.49212186320264384,
           0.9895443653206808,
           0.15432582016879215,
           -0.9104139678655216,
           1.7092175779593848,
           -0.8125612884451836,
           1.0889278270590301,
           0.9077955995033573,
           0.47685861095609444,
           1.773459942639333,
           0.5463178003399156,
           0.8646967219429361,
           0.08745500428903158,
           1.4845365001563153,
           0.678265062197839,
           -0.6927449156438608,
           1.7008654556929708,
           0.39162953622570246,
           1.8433049296727877,
           -0.3478395035019957,
           0.3719094035109421,
           0.627626267019653,
           1.6821358012669632,
           -0.489692050408716,
           -0.45968970115469887,
           -0.44973578777287065,
           -0.040598657169198,
           -0.4754401589524237,
           1.226878770586513,
           -0.9536353425074229,
           -1.0881310130050172,
           1.6942426587416946,
           -0.6812987304514313,
           -0.6130093232725021,
           2.311000253400391,
           0.41268413435900436,
           0.48406567144074647,
           -0.6880331552727819,
           2.0506738193946052,
           -0.42071319384929956,
           -0.4042877157327104,
           -0.52078092087258,
           -0.7604441807521578,
           -0.6236206023369949,
           -0.1198500139196782,
           0.2807540265557163,
           -0.5479081279754203,
           0.3820359060347672,
           -0.07317434003333206,
           0.4710519064597143,
           0.060800079779662064,
           0.8620741740891257,
           -0.03036180145479817,
           -0.1943020311226286,
           -0.5752639544090341,
           -0.3548729705483387,
           1.4462052984916234,
           0.5277817865622959,
           1.6143887972739113,
           -0.6504099266060402
          ],
          [
           -0.045903094750389534,
           -0.3264760714674146,
           -1.1698774582885136,
           -0.022948596906680795,
           -1.3998608522228515,
           2.865545125398042,
           0.38734444294020864,
           -1.5924012518325685,
           -0.3452991341442507,
           0.06640758747160018,
           -1.22623048456655,
           -0.7640354955786313,
           2.95135247420769,
           0.7052246970926307,
           -0.09656344908323405,
           0.6498714745010795,
           -0.28693506356757265,
           -0.39079833881189036,
           0.10774994606363594,
           -0.5448572605047667,
           -0.17507716159409042,
           0.7019504059805798,
           -0.10229935003908272,
           -0.7139675788807182,
           0.9082820232072717,
           -0.8294220182418307,
           -1.2656907119404335,
           -0.09726740130734327,
           -0.3944728034244467,
           3.5396545337768637,
           -0.01630458656468319,
           0.07655266139972637,
           -0.8946591408639151,
           -0.8283531002561955,
           -1.3095589758721984,
           -1.191896468578547,
           -0.7855400738010242,
           0.21824777720839256,
           -0.5663887870577935,
           3.022179571211015,
           4.12154731506091,
           0.2074687759684268,
           -0.700606677161587,
           -0.9426921874673823,
           -1.2468372953432578,
           -0.5991918521800599,
           3.872021724634795,
           -0.8088547822586957,
           -0.9298207529357481,
           -0.7122463895893276,
           -1.3448737632907186,
           3.4997398901843475,
           -0.7230384593835897,
           -0.5903060664013282,
           2.6867210925000395,
           2.670438675601566,
           3.189793024658084,
           3.2600490446623644,
           -0.93514351579658,
           -1.048822543272634,
           -0.6893547804844474,
           -0.8589094710781563,
           -0.9553416815940131,
           -1.627141936367287,
           -0.2765050803369107,
           -1.1855671928494864,
           -1.6708046788932285,
           -0.9047715587516776,
           -0.14297911601729005,
           -1.3920451648335126,
           -0.959328714988072,
           -0.6735638018095758,
           -0.9963360639938611,
           -0.9723720816244806
          ],
          [
           -0.14902308635661551,
           -0.2552809971381844,
           0.2526327888030118,
           -1.3658810863452633,
           -0.9814905238253046,
           0.7210096660300903,
           -0.7061918056421078,
           -0.4627259732795109,
           -0.08305185254284178,
           2.2978729183169833,
           -0.9827817545220467,
           1.9408834688890697,
           -0.23216099327126466,
           -0.7825209073374059,
           -1.113972253328595,
           0.3939104521110068,
           2.9014122150982797,
           0.29484765484397063,
           -1.6385644134648798,
           -0.08326111889993047,
           2.4851295583136332,
           0.6360179143067635,
           2.3284215940865383,
           -0.7941579981560797,
           -1.050776549708285,
           -1.0599492693591113,
           1.8195563924197347,
           2.304922572274841,
           -1.093083243785931,
           -0.8874809714701044,
           1.2105668365995186,
           0.1265253396101983,
           -0.6608184659928327,
           -0.6998138888997937,
           -1.8504808641864188,
           -1.1328350380338807,
           -0.6858700098146843,
           -1.3288359859816536,
           -0.7234567906536309,
           -0.9007058856133687,
           -0.45420989845400994,
           -0.13380333346824383,
           -1.3760680686990139,
           -0.4390487449982497,
           0.2828790673644994,
           -0.8759779597615711,
           -0.43754134124911664,
           -0.7100637781750534,
           -0.7169727771778719,
           -1.6204995936987994,
           -0.43915675411835053,
           -0.7393050975427455,
           -0.6484511882975063,
           -0.6211864824086996,
           -0.4947107833084407,
           1.147155600671791,
           -0.40374369695592216,
           -0.659610129995983,
           -0.755022960997386,
           -0.6993229559748334,
           -0.6899992603439864,
           -1.400125223745304,
           -0.735094432185181,
           -0.9419440473207829,
           -1.275615133163807,
           -0.9345252169674954,
           0.25142686018305743,
           -1.196457515478476,
           -0.32418043808442354,
           -1.0198180746568855,
           -0.8114994497466842,
           -0.7831238835831078,
           -0.8517981166964493,
           -0.8458580363506252
          ],
          [
           1.854044537766451,
           1.7031821986197975,
           -0.4295329579446723,
           0.0773405579318511,
           -1.3913008501744677,
           -1.0040350162870402,
           1.7002615320621282,
           -1.2483849301335914,
           1.2023981793026997,
           -0.00522911472871553,
           -0.7156472224483181,
           -0.2447804314044424,
           -1.7527749166971023,
           2.3733779784987097,
           0.3698272220927008,
           2.0456700637730476,
           -0.11221381645507066,
           -1.1807385756365896,
           0.7958903630300513,
           -1.211119556550845,
           -0.0016058942431197664,
           2.1604948204096455,
           0.3815872596498818,
           -0.40221281203752407,
           1.8519006152447608,
           -0.6318358094795616,
           -0.817223225341592,
           0.30973135711344013,
           1.5537390025201554,
           0.4703111855328679,
           -0.14757083014447203,
           1.664429714050228,
           -0.6145664253262085,
           -0.8218247224004871,
           -1.248357319556847,
           -1.1168832199565304,
           -0.7581089711791006,
           0.3682151062066598,
           -0.8397487815974338,
           0.8064291495766318,
           -0.5180902990881173,
           -0.3071851600092835,
           -0.6365732795568853,
           -1.447628323637686,
           -0.9378107596613233,
           -0.6318872147432958,
           -0.4057304914249124,
           -0.8106347051587443,
           -0.7653578988173734,
           -0.4362798685490129,
           -1.1426995090906502,
           -0.306126935421024,
           -0.6543262940659105,
           -0.7079828908945826,
           0.3944627628733133,
           -0.529212127512567,
           -0.6725716792197098,
           -0.30021378067536675,
           -0.9648695230879835,
           -1.0151892868134789,
           -0.8182229537567124,
           -0.4247211117984229,
           -1.014040743506042,
           -1.521820474447956,
           1.0111013106475797,
           -1.2821003992881268,
           -1.4949815714209407,
           -0.4598614956909305,
           -0.5599246715157878,
           -1.265010053441752,
           -0.9125303619578699,
           -1.1321301773646604,
           -1.0094960755172004,
           -1.0457023653465787
          ],
          [
           1.632874252512643,
           1.181562721341352,
           0.25521409168283005,
           -0.04758985227126315,
           -0.9734436943084726,
           -0.252182747916169,
           1.3894939010985343,
           -0.7723413853107183,
           0.9685666149576895,
           0.36156756493636627,
           0.06109230582274913,
           0.30248564119207483,
           -1.623364315126203,
           1.7172116524436876,
           0.04140492580016088,
           1.7706789190588552,
           0.25647122852205556,
           -1.1558932604531549,
           0.8924221307076023,
           -1.2459349119431697,
           0.5820316854862317,
           1.741309581279078,
           0.8684345745677393,
           0.1936387922220686,
           1.533030038410471,
           -0.531764993464189,
           -0.3258333113790492,
           1.0730212749338304,
           1.1161246186534837,
           -0.17523735465998191,
           1.1660514114639826,
           1.1357841472321861,
           -0.14099789679548302,
           -0.6459473516603101,
           -0.7559833971406748,
           -0.638015847537135,
           -0.429524551234168,
           0.25490448370366225,
           -0.7373500142603641,
           0.14618087099041407,
           -0.5200015393193352,
           -0.42867212696233425,
           -0.16734318089156633,
           -1.4944689247376182,
           -1.1215454337145274,
           -0.1964362707932032,
           -0.696727864088616,
           -0.7608331768163772,
           -0.5029852744577059,
           0.11325845827002812,
           -0.8530599425626102,
           -0.5549624875021679,
           -0.3634692435617573,
           -0.6146629592930096,
           -0.2552682634035316,
           -0.6565701933922731,
           -0.9954005478426404,
           -0.5501107042476487,
           -0.7687941332464803,
           -0.6436078609838728,
           -0.7218684948774888,
           -0.3863902795265334,
           -0.8297172463280453,
           -1.3776397996931304,
           0.24958643406640976,
           -0.8871276438990022,
           -1.174870464821267,
           -0.7338369630637893,
           -0.6581363087016712,
           -1.1865004697799975,
           -0.829346331720507,
           -0.9825737953961999,
           -0.7630998347472597,
           -0.998686951958837
          ],
          [
           0.2548520409346588,
           -0.24640319481678688,
           0.1738183073886134,
           -0.21600584148796262,
           -0.6613663565398268,
           0.5031753604393148,
           -0.11528503019380087,
           -0.519501256982442,
           -0.06432188127629353,
           0.05703653974131501,
           0.2021726090443398,
           -0.0032724241018059126,
           -1.4512054904692615,
           0.026354045659640297,
           -0.2663731414662558,
           0.32269878896512255,
           -0.021356398930998458,
           -0.7902730868723309,
           -0.05825822833144958,
           -0.8676450383217272,
           0.22990117331495116,
           0.2550477706009254,
           0.22095511978924676,
           0.3091029625693183,
           -0.0893624350997267,
           -0.4696962818464279,
           0.040086128674429615,
           0.4737712522498945,
           -0.16560072346152094,
           -0.7341852631479558,
           1.7145515287944322,
           -0.5486168280702589,
           0.12926898043263485,
           -0.5127089510914017,
           -0.5440817833211202,
           -0.40681971677627515,
           -0.04754655944179378,
           -0.051168800738484274,
           -0.660870720232154,
           -0.7229595583468482,
           -0.3353838951322941,
           -0.4636564719603415,
           -0.35271919346327485,
           -1.1661249564421363,
           -1.14047179587535,
           -0.08701707803109625,
           -0.7800493424719541,
           -0.7187108731647673,
           -0.26677455838806285,
           -0.31592048663946476,
           -0.41759617473238214,
           -0.9041670956329863,
           -0.16499140921455935,
           -0.5381227954058189,
           -1.0221919038104204,
           -0.8715990802457464,
           -1.0108610741417343,
           -0.8124562545348721,
           -0.4684403684792389,
           -0.04369047917103765,
           -0.6459936354463468,
           -0.33940637077067376,
           -0.5248018044055889,
           -1.040693820744893,
           -0.7529672821880399,
           -0.3221482475379991,
           -1.066803656123729,
           -0.9498203947242574,
           -0.6747636869884561,
           -0.8596320921379137,
           -0.6800705254963816,
           -0.9179528630730572,
           -0.6617654426169988,
           -0.9624841583926041
          ]
         ]
        }
       ],
       "layout": {
        "height": 800,
        "template": {
         "data": {
          "bar": [
           {
            "error_x": {
             "color": "#2a3f5f"
            },
            "error_y": {
             "color": "#2a3f5f"
            },
            "marker": {
             "line": {
              "color": "#E5ECF6",
              "width": 0.5
             },
             "pattern": {
              "fillmode": "overlay",
              "size": 10,
              "solidity": 0.2
             }
            },
            "type": "bar"
           }
          ],
          "barpolar": [
           {
            "marker": {
             "line": {
              "color": "#E5ECF6",
              "width": 0.5
             },
             "pattern": {
              "fillmode": "overlay",
              "size": 10,
              "solidity": 0.2
             }
            },
            "type": "barpolar"
           }
          ],
          "carpet": [
           {
            "aaxis": {
             "endlinecolor": "#2a3f5f",
             "gridcolor": "white",
             "linecolor": "white",
             "minorgridcolor": "white",
             "startlinecolor": "#2a3f5f"
            },
            "baxis": {
             "endlinecolor": "#2a3f5f",
             "gridcolor": "white",
             "linecolor": "white",
             "minorgridcolor": "white",
             "startlinecolor": "#2a3f5f"
            },
            "type": "carpet"
           }
          ],
          "choropleth": [
           {
            "colorbar": {
             "outlinewidth": 0,
             "ticks": ""
            },
            "type": "choropleth"
           }
          ],
          "contour": [
           {
            "colorbar": {
             "outlinewidth": 0,
             "ticks": ""
            },
            "colorscale": [
             [
              0,
              "#0d0887"
             ],
             [
              0.1111111111111111,
              "#46039f"
             ],
             [
              0.2222222222222222,
              "#7201a8"
             ],
             [
              0.3333333333333333,
              "#9c179e"
             ],
             [
              0.4444444444444444,
              "#bd3786"
             ],
             [
              0.5555555555555556,
              "#d8576b"
             ],
             [
              0.6666666666666666,
              "#ed7953"
             ],
             [
              0.7777777777777778,
              "#fb9f3a"
             ],
             [
              0.8888888888888888,
              "#fdca26"
             ],
             [
              1,
              "#f0f921"
             ]
            ],
            "type": "contour"
           }
          ],
          "contourcarpet": [
           {
            "colorbar": {
             "outlinewidth": 0,
             "ticks": ""
            },
            "type": "contourcarpet"
           }
          ],
          "heatmap": [
           {
            "colorbar": {
             "outlinewidth": 0,
             "ticks": ""
            },
            "colorscale": [
             [
              0,
              "#0d0887"
             ],
             [
              0.1111111111111111,
              "#46039f"
             ],
             [
              0.2222222222222222,
              "#7201a8"
             ],
             [
              0.3333333333333333,
              "#9c179e"
             ],
             [
              0.4444444444444444,
              "#bd3786"
             ],
             [
              0.5555555555555556,
              "#d8576b"
             ],
             [
              0.6666666666666666,
              "#ed7953"
             ],
             [
              0.7777777777777778,
              "#fb9f3a"
             ],
             [
              0.8888888888888888,
              "#fdca26"
             ],
             [
              1,
              "#f0f921"
             ]
            ],
            "type": "heatmap"
           }
          ],
          "heatmapgl": [
           {
            "colorbar": {
             "outlinewidth": 0,
             "ticks": ""
            },
            "colorscale": [
             [
              0,
              "#0d0887"
             ],
             [
              0.1111111111111111,
              "#46039f"
             ],
             [
              0.2222222222222222,
              "#7201a8"
             ],
             [
              0.3333333333333333,
              "#9c179e"
             ],
             [
              0.4444444444444444,
              "#bd3786"
             ],
             [
              0.5555555555555556,
              "#d8576b"
             ],
             [
              0.6666666666666666,
              "#ed7953"
             ],
             [
              0.7777777777777778,
              "#fb9f3a"
             ],
             [
              0.8888888888888888,
              "#fdca26"
             ],
             [
              1,
              "#f0f921"
             ]
            ],
            "type": "heatmapgl"
           }
          ],
          "histogram": [
           {
            "marker": {
             "pattern": {
              "fillmode": "overlay",
              "size": 10,
              "solidity": 0.2
             }
            },
            "type": "histogram"
           }
          ],
          "histogram2d": [
           {
            "colorbar": {
             "outlinewidth": 0,
             "ticks": ""
            },
            "colorscale": [
             [
              0,
              "#0d0887"
             ],
             [
              0.1111111111111111,
              "#46039f"
             ],
             [
              0.2222222222222222,
              "#7201a8"
             ],
             [
              0.3333333333333333,
              "#9c179e"
             ],
             [
              0.4444444444444444,
              "#bd3786"
             ],
             [
              0.5555555555555556,
              "#d8576b"
             ],
             [
              0.6666666666666666,
              "#ed7953"
             ],
             [
              0.7777777777777778,
              "#fb9f3a"
             ],
             [
              0.8888888888888888,
              "#fdca26"
             ],
             [
              1,
              "#f0f921"
             ]
            ],
            "type": "histogram2d"
           }
          ],
          "histogram2dcontour": [
           {
            "colorbar": {
             "outlinewidth": 0,
             "ticks": ""
            },
            "colorscale": [
             [
              0,
              "#0d0887"
             ],
             [
              0.1111111111111111,
              "#46039f"
             ],
             [
              0.2222222222222222,
              "#7201a8"
             ],
             [
              0.3333333333333333,
              "#9c179e"
             ],
             [
              0.4444444444444444,
              "#bd3786"
             ],
             [
              0.5555555555555556,
              "#d8576b"
             ],
             [
              0.6666666666666666,
              "#ed7953"
             ],
             [
              0.7777777777777778,
              "#fb9f3a"
             ],
             [
              0.8888888888888888,
              "#fdca26"
             ],
             [
              1,
              "#f0f921"
             ]
            ],
            "type": "histogram2dcontour"
           }
          ],
          "mesh3d": [
           {
            "colorbar": {
             "outlinewidth": 0,
             "ticks": ""
            },
            "type": "mesh3d"
           }
          ],
          "parcoords": [
           {
            "line": {
             "colorbar": {
              "outlinewidth": 0,
              "ticks": ""
             }
            },
            "type": "parcoords"
           }
          ],
          "pie": [
           {
            "automargin": true,
            "type": "pie"
           }
          ],
          "scatter": [
           {
            "fillpattern": {
             "fillmode": "overlay",
             "size": 10,
             "solidity": 0.2
            },
            "type": "scatter"
           }
          ],
          "scatter3d": [
           {
            "line": {
             "colorbar": {
              "outlinewidth": 0,
              "ticks": ""
             }
            },
            "marker": {
             "colorbar": {
              "outlinewidth": 0,
              "ticks": ""
             }
            },
            "type": "scatter3d"
           }
          ],
          "scattercarpet": [
           {
            "marker": {
             "colorbar": {
              "outlinewidth": 0,
              "ticks": ""
             }
            },
            "type": "scattercarpet"
           }
          ],
          "scattergeo": [
           {
            "marker": {
             "colorbar": {
              "outlinewidth": 0,
              "ticks": ""
             }
            },
            "type": "scattergeo"
           }
          ],
          "scattergl": [
           {
            "marker": {
             "colorbar": {
              "outlinewidth": 0,
              "ticks": ""
             }
            },
            "type": "scattergl"
           }
          ],
          "scattermapbox": [
           {
            "marker": {
             "colorbar": {
              "outlinewidth": 0,
              "ticks": ""
             }
            },
            "type": "scattermapbox"
           }
          ],
          "scatterpolar": [
           {
            "marker": {
             "colorbar": {
              "outlinewidth": 0,
              "ticks": ""
             }
            },
            "type": "scatterpolar"
           }
          ],
          "scatterpolargl": [
           {
            "marker": {
             "colorbar": {
              "outlinewidth": 0,
              "ticks": ""
             }
            },
            "type": "scatterpolargl"
           }
          ],
          "scatterternary": [
           {
            "marker": {
             "colorbar": {
              "outlinewidth": 0,
              "ticks": ""
             }
            },
            "type": "scatterternary"
           }
          ],
          "surface": [
           {
            "colorbar": {
             "outlinewidth": 0,
             "ticks": ""
            },
            "colorscale": [
             [
              0,
              "#0d0887"
             ],
             [
              0.1111111111111111,
              "#46039f"
             ],
             [
              0.2222222222222222,
              "#7201a8"
             ],
             [
              0.3333333333333333,
              "#9c179e"
             ],
             [
              0.4444444444444444,
              "#bd3786"
             ],
             [
              0.5555555555555556,
              "#d8576b"
             ],
             [
              0.6666666666666666,
              "#ed7953"
             ],
             [
              0.7777777777777778,
              "#fb9f3a"
             ],
             [
              0.8888888888888888,
              "#fdca26"
             ],
             [
              1,
              "#f0f921"
             ]
            ],
            "type": "surface"
           }
          ],
          "table": [
           {
            "cells": {
             "fill": {
              "color": "#EBF0F8"
             },
             "line": {
              "color": "white"
             }
            },
            "header": {
             "fill": {
              "color": "#C8D4E3"
             },
             "line": {
              "color": "white"
             }
            },
            "type": "table"
           }
          ]
         },
         "layout": {
          "annotationdefaults": {
           "arrowcolor": "#2a3f5f",
           "arrowhead": 0,
           "arrowwidth": 1
          },
          "autotypenumbers": "strict",
          "coloraxis": {
           "colorbar": {
            "outlinewidth": 0,
            "ticks": ""
           }
          },
          "colorscale": {
           "diverging": [
            [
             0,
             "#8e0152"
            ],
            [
             0.1,
             "#c51b7d"
            ],
            [
             0.2,
             "#de77ae"
            ],
            [
             0.3,
             "#f1b6da"
            ],
            [
             0.4,
             "#fde0ef"
            ],
            [
             0.5,
             "#f7f7f7"
            ],
            [
             0.6,
             "#e6f5d0"
            ],
            [
             0.7,
             "#b8e186"
            ],
            [
             0.8,
             "#7fbc41"
            ],
            [
             0.9,
             "#4d9221"
            ],
            [
             1,
             "#276419"
            ]
           ],
           "sequential": [
            [
             0,
             "#0d0887"
            ],
            [
             0.1111111111111111,
             "#46039f"
            ],
            [
             0.2222222222222222,
             "#7201a8"
            ],
            [
             0.3333333333333333,
             "#9c179e"
            ],
            [
             0.4444444444444444,
             "#bd3786"
            ],
            [
             0.5555555555555556,
             "#d8576b"
            ],
            [
             0.6666666666666666,
             "#ed7953"
            ],
            [
             0.7777777777777778,
             "#fb9f3a"
            ],
            [
             0.8888888888888888,
             "#fdca26"
            ],
            [
             1,
             "#f0f921"
            ]
           ],
           "sequentialminus": [
            [
             0,
             "#0d0887"
            ],
            [
             0.1111111111111111,
             "#46039f"
            ],
            [
             0.2222222222222222,
             "#7201a8"
            ],
            [
             0.3333333333333333,
             "#9c179e"
            ],
            [
             0.4444444444444444,
             "#bd3786"
            ],
            [
             0.5555555555555556,
             "#d8576b"
            ],
            [
             0.6666666666666666,
             "#ed7953"
            ],
            [
             0.7777777777777778,
             "#fb9f3a"
            ],
            [
             0.8888888888888888,
             "#fdca26"
            ],
            [
             1,
             "#f0f921"
            ]
           ]
          },
          "colorway": [
           "#636efa",
           "#EF553B",
           "#00cc96",
           "#ab63fa",
           "#FFA15A",
           "#19d3f3",
           "#FF6692",
           "#B6E880",
           "#FF97FF",
           "#FECB52"
          ],
          "font": {
           "color": "#2a3f5f"
          },
          "geo": {
           "bgcolor": "white",
           "lakecolor": "white",
           "landcolor": "#E5ECF6",
           "showlakes": true,
           "showland": true,
           "subunitcolor": "white"
          },
          "hoverlabel": {
           "align": "left"
          },
          "hovermode": "closest",
          "mapbox": {
           "style": "light"
          },
          "paper_bgcolor": "white",
          "plot_bgcolor": "#E5ECF6",
          "polar": {
           "angularaxis": {
            "gridcolor": "white",
            "linecolor": "white",
            "ticks": ""
           },
           "bgcolor": "#E5ECF6",
           "radialaxis": {
            "gridcolor": "white",
            "linecolor": "white",
            "ticks": ""
           }
          },
          "scene": {
           "xaxis": {
            "backgroundcolor": "#E5ECF6",
            "gridcolor": "white",
            "gridwidth": 2,
            "linecolor": "white",
            "showbackground": true,
            "ticks": "",
            "zerolinecolor": "white"
           },
           "yaxis": {
            "backgroundcolor": "#E5ECF6",
            "gridcolor": "white",
            "gridwidth": 2,
            "linecolor": "white",
            "showbackground": true,
            "ticks": "",
            "zerolinecolor": "white"
           },
           "zaxis": {
            "backgroundcolor": "#E5ECF6",
            "gridcolor": "white",
            "gridwidth": 2,
            "linecolor": "white",
            "showbackground": true,
            "ticks": "",
            "zerolinecolor": "white"
           }
          },
          "shapedefaults": {
           "line": {
            "color": "#2a3f5f"
           }
          },
          "ternary": {
           "aaxis": {
            "gridcolor": "white",
            "linecolor": "white",
            "ticks": ""
           },
           "baxis": {
            "gridcolor": "white",
            "linecolor": "white",
            "ticks": ""
           },
           "bgcolor": "#E5ECF6",
           "caxis": {
            "gridcolor": "white",
            "linecolor": "white",
            "ticks": ""
           }
          },
          "title": {
           "x": 0.05
          },
          "xaxis": {
           "automargin": true,
           "gridcolor": "white",
           "linecolor": "white",
           "ticks": "",
           "title": {
            "standoff": 15
           },
           "zerolinecolor": "white",
           "zerolinewidth": 2
          },
          "yaxis": {
           "automargin": true,
           "gridcolor": "white",
           "linecolor": "white",
           "ticks": "",
           "title": {
            "standoff": 15
           },
           "zerolinecolor": "white",
           "zerolinewidth": 2
          }
         }
        },
        "width": 1500
       }
      },
      "text/html": [
       "<div>                            <div id=\"49836650-3328-47e4-af99-8189da7e1ad2\" class=\"plotly-graph-div\" style=\"height:800px; width:1500px;\"></div>            <script type=\"text/javascript\">                require([\"plotly\"], function(Plotly) {                    window.PLOTLYENV=window.PLOTLYENV || {};                                    if (document.getElementById(\"49836650-3328-47e4-af99-8189da7e1ad2\")) {                    Plotly.newPlot(                        \"49836650-3328-47e4-af99-8189da7e1ad2\",                        [{\"colorscale\":[[0.0,\"#000004\"],[0.1111111111111111,\"#180f3d\"],[0.2222222222222222,\"#440f76\"],[0.3333333333333333,\"#721f81\"],[0.4444444444444444,\"#9e2f7f\"],[0.5555555555555556,\"#cd4071\"],[0.6666666666666666,\"#f1605d\"],[0.7777777777777778,\"#fd9668\"],[0.8888888888888888,\"#feca8d\"],[1.0,\"#fcfdbf\"]],\"x\":[\"JavaScript\",\"HTML/CSS\",\"SQL\",\"MySQL\",\"Python\",\"Java\",\"Node.js\",\"Bash/Shell/PowerShell\",\"jQuery\",\"C#\",\"PostgreSQL\",\"Microsoft SQL Server\",\"SQLite\",\"React.js\",\"PHP\",\"TypeScript\",\".NET\",\"C++\",\"MongoDB\",\"C\",\".NET Core\",\"Angular\",\"ASP.NET\",\"Redis\",\"Express\",\"MariaDB\",\"Oracle\",\"ASP.NET Core\",\"Vue.js\",\"Firebase\",\"Spring\",\"Angular.js\",\"Elasticsearch\",\"Pandas\",\"Django\",\"Flask\",\"Go\",\"Laravel\",\"TensorFlow\",\"React Native\",\"Kotlin\",\"Unity 3D\",\"Ruby\",\"Assembly\",\"VBA\",\"DynamoDB\",\"Swift\",\"R\",\"Ansible\",\"Ruby on Rails\",\"Rust\",\"Flutter\",\"Teraform\",\"Keras\",\"Cordova\",\"Xamarin\",\"Objective-C\",\"Dart\",\"Apache Spark\",\"Scala\",\"Torch/PyTorch\",\"Symfony\",\"Hadoop\",\"Perl\",\"Gatsby\",\"Cassandra\",\"IBM DB2\",\"Drupal\",\"Unreal Engine\",\"Haskell\",\"Puppet\",\"Couchbase\",\"Chef\",\"Julia\"],\"y\":[\"Marketing or sales professional\",\"Senior executive/VP\",\"Engineer, site reliability\",\"Scientist\",\"Product manager\",\"Engineering manager\",\"Developer, game or graphics\",\"Educator\",\"Academic researcher\",\"Engineer, data\",\"Developer, QA or test\",\"Data scientist or machine learning specialist\",\"Data or business analyst\",\"Developer, embedded applications or devices\",\"System administrator\",\"Designer\",\"Database administrator\",\"DevOps specialist\",\"Developer, mobile\",\"Developer, desktop or enterprise applications\",\"Developer, front-end\",\"Developer, full-stack\",\"Developer, back-end\"],\"ygap\":1,\"z\":[[0.4338163524993637,1.5100246629109877,-0.2607076348377079,2.216239261492258,-0.766783536482833,-1.369925824210894,0.5288259953880806,-1.0406113889216824,1.5050559422746528,-1.0204779892222724,-0.8441624618555672,-0.281531555022435,-0.003603769998175798,0.09427735916279231,2.704155227861616,-0.43885850955150835,-0.27611323412854916,-0.5344944959944712,0.04936790011888692,-0.25201612171010984,-0.5339247200075792,-0.02905222760552471,0.014187097486912064,-0.820911321044297,0.8370470594229039,1.0454246307319,0.0468631744297066,-0.24244875284572454,1.193101515382013,1.3396951646362145,-0.8036855123577558,0.8496365372616713,-0.8345762760596926,-0.2590411025324499,0.9305669945807491,-0.21591490034679836,-0.09549340174786018,2.7845083008742386,0.08291266909780944,1.5061172389203747,0.23952191407703682,0.19828687934782416,0.893225946478879,0.6828994650024179,1.4908988646765222,-0.10276866334912911,0.7846123036572243,0.29539533409288876,-0.2089625897866079,1.5213540364260216,-0.03243080888395138,1.8719418237385896,-0.22968672323927344,-0.02074126259875836,1.9766650652683115,1.1187916420635642,1.156486625023335,2.100966929728105,0.3060348084903469,0.29756698250245944,0.23942613999440443,2.975431822509126,-0.04550947583260416,1.2383030629840182,3.4524270657129876,0.903457365237252,2.3150776214497837,3.6878790371710695,1.109494740344591,1.4684174343266807,0.7638453825987382,3.17070146491487,1.2397908126697035,1.5895510345363648],[0.6362434631208689,0.6495983863750474,0.6223122554097734,-0.18598616746928967,-0.1403295385780517,-1.1014004242199276,0.84311697784535,0.47238880190340804,0.07649364687685707,0.16380398213338432,1.539840994691499,0.257640258033824,0.33016063015860886,0.9069881698040273,0.21230101927399417,0.6206983775414742,0.1773321713083857,-0.25403384225748743,0.38825808156944075,-0.010306767706210999,0.9724583005139231,0.21610474341989114,0.3818823515007265,1.3177234240222326,0.5360483555824651,0.807396530012036,-0.7754594925585436,1.029975547372305,1.4667620885466455,0.4533569112637105,-0.6721998394120345,0.2277060910813466,0.9921455000603165,-0.14838332570946267,0.3428668711780654,-0.058145229099036785,0.48814268151343926,0.7168769376790908,0.01879254602260417,1.5694281496492861,0.3568528460433733,-0.1122642703264157,1.389405299126169,0.9722131849007412,0.34075416271276926,1.3642784756695965,0.9407117571164615,-0.2392395899668647,0.43173734848544887,2.0778020631958545,0.7840223836933355,0.6569951655570462,0.4913596128860081,0.04298537446674966,1.151266943617935,1.3112626387506945,1.1464198089438498,1.228555775242473,-0.003959905970358648,0.6138499731871262,0.05283605873665295,1.235903097024402,-0.0631943094669577,1.5290421534673575,0.9440524844590716,1.288963282710352,1.7148349046609506,1.1932632852403189,0.21827930534968687,0.6270666288867056,0.952937617616768,2.1870510038198474,0.7851530195651726,0.6218549753633835],[-0.12965971366735277,-0.5786292990616523,0.21340499364719842,0.670757856552762,1.0445236734538377,0.5277459458283661,0.6648456340583337,2.4264031931525714,-0.7860034001016524,-0.9644087714440196,2.098111050775231,-0.7759850408474297,-0.4419918807186283,0.3756973628451362,-0.2736198578869332,0.19499467461735565,-1.2263757544173046,-0.5155331782004765,1.420277075411412,-0.38689309444186504,-0.5302284149929103,-0.4255824156787828,-1.073734216285482,2.721858613411109,0.7971976405737167,1.2074558989155189,-1.1115277705285738,-0.3789185188930396,0.006042676450849233,-0.7365299077095582,1.2569670061802325,0.3161670473494777,2.90530143315448,-0.20963290807883123,1.3978536821526917,1.5948473619862573,3.7102461084545793,-0.3222382785808486,-0.3884881360236053,-0.15805993373813568,0.28551518223723177,-0.3975941669009067,2.892080050901662,-0.11400218077495505,-0.7730314060364137,3.049841647776285,-0.5932645812910365,-0.4622142909601231,3.2711075043185036,2.012592234941947,2.3385690346345083,-0.21665223258424868,3.5867198525895945,-0.34371303851102053,-0.7923070260376768,-0.9378059612425166,-0.5782149873285092,-0.36027228611216555,0.4565918078803389,1.2674492683027727,-0.2597007302776667,0.9753169560169536,0.48130147854312466,2.335404237706277,0.7263793828711069,2.5942844012302086,0.017105000648608554,0.6478898901082598,-0.19433986591018568,1.2185680487497017,3.4809320180349124,0.6502049527776805,3.3275451777886578,0.0972688194420319],[-2.0339260164177344,-1.900843190500415,-1.9711159068413413,-2.2847936310003516,1.7081860451377664,-1.1879788095888808,-1.8955461518015233,0.2474897431486787,-1.7191841281638556,-1.4556762768269267,-0.6774127227415373,-1.9030267668322678,0.205343607068808,-1.4597663282873141,-1.4104124396931155,-1.8028729534943928,-1.4281814546206495,1.7242158676800443,-1.927415121901193,1.5629070456028857,-1.7123589225353533,-2.048806191686597,-1.894918173545292,-1.006128968858698,-1.6394732073295126,-1.1017534308869366,-1.478704398618984,-1.7375613875734066,-1.7622553756506463,-0.8364235941942094,-1.1988401614371602,-2.3236029084431107,-0.9095492611923776,1.4713590767878737,0.6180789807001654,0.5967066319772566,-0.3738003518934821,-1.3758620292960047,1.7680494386387597,-0.9422746282877319,-0.7684482358621345,-0.12088448291130781,-0.43845318075160444,1.3352670319755877,0.1561161850310397,-0.7785690373817062,-0.30588036906660676,2.040205112488038,-0.3678566596809844,-0.4400144884561133,1.194217214352331,-0.44537735141225754,-0.5280723456635235,1.7410559437846094,-1.058649030515795,-1.0294243391372622,-0.3107783609817974,-0.5152375775542959,0.3064694061151367,0.16351866476708007,1.7723696790443833,-0.6830493387200649,0.595245677049173,0.6129412389941036,-0.573371612943204,-0.12715803612949986,-0.22011694133175652,-0.3190717335172324,0.1158721011549666,1.836600505874412,-0.5008060760370959,0.25805500587011104,-0.31945708512482307,2.6249924336461112],[0.6503333763345197,0.6999252585258842,0.3848216498657335,0.3985497736193528,-0.4788217300954861,-0.37483481593725454,0.6559582094660333,-0.3170548828162475,0.8806110510558178,0.12146147196700795,0.16771353328856564,0.3811073635851661,0.6876521500434744,0.4188878380244141,0.6903188932091617,0.4082402057320506,0.1863972210804347,-0.33814598756200803,0.4916492304793089,-0.34907878249107194,0.17219036545054725,0.3410148764251,0.366053039988864,0.1408654975098941,0.5965297466351862,0.2890082347161541,0.0007208407267917738,0.14318215398747552,0.7488060592990008,0.8026301218454714,-0.5030739013969567,0.5890009675647815,0.10381486317657505,-0.3838761588457009,0.12081888669876292,-0.3923669394143161,0.028799234384311045,0.8014768350381414,-0.3046496081102556,0.631518244955421,0.27106358124340096,-0.08178299282892035,0.47513969979489934,-0.10659106595674932,0.40199815179816345,0.11764712048072677,0.7530689405828245,-0.22888307493318044,-0.23099519723575065,0.7584396028611646,-0.5175066186015989,0.6617774963094557,-0.27637777777058004,-0.4035099210364507,0.822239786458685,0.5823642934635155,0.6839500735728771,0.6380572250850366,-0.26750719112993937,-0.604093425645504,-0.31357715364659294,0.7536854403772769,-0.3059941664129983,-0.11727064935823618,0.6663283475656507,-0.010992455945976096,0.25606266071127015,0.6734919447291777,-0.17341992481014418,-0.5626849506121135,-0.09988158344713007,0.12463544068570279,-0.018267503119184486,-0.23084108424860547],[0.2499024230864781,-0.327757929092047,0.058893796863016476,-0.6827942602897009,-0.0953924191902726,0.04680337076977009,0.793529657424499,0.6431514731513361,-0.8084941498813029,-0.03235417720880735,1.4035812556545881,-0.004992519754083886,-0.45448465442251895,1.2770862235709872,-0.5094642717431013,0.6659055266628694,-0.13688648163361267,-0.3295880658013734,1.3890297906453948,-0.2407892044208742,0.4223842156905283,0.3877726802238408,-0.018028731720305283,1.703175764872722,0.6145132588417855,-0.26083248793115993,-0.42452761773340425,0.5223915689696118,0.2603141815898922,-0.15340968814109965,0.9649602500072132,0.7155434029743365,1.5914473911968237,-0.28696298767298956,-0.275650132936271,0.07852962838384436,0.9901239389476352,-0.5396515956392918,-0.28164326241879684,0.04852197465139428,0.40606191671543934,-0.35009124385477625,1.50988991299153,-0.031099120637150438,-0.864932960443704,1.7056746578634951,0.39592117817201633,-0.44932889493588685,0.6064538823478051,1.9844992812209667,0.6330861120246456,-0.4217193147832346,0.9468981870014106,-0.389511374867833,-0.29609938814341613,-0.3490249787917541,0.5196948400157041,-0.27558340970081857,0.19248656286718488,0.9769842256770007,-0.2713860840187613,0.33496591027338096,0.2733066656746861,0.35437572118098787,0.6685272718482588,1.2144776762385143,0.13646052951375645,0.30070512264126936,-0.35759716091404775,-0.14318735665549243,0.7628664232134083,0.9852023026629841,1.0284131984211984,-0.21863180504453905],[0.01822809772247545,-0.12306196570305356,-1.2934417369586808,-0.49061206731694956,-0.32207717066999336,0.8795228538366778,0.4502073110409796,-0.5606434434921687,-0.25934550137630685,2.5826190620678697,-1.2604535782854382,-0.9758131632626651,0.4160441147896908,0.18002199989900564,0.049609781383763644,0.3590044064889955,1.4908297154317531,2.0611037392268394,-0.05834981146493396,1.079764396091661,1.343907073541746,-0.2746095818315985,-0.08074580228245802,-0.5800563018563994,0.4198229296685591,-0.3013748435569801,-0.8985237387223516,-0.01892933765590177,0.4700724440694868,0.6974828822200569,-1.0439500477886199,-0.5124141710753862,-0.8572942688541886,-0.6397679382309419,-0.9119261452795061,-0.7133937530736522,-0.20928353093811608,-0.3537476445812541,-0.23774181921894214,0.6238829570158768,0.5674262972814617,4.578863713652795,-0.3359415883558294,1.4588083195591637,-0.532133586441635,-0.42452265160952857,0.6904395737587022,-0.62686650026797,-0.6558279926045161,-0.38408085384192653,1.9242008603690703,0.7575162771080656,-0.4960019415365297,-0.34299594761158925,0.6763667065989031,0.9532576686180816,1.4485872728502838,0.5800575749241338,-0.662886762913694,-0.6128790955185075,-0.3453208221348193,-0.12190707139329861,-0.6086139193675572,-0.8499908047769706,-0.04318070858934757,-0.970250182981443,-1.2079967189525274,-0.3408059480051374,4.359325484112452,0.35894048550707547,-0.4430313323605931,0.014906293633239705,-0.4120271285041992,-0.3504876427936669],[0.1472993591097731,0.3773313253149117,-0.40156232536865377,0.6903415060028965,-0.20268194094379596,0.5387583787108493,0.19640284086596763,-0.23728982728838652,0.22245340986567727,-0.5187299411515335,-0.21762568132689283,-0.6351283437017143,0.6444913329903635,0.30293109326462636,0.4219616747333671,0.09045845685165556,-0.44491554795464056,0.24611088017903643,0.5991088382923162,0.2600820634999152,-0.6955623204441256,0.14479567065639212,-0.6223568592639015,-0.34010972757121544,0.6908500872959836,0.42879119774982194,0.10754522237921442,-0.6475527437710878,0.1577522799703479,0.5562343699970888,0.5953362960237971,0.038137118590335604,-0.46894550215740183,-0.1391949410979118,0.17364542972246422,-0.1951813551902591,-0.45407439879001926,0.3567872508969132,-0.06304415375499293,0.38452627606144507,0.5122231870712759,-0.024984048085992878,-0.04798660100431768,0.5915996435590947,-0.26251981076059266,-0.3973340471841215,-0.12862331302216878,0.11587730667408891,-0.2539178009963889,-0.01749213699980467,-0.2981690496699542,0.44760772246277336,-0.3766749178888411,-0.11546401662625794,0.3437533691170641,-0.23752122666246905,-0.07176860922281798,0.3242613480720634,-0.30541061277431714,-0.25113915685313665,-0.14508222228531778,0.4306977466349567,-0.33040631067779397,0.10836975933740818,0.44776068106525013,-0.4742556367428962,0.10629959248405549,0.31136490507146464,-0.11109640200511889,1.463360134403271,-0.196270639415094,-0.22573591135070586,-0.23825322789945558,0.22566586671261402],[-1.4073284165528295,-1.159514362847717,-1.6034959058309513,-0.6998760695858411,0.9713014632257141,0.5071600317105205,-1.5400568975173112,-0.3989779048628884,-0.9567225778737534,-1.2096344815040827,-0.8177055389679136,-1.6082580946875435,0.08899603449364828,-1.2207265766236057,-0.6008208876773803,-1.5335123504498964,-1.28726004178549,1.3494635174703211,-0.6022461326482726,1.3309629608829898,-1.663479628015083,-1.1568793793777803,-1.4227552573031033,-0.9263177275908591,-1.3394381907451036,-0.7906971884822971,-0.8333900020559722,-1.7519540379061813,-1.2260770875702658,-0.31758099503899045,-0.3505647571386167,-1.4213016646118326,-0.8438398913595577,0.9830141341874881,0.5066452756042361,0.232077374174819,-0.6965757131714451,-0.49294719206289106,1.1732231140495144,-0.8507704403010632,-0.5585450323246552,-0.23600227390440895,-0.7629402711411283,1.0571868724806754,-0.4138683289440666,-1.0613777278213377,-0.47435801279944634,1.4116298926105413,-0.6032868842720676,-0.6012359951106474,0.23011061467401228,-0.37495627906869355,-0.6776153481593508,1.2153774097009749,-0.7800899633632848,-1.038966266279948,-0.4750892773117458,-0.44720902682383934,0.13890672807020965,0.10265593795746125,1.237065263743245,-1.050348130582867,0.2614642657079451,-0.032417595035830166,-0.8306487882059292,-0.31193257429138704,-0.7341399499843646,-0.5727027362207943,-0.2605109637880939,1.7841387455812736,-0.6089870666150133,-0.48140269869078,-0.7142609719607407,1.7986216029083848],[-1.111219238706015,-1.2594944219448896,0.8766673935370626,-0.1588628159971729,1.4866593632843212,0.651126504132036,-0.9789011830358688,0.41600443559436534,-1.0184700359377246,-0.8982208516727304,1.2780786074868136,0.24782346095412586,-0.08343722419378917,-0.8273558553739503,-1.0033219035385106,-1.1269208326365683,-0.9991312117645479,-0.23288937162168918,0.9389598568590709,-0.06927497553109108,-0.9708357347261461,-1.1108304781471172,-1.0636343930990548,0.3269403915096321,-0.8685833617986662,-0.653820265078493,1.2659178194818985,-1.0262372052695796,-0.9658916498279777,-0.6324449698186138,0.7895458142819239,-0.8455997428467167,0.7858214298749256,1.6690529716708766,1.4811456330669768,2.0148182275408195,0.08083226755934611,-0.9826140333766025,0.8368483238512785,-0.9027678245496404,-0.5171210514042347,-0.38107760802392665,-0.4208444554346195,-0.24251800152055208,0.6162371937160923,0.587579773886257,-0.7552007594744646,0.8010055736278389,0.06360246621607538,-0.50113944121986,-0.20849779443754773,-0.8226209311229561,0.40748928549017305,0.8251826967250814,-1.1344364901092276,-0.8615631631227035,-0.6609761925240395,-0.8991695416499988,3.1144459444353783,3.304331009700809,0.7646054983762581,-0.4460239698136905,3.0714797320542107,0.16654850700828508,-0.666946859833337,1.8051818186060946,0.7142895257226128,-0.6260936933527668,-0.34982982289553666,0.021444102618120457,-0.2109429757771199,0.49799295858643433,-0.19737707672355462,0.27058989717502474],[0.49068884125587603,0.4277510775977667,0.4180430585073047,0.41845671427487535,-0.2914211470442006,1.371552412513277,0.3664889969234814,0.24302518720368194,0.3996183145438262,0.6181931513418076,-0.3691229727262635,0.39248309759774996,-0.22073729437925257,-0.02703933503964947,0.1155238476973944,0.3156517663133605,0.6074957221016084,-0.2785586425034176,-0.13603140876152958,-0.2644468731257963,0.5679608480271604,0.6134054418282808,0.5628623095100562,-0.2794708249580323,-0.09344548126086032,0.013336692658198385,1.0788348390381568,0.4795657603872318,0.12955304960894748,-0.024159015983275033,1.0557227850034228,1.212501942409234,-0.004171571044384622,-0.5498120816444604,-0.5729398797283982,-0.5123338685973243,-0.24713884339814773,0.24925340272053195,-0.6028505790545716,-0.3646057143983469,0.16032273331754537,-0.122163174432151,0.27052468736273794,-0.3923396504702544,-0.08211624409577153,-0.16597244074297374,-0.18506306523484153,-0.6440088120689497,-0.14745635458696127,-0.04647488379089574,-0.559388056890263,-0.4432398788963805,-0.2064539520454366,-0.586507130546268,0.020658741384983317,-0.0745715163516658,-0.19095330328174098,-0.42407933585543073,-0.5151135250541866,-0.39983499819906965,-0.5713142584345373,0.15070469586184618,-0.5308488755773263,0.23306494956360876,-0.5136165395106329,-0.5010893049050701,0.03167230555951224,0.1710170276488853,-0.18638439680104968,-0.5653536274089623,0.02225867197360148,-0.4043284007654946,-0.1176076836026772,-0.3726011165171511],[-2.0553805104496368,-1.7606504243877041,-0.1804718281210389,-0.8526348000741512,2.6148476507869254,-0.6773542237183563,-1.9464254034912876,-0.07896065758627525,-1.8612573503556866,-1.5851909601659178,0.5312367597338895,-0.9006494976610825,0.27999588425071037,-1.2387176093647903,-1.7060621514670447,-1.8112016086816658,-1.743317676770024,0.49730533649320385,0.3860820770952778,0.21532424141910095,-1.7086628542426907,-1.7774271856246004,-1.8745373300010353,-0.558675202829391,-1.6269682972038035,-1.3329222037288517,0.19594531496716336,-1.8171703206452872,-1.7117749646652345,-0.9318845214829982,-0.967042317280396,-1.8715859833217252,0.046066146678692826,3.291583827472921,2.4576193148447327,2.894423165550614,-0.361613759255187,-1.5563686702093122,3.6109343256038575,-0.9550275123895259,-0.7771379765992944,-0.4052640605240288,-0.9584772125571626,-0.15278460366290778,0.025732670377953126,-0.30827336784848913,-0.7381332005886125,2.8366067922330895,-0.3756568610929471,-1.0006170612443355,-0.03805387824805691,-0.7264639883747208,-0.2841291905950077,3.6812767324840125,-1.5811474346898458,-1.4555907923734033,-0.8611950460393678,-0.8354871862308635,2.6456186225613307,1.5135269767983148,3.6225337223070273,-1.42384810677716,2.526671360474744,-0.5615381270492553,-0.7322999787593654,0.6293890534649687,0.10112046899473152,-0.8665860844886855,-0.33004158531899946,0.8931371403710135,-0.42590997887795695,-0.6270588548760868,-0.3665600805516514,1.72701051815543],[-1.039842272891999,-0.5249430484795043,1.638118586787189,-0.1643243779862855,0.47677332431323494,-1.6542569297253285,-1.599484776993867,-0.6362088638723429,-0.3644344659937136,-0.2522034064914315,-0.23155899353026235,2.0462010684407006,-0.4708998951204451,-1.489929524443529,-0.5857217720962122,-1.370932991883436,0.09795224308639305,-0.8249109037685193,-1.8163391284629864,-0.8166037193855255,-0.4797939453597701,-1.3145405484739843,0.3989980910999552,-0.9945335072798364,-1.6684218285106058,-0.6624878144137162,2.7575484247048405,-0.2782203343877258,-1.5014262687022435,-1.0302673540242104,-1.294001532581329,-1.1573001226512827,-0.6007887118739684,1.156458624961878,0.33646450051056703,0.3045505049983551,-1.0007158272827656,-0.6755080799338185,0.32691103720543463,-1.182076887005522,-1.102466347125415,-0.6036693207349204,-1.0574144436862833,-0.7666759717335971,3.1380773941877056,-0.7331059884846038,-0.88912285009506,1.5514992182459755,-0.6614217875292514,-0.8624548523141153,-1.39427490741848,-0.9014483539492442,-0.6285355803273869,0.2726504720306157,-0.9727138967157232,-0.560290071395095,-0.9098663155190627,-0.9410680174069564,0.7413378198639561,-0.10945075302845263,0.20812600394311023,-0.8415684589930015,0.9421121793336104,-0.2645232496535238,-1.010097864029715,-0.4679056752417882,2.039194011970035,-0.23241497178320442,-0.5920394295125304,-0.4801934052679366,-0.49505454274718147,-0.5990033934301551,-0.42430977025664146,-0.009916240249301161],[-0.9496865830673903,-1.085505670470425,-1.2579487149933684,-1.1029507790418418,0.224939246112101,0.4989625040149623,-0.6623869230147599,0.4249702387181163,-0.8642236338379458,0.6154220096210046,-0.8600217064873934,-0.3710290542682916,1.7283918765415498,-1.071045355992324,-0.690326571046481,-0.4960132162913369,0.7780381275954887,2.6567251141353108,-1.4210526629807172,3.356250543999909,0.5390893163623508,-0.23048220472379674,0.041315242953483176,-0.650599618907558,-0.9711526917703572,-0.45068291733533766,-0.22117090173859708,0.05669604032386313,-0.9534227511155716,-0.11698960316908487,-0.5926304809705374,-0.029153193917820484,-0.8230618111956887,-0.48081376136427945,-0.8007961829117196,-0.46815529382286836,-0.12003581370436402,-0.880686213214107,-0.1057699350795273,-0.3379610788654308,0.3210574300150527,0.062101701736249154,-0.6651475748001795,2.7174188020612386,0.07960779567257506,-0.5088364732734394,0.5432798135021216,-0.599691788362982,-0.43860151210953496,-0.8706502464414412,1.294080008086517,0.3436027388112135,-0.6099401052038163,-0.25089335011265407,0.4899573639125327,1.3480250998429624,0.9268034535566918,0.3563806629445746,-0.5825605796237388,-0.6652774266420355,-0.252709276111445,-0.7910830329211891,-0.5937379046534434,0.09381409831684859,-0.8633118972679769,-0.3908333732593599,-0.22547440403695276,-0.8073424344366122,0.032433792705546,0.050404196416529254,-0.5764961797066562,-0.19278611880742244,-0.521306559550117,-0.4494051746233768],[0.43529837091351725,0.6875815007083236,0.993832834772325,1.4370975712563177,0.2796164162958217,-0.492209127341742,0.06741834695425453,1.6775202210174434,0.838440564738629,-0.21840880678709254,0.7412224810014459,0.36716348732741055,0.7303240325514507,-0.6681327177136918,1.3823423662259868,-0.34264116188279325,-0.14731443705141653,-0.2564056371323158,-0.4005672015607681,0.07072811717397358,-0.3451591742082446,-0.48629969100910725,-0.2115291944037437,0.5680604908920315,-0.27011527579953376,2.788663909609683,-0.14477241334252602,-0.4380599504958067,0.4912818114304359,-0.853709760859935,-0.8754933602774163,-0.4795961041712596,0.33010838173419216,-0.46436813895257867,0.6987586768295782,0.13813773876516736,0.5079571950342029,0.693964049567787,-0.5631455769050375,-0.8872453373090274,-0.6041883929063019,-0.2261447358932763,0.6215156478560285,0.16505952321596726,0.4696618810810645,-0.3252011762680336,-0.5607086893631615,-0.4771899355701895,1.2579210763194753,0.12475940036468372,0.47706256158687943,-0.5133990904756711,0.46056004178567334,-0.5523225850042688,-0.27085316030575496,-0.42003704399804076,-0.6372165545172014,-0.45180057972645016,-0.4169954512398972,-0.5338248142769475,-0.4899932302022711,1.0851064137124016,-0.40812120623151016,1.4900434669420672,-0.6147191320550417,-0.01894386816858651,0.026752040845910322,0.5881242298006872,-0.09929285829676428,-0.11254739087193483,1.0600872326414141,-0.30081971337224295,0.566372156192193,-0.4524024686968485],[0.9756548636709039,1.3069960995854752,-0.1375318884851582,0.9619651306386323,-0.9948101590206099,-0.4703978156981817,0.5512940546814848,-1.1514874227263088,1.5461927386900876,0.19473363740271257,-1.4910577361158472,-0.02358740768408014,-0.6773730057786675,0.49718966551902766,1.1304295674071032,0.32758573829307047,0.22694951678905548,-0.19365825221708013,-0.6642994162697045,-0.13071215619386306,-0.3400736802973634,0.7735211093670246,0.4252418839520499,-1.0585059379887969,0.49048894472029914,-0.21205084603495022,-0.1452044291463944,-0.4017638790932899,0.8763010584066283,0.6307477832201087,-1.0657593151050753,1.1304993419445237,-1.0101631585162374,-0.7398039930515657,-0.9593302037284163,-1.1100243947017039,-0.9520585625557657,0.8057282755099437,-0.6916237844712382,0.2657540532867125,-0.390187730467353,0.1174489707486249,-0.7957047874334888,-0.33295019788794616,0.09044638321760107,-0.9312059755361314,0.04367847776263261,-0.5830393533621572,-0.803895879098755,-0.6581468848868605,-1.2742358345890572,0.21743461780721451,-0.8198315896281763,-0.7014295535302834,0.3066305492665937,-0.05498844485569233,-0.16785714593646783,-0.0067487258703311966,-0.7563524244722094,-1.1883186477459695,-0.6147541636964515,-0.50965140656095,-0.7819291394673045,-0.7101569946434766,0.5955627406959202,-1.026116317039055,-0.2666206804528324,0.37173308751147577,0.11409866094441398,-0.929230496015008,-0.5805896956525362,-0.7453505194662586,-0.7013728444936687,-0.6998426129959124],[0.7889254977087327,1.0991385868352528,2.4399630325195076,1.8163695867161784,-0.45922788508839046,-0.6810409187964063,0.05673363591737181,0.36011950825411737,1.8486789455654433,0.8809708282428956,0.23845393651759833,2.0803967175709106,0.030063465878745678,-0.5446020279174297,1.6309060365442398,-0.2319595913590223,1.2327971378976414,-0.6434365033303976,-0.444889342385406,-0.5905184989983914,0.752782086906366,-0.024720709841984826,1.8977421324018997,0.07082164831106558,-0.20429118071683583,1.8445165535035988,1.0415548519955087,0.9582898420755573,0.6258890200781249,-0.3670650371484969,-0.9234507415924488,0.7150568714156148,-0.06384667474947407,-0.4133237800896815,-0.20726876473836203,-0.32975087526845426,-0.27085685895254685,1.7993581546176163,-0.5912098044762153,-0.35034789774106767,-0.6552133472103976,-0.2934904116802609,-0.562439500161487,-0.397893570320298,1.3709888844856808,-0.39158640940934053,-0.39203115856535004,-0.31965035069801384,-0.012031750317168828,-0.5381360288570771,-0.8394713683284336,-0.3981435399395961,-0.2561047325662189,-0.5784660604939142,0.19403267513746725,0.4666505072215403,-0.36479812704592035,-0.3856614019367326,-0.3789847315781977,-0.7051856213232468,-0.5197771724528158,0.9531839842361743,-0.3510558030977967,0.4121783971306734,-0.6692449218285871,-0.3868816463293476,0.3818753447280892,0.2585990307135848,-0.3597034986425284,-0.8510013705049211,-0.15838719002457186,-0.35070107752740487,-0.24836769655235888,-0.6959134824907671],[0.3538074562236667,-0.09453124190500113,0.3779635678865136,-0.411857612712373,0.35216062157484446,0.15425450005633778,0.7923566350238415,2.105516386961418,-0.35770129638606424,0.20044602396058103,1.4322773195573564,0.4759052312154307,-0.6807821627994873,0.454588152309022,-0.49212186320264384,0.9895443653206808,0.15432582016879215,-0.9104139678655216,1.7092175779593848,-0.8125612884451836,1.0889278270590301,0.9077955995033573,0.47685861095609444,1.773459942639333,0.5463178003399156,0.8646967219429361,0.08745500428903158,1.4845365001563153,0.678265062197839,-0.6927449156438608,1.7008654556929708,0.39162953622570246,1.8433049296727877,-0.3478395035019957,0.3719094035109421,0.627626267019653,1.6821358012669632,-0.489692050408716,-0.45968970115469887,-0.44973578777287065,-0.040598657169198,-0.4754401589524237,1.226878770586513,-0.9536353425074229,-1.0881310130050172,1.6942426587416946,-0.6812987304514313,-0.6130093232725021,2.311000253400391,0.41268413435900436,0.48406567144074647,-0.6880331552727819,2.0506738193946052,-0.42071319384929956,-0.4042877157327104,-0.52078092087258,-0.7604441807521578,-0.6236206023369949,-0.1198500139196782,0.2807540265557163,-0.5479081279754203,0.3820359060347672,-0.07317434003333206,0.4710519064597143,0.060800079779662064,0.8620741740891257,-0.03036180145479817,-0.1943020311226286,-0.5752639544090341,-0.3548729705483387,1.4462052984916234,0.5277817865622959,1.6143887972739113,-0.6504099266060402],[-0.045903094750389534,-0.3264760714674146,-1.1698774582885136,-0.022948596906680795,-1.3998608522228515,2.865545125398042,0.38734444294020864,-1.5924012518325685,-0.3452991341442507,0.06640758747160018,-1.22623048456655,-0.7640354955786313,2.95135247420769,0.7052246970926307,-0.09656344908323405,0.6498714745010795,-0.28693506356757265,-0.39079833881189036,0.10774994606363594,-0.5448572605047667,-0.17507716159409042,0.7019504059805798,-0.10229935003908272,-0.7139675788807182,0.9082820232072717,-0.8294220182418307,-1.2656907119404335,-0.09726740130734327,-0.3944728034244467,3.5396545337768637,-0.01630458656468319,0.07655266139972637,-0.8946591408639151,-0.8283531002561955,-1.3095589758721984,-1.191896468578547,-0.7855400738010242,0.21824777720839256,-0.5663887870577935,3.022179571211015,4.12154731506091,0.2074687759684268,-0.700606677161587,-0.9426921874673823,-1.2468372953432578,-0.5991918521800599,3.872021724634795,-0.8088547822586957,-0.9298207529357481,-0.7122463895893276,-1.3448737632907186,3.4997398901843475,-0.7230384593835897,-0.5903060664013282,2.6867210925000395,2.670438675601566,3.189793024658084,3.2600490446623644,-0.93514351579658,-1.048822543272634,-0.6893547804844474,-0.8589094710781563,-0.9553416815940131,-1.627141936367287,-0.2765050803369107,-1.1855671928494864,-1.6708046788932285,-0.9047715587516776,-0.14297911601729005,-1.3920451648335126,-0.959328714988072,-0.6735638018095758,-0.9963360639938611,-0.9723720816244806],[-0.14902308635661551,-0.2552809971381844,0.2526327888030118,-1.3658810863452633,-0.9814905238253046,0.7210096660300903,-0.7061918056421078,-0.4627259732795109,-0.08305185254284178,2.2978729183169833,-0.9827817545220467,1.9408834688890697,-0.23216099327126466,-0.7825209073374059,-1.113972253328595,0.3939104521110068,2.9014122150982797,0.29484765484397063,-1.6385644134648798,-0.08326111889993047,2.4851295583136332,0.6360179143067635,2.3284215940865383,-0.7941579981560797,-1.050776549708285,-1.0599492693591113,1.8195563924197347,2.304922572274841,-1.093083243785931,-0.8874809714701044,1.2105668365995186,0.1265253396101983,-0.6608184659928327,-0.6998138888997937,-1.8504808641864188,-1.1328350380338807,-0.6858700098146843,-1.3288359859816536,-0.7234567906536309,-0.9007058856133687,-0.45420989845400994,-0.13380333346824383,-1.3760680686990139,-0.4390487449982497,0.2828790673644994,-0.8759779597615711,-0.43754134124911664,-0.7100637781750534,-0.7169727771778719,-1.6204995936987994,-0.43915675411835053,-0.7393050975427455,-0.6484511882975063,-0.6211864824086996,-0.4947107833084407,1.147155600671791,-0.40374369695592216,-0.659610129995983,-0.755022960997386,-0.6993229559748334,-0.6899992603439864,-1.400125223745304,-0.735094432185181,-0.9419440473207829,-1.275615133163807,-0.9345252169674954,0.25142686018305743,-1.196457515478476,-0.32418043808442354,-1.0198180746568855,-0.8114994497466842,-0.7831238835831078,-0.8517981166964493,-0.8458580363506252],[1.854044537766451,1.7031821986197975,-0.4295329579446723,0.0773405579318511,-1.3913008501744677,-1.0040350162870402,1.7002615320621282,-1.2483849301335914,1.2023981793026997,-0.00522911472871553,-0.7156472224483181,-0.2447804314044424,-1.7527749166971023,2.3733779784987097,0.3698272220927008,2.0456700637730476,-0.11221381645507066,-1.1807385756365896,0.7958903630300513,-1.211119556550845,-0.0016058942431197664,2.1604948204096455,0.3815872596498818,-0.40221281203752407,1.8519006152447608,-0.6318358094795616,-0.817223225341592,0.30973135711344013,1.5537390025201554,0.4703111855328679,-0.14757083014447203,1.664429714050228,-0.6145664253262085,-0.8218247224004871,-1.248357319556847,-1.1168832199565304,-0.7581089711791006,0.3682151062066598,-0.8397487815974338,0.8064291495766318,-0.5180902990881173,-0.3071851600092835,-0.6365732795568853,-1.447628323637686,-0.9378107596613233,-0.6318872147432958,-0.4057304914249124,-0.8106347051587443,-0.7653578988173734,-0.4362798685490129,-1.1426995090906502,-0.306126935421024,-0.6543262940659105,-0.7079828908945826,0.3944627628733133,-0.529212127512567,-0.6725716792197098,-0.30021378067536675,-0.9648695230879835,-1.0151892868134789,-0.8182229537567124,-0.4247211117984229,-1.014040743506042,-1.521820474447956,1.0111013106475797,-1.2821003992881268,-1.4949815714209407,-0.4598614956909305,-0.5599246715157878,-1.265010053441752,-0.9125303619578699,-1.1321301773646604,-1.0094960755172004,-1.0457023653465787],[1.632874252512643,1.181562721341352,0.25521409168283005,-0.04758985227126315,-0.9734436943084726,-0.252182747916169,1.3894939010985343,-0.7723413853107183,0.9685666149576895,0.36156756493636627,0.06109230582274913,0.30248564119207483,-1.623364315126203,1.7172116524436876,0.04140492580016088,1.7706789190588552,0.25647122852205556,-1.1558932604531549,0.8924221307076023,-1.2459349119431697,0.5820316854862317,1.741309581279078,0.8684345745677393,0.1936387922220686,1.533030038410471,-0.531764993464189,-0.3258333113790492,1.0730212749338304,1.1161246186534837,-0.17523735465998191,1.1660514114639826,1.1357841472321861,-0.14099789679548302,-0.6459473516603101,-0.7559833971406748,-0.638015847537135,-0.429524551234168,0.25490448370366225,-0.7373500142603641,0.14618087099041407,-0.5200015393193352,-0.42867212696233425,-0.16734318089156633,-1.4944689247376182,-1.1215454337145274,-0.1964362707932032,-0.696727864088616,-0.7608331768163772,-0.5029852744577059,0.11325845827002812,-0.8530599425626102,-0.5549624875021679,-0.3634692435617573,-0.6146629592930096,-0.2552682634035316,-0.6565701933922731,-0.9954005478426404,-0.5501107042476487,-0.7687941332464803,-0.6436078609838728,-0.7218684948774888,-0.3863902795265334,-0.8297172463280453,-1.3776397996931304,0.24958643406640976,-0.8871276438990022,-1.174870464821267,-0.7338369630637893,-0.6581363087016712,-1.1865004697799975,-0.829346331720507,-0.9825737953961999,-0.7630998347472597,-0.998686951958837],[0.2548520409346588,-0.24640319481678688,0.1738183073886134,-0.21600584148796262,-0.6613663565398268,0.5031753604393148,-0.11528503019380087,-0.519501256982442,-0.06432188127629353,0.05703653974131501,0.2021726090443398,-0.0032724241018059126,-1.4512054904692615,0.026354045659640297,-0.2663731414662558,0.32269878896512255,-0.021356398930998458,-0.7902730868723309,-0.05825822833144958,-0.8676450383217272,0.22990117331495116,0.2550477706009254,0.22095511978924676,0.3091029625693183,-0.0893624350997267,-0.4696962818464279,0.040086128674429615,0.4737712522498945,-0.16560072346152094,-0.7341852631479558,1.7145515287944322,-0.5486168280702589,0.12926898043263485,-0.5127089510914017,-0.5440817833211202,-0.40681971677627515,-0.04754655944179378,-0.051168800738484274,-0.660870720232154,-0.7229595583468482,-0.3353838951322941,-0.4636564719603415,-0.35271919346327485,-1.1661249564421363,-1.14047179587535,-0.08701707803109625,-0.7800493424719541,-0.7187108731647673,-0.26677455838806285,-0.31592048663946476,-0.41759617473238214,-0.9041670956329863,-0.16499140921455935,-0.5381227954058189,-1.0221919038104204,-0.8715990802457464,-1.0108610741417343,-0.8124562545348721,-0.4684403684792389,-0.04369047917103765,-0.6459936354463468,-0.33940637077067376,-0.5248018044055889,-1.040693820744893,-0.7529672821880399,-0.3221482475379991,-1.066803656123729,-0.9498203947242574,-0.6747636869884561,-0.8596320921379137,-0.6800705254963816,-0.9179528630730572,-0.6617654426169988,-0.9624841583926041]],\"type\":\"heatmap\"}],                        {\"template\":{\"data\":{\"histogram2dcontour\":[{\"type\":\"histogram2dcontour\",\"colorbar\":{\"outlinewidth\":0,\"ticks\":\"\"},\"colorscale\":[[0.0,\"#0d0887\"],[0.1111111111111111,\"#46039f\"],[0.2222222222222222,\"#7201a8\"],[0.3333333333333333,\"#9c179e\"],[0.4444444444444444,\"#bd3786\"],[0.5555555555555556,\"#d8576b\"],[0.6666666666666666,\"#ed7953\"],[0.7777777777777778,\"#fb9f3a\"],[0.8888888888888888,\"#fdca26\"],[1.0,\"#f0f921\"]]}],\"choropleth\":[{\"type\":\"choropleth\",\"colorbar\":{\"outlinewidth\":0,\"ticks\":\"\"}}],\"histogram2d\":[{\"type\":\"histogram2d\",\"colorbar\":{\"outlinewidth\":0,\"ticks\":\"\"},\"colorscale\":[[0.0,\"#0d0887\"],[0.1111111111111111,\"#46039f\"],[0.2222222222222222,\"#7201a8\"],[0.3333333333333333,\"#9c179e\"],[0.4444444444444444,\"#bd3786\"],[0.5555555555555556,\"#d8576b\"],[0.6666666666666666,\"#ed7953\"],[0.7777777777777778,\"#fb9f3a\"],[0.8888888888888888,\"#fdca26\"],[1.0,\"#f0f921\"]]}],\"heatmap\":[{\"type\":\"heatmap\",\"colorbar\":{\"outlinewidth\":0,\"ticks\":\"\"},\"colorscale\":[[0.0,\"#0d0887\"],[0.1111111111111111,\"#46039f\"],[0.2222222222222222,\"#7201a8\"],[0.3333333333333333,\"#9c179e\"],[0.4444444444444444,\"#bd3786\"],[0.5555555555555556,\"#d8576b\"],[0.6666666666666666,\"#ed7953\"],[0.7777777777777778,\"#fb9f3a\"],[0.8888888888888888,\"#fdca26\"],[1.0,\"#f0f921\"]]}],\"heatmapgl\":[{\"type\":\"heatmapgl\",\"colorbar\":{\"outlinewidth\":0,\"ticks\":\"\"},\"colorscale\":[[0.0,\"#0d0887\"],[0.1111111111111111,\"#46039f\"],[0.2222222222222222,\"#7201a8\"],[0.3333333333333333,\"#9c179e\"],[0.4444444444444444,\"#bd3786\"],[0.5555555555555556,\"#d8576b\"],[0.6666666666666666,\"#ed7953\"],[0.7777777777777778,\"#fb9f3a\"],[0.8888888888888888,\"#fdca26\"],[1.0,\"#f0f921\"]]}],\"contourcarpet\":[{\"type\":\"contourcarpet\",\"colorbar\":{\"outlinewidth\":0,\"ticks\":\"\"}}],\"contour\":[{\"type\":\"contour\",\"colorbar\":{\"outlinewidth\":0,\"ticks\":\"\"},\"colorscale\":[[0.0,\"#0d0887\"],[0.1111111111111111,\"#46039f\"],[0.2222222222222222,\"#7201a8\"],[0.3333333333333333,\"#9c179e\"],[0.4444444444444444,\"#bd3786\"],[0.5555555555555556,\"#d8576b\"],[0.6666666666666666,\"#ed7953\"],[0.7777777777777778,\"#fb9f3a\"],[0.8888888888888888,\"#fdca26\"],[1.0,\"#f0f921\"]]}],\"surface\":[{\"type\":\"surface\",\"colorbar\":{\"outlinewidth\":0,\"ticks\":\"\"},\"colorscale\":[[0.0,\"#0d0887\"],[0.1111111111111111,\"#46039f\"],[0.2222222222222222,\"#7201a8\"],[0.3333333333333333,\"#9c179e\"],[0.4444444444444444,\"#bd3786\"],[0.5555555555555556,\"#d8576b\"],[0.6666666666666666,\"#ed7953\"],[0.7777777777777778,\"#fb9f3a\"],[0.8888888888888888,\"#fdca26\"],[1.0,\"#f0f921\"]]}],\"mesh3d\":[{\"type\":\"mesh3d\",\"colorbar\":{\"outlinewidth\":0,\"ticks\":\"\"}}],\"scatter\":[{\"fillpattern\":{\"fillmode\":\"overlay\",\"size\":10,\"solidity\":0.2},\"type\":\"scatter\"}],\"parcoords\":[{\"type\":\"parcoords\",\"line\":{\"colorbar\":{\"outlinewidth\":0,\"ticks\":\"\"}}}],\"scatterpolargl\":[{\"type\":\"scatterpolargl\",\"marker\":{\"colorbar\":{\"outlinewidth\":0,\"ticks\":\"\"}}}],\"bar\":[{\"error_x\":{\"color\":\"#2a3f5f\"},\"error_y\":{\"color\":\"#2a3f5f\"},\"marker\":{\"line\":{\"color\":\"#E5ECF6\",\"width\":0.5},\"pattern\":{\"fillmode\":\"overlay\",\"size\":10,\"solidity\":0.2}},\"type\":\"bar\"}],\"scattergeo\":[{\"type\":\"scattergeo\",\"marker\":{\"colorbar\":{\"outlinewidth\":0,\"ticks\":\"\"}}}],\"scatterpolar\":[{\"type\":\"scatterpolar\",\"marker\":{\"colorbar\":{\"outlinewidth\":0,\"ticks\":\"\"}}}],\"histogram\":[{\"marker\":{\"pattern\":{\"fillmode\":\"overlay\",\"size\":10,\"solidity\":0.2}},\"type\":\"histogram\"}],\"scattergl\":[{\"type\":\"scattergl\",\"marker\":{\"colorbar\":{\"outlinewidth\":0,\"ticks\":\"\"}}}],\"scatter3d\":[{\"type\":\"scatter3d\",\"line\":{\"colorbar\":{\"outlinewidth\":0,\"ticks\":\"\"}},\"marker\":{\"colorbar\":{\"outlinewidth\":0,\"ticks\":\"\"}}}],\"scattermapbox\":[{\"type\":\"scattermapbox\",\"marker\":{\"colorbar\":{\"outlinewidth\":0,\"ticks\":\"\"}}}],\"scatterternary\":[{\"type\":\"scatterternary\",\"marker\":{\"colorbar\":{\"outlinewidth\":0,\"ticks\":\"\"}}}],\"scattercarpet\":[{\"type\":\"scattercarpet\",\"marker\":{\"colorbar\":{\"outlinewidth\":0,\"ticks\":\"\"}}}],\"carpet\":[{\"aaxis\":{\"endlinecolor\":\"#2a3f5f\",\"gridcolor\":\"white\",\"linecolor\":\"white\",\"minorgridcolor\":\"white\",\"startlinecolor\":\"#2a3f5f\"},\"baxis\":{\"endlinecolor\":\"#2a3f5f\",\"gridcolor\":\"white\",\"linecolor\":\"white\",\"minorgridcolor\":\"white\",\"startlinecolor\":\"#2a3f5f\"},\"type\":\"carpet\"}],\"table\":[{\"cells\":{\"fill\":{\"color\":\"#EBF0F8\"},\"line\":{\"color\":\"white\"}},\"header\":{\"fill\":{\"color\":\"#C8D4E3\"},\"line\":{\"color\":\"white\"}},\"type\":\"table\"}],\"barpolar\":[{\"marker\":{\"line\":{\"color\":\"#E5ECF6\",\"width\":0.5},\"pattern\":{\"fillmode\":\"overlay\",\"size\":10,\"solidity\":0.2}},\"type\":\"barpolar\"}],\"pie\":[{\"automargin\":true,\"type\":\"pie\"}]},\"layout\":{\"autotypenumbers\":\"strict\",\"colorway\":[\"#636efa\",\"#EF553B\",\"#00cc96\",\"#ab63fa\",\"#FFA15A\",\"#19d3f3\",\"#FF6692\",\"#B6E880\",\"#FF97FF\",\"#FECB52\"],\"font\":{\"color\":\"#2a3f5f\"},\"hovermode\":\"closest\",\"hoverlabel\":{\"align\":\"left\"},\"paper_bgcolor\":\"white\",\"plot_bgcolor\":\"#E5ECF6\",\"polar\":{\"bgcolor\":\"#E5ECF6\",\"angularaxis\":{\"gridcolor\":\"white\",\"linecolor\":\"white\",\"ticks\":\"\"},\"radialaxis\":{\"gridcolor\":\"white\",\"linecolor\":\"white\",\"ticks\":\"\"}},\"ternary\":{\"bgcolor\":\"#E5ECF6\",\"aaxis\":{\"gridcolor\":\"white\",\"linecolor\":\"white\",\"ticks\":\"\"},\"baxis\":{\"gridcolor\":\"white\",\"linecolor\":\"white\",\"ticks\":\"\"},\"caxis\":{\"gridcolor\":\"white\",\"linecolor\":\"white\",\"ticks\":\"\"}},\"coloraxis\":{\"colorbar\":{\"outlinewidth\":0,\"ticks\":\"\"}},\"colorscale\":{\"sequential\":[[0.0,\"#0d0887\"],[0.1111111111111111,\"#46039f\"],[0.2222222222222222,\"#7201a8\"],[0.3333333333333333,\"#9c179e\"],[0.4444444444444444,\"#bd3786\"],[0.5555555555555556,\"#d8576b\"],[0.6666666666666666,\"#ed7953\"],[0.7777777777777778,\"#fb9f3a\"],[0.8888888888888888,\"#fdca26\"],[1.0,\"#f0f921\"]],\"sequentialminus\":[[0.0,\"#0d0887\"],[0.1111111111111111,\"#46039f\"],[0.2222222222222222,\"#7201a8\"],[0.3333333333333333,\"#9c179e\"],[0.4444444444444444,\"#bd3786\"],[0.5555555555555556,\"#d8576b\"],[0.6666666666666666,\"#ed7953\"],[0.7777777777777778,\"#fb9f3a\"],[0.8888888888888888,\"#fdca26\"],[1.0,\"#f0f921\"]],\"diverging\":[[0,\"#8e0152\"],[0.1,\"#c51b7d\"],[0.2,\"#de77ae\"],[0.3,\"#f1b6da\"],[0.4,\"#fde0ef\"],[0.5,\"#f7f7f7\"],[0.6,\"#e6f5d0\"],[0.7,\"#b8e186\"],[0.8,\"#7fbc41\"],[0.9,\"#4d9221\"],[1,\"#276419\"]]},\"xaxis\":{\"gridcolor\":\"white\",\"linecolor\":\"white\",\"ticks\":\"\",\"title\":{\"standoff\":15},\"zerolinecolor\":\"white\",\"automargin\":true,\"zerolinewidth\":2},\"yaxis\":{\"gridcolor\":\"white\",\"linecolor\":\"white\",\"ticks\":\"\",\"title\":{\"standoff\":15},\"zerolinecolor\":\"white\",\"automargin\":true,\"zerolinewidth\":2},\"scene\":{\"xaxis\":{\"backgroundcolor\":\"#E5ECF6\",\"gridcolor\":\"white\",\"linecolor\":\"white\",\"showbackground\":true,\"ticks\":\"\",\"zerolinecolor\":\"white\",\"gridwidth\":2},\"yaxis\":{\"backgroundcolor\":\"#E5ECF6\",\"gridcolor\":\"white\",\"linecolor\":\"white\",\"showbackground\":true,\"ticks\":\"\",\"zerolinecolor\":\"white\",\"gridwidth\":2},\"zaxis\":{\"backgroundcolor\":\"#E5ECF6\",\"gridcolor\":\"white\",\"linecolor\":\"white\",\"showbackground\":true,\"ticks\":\"\",\"zerolinecolor\":\"white\",\"gridwidth\":2}},\"shapedefaults\":{\"line\":{\"color\":\"#2a3f5f\"}},\"annotationdefaults\":{\"arrowcolor\":\"#2a3f5f\",\"arrowhead\":0,\"arrowwidth\":1},\"geo\":{\"bgcolor\":\"white\",\"landcolor\":\"#E5ECF6\",\"subunitcolor\":\"white\",\"showland\":true,\"showlakes\":true,\"lakecolor\":\"white\"},\"title\":{\"x\":0.05},\"mapbox\":{\"style\":\"light\"}}},\"width\":1500,\"height\":800},                        {\"responsive\": true}                    ).then(function(){\n",
       "                            \n",
       "var gd = document.getElementById('49836650-3328-47e4-af99-8189da7e1ad2');\n",
       "var x = new MutationObserver(function (mutations, observer) {{\n",
       "        var display = window.getComputedStyle(gd).display;\n",
       "        if (!display || display === 'none') {{\n",
       "            console.log([gd, 'removed!']);\n",
       "            Plotly.purge(gd);\n",
       "            observer.disconnect();\n",
       "        }}\n",
       "}});\n",
       "\n",
       "// Listen for the removal of the full notebook cells\n",
       "var notebookContainer = gd.closest('#notebook-container');\n",
       "if (notebookContainer) {{\n",
       "    x.observe(notebookContainer, {childList: true});\n",
       "}}\n",
       "\n",
       "// Listen for the clearing of the current output cell\n",
       "var outputEl = gd.closest('.output');\n",
       "if (outputEl) {{\n",
       "    x.observe(outputEl, {childList: true});\n",
       "}}\n",
       "\n",
       "                        })                };                });            </script>        </div>"
      ]
     },
     "metadata": {},
     "output_type": "display_data"
    }
   ],
   "source": [
    "fig = go.Figure(data=go.Heatmap(z=normalized_skills, x=skills.columns,y=skills.index, colorscale='magma', ygap=1))\n",
    "fig.update_layout(width=1500, height=800)\n",
    "fig.show()"
   ]
  },
  {
   "cell_type": "markdown",
   "id": "3124d5b2",
   "metadata": {},
   "source": [
    "# Understanding Effect of Normalizing Data On Unreal Engine Skill"
   ]
  },
  {
   "cell_type": "code",
   "execution_count": 39,
   "id": "d5d693b8",
   "metadata": {},
   "outputs": [
    {
     "data": {
      "image/png": "[encoded data removed]",
      "text/plain": [
       "<Figure size 640x480 with 1 Axes>"
      ]
     },
     "metadata": {},
     "output_type": "display_data"
    }
   ],
   "source": [
    "result = [skills['Unreal Engine'][role] for role in roles]\n",
    "plt.bar(roles , result)\n",
    "plt.xticks(roles , rotation = \"vertical\")\n",
    "plt.xlabel(\"Roles\")\n",
    "plt.ylabel(\"Frequency\")\n",
    "plt.show()"
   ]
  },
  {
   "cell_type": "markdown",
   "id": "3773c6a7",
   "metadata": {},
   "source": [
    "**Skill is necessary for certain job IF Job mean around this skill is far from the Skill Mean Overall Jobs**"
   ]
  },
  {
   "cell_type": "markdown",
   "id": "9eeef223",
   "metadata": {},
   "source": [
    "**Before Scaling**"
   ]
  },
  {
   "cell_type": "code",
   "execution_count": 40,
   "id": "f68da1ab",
   "metadata": {},
   "outputs": [
    {
     "data": {
      "text/plain": [
       "3.6972034444022825"
      ]
     },
     "execution_count": 40,
     "metadata": {},
     "output_type": "execute_result"
    }
   ],
   "source": [
    "#Skill Mean overall jobs\n",
    "skills['Unreal Engine'].mean()"
   ]
  },
  {
   "cell_type": "code",
   "execution_count": 41,
   "id": "4943c5a9",
   "metadata": {},
   "outputs": [
    {
     "data": {
      "text/plain": [
       "Marketing or sales professional                   6.853583\n",
       "Senior executive/VP                               4.318182\n",
       "Engineer, site reliability                        3.144330\n",
       "Scientist                                         4.026846\n",
       "Product manager                                   3.203845\n",
       "Engineering manager                               2.679883\n",
       "Developer, game or graphics                      16.098960\n",
       "Educator                                          3.381148\n",
       "Academic researcher                               2.956081\n",
       "Engineer, data                                    2.701980\n",
       "Developer, QA or test                             3.166962\n",
       "Data scientist or machine learning specialist     2.758275\n",
       "Data or business analyst                          2.012922\n",
       "Developer, embedded applications or devices       3.789474\n",
       "System administrator                              3.414727\n",
       "Designer                                          4.021800\n",
       "Database administrator                            2.673890\n",
       "DevOps specialist                                 2.060647\n",
       "Developer, mobile                                 3.290445\n",
       "Developer, desktop or enterprise applications     2.774949\n",
       "Developer, front-end                              2.104285\n",
       "Developer, full-stack                             1.824885\n",
       "Developer, back-end                               1.777582\n",
       "Name: Unreal Engine, dtype: float64"
      ]
     },
     "execution_count": 41,
     "metadata": {},
     "output_type": "execute_result"
    }
   ],
   "source": [
    "skills['Unreal Engine']"
   ]
  },
  {
   "cell_type": "markdown",
   "id": "7664d3e6",
   "metadata": {},
   "source": [
    "**We Deduce That Unreal Engine is specific for Game Developer & Marketing ,Sales Professional --> Not Accurate**"
   ]
  },
  {
   "cell_type": "code",
   "execution_count": 42,
   "id": "d3f2de70",
   "metadata": {},
   "outputs": [
    {
     "data": {
      "text/plain": [
       "(array([14.,  7.,  0.,  1.,  0.,  0.,  0.,  0.,  0.,  1.]),\n",
       " array([ 1.7775819 ,  3.20971973,  4.64185756,  6.07399539,  7.50613322,\n",
       "         8.93827105, 10.37040888, 11.80254671, 13.23468454, 14.66682237,\n",
       "        16.0989602 ]),\n",
       " <BarContainer object of 10 artists>)"
      ]
     },
     "execution_count": 42,
     "metadata": {},
     "output_type": "execute_result"
    },
    {
     "data": {
      "image/png": "[encoded data removed]",
      "text/plain": [
       "<Figure size 640x480 with 1 Axes>"
      ]
     },
     "metadata": {},
     "output_type": "display_data"
    }
   ],
   "source": [
    "plt.hist(skills['Unreal Engine'])"
   ]
  },
  {
   "cell_type": "markdown",
   "id": "ee4c27c6",
   "metadata": {},
   "source": [
    "**After Scaling**\n",
    "StandardScaler Make Mean of data approximately equal ZERO"
   ]
  },
  {
   "cell_type": "code",
   "execution_count": 43,
   "id": "aeb22ca1",
   "metadata": {},
   "outputs": [
    {
     "data": {
      "text/plain": [
       "-2.6066105795547156e-16"
      ]
     },
     "execution_count": 43,
     "metadata": {},
     "output_type": "execute_result"
    }
   ],
   "source": [
    "normalized_skills['Unreal Engine'].mean() # Mean ~= 0"
   ]
  },
  {
   "cell_type": "code",
   "execution_count": 44,
   "id": "4029c604",
   "metadata": {},
   "outputs": [
    {
     "data": {
      "text/plain": [
       "Marketing or sales professional                  1.109495\n",
       "Senior executive/VP                              0.218279\n",
       "Engineer, site reliability                      -0.194340\n",
       "Scientist                                        0.115872\n",
       "Product manager                                 -0.173420\n",
       "Engineering manager                             -0.357597\n",
       "Developer, game or graphics                      4.359325\n",
       "Educator                                        -0.111096\n",
       "Academic researcher                             -0.260511\n",
       "Engineer, data                                  -0.349830\n",
       "Developer, QA or test                           -0.186384\n",
       "Data scientist or machine learning specialist   -0.330042\n",
       "Data or business analyst                        -0.592039\n",
       "Developer, embedded applications or devices      0.032434\n",
       "System administrator                            -0.099293\n",
       "Designer                                         0.114099\n",
       "Database administrator                          -0.359703\n",
       "DevOps specialist                               -0.575264\n",
       "Developer, mobile                               -0.142979\n",
       "Developer, desktop or enterprise applications   -0.324180\n",
       "Developer, front-end                            -0.559925\n",
       "Developer, full-stack                           -0.658136\n",
       "Developer, back-end                             -0.674764\n",
       "Name: Unreal Engine, dtype: float64"
      ]
     },
     "execution_count": 44,
     "metadata": {},
     "output_type": "execute_result"
    }
   ],
   "source": [
    "normalized_skills['Unreal Engine']"
   ]
  },
  {
   "cell_type": "markdown",
   "id": "357c8255",
   "metadata": {},
   "source": [
    "**We Deduce That Unreal Engine is specific for Game Developer ONLY --> Accurate**"
   ]
  },
  {
   "cell_type": "code",
   "execution_count": 45,
   "id": "66c465c8",
   "metadata": {},
   "outputs": [
    {
     "data": {
      "text/plain": [
       "(array([14.,  7.,  0.,  1.,  0.,  0.,  0.,  0.,  0.,  1.]),\n",
       " array([-0.67476369, -0.17135477,  0.33205415,  0.83546306,  1.33887198,\n",
       "         1.8422809 ,  2.34568982,  2.84909873,  3.35250765,  3.85591657,\n",
       "         4.35932548]),\n",
       " <BarContainer object of 10 artists>)"
      ]
     },
     "execution_count": 45,
     "metadata": {},
     "output_type": "execute_result"
    },
    {
     "data": {
      "image/png": "[encoded data removed]",
      "text/plain": [
       "<Figure size 640x480 with 1 Axes>"
      ]
     },
     "metadata": {},
     "output_type": "display_data"
    }
   ],
   "source": [
    "plt.hist(normalized_skills['Unreal Engine'])"
   ]
  },
  {
   "cell_type": "markdown",
   "id": "39e2d115",
   "metadata": {},
   "source": [
    "# Job Profiles\n",
    "**Combining Each Job With Its Specific Skills**"
   ]
  },
  {
   "cell_type": "code",
   "execution_count": 46,
   "id": "cd7aba0f",
   "metadata": {},
   "outputs": [
    {
     "data": {
      "text/plain": [
       "['Academic researcher',\n",
       " 'Data or business analyst',\n",
       " 'Data scientist or machine learning specialist',\n",
       " 'Database administrator',\n",
       " 'Designer',\n",
       " 'DevOps specialist',\n",
       " 'Developer, QA or test',\n",
       " 'Developer, back-end',\n",
       " 'Developer, desktop or enterprise applications',\n",
       " 'Developer, embedded applications or devices',\n",
       " 'Developer, front-end',\n",
       " 'Developer, full-stack',\n",
       " 'Developer, game or graphics',\n",
       " 'Developer, mobile',\n",
       " 'Educator',\n",
       " 'Engineer, data',\n",
       " 'Engineer, site reliability',\n",
       " 'Engineering manager',\n",
       " 'Marketing or sales professional',\n",
       " 'Product manager',\n",
       " 'Scientist',\n",
       " 'Senior executive/VP',\n",
       " 'System administrator']"
      ]
     },
     "execution_count": 46,
     "metadata": {},
     "output_type": "execute_result"
    }
   ],
   "source": [
    "roles"
   ]
  },
  {
   "cell_type": "code",
   "execution_count": 47,
   "id": "7a63e8bb",
   "metadata": {},
   "outputs": [],
   "source": [
    "role = 'Data scientist or machine learning specialist'"
   ]
  },
  {
   "cell_type": "code",
   "execution_count": 48,
   "id": "d0b7050d",
   "metadata": {},
   "outputs": [],
   "source": [
    "single_role_skills = pd.concat([skills.loc[role], normalized_skills.loc[role]], axis=1)\n",
    "single_role_skills.columns = ['percentage', 'specificity']\n",
    "single_role_skills = single_role_skills.sort_values('percentage')"
   ]
  },
  {
   "cell_type": "code",
   "execution_count": 49,
   "id": "959dc8d1",
   "metadata": {},
   "outputs": [
    {
     "data": {
      "text/html": [
       "<div>\n",
       "<style scoped>\n",
       "    .dataframe tbody tr th:only-of-type {\n",
       "        vertical-align: middle;\n",
       "    }\n",
       "\n",
       "    .dataframe tbody tr th {\n",
       "        vertical-align: top;\n",
       "    }\n",
       "\n",
       "    .dataframe thead th {\n",
       "        text-align: right;\n",
       "    }\n",
       "</style>\n",
       "<table border=\"1\" class=\"dataframe\">\n",
       "  <thead>\n",
       "    <tr style=\"text-align: right;\">\n",
       "      <th></th>\n",
       "      <th>percentage</th>\n",
       "      <th>specificity</th>\n",
       "    </tr>\n",
       "  </thead>\n",
       "  <tbody>\n",
       "    <tr>\n",
       "      <th>Chef</th>\n",
       "      <td>2.081244</td>\n",
       "      <td>-0.366560</td>\n",
       "    </tr>\n",
       "    <tr>\n",
       "      <th>Couchbase</th>\n",
       "      <td>2.357071</td>\n",
       "      <td>-0.627059</td>\n",
       "    </tr>\n",
       "    <tr>\n",
       "      <th>Puppet</th>\n",
       "      <td>2.432297</td>\n",
       "      <td>-0.425910</td>\n",
       "    </tr>\n",
       "    <tr>\n",
       "      <th>Gatsby</th>\n",
       "      <td>2.683049</td>\n",
       "      <td>-0.732300</td>\n",
       "    </tr>\n",
       "    <tr>\n",
       "      <th>Unreal Engine</th>\n",
       "      <td>2.758275</td>\n",
       "      <td>-0.330042</td>\n",
       "    </tr>\n",
       "    <tr>\n",
       "      <th>Symfony</th>\n",
       "      <td>2.808425</td>\n",
       "      <td>-1.423848</td>\n",
       "    </tr>\n",
       "    <tr>\n",
       "      <th>Drupal</th>\n",
       "      <td>2.833501</td>\n",
       "      <td>-0.866586</td>\n",
       "    </tr>\n",
       "    <tr>\n",
       "      <th>Dart</th>\n",
       "      <td>3.360080</td>\n",
       "      <td>-0.835487</td>\n",
       "    </tr>\n",
       "    <tr>\n",
       "      <th>Xamarin</th>\n",
       "      <td>3.585757</td>\n",
       "      <td>-1.455591</td>\n",
       "    </tr>\n",
       "    <tr>\n",
       "      <th>Haskell</th>\n",
       "      <td>3.660983</td>\n",
       "      <td>0.893137</td>\n",
       "    </tr>\n",
       "    <tr>\n",
       "      <th>Cordova</th>\n",
       "      <td>3.761284</td>\n",
       "      <td>-1.581147</td>\n",
       "    </tr>\n",
       "    <tr>\n",
       "      <th>IBM DB2</th>\n",
       "      <td>3.786359</td>\n",
       "      <td>0.101120</td>\n",
       "    </tr>\n",
       "    <tr>\n",
       "      <th>Objective-C</th>\n",
       "      <td>3.811434</td>\n",
       "      <td>-0.861195</td>\n",
       "    </tr>\n",
       "    <tr>\n",
       "      <th>Julia</th>\n",
       "      <td>4.237713</td>\n",
       "      <td>1.727011</td>\n",
       "    </tr>\n",
       "    <tr>\n",
       "      <th>Perl</th>\n",
       "      <td>4.413240</td>\n",
       "      <td>-0.561538</td>\n",
       "    </tr>\n",
       "    <tr>\n",
       "      <th>Ruby on Rails</th>\n",
       "      <td>4.663992</td>\n",
       "      <td>-1.000617</td>\n",
       "    </tr>\n",
       "    <tr>\n",
       "      <th>Swift</th>\n",
       "      <td>4.689067</td>\n",
       "      <td>-0.738133</td>\n",
       "    </tr>\n",
       "    <tr>\n",
       "      <th>Flutter</th>\n",
       "      <td>4.789368</td>\n",
       "      <td>-0.726464</td>\n",
       "    </tr>\n",
       "    <tr>\n",
       "      <th>Teraform</th>\n",
       "      <td>5.165496</td>\n",
       "      <td>-0.284129</td>\n",
       "    </tr>\n",
       "    <tr>\n",
       "      <th>Cassandra</th>\n",
       "      <td>5.441324</td>\n",
       "      <td>0.629389</td>\n",
       "    </tr>\n",
       "    <tr>\n",
       "      <th>Kotlin</th>\n",
       "      <td>5.917753</td>\n",
       "      <td>-0.777138</td>\n",
       "    </tr>\n",
       "    <tr>\n",
       "      <th>Ansible</th>\n",
       "      <td>6.093280</td>\n",
       "      <td>-0.375657</td>\n",
       "    </tr>\n",
       "    <tr>\n",
       "      <th>Rust</th>\n",
       "      <td>6.218656</td>\n",
       "      <td>-0.038054</td>\n",
       "    </tr>\n",
       "    <tr>\n",
       "      <th>Laravel</th>\n",
       "      <td>6.218656</td>\n",
       "      <td>-1.556369</td>\n",
       "    </tr>\n",
       "    <tr>\n",
       "      <th>Ruby</th>\n",
       "      <td>6.419258</td>\n",
       "      <td>-0.958477</td>\n",
       "    </tr>\n",
       "    <tr>\n",
       "      <th>Unity 3D</th>\n",
       "      <td>6.644935</td>\n",
       "      <td>-0.405264</td>\n",
       "    </tr>\n",
       "    <tr>\n",
       "      <th>DynamoDB</th>\n",
       "      <td>7.096289</td>\n",
       "      <td>-0.308273</td>\n",
       "    </tr>\n",
       "    <tr>\n",
       "      <th>React Native</th>\n",
       "      <td>7.246740</td>\n",
       "      <td>-0.955028</td>\n",
       "    </tr>\n",
       "    <tr>\n",
       "      <th>Assembly</th>\n",
       "      <td>7.522568</td>\n",
       "      <td>-0.152785</td>\n",
       "    </tr>\n",
       "    <tr>\n",
       "      <th>Scala</th>\n",
       "      <td>8.375125</td>\n",
       "      <td>1.513527</td>\n",
       "    </tr>\n",
       "    <tr>\n",
       "      <th>VBA</th>\n",
       "      <td>9.327984</td>\n",
       "      <td>0.025733</td>\n",
       "    </tr>\n",
       "    <tr>\n",
       "      <th>ASP.NET Core</th>\n",
       "      <td>9.378134</td>\n",
       "      <td>-1.817170</td>\n",
       "    </tr>\n",
       "    <tr>\n",
       "      <th>Go</th>\n",
       "      <td>9.553661</td>\n",
       "      <td>-0.361614</td>\n",
       "    </tr>\n",
       "    <tr>\n",
       "      <th>Spring</th>\n",
       "      <td>9.553661</td>\n",
       "      <td>-0.967042</td>\n",
       "    </tr>\n",
       "    <tr>\n",
       "      <th>Vue.js</th>\n",
       "      <td>9.829488</td>\n",
       "      <td>-1.711775</td>\n",
       "    </tr>\n",
       "    <tr>\n",
       "      <th>Firebase</th>\n",
       "      <td>9.954865</td>\n",
       "      <td>-0.931885</td>\n",
       "    </tr>\n",
       "    <tr>\n",
       "      <th>Angular.js</th>\n",
       "      <td>10.757272</td>\n",
       "      <td>-1.871586</td>\n",
       "    </tr>\n",
       "    <tr>\n",
       "      <th>Express</th>\n",
       "      <td>10.782347</td>\n",
       "      <td>-1.626968</td>\n",
       "    </tr>\n",
       "    <tr>\n",
       "      <th>ASP.NET</th>\n",
       "      <td>11.158475</td>\n",
       "      <td>-1.874537</td>\n",
       "    </tr>\n",
       "    <tr>\n",
       "      <th>Angular</th>\n",
       "      <td>12.637914</td>\n",
       "      <td>-1.777427</td>\n",
       "    </tr>\n",
       "    <tr>\n",
       "      <th>Hadoop</th>\n",
       "      <td>12.963892</td>\n",
       "      <td>2.526671</td>\n",
       "    </tr>\n",
       "    <tr>\n",
       "      <th>.NET Core</th>\n",
       "      <td>13.440321</td>\n",
       "      <td>-1.708663</td>\n",
       "    </tr>\n",
       "    <tr>\n",
       "      <th>MariaDB</th>\n",
       "      <td>13.665998</td>\n",
       "      <td>-1.332922</td>\n",
       "    </tr>\n",
       "    <tr>\n",
       "      <th>TypeScript</th>\n",
       "      <td>13.991976</td>\n",
       "      <td>-1.811202</td>\n",
       "    </tr>\n",
       "    <tr>\n",
       "      <th>Redis</th>\n",
       "      <td>15.220662</td>\n",
       "      <td>-0.558675</td>\n",
       "    </tr>\n",
       "    <tr>\n",
       "      <th>Elasticsearch</th>\n",
       "      <td>15.571715</td>\n",
       "      <td>0.046066</td>\n",
       "    </tr>\n",
       "    <tr>\n",
       "      <th>Apache Spark</th>\n",
       "      <td>15.697091</td>\n",
       "      <td>2.645619</td>\n",
       "    </tr>\n",
       "    <tr>\n",
       "      <th>Oracle</th>\n",
       "      <td>16.098295</td>\n",
       "      <td>0.195945</td>\n",
       "    </tr>\n",
       "    <tr>\n",
       "      <th>.NET</th>\n",
       "      <td>17.201605</td>\n",
       "      <td>-1.743318</td>\n",
       "    </tr>\n",
       "    <tr>\n",
       "      <th>PHP</th>\n",
       "      <td>18.004012</td>\n",
       "      <td>-1.706062</td>\n",
       "    </tr>\n",
       "    <tr>\n",
       "      <th>React.js</th>\n",
       "      <td>18.756269</td>\n",
       "      <td>-1.238718</td>\n",
       "    </tr>\n",
       "    <tr>\n",
       "      <th>Django</th>\n",
       "      <td>19.132397</td>\n",
       "      <td>2.457619</td>\n",
       "    </tr>\n",
       "    <tr>\n",
       "      <th>Torch/PyTorch</th>\n",
       "      <td>19.834504</td>\n",
       "      <td>3.622534</td>\n",
       "    </tr>\n",
       "    <tr>\n",
       "      <th>C#</th>\n",
       "      <td>21.339017</td>\n",
       "      <td>-1.585191</td>\n",
       "    </tr>\n",
       "    <tr>\n",
       "      <th>jQuery</th>\n",
       "      <td>24.172518</td>\n",
       "      <td>-1.861257</td>\n",
       "    </tr>\n",
       "    <tr>\n",
       "      <th>C</th>\n",
       "      <td>25.050150</td>\n",
       "      <td>0.215324</td>\n",
       "    </tr>\n",
       "    <tr>\n",
       "      <th>Node.js</th>\n",
       "      <td>25.651956</td>\n",
       "      <td>-1.946425</td>\n",
       "    </tr>\n",
       "    <tr>\n",
       "      <th>MongoDB</th>\n",
       "      <td>25.827482</td>\n",
       "      <td>0.386082</td>\n",
       "    </tr>\n",
       "    <tr>\n",
       "      <th>Flask</th>\n",
       "      <td>26.454363</td>\n",
       "      <td>2.894423</td>\n",
       "    </tr>\n",
       "    <tr>\n",
       "      <th>Keras</th>\n",
       "      <td>27.256770</td>\n",
       "      <td>3.681277</td>\n",
       "    </tr>\n",
       "    <tr>\n",
       "      <th>Microsoft SQL Server</th>\n",
       "      <td>27.256770</td>\n",
       "      <td>-0.900649</td>\n",
       "    </tr>\n",
       "    <tr>\n",
       "      <th>R</th>\n",
       "      <td>27.632899</td>\n",
       "      <td>2.836607</td>\n",
       "    </tr>\n",
       "    <tr>\n",
       "      <th>C++</th>\n",
       "      <td>29.789368</td>\n",
       "      <td>0.497305</td>\n",
       "    </tr>\n",
       "    <tr>\n",
       "      <th>SQLite</th>\n",
       "      <td>33.450351</td>\n",
       "      <td>0.279996</td>\n",
       "    </tr>\n",
       "    <tr>\n",
       "      <th>Java</th>\n",
       "      <td>35.055165</td>\n",
       "      <td>-0.677354</td>\n",
       "    </tr>\n",
       "    <tr>\n",
       "      <th>TensorFlow</th>\n",
       "      <td>37.938816</td>\n",
       "      <td>3.610934</td>\n",
       "    </tr>\n",
       "    <tr>\n",
       "      <th>PostgreSQL</th>\n",
       "      <td>39.117352</td>\n",
       "      <td>0.531237</td>\n",
       "    </tr>\n",
       "    <tr>\n",
       "      <th>Bash/Shell/PowerShell</th>\n",
       "      <td>39.568706</td>\n",
       "      <td>-0.078961</td>\n",
       "    </tr>\n",
       "    <tr>\n",
       "      <th>MySQL</th>\n",
       "      <td>46.263791</td>\n",
       "      <td>-0.852635</td>\n",
       "    </tr>\n",
       "    <tr>\n",
       "      <th>HTML/CSS</th>\n",
       "      <td>48.244734</td>\n",
       "      <td>-1.760650</td>\n",
       "    </tr>\n",
       "    <tr>\n",
       "      <th>JavaScript</th>\n",
       "      <td>48.269809</td>\n",
       "      <td>-2.055381</td>\n",
       "    </tr>\n",
       "    <tr>\n",
       "      <th>Pandas</th>\n",
       "      <td>50.075226</td>\n",
       "      <td>3.291584</td>\n",
       "    </tr>\n",
       "    <tr>\n",
       "      <th>SQL</th>\n",
       "      <td>58.450351</td>\n",
       "      <td>-0.180472</td>\n",
       "    </tr>\n",
       "    <tr>\n",
       "      <th>Python</th>\n",
       "      <td>78.335005</td>\n",
       "      <td>2.614848</td>\n",
       "    </tr>\n",
       "  </tbody>\n",
       "</table>\n",
       "</div>"
      ],
      "text/plain": [
       "                       percentage  specificity\n",
       "Chef                     2.081244    -0.366560\n",
       "Couchbase                2.357071    -0.627059\n",
       "Puppet                   2.432297    -0.425910\n",
       "Gatsby                   2.683049    -0.732300\n",
       "Unreal Engine            2.758275    -0.330042\n",
       "Symfony                  2.808425    -1.423848\n",
       "Drupal                   2.833501    -0.866586\n",
       "Dart                     3.360080    -0.835487\n",
       "Xamarin                  3.585757    -1.455591\n",
       "Haskell                  3.660983     0.893137\n",
       "Cordova                  3.761284    -1.581147\n",
       "IBM DB2                  3.786359     0.101120\n",
       "Objective-C              3.811434    -0.861195\n",
       "Julia                    4.237713     1.727011\n",
       "Perl                     4.413240    -0.561538\n",
       "Ruby on Rails            4.663992    -1.000617\n",
       "Swift                    4.689067    -0.738133\n",
       "Flutter                  4.789368    -0.726464\n",
       "Teraform                 5.165496    -0.284129\n",
       "Cassandra                5.441324     0.629389\n",
       "Kotlin                   5.917753    -0.777138\n",
       "Ansible                  6.093280    -0.375657\n",
       "Rust                     6.218656    -0.038054\n",
       "Laravel                  6.218656    -1.556369\n",
       "Ruby                     6.419258    -0.958477\n",
       "Unity 3D                 6.644935    -0.405264\n",
       "DynamoDB                 7.096289    -0.308273\n",
       "React Native             7.246740    -0.955028\n",
       "Assembly                 7.522568    -0.152785\n",
       "Scala                    8.375125     1.513527\n",
       "VBA                      9.327984     0.025733\n",
       "ASP.NET Core             9.378134    -1.817170\n",
       "Go                       9.553661    -0.361614\n",
       "Spring                   9.553661    -0.967042\n",
       "Vue.js                   9.829488    -1.711775\n",
       "Firebase                 9.954865    -0.931885\n",
       "Angular.js              10.757272    -1.871586\n",
       "Express                 10.782347    -1.626968\n",
       "ASP.NET                 11.158475    -1.874537\n",
       "Angular                 12.637914    -1.777427\n",
       "Hadoop                  12.963892     2.526671\n",
       ".NET Core               13.440321    -1.708663\n",
       "MariaDB                 13.665998    -1.332922\n",
       "TypeScript              13.991976    -1.811202\n",
       "Redis                   15.220662    -0.558675\n",
       "Elasticsearch           15.571715     0.046066\n",
       "Apache Spark            15.697091     2.645619\n",
       "Oracle                  16.098295     0.195945\n",
       ".NET                    17.201605    -1.743318\n",
       "PHP                     18.004012    -1.706062\n",
       "React.js                18.756269    -1.238718\n",
       "Django                  19.132397     2.457619\n",
       "Torch/PyTorch           19.834504     3.622534\n",
       "C#                      21.339017    -1.585191\n",
       "jQuery                  24.172518    -1.861257\n",
       "C                       25.050150     0.215324\n",
       "Node.js                 25.651956    -1.946425\n",
       "MongoDB                 25.827482     0.386082\n",
       "Flask                   26.454363     2.894423\n",
       "Keras                   27.256770     3.681277\n",
       "Microsoft SQL Server    27.256770    -0.900649\n",
       "R                       27.632899     2.836607\n",
       "C++                     29.789368     0.497305\n",
       "SQLite                  33.450351     0.279996\n",
       "Java                    35.055165    -0.677354\n",
       "TensorFlow              37.938816     3.610934\n",
       "PostgreSQL              39.117352     0.531237\n",
       "Bash/Shell/PowerShell   39.568706    -0.078961\n",
       "MySQL                   46.263791    -0.852635\n",
       "HTML/CSS                48.244734    -1.760650\n",
       "JavaScript              48.269809    -2.055381\n",
       "Pandas                  50.075226     3.291584\n",
       "SQL                     58.450351    -0.180472\n",
       "Python                  78.335005     2.614848"
      ]
     },
     "execution_count": 49,
     "metadata": {},
     "output_type": "execute_result"
    }
   ],
   "source": [
    "single_role_skills"
   ]
  },
  {
   "cell_type": "code",
   "execution_count": 50,
   "id": "de3710f6",
   "metadata": {},
   "outputs": [
    {
     "data": {
      "application/vnd.plotly.v1+json": {
       "config": {
        "plotlyServerURL": "https://plot.ly"
       },
       "data": [
        {
         "alignmentgroup": "True",
         "hovertemplate": "x=%{x}<br>y=%{y}<br>color=%{marker.color}<extra></extra>",
         "legendgroup": "",
         "marker": {
          "color": [
           0.21532424141910095,
           -1.9464254034912876,
           0.3860820770952778,
           2.894423165550614,
           3.6812767324840125,
           -0.9006494976610825,
           2.8366067922330895,
           0.49730533649320385,
           0.27999588425071037,
           -0.6773542237183563,
           3.6109343256038575,
           0.5312367597338895,
           -0.07896065758627525,
           -0.8526348000741512,
           -1.7606504243877041,
           -2.0553805104496368,
           3.291583827472921,
           -0.1804718281210389,
           2.6148476507869254
          ],
          "coloraxis": "coloraxis",
          "pattern": {
           "shape": ""
          }
         },
         "name": "",
         "offsetgroup": "",
         "orientation": "h",
         "showlegend": false,
         "textposition": "auto",
         "type": "bar",
         "x": [
          25.050150451354064,
          25.651955867602812,
          25.827482447342025,
          26.4543630892678,
          27.256770310932797,
          27.256770310932797,
          27.632898696088265,
          29.789368104312942,
          33.45035105315948,
          35.05516549648947,
          37.938816449348046,
          39.1173520561685,
          39.56870611835506,
          46.26379137412236,
          48.24473420260782,
          48.26980942828485,
          50.075225677031085,
          58.45035105315948,
          78.33500501504514
         ],
         "xaxis": "x",
         "y": [
          "C",
          "Node.js",
          "MongoDB",
          "Flask",
          "Keras",
          "Microsoft SQL Server",
          "R",
          "C++",
          "SQLite",
          "Java",
          "TensorFlow",
          "PostgreSQL",
          "Bash/Shell/PowerShell",
          "MySQL",
          "HTML/CSS",
          "JavaScript",
          "Pandas",
          "SQL",
          "Python"
         ],
         "yaxis": "y"
        }
       ],
       "layout": {
        "barmode": "relative",
        "coloraxis": {
         "cmax": 4.578863713652795,
         "cmin": -2.3236029084431107,
         "colorbar": {
          "title": {
           "text": "color"
          }
         },
         "colorscale": [
          [
           0,
           "rgb(255,247,236)"
          ],
          [
           0.125,
           "rgb(254,232,200)"
          ],
          [
           0.25,
           "rgb(253,212,158)"
          ],
          [
           0.375,
           "rgb(253,187,132)"
          ],
          [
           0.5,
           "rgb(252,141,89)"
          ],
          [
           0.625,
           "rgb(239,101,72)"
          ],
          [
           0.75,
           "rgb(215,48,31)"
          ],
          [
           0.875,
           "rgb(179,0,0)"
          ],
          [
           1,
           "rgb(127,0,0)"
          ]
         ]
        },
        "height": 700,
        "legend": {
         "tracegroupgap": 0
        },
        "margin": {
         "t": 60
        },
        "template": {
         "data": {
          "bar": [
           {
            "error_x": {
             "color": "#2a3f5f"
            },
            "error_y": {
             "color": "#2a3f5f"
            },
            "marker": {
             "line": {
              "color": "#E5ECF6",
              "width": 0.5
             },
             "pattern": {
              "fillmode": "overlay",
              "size": 10,
              "solidity": 0.2
             }
            },
            "type": "bar"
           }
          ],
          "barpolar": [
           {
            "marker": {
             "line": {
              "color": "#E5ECF6",
              "width": 0.5
             },
             "pattern": {
              "fillmode": "overlay",
              "size": 10,
              "solidity": 0.2
             }
            },
            "type": "barpolar"
           }
          ],
          "carpet": [
           {
            "aaxis": {
             "endlinecolor": "#2a3f5f",
             "gridcolor": "white",
             "linecolor": "white",
             "minorgridcolor": "white",
             "startlinecolor": "#2a3f5f"
            },
            "baxis": {
             "endlinecolor": "#2a3f5f",
             "gridcolor": "white",
             "linecolor": "white",
             "minorgridcolor": "white",
             "startlinecolor": "#2a3f5f"
            },
            "type": "carpet"
           }
          ],
          "choropleth": [
           {
            "colorbar": {
             "outlinewidth": 0,
             "ticks": ""
            },
            "type": "choropleth"
           }
          ],
          "contour": [
           {
            "colorbar": {
             "outlinewidth": 0,
             "ticks": ""
            },
            "colorscale": [
             [
              0,
              "#0d0887"
             ],
             [
              0.1111111111111111,
              "#46039f"
             ],
             [
              0.2222222222222222,
              "#7201a8"
             ],
             [
              0.3333333333333333,
              "#9c179e"
             ],
             [
              0.4444444444444444,
              "#bd3786"
             ],
             [
              0.5555555555555556,
              "#d8576b"
             ],
             [
              0.6666666666666666,
              "#ed7953"
             ],
             [
              0.7777777777777778,
              "#fb9f3a"
             ],
             [
              0.8888888888888888,
              "#fdca26"
             ],
             [
              1,
              "#f0f921"
             ]
            ],
            "type": "contour"
           }
          ],
          "contourcarpet": [
           {
            "colorbar": {
             "outlinewidth": 0,
             "ticks": ""
            },
            "type": "contourcarpet"
           }
          ],
          "heatmap": [
           {
            "colorbar": {
             "outlinewidth": 0,
             "ticks": ""
            },
            "colorscale": [
             [
              0,
              "#0d0887"
             ],
             [
              0.1111111111111111,
              "#46039f"
             ],
             [
              0.2222222222222222,
              "#7201a8"
             ],
             [
              0.3333333333333333,
              "#9c179e"
             ],
             [
              0.4444444444444444,
              "#bd3786"
             ],
             [
              0.5555555555555556,
              "#d8576b"
             ],
             [
              0.6666666666666666,
              "#ed7953"
             ],
             [
              0.7777777777777778,
              "#fb9f3a"
             ],
             [
              0.8888888888888888,
              "#fdca26"
             ],
             [
              1,
              "#f0f921"
             ]
            ],
            "type": "heatmap"
           }
          ],
          "heatmapgl": [
           {
            "colorbar": {
             "outlinewidth": 0,
             "ticks": ""
            },
            "colorscale": [
             [
              0,
              "#0d0887"
             ],
             [
              0.1111111111111111,
              "#46039f"
             ],
             [
              0.2222222222222222,
              "#7201a8"
             ],
             [
              0.3333333333333333,
              "#9c179e"
             ],
             [
              0.4444444444444444,
              "#bd3786"
             ],
             [
              0.5555555555555556,
              "#d8576b"
             ],
             [
              0.6666666666666666,
              "#ed7953"
             ],
             [
              0.7777777777777778,
              "#fb9f3a"
             ],
             [
              0.8888888888888888,
              "#fdca26"
             ],
             [
              1,
              "#f0f921"
             ]
            ],
            "type": "heatmapgl"
           }
          ],
          "histogram": [
           {
            "marker": {
             "pattern": {
              "fillmode": "overlay",
              "size": 10,
              "solidity": 0.2
             }
            },
            "type": "histogram"
           }
          ],
          "histogram2d": [
           {
            "colorbar": {
             "outlinewidth": 0,
             "ticks": ""
            },
            "colorscale": [
             [
              0,
              "#0d0887"
             ],
             [
              0.1111111111111111,
              "#46039f"
             ],
             [
              0.2222222222222222,
              "#7201a8"
             ],
             [
              0.3333333333333333,
              "#9c179e"
             ],
             [
              0.4444444444444444,
              "#bd3786"
             ],
             [
              0.5555555555555556,
              "#d8576b"
             ],
             [
              0.6666666666666666,
              "#ed7953"
             ],
             [
              0.7777777777777778,
              "#fb9f3a"
             ],
             [
              0.8888888888888888,
              "#fdca26"
             ],
             [
              1,
              "#f0f921"
             ]
            ],
            "type": "histogram2d"
           }
          ],
          "histogram2dcontour": [
           {
            "colorbar": {
             "outlinewidth": 0,
             "ticks": ""
            },
            "colorscale": [
             [
              0,
              "#0d0887"
             ],
             [
              0.1111111111111111,
              "#46039f"
             ],
             [
              0.2222222222222222,
              "#7201a8"
             ],
             [
              0.3333333333333333,
              "#9c179e"
             ],
             [
              0.4444444444444444,
              "#bd3786"
             ],
             [
              0.5555555555555556,
              "#d8576b"
             ],
             [
              0.6666666666666666,
              "#ed7953"
             ],
             [
              0.7777777777777778,
              "#fb9f3a"
             ],
             [
              0.8888888888888888,
              "#fdca26"
             ],
             [
              1,
              "#f0f921"
             ]
            ],
            "type": "histogram2dcontour"
           }
          ],
          "mesh3d": [
           {
            "colorbar": {
             "outlinewidth": 0,
             "ticks": ""
            },
            "type": "mesh3d"
           }
          ],
          "parcoords": [
           {
            "line": {
             "colorbar": {
              "outlinewidth": 0,
              "ticks": ""
             }
            },
            "type": "parcoords"
           }
          ],
          "pie": [
           {
            "automargin": true,
            "type": "pie"
           }
          ],
          "scatter": [
           {
            "fillpattern": {
             "fillmode": "overlay",
             "size": 10,
             "solidity": 0.2
            },
            "type": "scatter"
           }
          ],
          "scatter3d": [
           {
            "line": {
             "colorbar": {
              "outlinewidth": 0,
              "ticks": ""
             }
            },
            "marker": {
             "colorbar": {
              "outlinewidth": 0,
              "ticks": ""
             }
            },
            "type": "scatter3d"
           }
          ],
          "scattercarpet": [
           {
            "marker": {
             "colorbar": {
              "outlinewidth": 0,
              "ticks": ""
             }
            },
            "type": "scattercarpet"
           }
          ],
          "scattergeo": [
           {
            "marker": {
             "colorbar": {
              "outlinewidth": 0,
              "ticks": ""
             }
            },
            "type": "scattergeo"
           }
          ],
          "scattergl": [
           {
            "marker": {
             "colorbar": {
              "outlinewidth": 0,
              "ticks": ""
             }
            },
            "type": "scattergl"
           }
          ],
          "scattermapbox": [
           {
            "marker": {
             "colorbar": {
              "outlinewidth": 0,
              "ticks": ""
             }
            },
            "type": "scattermapbox"
           }
          ],
          "scatterpolar": [
           {
            "marker": {
             "colorbar": {
              "outlinewidth": 0,
              "ticks": ""
             }
            },
            "type": "scatterpolar"
           }
          ],
          "scatterpolargl": [
           {
            "marker": {
             "colorbar": {
              "outlinewidth": 0,
              "ticks": ""
             }
            },
            "type": "scatterpolargl"
           }
          ],
          "scatterternary": [
           {
            "marker": {
             "colorbar": {
              "outlinewidth": 0,
              "ticks": ""
             }
            },
            "type": "scatterternary"
           }
          ],
          "surface": [
           {
            "colorbar": {
             "outlinewidth": 0,
             "ticks": ""
            },
            "colorscale": [
             [
              0,
              "#0d0887"
             ],
             [
              0.1111111111111111,
              "#46039f"
             ],
             [
              0.2222222222222222,
              "#7201a8"
             ],
             [
              0.3333333333333333,
              "#9c179e"
             ],
             [
              0.4444444444444444,
              "#bd3786"
             ],
             [
              0.5555555555555556,
              "#d8576b"
             ],
             [
              0.6666666666666666,
              "#ed7953"
             ],
             [
              0.7777777777777778,
              "#fb9f3a"
             ],
             [
              0.8888888888888888,
              "#fdca26"
             ],
             [
              1,
              "#f0f921"
             ]
            ],
            "type": "surface"
           }
          ],
          "table": [
           {
            "cells": {
             "fill": {
              "color": "#EBF0F8"
             },
             "line": {
              "color": "white"
             }
            },
            "header": {
             "fill": {
              "color": "#C8D4E3"
             },
             "line": {
              "color": "white"
             }
            },
            "type": "table"
           }
          ]
         },
         "layout": {
          "annotationdefaults": {
           "arrowcolor": "#2a3f5f",
           "arrowhead": 0,
           "arrowwidth": 1
          },
          "autotypenumbers": "strict",
          "coloraxis": {
           "colorbar": {
            "outlinewidth": 0,
            "ticks": ""
           }
          },
          "colorscale": {
           "diverging": [
            [
             0,
             "#8e0152"
            ],
            [
             0.1,
             "#c51b7d"
            ],
            [
             0.2,
             "#de77ae"
            ],
            [
             0.3,
             "#f1b6da"
            ],
            [
             0.4,
             "#fde0ef"
            ],
            [
             0.5,
             "#f7f7f7"
            ],
            [
             0.6,
             "#e6f5d0"
            ],
            [
             0.7,
             "#b8e186"
            ],
            [
             0.8,
             "#7fbc41"
            ],
            [
             0.9,
             "#4d9221"
            ],
            [
             1,
             "#276419"
            ]
           ],
           "sequential": [
            [
             0,
             "#0d0887"
            ],
            [
             0.1111111111111111,
             "#46039f"
            ],
            [
             0.2222222222222222,
             "#7201a8"
            ],
            [
             0.3333333333333333,
             "#9c179e"
            ],
            [
             0.4444444444444444,
             "#bd3786"
            ],
            [
             0.5555555555555556,
             "#d8576b"
            ],
            [
             0.6666666666666666,
             "#ed7953"
            ],
            [
             0.7777777777777778,
             "#fb9f3a"
            ],
            [
             0.8888888888888888,
             "#fdca26"
            ],
            [
             1,
             "#f0f921"
            ]
           ],
           "sequentialminus": [
            [
             0,
             "#0d0887"
            ],
            [
             0.1111111111111111,
             "#46039f"
            ],
            [
             0.2222222222222222,
             "#7201a8"
            ],
            [
             0.3333333333333333,
             "#9c179e"
            ],
            [
             0.4444444444444444,
             "#bd3786"
            ],
            [
             0.5555555555555556,
             "#d8576b"
            ],
            [
             0.6666666666666666,
             "#ed7953"
            ],
            [
             0.7777777777777778,
             "#fb9f3a"
            ],
            [
             0.8888888888888888,
             "#fdca26"
            ],
            [
             1,
             "#f0f921"
            ]
           ]
          },
          "colorway": [
           "#636efa",
           "#EF553B",
           "#00cc96",
           "#ab63fa",
           "#FFA15A",
           "#19d3f3",
           "#FF6692",
           "#B6E880",
           "#FF97FF",
           "#FECB52"
          ],
          "font": {
           "color": "#2a3f5f"
          },
          "geo": {
           "bgcolor": "white",
           "lakecolor": "white",
           "landcolor": "#E5ECF6",
           "showlakes": true,
           "showland": true,
           "subunitcolor": "white"
          },
          "hoverlabel": {
           "align": "left"
          },
          "hovermode": "closest",
          "mapbox": {
           "style": "light"
          },
          "paper_bgcolor": "white",
          "plot_bgcolor": "#E5ECF6",
          "polar": {
           "angularaxis": {
            "gridcolor": "white",
            "linecolor": "white",
            "ticks": ""
           },
           "bgcolor": "#E5ECF6",
           "radialaxis": {
            "gridcolor": "white",
            "linecolor": "white",
            "ticks": ""
           }
          },
          "scene": {
           "xaxis": {
            "backgroundcolor": "#E5ECF6",
            "gridcolor": "white",
            "gridwidth": 2,
            "linecolor": "white",
            "showbackground": true,
            "ticks": "",
            "zerolinecolor": "white"
           },
           "yaxis": {
            "backgroundcolor": "#E5ECF6",
            "gridcolor": "white",
            "gridwidth": 2,
            "linecolor": "white",
            "showbackground": true,
            "ticks": "",
            "zerolinecolor": "white"
           },
           "zaxis": {
            "backgroundcolor": "#E5ECF6",
            "gridcolor": "white",
            "gridwidth": 2,
            "linecolor": "white",
            "showbackground": true,
            "ticks": "",
            "zerolinecolor": "white"
           }
          },
          "shapedefaults": {
           "line": {
            "color": "#2a3f5f"
           }
          },
          "ternary": {
           "aaxis": {
            "gridcolor": "white",
            "linecolor": "white",
            "ticks": ""
           },
           "baxis": {
            "gridcolor": "white",
            "linecolor": "white",
            "ticks": ""
           },
           "bgcolor": "#E5ECF6",
           "caxis": {
            "gridcolor": "white",
            "linecolor": "white",
            "ticks": ""
           }
          },
          "title": {
           "x": 0.05
          },
          "xaxis": {
           "automargin": true,
           "gridcolor": "white",
           "linecolor": "white",
           "ticks": "",
           "title": {
            "standoff": 15
           },
           "zerolinecolor": "white",
           "zerolinewidth": 2
          },
          "yaxis": {
           "automargin": true,
           "gridcolor": "white",
           "linecolor": "white",
           "ticks": "",
           "title": {
            "standoff": 15
           },
           "zerolinecolor": "white",
           "zerolinewidth": 2
          }
         }
        },
        "title": {
         "text": "Data scientist or machine learning specialist"
        },
        "width": 800,
        "xaxis": {
         "anchor": "y",
         "domain": [
          0,
          1
         ],
         "title": {
          "text": "x"
         }
        },
        "yaxis": {
         "anchor": "x",
         "domain": [
          0,
          1
         ],
         "title": {
          "text": "y"
         }
        }
       }
      },
      "text/html": [
       "<div>                            <div id=\"bffcf413-9169-40a1-ace6-791399ddd37e\" class=\"plotly-graph-div\" style=\"height:700px; width:800px;\"></div>            <script type=\"text/javascript\">                require([\"plotly\"], function(Plotly) {                    window.PLOTLYENV=window.PLOTLYENV || {};                                    if (document.getElementById(\"bffcf413-9169-40a1-ace6-791399ddd37e\")) {                    Plotly.newPlot(                        \"bffcf413-9169-40a1-ace6-791399ddd37e\",                        [{\"alignmentgroup\":\"True\",\"hovertemplate\":\"x=%{x}<br>y=%{y}<br>color=%{marker.color}<extra></extra>\",\"legendgroup\":\"\",\"marker\":{\"color\":[0.21532424141910095,-1.9464254034912876,0.3860820770952778,2.894423165550614,3.6812767324840125,-0.9006494976610825,2.8366067922330895,0.49730533649320385,0.27999588425071037,-0.6773542237183563,3.6109343256038575,0.5312367597338895,-0.07896065758627525,-0.8526348000741512,-1.7606504243877041,-2.0553805104496368,3.291583827472921,-0.1804718281210389,2.6148476507869254],\"coloraxis\":\"coloraxis\",\"pattern\":{\"shape\":\"\"}},\"name\":\"\",\"offsetgroup\":\"\",\"orientation\":\"h\",\"showlegend\":false,\"textposition\":\"auto\",\"x\":[25.050150451354064,25.651955867602812,25.827482447342025,26.4543630892678,27.256770310932797,27.256770310932797,27.632898696088265,29.789368104312942,33.45035105315948,35.05516549648947,37.938816449348046,39.1173520561685,39.56870611835506,46.26379137412236,48.24473420260782,48.26980942828485,50.075225677031085,58.45035105315948,78.33500501504514],\"xaxis\":\"x\",\"y\":[\"C\",\"Node.js\",\"MongoDB\",\"Flask\",\"Keras\",\"Microsoft SQL Server\",\"R\",\"C++\",\"SQLite\",\"Java\",\"TensorFlow\",\"PostgreSQL\",\"Bash/Shell/PowerShell\",\"MySQL\",\"HTML/CSS\",\"JavaScript\",\"Pandas\",\"SQL\",\"Python\"],\"yaxis\":\"y\",\"type\":\"bar\"}],                        {\"template\":{\"data\":{\"histogram2dcontour\":[{\"type\":\"histogram2dcontour\",\"colorbar\":{\"outlinewidth\":0,\"ticks\":\"\"},\"colorscale\":[[0.0,\"#0d0887\"],[0.1111111111111111,\"#46039f\"],[0.2222222222222222,\"#7201a8\"],[0.3333333333333333,\"#9c179e\"],[0.4444444444444444,\"#bd3786\"],[0.5555555555555556,\"#d8576b\"],[0.6666666666666666,\"#ed7953\"],[0.7777777777777778,\"#fb9f3a\"],[0.8888888888888888,\"#fdca26\"],[1.0,\"#f0f921\"]]}],\"choropleth\":[{\"type\":\"choropleth\",\"colorbar\":{\"outlinewidth\":0,\"ticks\":\"\"}}],\"histogram2d\":[{\"type\":\"histogram2d\",\"colorbar\":{\"outlinewidth\":0,\"ticks\":\"\"},\"colorscale\":[[0.0,\"#0d0887\"],[0.1111111111111111,\"#46039f\"],[0.2222222222222222,\"#7201a8\"],[0.3333333333333333,\"#9c179e\"],[0.4444444444444444,\"#bd3786\"],[0.5555555555555556,\"#d8576b\"],[0.6666666666666666,\"#ed7953\"],[0.7777777777777778,\"#fb9f3a\"],[0.8888888888888888,\"#fdca26\"],[1.0,\"#f0f921\"]]}],\"heatmap\":[{\"type\":\"heatmap\",\"colorbar\":{\"outlinewidth\":0,\"ticks\":\"\"},\"colorscale\":[[0.0,\"#0d0887\"],[0.1111111111111111,\"#46039f\"],[0.2222222222222222,\"#7201a8\"],[0.3333333333333333,\"#9c179e\"],[0.4444444444444444,\"#bd3786\"],[0.5555555555555556,\"#d8576b\"],[0.6666666666666666,\"#ed7953\"],[0.7777777777777778,\"#fb9f3a\"],[0.8888888888888888,\"#fdca26\"],[1.0,\"#f0f921\"]]}],\"heatmapgl\":[{\"type\":\"heatmapgl\",\"colorbar\":{\"outlinewidth\":0,\"ticks\":\"\"},\"colorscale\":[[0.0,\"#0d0887\"],[0.1111111111111111,\"#46039f\"],[0.2222222222222222,\"#7201a8\"],[0.3333333333333333,\"#9c179e\"],[0.4444444444444444,\"#bd3786\"],[0.5555555555555556,\"#d8576b\"],[0.6666666666666666,\"#ed7953\"],[0.7777777777777778,\"#fb9f3a\"],[0.8888888888888888,\"#fdca26\"],[1.0,\"#f0f921\"]]}],\"contourcarpet\":[{\"type\":\"contourcarpet\",\"colorbar\":{\"outlinewidth\":0,\"ticks\":\"\"}}],\"contour\":[{\"type\":\"contour\",\"colorbar\":{\"outlinewidth\":0,\"ticks\":\"\"},\"colorscale\":[[0.0,\"#0d0887\"],[0.1111111111111111,\"#46039f\"],[0.2222222222222222,\"#7201a8\"],[0.3333333333333333,\"#9c179e\"],[0.4444444444444444,\"#bd3786\"],[0.5555555555555556,\"#d8576b\"],[0.6666666666666666,\"#ed7953\"],[0.7777777777777778,\"#fb9f3a\"],[0.8888888888888888,\"#fdca26\"],[1.0,\"#f0f921\"]]}],\"surface\":[{\"type\":\"surface\",\"colorbar\":{\"outlinewidth\":0,\"ticks\":\"\"},\"colorscale\":[[0.0,\"#0d0887\"],[0.1111111111111111,\"#46039f\"],[0.2222222222222222,\"#7201a8\"],[0.3333333333333333,\"#9c179e\"],[0.4444444444444444,\"#bd3786\"],[0.5555555555555556,\"#d8576b\"],[0.6666666666666666,\"#ed7953\"],[0.7777777777777778,\"#fb9f3a\"],[0.8888888888888888,\"#fdca26\"],[1.0,\"#f0f921\"]]}],\"mesh3d\":[{\"type\":\"mesh3d\",\"colorbar\":{\"outlinewidth\":0,\"ticks\":\"\"}}],\"scatter\":[{\"fillpattern\":{\"fillmode\":\"overlay\",\"size\":10,\"solidity\":0.2},\"type\":\"scatter\"}],\"parcoords\":[{\"type\":\"parcoords\",\"line\":{\"colorbar\":{\"outlinewidth\":0,\"ticks\":\"\"}}}],\"scatterpolargl\":[{\"type\":\"scatterpolargl\",\"marker\":{\"colorbar\":{\"outlinewidth\":0,\"ticks\":\"\"}}}],\"bar\":[{\"error_x\":{\"color\":\"#2a3f5f\"},\"error_y\":{\"color\":\"#2a3f5f\"},\"marker\":{\"line\":{\"color\":\"#E5ECF6\",\"width\":0.5},\"pattern\":{\"fillmode\":\"overlay\",\"size\":10,\"solidity\":0.2}},\"type\":\"bar\"}],\"scattergeo\":[{\"type\":\"scattergeo\",\"marker\":{\"colorbar\":{\"outlinewidth\":0,\"ticks\":\"\"}}}],\"scatterpolar\":[{\"type\":\"scatterpolar\",\"marker\":{\"colorbar\":{\"outlinewidth\":0,\"ticks\":\"\"}}}],\"histogram\":[{\"marker\":{\"pattern\":{\"fillmode\":\"overlay\",\"size\":10,\"solidity\":0.2}},\"type\":\"histogram\"}],\"scattergl\":[{\"type\":\"scattergl\",\"marker\":{\"colorbar\":{\"outlinewidth\":0,\"ticks\":\"\"}}}],\"scatter3d\":[{\"type\":\"scatter3d\",\"line\":{\"colorbar\":{\"outlinewidth\":0,\"ticks\":\"\"}},\"marker\":{\"colorbar\":{\"outlinewidth\":0,\"ticks\":\"\"}}}],\"scattermapbox\":[{\"type\":\"scattermapbox\",\"marker\":{\"colorbar\":{\"outlinewidth\":0,\"ticks\":\"\"}}}],\"scatterternary\":[{\"type\":\"scatterternary\",\"marker\":{\"colorbar\":{\"outlinewidth\":0,\"ticks\":\"\"}}}],\"scattercarpet\":[{\"type\":\"scattercarpet\",\"marker\":{\"colorbar\":{\"outlinewidth\":0,\"ticks\":\"\"}}}],\"carpet\":[{\"aaxis\":{\"endlinecolor\":\"#2a3f5f\",\"gridcolor\":\"white\",\"linecolor\":\"white\",\"minorgridcolor\":\"white\",\"startlinecolor\":\"#2a3f5f\"},\"baxis\":{\"endlinecolor\":\"#2a3f5f\",\"gridcolor\":\"white\",\"linecolor\":\"white\",\"minorgridcolor\":\"white\",\"startlinecolor\":\"#2a3f5f\"},\"type\":\"carpet\"}],\"table\":[{\"cells\":{\"fill\":{\"color\":\"#EBF0F8\"},\"line\":{\"color\":\"white\"}},\"header\":{\"fill\":{\"color\":\"#C8D4E3\"},\"line\":{\"color\":\"white\"}},\"type\":\"table\"}],\"barpolar\":[{\"marker\":{\"line\":{\"color\":\"#E5ECF6\",\"width\":0.5},\"pattern\":{\"fillmode\":\"overlay\",\"size\":10,\"solidity\":0.2}},\"type\":\"barpolar\"}],\"pie\":[{\"automargin\":true,\"type\":\"pie\"}]},\"layout\":{\"autotypenumbers\":\"strict\",\"colorway\":[\"#636efa\",\"#EF553B\",\"#00cc96\",\"#ab63fa\",\"#FFA15A\",\"#19d3f3\",\"#FF6692\",\"#B6E880\",\"#FF97FF\",\"#FECB52\"],\"font\":{\"color\":\"#2a3f5f\"},\"hovermode\":\"closest\",\"hoverlabel\":{\"align\":\"left\"},\"paper_bgcolor\":\"white\",\"plot_bgcolor\":\"#E5ECF6\",\"polar\":{\"bgcolor\":\"#E5ECF6\",\"angularaxis\":{\"gridcolor\":\"white\",\"linecolor\":\"white\",\"ticks\":\"\"},\"radialaxis\":{\"gridcolor\":\"white\",\"linecolor\":\"white\",\"ticks\":\"\"}},\"ternary\":{\"bgcolor\":\"#E5ECF6\",\"aaxis\":{\"gridcolor\":\"white\",\"linecolor\":\"white\",\"ticks\":\"\"},\"baxis\":{\"gridcolor\":\"white\",\"linecolor\":\"white\",\"ticks\":\"\"},\"caxis\":{\"gridcolor\":\"white\",\"linecolor\":\"white\",\"ticks\":\"\"}},\"coloraxis\":{\"colorbar\":{\"outlinewidth\":0,\"ticks\":\"\"}},\"colorscale\":{\"sequential\":[[0.0,\"#0d0887\"],[0.1111111111111111,\"#46039f\"],[0.2222222222222222,\"#7201a8\"],[0.3333333333333333,\"#9c179e\"],[0.4444444444444444,\"#bd3786\"],[0.5555555555555556,\"#d8576b\"],[0.6666666666666666,\"#ed7953\"],[0.7777777777777778,\"#fb9f3a\"],[0.8888888888888888,\"#fdca26\"],[1.0,\"#f0f921\"]],\"sequentialminus\":[[0.0,\"#0d0887\"],[0.1111111111111111,\"#46039f\"],[0.2222222222222222,\"#7201a8\"],[0.3333333333333333,\"#9c179e\"],[0.4444444444444444,\"#bd3786\"],[0.5555555555555556,\"#d8576b\"],[0.6666666666666666,\"#ed7953\"],[0.7777777777777778,\"#fb9f3a\"],[0.8888888888888888,\"#fdca26\"],[1.0,\"#f0f921\"]],\"diverging\":[[0,\"#8e0152\"],[0.1,\"#c51b7d\"],[0.2,\"#de77ae\"],[0.3,\"#f1b6da\"],[0.4,\"#fde0ef\"],[0.5,\"#f7f7f7\"],[0.6,\"#e6f5d0\"],[0.7,\"#b8e186\"],[0.8,\"#7fbc41\"],[0.9,\"#4d9221\"],[1,\"#276419\"]]},\"xaxis\":{\"gridcolor\":\"white\",\"linecolor\":\"white\",\"ticks\":\"\",\"title\":{\"standoff\":15},\"zerolinecolor\":\"white\",\"automargin\":true,\"zerolinewidth\":2},\"yaxis\":{\"gridcolor\":\"white\",\"linecolor\":\"white\",\"ticks\":\"\",\"title\":{\"standoff\":15},\"zerolinecolor\":\"white\",\"automargin\":true,\"zerolinewidth\":2},\"scene\":{\"xaxis\":{\"backgroundcolor\":\"#E5ECF6\",\"gridcolor\":\"white\",\"linecolor\":\"white\",\"showbackground\":true,\"ticks\":\"\",\"zerolinecolor\":\"white\",\"gridwidth\":2},\"yaxis\":{\"backgroundcolor\":\"#E5ECF6\",\"gridcolor\":\"white\",\"linecolor\":\"white\",\"showbackground\":true,\"ticks\":\"\",\"zerolinecolor\":\"white\",\"gridwidth\":2},\"zaxis\":{\"backgroundcolor\":\"#E5ECF6\",\"gridcolor\":\"white\",\"linecolor\":\"white\",\"showbackground\":true,\"ticks\":\"\",\"zerolinecolor\":\"white\",\"gridwidth\":2}},\"shapedefaults\":{\"line\":{\"color\":\"#2a3f5f\"}},\"annotationdefaults\":{\"arrowcolor\":\"#2a3f5f\",\"arrowhead\":0,\"arrowwidth\":1},\"geo\":{\"bgcolor\":\"white\",\"landcolor\":\"#E5ECF6\",\"subunitcolor\":\"white\",\"showland\":true,\"showlakes\":true,\"lakecolor\":\"white\"},\"title\":{\"x\":0.05},\"mapbox\":{\"style\":\"light\"}}},\"xaxis\":{\"anchor\":\"y\",\"domain\":[0.0,1.0],\"title\":{\"text\":\"x\"}},\"yaxis\":{\"anchor\":\"x\",\"domain\":[0.0,1.0],\"title\":{\"text\":\"y\"}},\"coloraxis\":{\"colorbar\":{\"title\":{\"text\":\"color\"}},\"colorscale\":[[0.0,\"rgb(255,247,236)\"],[0.125,\"rgb(254,232,200)\"],[0.25,\"rgb(253,212,158)\"],[0.375,\"rgb(253,187,132)\"],[0.5,\"rgb(252,141,89)\"],[0.625,\"rgb(239,101,72)\"],[0.75,\"rgb(215,48,31)\"],[0.875,\"rgb(179,0,0)\"],[1.0,\"rgb(127,0,0)\"]],\"cmin\":-2.3236029084431107,\"cmax\":4.578863713652795},\"legend\":{\"tracegroupgap\":0},\"margin\":{\"t\":60},\"barmode\":\"relative\",\"width\":800,\"height\":700,\"title\":{\"text\":\"Data scientist or machine learning specialist\"}},                        {\"responsive\": true}                    ).then(function(){\n",
       "                            \n",
       "var gd = document.getElementById('bffcf413-9169-40a1-ace6-791399ddd37e');\n",
       "var x = new MutationObserver(function (mutations, observer) {{\n",
       "        var display = window.getComputedStyle(gd).display;\n",
       "        if (!display || display === 'none') {{\n",
       "            console.log([gd, 'removed!']);\n",
       "            Plotly.purge(gd);\n",
       "            observer.disconnect();\n",
       "        }}\n",
       "}});\n",
       "\n",
       "// Listen for the removal of the full notebook cells\n",
       "var notebookContainer = gd.closest('#notebook-container');\n",
       "if (notebookContainer) {{\n",
       "    x.observe(notebookContainer, {childList: true});\n",
       "}}\n",
       "\n",
       "// Listen for the clearing of the current output cell\n",
       "var outputEl = gd.closest('.output');\n",
       "if (outputEl) {{\n",
       "    x.observe(outputEl, {childList: true});\n",
       "}}\n",
       "\n",
       "                        })                };                });            </script>        </div>"
      ]
     },
     "metadata": {},
     "output_type": "display_data"
    }
   ],
   "source": [
    "threshold = 25\n",
    "\n",
    "single_role_skills = single_role_skills[single_role_skills['percentage'] > threshold]\n",
    "\n",
    "fig = px.bar(df, \n",
    "             y=single_role_skills.index, \n",
    "             x=single_role_skills['percentage'], \n",
    "             color=single_role_skills['specificity'], \n",
    "             color_continuous_scale='orrd', \n",
    "             range_color=[normalized_skills.values.min(),normalized_skills.values.max()],\n",
    "             orientation='h')\n",
    "\n",
    "fig.update_layout(width=800, height=700, title=role)\n",
    "fig.show()\n"
   ]
  },
  {
   "cell_type": "markdown",
   "id": "6995adf0",
   "metadata": {},
   "source": [
    "# Correlation Between Skills On 2D"
   ]
  },
  {
   "cell_type": "code",
   "execution_count": 51,
   "id": "4da3647b",
   "metadata": {},
   "outputs": [
    {
     "name": "stderr",
     "output_type": "stream",
     "text": [
      "C:\\Users\\dell\\AppData\\Local\\Programs\\Python\\Python38\\lib\\site-packages\\sklearn\\manifold\\_t_sne.py:996: FutureWarning:\n",
      "\n",
      "The PCA initialization in TSNE will change to have the standard deviation of PC1 equal to 1e-4 in 1.2. This will ensure better convergence.\n",
      "\n"
     ]
    },
    {
     "data": {
      "text/plain": [
       "(74, 2)"
      ]
     },
     "execution_count": 51,
     "metadata": {},
     "output_type": "execute_result"
    }
   ],
   "source": [
    "from sklearn.manifold import TSNE\n",
    "skills_ohe = df.drop('DevType', axis=1).copy()\n",
    "std_skills = StandardScaler().fit_transform(skills_ohe)\n",
    "tsne_projection = TSNE(n_components=2, \n",
    "                       perplexity=3,\n",
    "                       learning_rate=0.01,\n",
    "                       init='pca', \n",
    "                       method='barnes_hut', \n",
    "                       n_jobs=2, \n",
    "                       n_iter=10**10,\n",
    "                       random_state=0).fit_transform(std_skills.T)\n",
    "\n",
    "tsne_projection = pd.DataFrame(tsne_projection, index=skills_ohe.columns)\n",
    "tsne_projection.shape"
   ]
  },
  {
   "cell_type": "code",
   "execution_count": 52,
   "id": "13c370b5",
   "metadata": {},
   "outputs": [
    {
     "data": {
      "text/html": [
       "<div>\n",
       "<style scoped>\n",
       "    .dataframe tbody tr th:only-of-type {\n",
       "        vertical-align: middle;\n",
       "    }\n",
       "\n",
       "    .dataframe tbody tr th {\n",
       "        vertical-align: top;\n",
       "    }\n",
       "\n",
       "    .dataframe thead th {\n",
       "        text-align: right;\n",
       "    }\n",
       "</style>\n",
       "<table border=\"1\" class=\"dataframe\">\n",
       "  <thead>\n",
       "    <tr style=\"text-align: right;\">\n",
       "      <th></th>\n",
       "      <th></th>\n",
       "      <th>0</th>\n",
       "      <th>1</th>\n",
       "    </tr>\n",
       "  </thead>\n",
       "  <tbody>\n",
       "    <tr>\n",
       "      <th rowspan=\"25\" valign=\"top\">LanguageWorkedWith</th>\n",
       "      <th>Assembly</th>\n",
       "      <td>-30.764885</td>\n",
       "      <td>-65.318398</td>\n",
       "    </tr>\n",
       "    <tr>\n",
       "      <th>Bash/Shell/PowerShell</th>\n",
       "      <td>-55.424171</td>\n",
       "      <td>-53.125629</td>\n",
       "    </tr>\n",
       "    <tr>\n",
       "      <th>C</th>\n",
       "      <td>-25.896162</td>\n",
       "      <td>-64.863708</td>\n",
       "    </tr>\n",
       "    <tr>\n",
       "      <th>C#</th>\n",
       "      <td>142.467896</td>\n",
       "      <td>-73.416649</td>\n",
       "    </tr>\n",
       "    <tr>\n",
       "      <th>C++</th>\n",
       "      <td>-22.377167</td>\n",
       "      <td>-65.257317</td>\n",
       "    </tr>\n",
       "    <tr>\n",
       "      <th>Dart</th>\n",
       "      <td>11.975964</td>\n",
       "      <td>8.922878</td>\n",
       "    </tr>\n",
       "    <tr>\n",
       "      <th>Go</th>\n",
       "      <td>-60.379654</td>\n",
       "      <td>23.931152</td>\n",
       "    </tr>\n",
       "    <tr>\n",
       "      <th>HTML/CSS</th>\n",
       "      <td>37.408920</td>\n",
       "      <td>74.281227</td>\n",
       "    </tr>\n",
       "    <tr>\n",
       "      <th>Haskell</th>\n",
       "      <td>-48.863964</td>\n",
       "      <td>-78.379440</td>\n",
       "    </tr>\n",
       "    <tr>\n",
       "      <th>Java</th>\n",
       "      <td>32.689682</td>\n",
       "      <td>0.023792</td>\n",
       "    </tr>\n",
       "    <tr>\n",
       "      <th>JavaScript</th>\n",
       "      <td>36.007763</td>\n",
       "      <td>77.630653</td>\n",
       "    </tr>\n",
       "    <tr>\n",
       "      <th>Julia</th>\n",
       "      <td>-56.303780</td>\n",
       "      <td>-76.178413</td>\n",
       "    </tr>\n",
       "    <tr>\n",
       "      <th>Kotlin</th>\n",
       "      <td>26.780430</td>\n",
       "      <td>0.801821</td>\n",
       "    </tr>\n",
       "    <tr>\n",
       "      <th>Objective-C</th>\n",
       "      <td>3.818448</td>\n",
       "      <td>-14.200803</td>\n",
       "    </tr>\n",
       "    <tr>\n",
       "      <th>PHP</th>\n",
       "      <td>16.287144</td>\n",
       "      <td>59.222485</td>\n",
       "    </tr>\n",
       "    <tr>\n",
       "      <th>Perl</th>\n",
       "      <td>-49.965515</td>\n",
       "      <td>-52.194210</td>\n",
       "    </tr>\n",
       "    <tr>\n",
       "      <th>Python</th>\n",
       "      <td>-62.885765</td>\n",
       "      <td>-54.120651</td>\n",
       "    </tr>\n",
       "    <tr>\n",
       "      <th>R</th>\n",
       "      <td>-64.095650</td>\n",
       "      <td>-70.321960</td>\n",
       "    </tr>\n",
       "    <tr>\n",
       "      <th>Ruby</th>\n",
       "      <td>-54.678226</td>\n",
       "      <td>46.488602</td>\n",
       "    </tr>\n",
       "    <tr>\n",
       "      <th>Rust</th>\n",
       "      <td>-45.166634</td>\n",
       "      <td>-79.596573</td>\n",
       "    </tr>\n",
       "    <tr>\n",
       "      <th>SQL</th>\n",
       "      <td>38.687172</td>\n",
       "      <td>68.195129</td>\n",
       "    </tr>\n",
       "    <tr>\n",
       "      <th>Scala</th>\n",
       "      <td>-54.078251</td>\n",
       "      <td>-14.016038</td>\n",
       "    </tr>\n",
       "    <tr>\n",
       "      <th>Swift</th>\n",
       "      <td>5.499137</td>\n",
       "      <td>-11.164112</td>\n",
       "    </tr>\n",
       "    <tr>\n",
       "      <th>TypeScript</th>\n",
       "      <td>61.528950</td>\n",
       "      <td>66.099220</td>\n",
       "    </tr>\n",
       "    <tr>\n",
       "      <th>VBA</th>\n",
       "      <td>141.194031</td>\n",
       "      <td>-56.793919</td>\n",
       "    </tr>\n",
       "    <tr>\n",
       "      <th rowspan=\"14\" valign=\"top\">DatabaseWorkedWith</th>\n",
       "      <th>Cassandra</th>\n",
       "      <td>-51.884468</td>\n",
       "      <td>-7.859834</td>\n",
       "    </tr>\n",
       "    <tr>\n",
       "      <th>Couchbase</th>\n",
       "      <td>-49.273304</td>\n",
       "      <td>-3.133319</td>\n",
       "    </tr>\n",
       "    <tr>\n",
       "      <th>DynamoDB</th>\n",
       "      <td>-62.487698</td>\n",
       "      <td>13.799306</td>\n",
       "    </tr>\n",
       "    <tr>\n",
       "      <th>Elasticsearch</th>\n",
       "      <td>-53.939674</td>\n",
       "      <td>16.095337</td>\n",
       "    </tr>\n",
       "    <tr>\n",
       "      <th>Firebase</th>\n",
       "      <td>8.558473</td>\n",
       "      <td>16.678226</td>\n",
       "    </tr>\n",
       "    <tr>\n",
       "      <th>IBM DB2</th>\n",
       "      <td>40.978001</td>\n",
       "      <td>-8.778655</td>\n",
       "    </tr>\n",
       "    <tr>\n",
       "      <th>MariaDB</th>\n",
       "      <td>21.948359</td>\n",
       "      <td>62.048302</td>\n",
       "    </tr>\n",
       "    <tr>\n",
       "      <th>Microsoft SQL Server</th>\n",
       "      <td>142.210831</td>\n",
       "      <td>-62.237209</td>\n",
       "    </tr>\n",
       "    <tr>\n",
       "      <th>MongoDB</th>\n",
       "      <td>36.215946</td>\n",
       "      <td>101.739708</td>\n",
       "    </tr>\n",
       "    <tr>\n",
       "      <th>MySQL</th>\n",
       "      <td>19.390596</td>\n",
       "      <td>55.380341</td>\n",
       "    </tr>\n",
       "    <tr>\n",
       "      <th>Oracle</th>\n",
       "      <td>37.411011</td>\n",
       "      <td>-4.801646</td>\n",
       "    </tr>\n",
       "    <tr>\n",
       "      <th>PostgreSQL</th>\n",
       "      <td>-48.376057</td>\n",
       "      <td>22.574621</td>\n",
       "    </tr>\n",
       "    <tr>\n",
       "      <th>Redis</th>\n",
       "      <td>-52.464966</td>\n",
       "      <td>19.641420</td>\n",
       "    </tr>\n",
       "    <tr>\n",
       "      <th>SQLite</th>\n",
       "      <td>22.113550</td>\n",
       "      <td>49.635834</td>\n",
       "    </tr>\n",
       "    <tr>\n",
       "      <th rowspan=\"16\" valign=\"top\">WebframeWorkedWith</th>\n",
       "      <th>ASP.NET</th>\n",
       "      <td>146.822769</td>\n",
       "      <td>-67.045723</td>\n",
       "    </tr>\n",
       "    <tr>\n",
       "      <th>ASP.NET Core</th>\n",
       "      <td>133.224380</td>\n",
       "      <td>-75.548744</td>\n",
       "    </tr>\n",
       "    <tr>\n",
       "      <th>Angular</th>\n",
       "      <td>64.807442</td>\n",
       "      <td>64.179016</td>\n",
       "    </tr>\n",
       "    <tr>\n",
       "      <th>Angular.js</th>\n",
       "      <td>69.754181</td>\n",
       "      <td>65.596733</td>\n",
       "    </tr>\n",
       "    <tr>\n",
       "      <th>Django</th>\n",
       "      <td>-65.648331</td>\n",
       "      <td>-49.137974</td>\n",
       "    </tr>\n",
       "    <tr>\n",
       "      <th>Drupal</th>\n",
       "      <td>9.848239</td>\n",
       "      <td>69.538368</td>\n",
       "    </tr>\n",
       "    <tr>\n",
       "      <th>Express</th>\n",
       "      <td>31.811121</td>\n",
       "      <td>99.195442</td>\n",
       "    </tr>\n",
       "    <tr>\n",
       "      <th>Flask</th>\n",
       "      <td>-67.766937</td>\n",
       "      <td>-54.126152</td>\n",
       "    </tr>\n",
       "    <tr>\n",
       "      <th>Gatsby</th>\n",
       "      <td>20.791519</td>\n",
       "      <td>105.013023</td>\n",
       "    </tr>\n",
       "    <tr>\n",
       "      <th>Laravel</th>\n",
       "      <td>11.633155</td>\n",
       "      <td>57.656425</td>\n",
       "    </tr>\n",
       "    <tr>\n",
       "      <th>React.js</th>\n",
       "      <td>22.751286</td>\n",
       "      <td>99.153404</td>\n",
       "    </tr>\n",
       "    <tr>\n",
       "      <th>Ruby on Rails</th>\n",
       "      <td>-52.942688</td>\n",
       "      <td>49.484516</td>\n",
       "    </tr>\n",
       "    <tr>\n",
       "      <th>Spring</th>\n",
       "      <td>35.751537</td>\n",
       "      <td>1.938730</td>\n",
       "    </tr>\n",
       "    <tr>\n",
       "      <th>Symfony</th>\n",
       "      <td>14.000314</td>\n",
       "      <td>65.417900</td>\n",
       "    </tr>\n",
       "    <tr>\n",
       "      <th>Vue.js</th>\n",
       "      <td>4.997565</td>\n",
       "      <td>55.924606</td>\n",
       "    </tr>\n",
       "    <tr>\n",
       "      <th>jQuery</th>\n",
       "      <td>30.552410</td>\n",
       "      <td>77.261536</td>\n",
       "    </tr>\n",
       "    <tr>\n",
       "      <th rowspan=\"19\" valign=\"top\">MiscTechWorkedWith</th>\n",
       "      <th>.NET</th>\n",
       "      <td>142.989502</td>\n",
       "      <td>-69.479172</td>\n",
       "    </tr>\n",
       "    <tr>\n",
       "      <th>.NET Core</th>\n",
       "      <td>136.463074</td>\n",
       "      <td>-77.565063</td>\n",
       "    </tr>\n",
       "    <tr>\n",
       "      <th>Ansible</th>\n",
       "      <td>-70.628441</td>\n",
       "      <td>19.344284</td>\n",
       "    </tr>\n",
       "    <tr>\n",
       "      <th>Apache Spark</th>\n",
       "      <td>-56.464363</td>\n",
       "      <td>-18.461264</td>\n",
       "    </tr>\n",
       "    <tr>\n",
       "      <th>Chef</th>\n",
       "      <td>-80.963203</td>\n",
       "      <td>21.250784</td>\n",
       "    </tr>\n",
       "    <tr>\n",
       "      <th>Cordova</th>\n",
       "      <td>66.004715</td>\n",
       "      <td>58.152042</td>\n",
       "    </tr>\n",
       "    <tr>\n",
       "      <th>Flutter</th>\n",
       "      <td>11.252280</td>\n",
       "      <td>12.318170</td>\n",
       "    </tr>\n",
       "    <tr>\n",
       "      <th>Hadoop</th>\n",
       "      <td>-59.561333</td>\n",
       "      <td>-20.138857</td>\n",
       "    </tr>\n",
       "    <tr>\n",
       "      <th>Keras</th>\n",
       "      <td>-75.445396</td>\n",
       "      <td>-66.323715</td>\n",
       "    </tr>\n",
       "    <tr>\n",
       "      <th>Node.js</th>\n",
       "      <td>28.488697</td>\n",
       "      <td>97.489334</td>\n",
       "    </tr>\n",
       "    <tr>\n",
       "      <th>Pandas</th>\n",
       "      <td>-68.912498</td>\n",
       "      <td>-66.289070</td>\n",
       "    </tr>\n",
       "    <tr>\n",
       "      <th>Puppet</th>\n",
       "      <td>-83.485481</td>\n",
       "      <td>18.596760</td>\n",
       "    </tr>\n",
       "    <tr>\n",
       "      <th>React Native</th>\n",
       "      <td>18.532988</td>\n",
       "      <td>96.202919</td>\n",
       "    </tr>\n",
       "    <tr>\n",
       "      <th>TensorFlow</th>\n",
       "      <td>-75.108406</td>\n",
       "      <td>-69.897972</td>\n",
       "    </tr>\n",
       "    <tr>\n",
       "      <th>Teraform</th>\n",
       "      <td>-66.995209</td>\n",
       "      <td>18.755295</td>\n",
       "    </tr>\n",
       "    <tr>\n",
       "      <th>Torch/PyTorch</th>\n",
       "      <td>-79.666008</td>\n",
       "      <td>-72.380402</td>\n",
       "    </tr>\n",
       "    <tr>\n",
       "      <th>Unity 3D</th>\n",
       "      <td>6.171777</td>\n",
       "      <td>-77.705956</td>\n",
       "    </tr>\n",
       "    <tr>\n",
       "      <th>Unreal Engine</th>\n",
       "      <td>2.691131</td>\n",
       "      <td>-77.293404</td>\n",
       "    </tr>\n",
       "    <tr>\n",
       "      <th>Xamarin</th>\n",
       "      <td>141.232254</td>\n",
       "      <td>-82.225136</td>\n",
       "    </tr>\n",
       "  </tbody>\n",
       "</table>\n",
       "</div>"
      ],
      "text/plain": [
       "                                                   0           1\n",
       "LanguageWorkedWith Assembly               -30.764885  -65.318398\n",
       "                   Bash/Shell/PowerShell  -55.424171  -53.125629\n",
       "                   C                      -25.896162  -64.863708\n",
       "                   C#                     142.467896  -73.416649\n",
       "                   C++                    -22.377167  -65.257317\n",
       "                   Dart                    11.975964    8.922878\n",
       "                   Go                     -60.379654   23.931152\n",
       "                   HTML/CSS                37.408920   74.281227\n",
       "                   Haskell                -48.863964  -78.379440\n",
       "                   Java                    32.689682    0.023792\n",
       "                   JavaScript              36.007763   77.630653\n",
       "                   Julia                  -56.303780  -76.178413\n",
       "                   Kotlin                  26.780430    0.801821\n",
       "                   Objective-C              3.818448  -14.200803\n",
       "                   PHP                     16.287144   59.222485\n",
       "                   Perl                   -49.965515  -52.194210\n",
       "                   Python                 -62.885765  -54.120651\n",
       "                   R                      -64.095650  -70.321960\n",
       "                   Ruby                   -54.678226   46.488602\n",
       "                   Rust                   -45.166634  -79.596573\n",
       "                   SQL                     38.687172   68.195129\n",
       "                   Scala                  -54.078251  -14.016038\n",
       "                   Swift                    5.499137  -11.164112\n",
       "                   TypeScript              61.528950   66.099220\n",
       "                   VBA                    141.194031  -56.793919\n",
       "DatabaseWorkedWith Cassandra              -51.884468   -7.859834\n",
       "                   Couchbase              -49.273304   -3.133319\n",
       "                   DynamoDB               -62.487698   13.799306\n",
       "                   Elasticsearch          -53.939674   16.095337\n",
       "                   Firebase                 8.558473   16.678226\n",
       "                   IBM DB2                 40.978001   -8.778655\n",
       "                   MariaDB                 21.948359   62.048302\n",
       "                   Microsoft SQL Server   142.210831  -62.237209\n",
       "                   MongoDB                 36.215946  101.739708\n",
       "                   MySQL                   19.390596   55.380341\n",
       "                   Oracle                  37.411011   -4.801646\n",
       "                   PostgreSQL             -48.376057   22.574621\n",
       "                   Redis                  -52.464966   19.641420\n",
       "                   SQLite                  22.113550   49.635834\n",
       "WebframeWorkedWith ASP.NET                146.822769  -67.045723\n",
       "                   ASP.NET Core           133.224380  -75.548744\n",
       "                   Angular                 64.807442   64.179016\n",
       "                   Angular.js              69.754181   65.596733\n",
       "                   Django                 -65.648331  -49.137974\n",
       "                   Drupal                   9.848239   69.538368\n",
       "                   Express                 31.811121   99.195442\n",
       "                   Flask                  -67.766937  -54.126152\n",
       "                   Gatsby                  20.791519  105.013023\n",
       "                   Laravel                 11.633155   57.656425\n",
       "                   React.js                22.751286   99.153404\n",
       "                   Ruby on Rails          -52.942688   49.484516\n",
       "                   Spring                  35.751537    1.938730\n",
       "                   Symfony                 14.000314   65.417900\n",
       "                   Vue.js                   4.997565   55.924606\n",
       "                   jQuery                  30.552410   77.261536\n",
       "MiscTechWorkedWith .NET                   142.989502  -69.479172\n",
       "                   .NET Core              136.463074  -77.565063\n",
       "                   Ansible                -70.628441   19.344284\n",
       "                   Apache Spark           -56.464363  -18.461264\n",
       "                   Chef                   -80.963203   21.250784\n",
       "                   Cordova                 66.004715   58.152042\n",
       "                   Flutter                 11.252280   12.318170\n",
       "                   Hadoop                 -59.561333  -20.138857\n",
       "                   Keras                  -75.445396  -66.323715\n",
       "                   Node.js                 28.488697   97.489334\n",
       "                   Pandas                 -68.912498  -66.289070\n",
       "                   Puppet                 -83.485481   18.596760\n",
       "                   React Native            18.532988   96.202919\n",
       "                   TensorFlow             -75.108406  -69.897972\n",
       "                   Teraform               -66.995209   18.755295\n",
       "                   Torch/PyTorch          -79.666008  -72.380402\n",
       "                   Unity 3D                 6.171777  -77.705956\n",
       "                   Unreal Engine            2.691131  -77.293404\n",
       "                   Xamarin                141.232254  -82.225136"
      ]
     },
     "execution_count": 52,
     "metadata": {},
     "output_type": "execute_result"
    }
   ],
   "source": [
    "tsne_projection\n",
    "#X,Y Points "
   ]
  },
  {
   "cell_type": "code",
   "execution_count": 53,
   "id": "18ac7a6c",
   "metadata": {},
   "outputs": [
    {
     "data": {
      "application/vnd.plotly.v1+json": {
       "config": {
        "plotlyServerURL": "https://plot.ly"
       },
       "data": [
        {
         "hovertemplate": "x=%{x}<br>y=%{y}<br>text=%{text}<extra></extra>",
         "legendgroup": "",
         "marker": {
          "color": "#636efa",
          "symbol": "circle"
         },
         "mode": "markers+text",
         "name": "",
         "orientation": "v",
         "showlegend": false,
         "text": [
          "Assembly",
          "Bash/Shell/PowerShell",
          "C",
          "C#",
          "C++",
          "Dart",
          "Go",
          "HTML/CSS",
          "Haskell",
          "Java",
          "JavaScript",
          "Julia",
          "Kotlin",
          "Objective-C",
          "PHP",
          "Perl",
          "Python",
          "R",
          "Ruby",
          "Rust",
          "SQL",
          "Scala",
          "Swift",
          "TypeScript",
          "VBA",
          "Cassandra",
          "Couchbase",
          "DynamoDB",
          "Elasticsearch",
          "Firebase",
          "IBM DB2",
          "MariaDB",
          "Microsoft SQL Server",
          "MongoDB",
          "MySQL",
          "Oracle",
          "PostgreSQL",
          "Redis",
          "SQLite",
          "ASP.NET",
          "ASP.NET Core",
          "Angular",
          "Angular.js",
          "Django",
          "Drupal",
          "Express",
          "Flask",
          "Gatsby",
          "Laravel",
          "React.js",
          "Ruby on Rails",
          "Spring",
          "Symfony",
          "Vue.js",
          "jQuery",
          ".NET",
          ".NET Core",
          "Ansible",
          "Apache Spark",
          "Chef",
          "Cordova",
          "Flutter",
          "Hadoop",
          "Keras",
          "Node.js",
          "Pandas",
          "Puppet",
          "React Native",
          "TensorFlow",
          "Teraform",
          "Torch/PyTorch",
          "Unity 3D",
          "Unreal Engine",
          "Xamarin"
         ],
         "textposition": "top center",
         "type": "scatter",
         "x": [
          -30.76488494873047,
          -55.424171447753906,
          -25.896162033081055,
          142.4678955078125,
          -22.377166748046875,
          11.975963592529297,
          -60.37965393066406,
          37.40892028808594,
          -48.86396408081055,
          32.68968200683594,
          36.00776290893555,
          -56.30377960205078,
          26.78042984008789,
          3.8184475898742676,
          16.28714370727539,
          -49.96551513671875,
          -62.885765075683594,
          -64.09564971923828,
          -54.678226470947266,
          -45.16663360595703,
          38.687171936035156,
          -54.078250885009766,
          5.4991374015808105,
          61.52894973754883,
          141.19403076171875,
          -51.88446807861328,
          -49.2733039855957,
          -62.48769760131836,
          -53.939674377441406,
          8.558472633361816,
          40.97800064086914,
          21.9483585357666,
          142.21083068847656,
          36.215946197509766,
          19.390596389770508,
          37.4110107421875,
          -48.37605667114258,
          -52.4649658203125,
          22.113550186157227,
          146.82276916503906,
          133.22438049316406,
          64.80744171142578,
          69.75418090820312,
          -65.64833068847656,
          9.848238945007324,
          31.811120986938477,
          -67.76693725585938,
          20.791519165039062,
          11.63315486907959,
          22.751285552978516,
          -52.94268798828125,
          35.75153732299805,
          14.000313758850098,
          4.997565269470215,
          30.552410125732422,
          142.989501953125,
          136.46307373046875,
          -70.6284408569336,
          -56.46436309814453,
          -80.96320343017578,
          66.00471496582031,
          11.252280235290527,
          -59.56133270263672,
          -75.44539642333984,
          28.488697052001953,
          -68.9124984741211,
          -83.48548126220703,
          18.532987594604492,
          -75.10840606689453,
          -66.99520874023438,
          -79.66600799560547,
          6.17177677154541,
          2.6911306381225586,
          141.2322540283203
         ],
         "xaxis": "x",
         "y": [
          -65.31839752197266,
          -53.12562942504883,
          -64.86370849609375,
          -73.4166488647461,
          -65.25731658935547,
          8.92287826538086,
          23.93115234375,
          74.2812271118164,
          -78.37944030761719,
          0.023792045190930367,
          77.63065338134766,
          -76.17841339111328,
          0.8018205165863037,
          -14.20080280303955,
          59.22248458862305,
          -52.194210052490234,
          -54.12065124511719,
          -70.32196044921875,
          46.48860168457031,
          -79.59657287597656,
          68.19512939453125,
          -14.016037940979004,
          -11.164112091064453,
          66.0992202758789,
          -56.79391860961914,
          -7.859833717346191,
          -3.1333189010620117,
          13.79930591583252,
          16.0953369140625,
          16.678226470947266,
          -8.778655052185059,
          62.048301696777344,
          -62.23720932006836,
          101.73970794677734,
          55.380340576171875,
          -4.8016462326049805,
          22.574621200561523,
          19.641420364379883,
          49.635833740234375,
          -67.04572296142578,
          -75.54874420166016,
          64.17901611328125,
          65.59673309326172,
          -49.13797378540039,
          69.53836822509766,
          99.19544219970703,
          -54.12615203857422,
          105.01302337646484,
          57.65642547607422,
          99.15340423583984,
          49.48451614379883,
          1.9387295246124268,
          65.41790008544922,
          55.92460632324219,
          77.26153564453125,
          -69.47917175292969,
          -77.5650634765625,
          19.344284057617188,
          -18.46126365661621,
          21.250783920288086,
          58.152042388916016,
          12.318169593811035,
          -20.138856887817383,
          -66.32371520996094,
          97.48933410644531,
          -66.28907012939453,
          18.596759796142578,
          96.20291900634766,
          -69.8979721069336,
          18.755294799804688,
          -72.38040161132812,
          -77.7059555053711,
          -77.29340362548828,
          -82.22513580322266
         ],
         "yaxis": "y"
        }
       ],
       "layout": {
        "height": 1000,
        "legend": {
         "tracegroupgap": 0
        },
        "margin": {
         "t": 60
        },
        "template": {
         "data": {
          "bar": [
           {
            "error_x": {
             "color": "#2a3f5f"
            },
            "error_y": {
             "color": "#2a3f5f"
            },
            "marker": {
             "line": {
              "color": "#E5ECF6",
              "width": 0.5
             },
             "pattern": {
              "fillmode": "overlay",
              "size": 10,
              "solidity": 0.2
             }
            },
            "type": "bar"
           }
          ],
          "barpolar": [
           {
            "marker": {
             "line": {
              "color": "#E5ECF6",
              "width": 0.5
             },
             "pattern": {
              "fillmode": "overlay",
              "size": 10,
              "solidity": 0.2
             }
            },
            "type": "barpolar"
           }
          ],
          "carpet": [
           {
            "aaxis": {
             "endlinecolor": "#2a3f5f",
             "gridcolor": "white",
             "linecolor": "white",
             "minorgridcolor": "white",
             "startlinecolor": "#2a3f5f"
            },
            "baxis": {
             "endlinecolor": "#2a3f5f",
             "gridcolor": "white",
             "linecolor": "white",
             "minorgridcolor": "white",
             "startlinecolor": "#2a3f5f"
            },
            "type": "carpet"
           }
          ],
          "choropleth": [
           {
            "colorbar": {
             "outlinewidth": 0,
             "ticks": ""
            },
            "type": "choropleth"
           }
          ],
          "contour": [
           {
            "colorbar": {
             "outlinewidth": 0,
             "ticks": ""
            },
            "colorscale": [
             [
              0,
              "#0d0887"
             ],
             [
              0.1111111111111111,
              "#46039f"
             ],
             [
              0.2222222222222222,
              "#7201a8"
             ],
             [
              0.3333333333333333,
              "#9c179e"
             ],
             [
              0.4444444444444444,
              "#bd3786"
             ],
             [
              0.5555555555555556,
              "#d8576b"
             ],
             [
              0.6666666666666666,
              "#ed7953"
             ],
             [
              0.7777777777777778,
              "#fb9f3a"
             ],
             [
              0.8888888888888888,
              "#fdca26"
             ],
             [
              1,
              "#f0f921"
             ]
            ],
            "type": "contour"
           }
          ],
          "contourcarpet": [
           {
            "colorbar": {
             "outlinewidth": 0,
             "ticks": ""
            },
            "type": "contourcarpet"
           }
          ],
          "heatmap": [
           {
            "colorbar": {
             "outlinewidth": 0,
             "ticks": ""
            },
            "colorscale": [
             [
              0,
              "#0d0887"
             ],
             [
              0.1111111111111111,
              "#46039f"
             ],
             [
              0.2222222222222222,
              "#7201a8"
             ],
             [
              0.3333333333333333,
              "#9c179e"
             ],
             [
              0.4444444444444444,
              "#bd3786"
             ],
             [
              0.5555555555555556,
              "#d8576b"
             ],
             [
              0.6666666666666666,
              "#ed7953"
             ],
             [
              0.7777777777777778,
              "#fb9f3a"
             ],
             [
              0.8888888888888888,
              "#fdca26"
             ],
             [
              1,
              "#f0f921"
             ]
            ],
            "type": "heatmap"
           }
          ],
          "heatmapgl": [
           {
            "colorbar": {
             "outlinewidth": 0,
             "ticks": ""
            },
            "colorscale": [
             [
              0,
              "#0d0887"
             ],
             [
              0.1111111111111111,
              "#46039f"
             ],
             [
              0.2222222222222222,
              "#7201a8"
             ],
             [
              0.3333333333333333,
              "#9c179e"
             ],
             [
              0.4444444444444444,
              "#bd3786"
             ],
             [
              0.5555555555555556,
              "#d8576b"
             ],
             [
              0.6666666666666666,
              "#ed7953"
             ],
             [
              0.7777777777777778,
              "#fb9f3a"
             ],
             [
              0.8888888888888888,
              "#fdca26"
             ],
             [
              1,
              "#f0f921"
             ]
            ],
            "type": "heatmapgl"
           }
          ],
          "histogram": [
           {
            "marker": {
             "pattern": {
              "fillmode": "overlay",
              "size": 10,
              "solidity": 0.2
             }
            },
            "type": "histogram"
           }
          ],
          "histogram2d": [
           {
            "colorbar": {
             "outlinewidth": 0,
             "ticks": ""
            },
            "colorscale": [
             [
              0,
              "#0d0887"
             ],
             [
              0.1111111111111111,
              "#46039f"
             ],
             [
              0.2222222222222222,
              "#7201a8"
             ],
             [
              0.3333333333333333,
              "#9c179e"
             ],
             [
              0.4444444444444444,
              "#bd3786"
             ],
             [
              0.5555555555555556,
              "#d8576b"
             ],
             [
              0.6666666666666666,
              "#ed7953"
             ],
             [
              0.7777777777777778,
              "#fb9f3a"
             ],
             [
              0.8888888888888888,
              "#fdca26"
             ],
             [
              1,
              "#f0f921"
             ]
            ],
            "type": "histogram2d"
           }
          ],
          "histogram2dcontour": [
           {
            "colorbar": {
             "outlinewidth": 0,
             "ticks": ""
            },
            "colorscale": [
             [
              0,
              "#0d0887"
             ],
             [
              0.1111111111111111,
              "#46039f"
             ],
             [
              0.2222222222222222,
              "#7201a8"
             ],
             [
              0.3333333333333333,
              "#9c179e"
             ],
             [
              0.4444444444444444,
              "#bd3786"
             ],
             [
              0.5555555555555556,
              "#d8576b"
             ],
             [
              0.6666666666666666,
              "#ed7953"
             ],
             [
              0.7777777777777778,
              "#fb9f3a"
             ],
             [
              0.8888888888888888,
              "#fdca26"
             ],
             [
              1,
              "#f0f921"
             ]
            ],
            "type": "histogram2dcontour"
           }
          ],
          "mesh3d": [
           {
            "colorbar": {
             "outlinewidth": 0,
             "ticks": ""
            },
            "type": "mesh3d"
           }
          ],
          "parcoords": [
           {
            "line": {
             "colorbar": {
              "outlinewidth": 0,
              "ticks": ""
             }
            },
            "type": "parcoords"
           }
          ],
          "pie": [
           {
            "automargin": true,
            "type": "pie"
           }
          ],
          "scatter": [
           {
            "fillpattern": {
             "fillmode": "overlay",
             "size": 10,
             "solidity": 0.2
            },
            "type": "scatter"
           }
          ],
          "scatter3d": [
           {
            "line": {
             "colorbar": {
              "outlinewidth": 0,
              "ticks": ""
             }
            },
            "marker": {
             "colorbar": {
              "outlinewidth": 0,
              "ticks": ""
             }
            },
            "type": "scatter3d"
           }
          ],
          "scattercarpet": [
           {
            "marker": {
             "colorbar": {
              "outlinewidth": 0,
              "ticks": ""
             }
            },
            "type": "scattercarpet"
           }
          ],
          "scattergeo": [
           {
            "marker": {
             "colorbar": {
              "outlinewidth": 0,
              "ticks": ""
             }
            },
            "type": "scattergeo"
           }
          ],
          "scattergl": [
           {
            "marker": {
             "colorbar": {
              "outlinewidth": 0,
              "ticks": ""
             }
            },
            "type": "scattergl"
           }
          ],
          "scattermapbox": [
           {
            "marker": {
             "colorbar": {
              "outlinewidth": 0,
              "ticks": ""
             }
            },
            "type": "scattermapbox"
           }
          ],
          "scatterpolar": [
           {
            "marker": {
             "colorbar": {
              "outlinewidth": 0,
              "ticks": ""
             }
            },
            "type": "scatterpolar"
           }
          ],
          "scatterpolargl": [
           {
            "marker": {
             "colorbar": {
              "outlinewidth": 0,
              "ticks": ""
             }
            },
            "type": "scatterpolargl"
           }
          ],
          "scatterternary": [
           {
            "marker": {
             "colorbar": {
              "outlinewidth": 0,
              "ticks": ""
             }
            },
            "type": "scatterternary"
           }
          ],
          "surface": [
           {
            "colorbar": {
             "outlinewidth": 0,
             "ticks": ""
            },
            "colorscale": [
             [
              0,
              "#0d0887"
             ],
             [
              0.1111111111111111,
              "#46039f"
             ],
             [
              0.2222222222222222,
              "#7201a8"
             ],
             [
              0.3333333333333333,
              "#9c179e"
             ],
             [
              0.4444444444444444,
              "#bd3786"
             ],
             [
              0.5555555555555556,
              "#d8576b"
             ],
             [
              0.6666666666666666,
              "#ed7953"
             ],
             [
              0.7777777777777778,
              "#fb9f3a"
             ],
             [
              0.8888888888888888,
              "#fdca26"
             ],
             [
              1,
              "#f0f921"
             ]
            ],
            "type": "surface"
           }
          ],
          "table": [
           {
            "cells": {
             "fill": {
              "color": "#EBF0F8"
             },
             "line": {
              "color": "white"
             }
            },
            "header": {
             "fill": {
              "color": "#C8D4E3"
             },
             "line": {
              "color": "white"
             }
            },
            "type": "table"
           }
          ]
         },
         "layout": {
          "annotationdefaults": {
           "arrowcolor": "#2a3f5f",
           "arrowhead": 0,
           "arrowwidth": 1
          },
          "autotypenumbers": "strict",
          "coloraxis": {
           "colorbar": {
            "outlinewidth": 0,
            "ticks": ""
           }
          },
          "colorscale": {
           "diverging": [
            [
             0,
             "#8e0152"
            ],
            [
             0.1,
             "#c51b7d"
            ],
            [
             0.2,
             "#de77ae"
            ],
            [
             0.3,
             "#f1b6da"
            ],
            [
             0.4,
             "#fde0ef"
            ],
            [
             0.5,
             "#f7f7f7"
            ],
            [
             0.6,
             "#e6f5d0"
            ],
            [
             0.7,
             "#b8e186"
            ],
            [
             0.8,
             "#7fbc41"
            ],
            [
             0.9,
             "#4d9221"
            ],
            [
             1,
             "#276419"
            ]
           ],
           "sequential": [
            [
             0,
             "#0d0887"
            ],
            [
             0.1111111111111111,
             "#46039f"
            ],
            [
             0.2222222222222222,
             "#7201a8"
            ],
            [
             0.3333333333333333,
             "#9c179e"
            ],
            [
             0.4444444444444444,
             "#bd3786"
            ],
            [
             0.5555555555555556,
             "#d8576b"
            ],
            [
             0.6666666666666666,
             "#ed7953"
            ],
            [
             0.7777777777777778,
             "#fb9f3a"
            ],
            [
             0.8888888888888888,
             "#fdca26"
            ],
            [
             1,
             "#f0f921"
            ]
           ],
           "sequentialminus": [
            [
             0,
             "#0d0887"
            ],
            [
             0.1111111111111111,
             "#46039f"
            ],
            [
             0.2222222222222222,
             "#7201a8"
            ],
            [
             0.3333333333333333,
             "#9c179e"
            ],
            [
             0.4444444444444444,
             "#bd3786"
            ],
            [
             0.5555555555555556,
             "#d8576b"
            ],
            [
             0.6666666666666666,
             "#ed7953"
            ],
            [
             0.7777777777777778,
             "#fb9f3a"
            ],
            [
             0.8888888888888888,
             "#fdca26"
            ],
            [
             1,
             "#f0f921"
            ]
           ]
          },
          "colorway": [
           "#636efa",
           "#EF553B",
           "#00cc96",
           "#ab63fa",
           "#FFA15A",
           "#19d3f3",
           "#FF6692",
           "#B6E880",
           "#FF97FF",
           "#FECB52"
          ],
          "font": {
           "color": "#2a3f5f"
          },
          "geo": {
           "bgcolor": "white",
           "lakecolor": "white",
           "landcolor": "#E5ECF6",
           "showlakes": true,
           "showland": true,
           "subunitcolor": "white"
          },
          "hoverlabel": {
           "align": "left"
          },
          "hovermode": "closest",
          "mapbox": {
           "style": "light"
          },
          "paper_bgcolor": "white",
          "plot_bgcolor": "#E5ECF6",
          "polar": {
           "angularaxis": {
            "gridcolor": "white",
            "linecolor": "white",
            "ticks": ""
           },
           "bgcolor": "#E5ECF6",
           "radialaxis": {
            "gridcolor": "white",
            "linecolor": "white",
            "ticks": ""
           }
          },
          "scene": {
           "xaxis": {
            "backgroundcolor": "#E5ECF6",
            "gridcolor": "white",
            "gridwidth": 2,
            "linecolor": "white",
            "showbackground": true,
            "ticks": "",
            "zerolinecolor": "white"
           },
           "yaxis": {
            "backgroundcolor": "#E5ECF6",
            "gridcolor": "white",
            "gridwidth": 2,
            "linecolor": "white",
            "showbackground": true,
            "ticks": "",
            "zerolinecolor": "white"
           },
           "zaxis": {
            "backgroundcolor": "#E5ECF6",
            "gridcolor": "white",
            "gridwidth": 2,
            "linecolor": "white",
            "showbackground": true,
            "ticks": "",
            "zerolinecolor": "white"
           }
          },
          "shapedefaults": {
           "line": {
            "color": "#2a3f5f"
           }
          },
          "ternary": {
           "aaxis": {
            "gridcolor": "white",
            "linecolor": "white",
            "ticks": ""
           },
           "baxis": {
            "gridcolor": "white",
            "linecolor": "white",
            "ticks": ""
           },
           "bgcolor": "#E5ECF6",
           "caxis": {
            "gridcolor": "white",
            "linecolor": "white",
            "ticks": ""
           }
          },
          "title": {
           "x": 0.05
          },
          "xaxis": {
           "automargin": true,
           "gridcolor": "white",
           "linecolor": "white",
           "ticks": "",
           "title": {
            "standoff": 15
           },
           "zerolinecolor": "white",
           "zerolinewidth": 2
          },
          "yaxis": {
           "automargin": true,
           "gridcolor": "white",
           "linecolor": "white",
           "ticks": "",
           "title": {
            "standoff": 15
           },
           "zerolinecolor": "white",
           "zerolinewidth": 2
          }
         }
        },
        "title": {
         "text": "TSNE"
        },
        "width": 1000,
        "xaxis": {
         "anchor": "y",
         "domain": [
          0,
          1
         ],
         "title": {
          "text": "x"
         }
        },
        "yaxis": {
         "anchor": "x",
         "domain": [
          0,
          1
         ],
         "title": {
          "text": "y"
         }
        }
       }
      },
      "text/html": [
       "<div>                            <div id=\"0d97d00b-6d29-43ea-be01-6f8677f83806\" class=\"plotly-graph-div\" style=\"height:1000px; width:1000px;\"></div>            <script type=\"text/javascript\">                require([\"plotly\"], function(Plotly) {                    window.PLOTLYENV=window.PLOTLYENV || {};                                    if (document.getElementById(\"0d97d00b-6d29-43ea-be01-6f8677f83806\")) {                    Plotly.newPlot(                        \"0d97d00b-6d29-43ea-be01-6f8677f83806\",                        [{\"hovertemplate\":\"x=%{x}<br>y=%{y}<br>text=%{text}<extra></extra>\",\"legendgroup\":\"\",\"marker\":{\"color\":\"#636efa\",\"symbol\":\"circle\"},\"mode\":\"markers+text\",\"name\":\"\",\"orientation\":\"v\",\"showlegend\":false,\"text\":[\"Assembly\",\"Bash/Shell/PowerShell\",\"C\",\"C#\",\"C++\",\"Dart\",\"Go\",\"HTML/CSS\",\"Haskell\",\"Java\",\"JavaScript\",\"Julia\",\"Kotlin\",\"Objective-C\",\"PHP\",\"Perl\",\"Python\",\"R\",\"Ruby\",\"Rust\",\"SQL\",\"Scala\",\"Swift\",\"TypeScript\",\"VBA\",\"Cassandra\",\"Couchbase\",\"DynamoDB\",\"Elasticsearch\",\"Firebase\",\"IBM DB2\",\"MariaDB\",\"Microsoft SQL Server\",\"MongoDB\",\"MySQL\",\"Oracle\",\"PostgreSQL\",\"Redis\",\"SQLite\",\"ASP.NET\",\"ASP.NET Core\",\"Angular\",\"Angular.js\",\"Django\",\"Drupal\",\"Express\",\"Flask\",\"Gatsby\",\"Laravel\",\"React.js\",\"Ruby on Rails\",\"Spring\",\"Symfony\",\"Vue.js\",\"jQuery\",\".NET\",\".NET Core\",\"Ansible\",\"Apache Spark\",\"Chef\",\"Cordova\",\"Flutter\",\"Hadoop\",\"Keras\",\"Node.js\",\"Pandas\",\"Puppet\",\"React Native\",\"TensorFlow\",\"Teraform\",\"Torch/PyTorch\",\"Unity 3D\",\"Unreal Engine\",\"Xamarin\"],\"x\":[-30.76488494873047,-55.424171447753906,-25.896162033081055,142.4678955078125,-22.377166748046875,11.975963592529297,-60.37965393066406,37.40892028808594,-48.86396408081055,32.68968200683594,36.00776290893555,-56.30377960205078,26.78042984008789,3.8184475898742676,16.28714370727539,-49.96551513671875,-62.885765075683594,-64.09564971923828,-54.678226470947266,-45.16663360595703,38.687171936035156,-54.078250885009766,5.4991374015808105,61.52894973754883,141.19403076171875,-51.88446807861328,-49.2733039855957,-62.48769760131836,-53.939674377441406,8.558472633361816,40.97800064086914,21.9483585357666,142.21083068847656,36.215946197509766,19.390596389770508,37.4110107421875,-48.37605667114258,-52.4649658203125,22.113550186157227,146.82276916503906,133.22438049316406,64.80744171142578,69.75418090820312,-65.64833068847656,9.848238945007324,31.811120986938477,-67.76693725585938,20.791519165039062,11.63315486907959,22.751285552978516,-52.94268798828125,35.75153732299805,14.000313758850098,4.997565269470215,30.552410125732422,142.989501953125,136.46307373046875,-70.6284408569336,-56.46436309814453,-80.96320343017578,66.00471496582031,11.252280235290527,-59.56133270263672,-75.44539642333984,28.488697052001953,-68.9124984741211,-83.48548126220703,18.532987594604492,-75.10840606689453,-66.99520874023438,-79.66600799560547,6.17177677154541,2.6911306381225586,141.2322540283203],\"xaxis\":\"x\",\"y\":[-65.31839752197266,-53.12562942504883,-64.86370849609375,-73.4166488647461,-65.25731658935547,8.92287826538086,23.93115234375,74.2812271118164,-78.37944030761719,0.023792045190930367,77.63065338134766,-76.17841339111328,0.8018205165863037,-14.20080280303955,59.22248458862305,-52.194210052490234,-54.12065124511719,-70.32196044921875,46.48860168457031,-79.59657287597656,68.19512939453125,-14.016037940979004,-11.164112091064453,66.0992202758789,-56.79391860961914,-7.859833717346191,-3.1333189010620117,13.79930591583252,16.0953369140625,16.678226470947266,-8.778655052185059,62.048301696777344,-62.23720932006836,101.73970794677734,55.380340576171875,-4.8016462326049805,22.574621200561523,19.641420364379883,49.635833740234375,-67.04572296142578,-75.54874420166016,64.17901611328125,65.59673309326172,-49.13797378540039,69.53836822509766,99.19544219970703,-54.12615203857422,105.01302337646484,57.65642547607422,99.15340423583984,49.48451614379883,1.9387295246124268,65.41790008544922,55.92460632324219,77.26153564453125,-69.47917175292969,-77.5650634765625,19.344284057617188,-18.46126365661621,21.250783920288086,58.152042388916016,12.318169593811035,-20.138856887817383,-66.32371520996094,97.48933410644531,-66.28907012939453,18.596759796142578,96.20291900634766,-69.8979721069336,18.755294799804688,-72.38040161132812,-77.7059555053711,-77.29340362548828,-82.22513580322266],\"yaxis\":\"y\",\"type\":\"scatter\",\"textposition\":\"top center\"}],                        {\"template\":{\"data\":{\"histogram2dcontour\":[{\"type\":\"histogram2dcontour\",\"colorbar\":{\"outlinewidth\":0,\"ticks\":\"\"},\"colorscale\":[[0.0,\"#0d0887\"],[0.1111111111111111,\"#46039f\"],[0.2222222222222222,\"#7201a8\"],[0.3333333333333333,\"#9c179e\"],[0.4444444444444444,\"#bd3786\"],[0.5555555555555556,\"#d8576b\"],[0.6666666666666666,\"#ed7953\"],[0.7777777777777778,\"#fb9f3a\"],[0.8888888888888888,\"#fdca26\"],[1.0,\"#f0f921\"]]}],\"choropleth\":[{\"type\":\"choropleth\",\"colorbar\":{\"outlinewidth\":0,\"ticks\":\"\"}}],\"histogram2d\":[{\"type\":\"histogram2d\",\"colorbar\":{\"outlinewidth\":0,\"ticks\":\"\"},\"colorscale\":[[0.0,\"#0d0887\"],[0.1111111111111111,\"#46039f\"],[0.2222222222222222,\"#7201a8\"],[0.3333333333333333,\"#9c179e\"],[0.4444444444444444,\"#bd3786\"],[0.5555555555555556,\"#d8576b\"],[0.6666666666666666,\"#ed7953\"],[0.7777777777777778,\"#fb9f3a\"],[0.8888888888888888,\"#fdca26\"],[1.0,\"#f0f921\"]]}],\"heatmap\":[{\"type\":\"heatmap\",\"colorbar\":{\"outlinewidth\":0,\"ticks\":\"\"},\"colorscale\":[[0.0,\"#0d0887\"],[0.1111111111111111,\"#46039f\"],[0.2222222222222222,\"#7201a8\"],[0.3333333333333333,\"#9c179e\"],[0.4444444444444444,\"#bd3786\"],[0.5555555555555556,\"#d8576b\"],[0.6666666666666666,\"#ed7953\"],[0.7777777777777778,\"#fb9f3a\"],[0.8888888888888888,\"#fdca26\"],[1.0,\"#f0f921\"]]}],\"heatmapgl\":[{\"type\":\"heatmapgl\",\"colorbar\":{\"outlinewidth\":0,\"ticks\":\"\"},\"colorscale\":[[0.0,\"#0d0887\"],[0.1111111111111111,\"#46039f\"],[0.2222222222222222,\"#7201a8\"],[0.3333333333333333,\"#9c179e\"],[0.4444444444444444,\"#bd3786\"],[0.5555555555555556,\"#d8576b\"],[0.6666666666666666,\"#ed7953\"],[0.7777777777777778,\"#fb9f3a\"],[0.8888888888888888,\"#fdca26\"],[1.0,\"#f0f921\"]]}],\"contourcarpet\":[{\"type\":\"contourcarpet\",\"colorbar\":{\"outlinewidth\":0,\"ticks\":\"\"}}],\"contour\":[{\"type\":\"contour\",\"colorbar\":{\"outlinewidth\":0,\"ticks\":\"\"},\"colorscale\":[[0.0,\"#0d0887\"],[0.1111111111111111,\"#46039f\"],[0.2222222222222222,\"#7201a8\"],[0.3333333333333333,\"#9c179e\"],[0.4444444444444444,\"#bd3786\"],[0.5555555555555556,\"#d8576b\"],[0.6666666666666666,\"#ed7953\"],[0.7777777777777778,\"#fb9f3a\"],[0.8888888888888888,\"#fdca26\"],[1.0,\"#f0f921\"]]}],\"surface\":[{\"type\":\"surface\",\"colorbar\":{\"outlinewidth\":0,\"ticks\":\"\"},\"colorscale\":[[0.0,\"#0d0887\"],[0.1111111111111111,\"#46039f\"],[0.2222222222222222,\"#7201a8\"],[0.3333333333333333,\"#9c179e\"],[0.4444444444444444,\"#bd3786\"],[0.5555555555555556,\"#d8576b\"],[0.6666666666666666,\"#ed7953\"],[0.7777777777777778,\"#fb9f3a\"],[0.8888888888888888,\"#fdca26\"],[1.0,\"#f0f921\"]]}],\"mesh3d\":[{\"type\":\"mesh3d\",\"colorbar\":{\"outlinewidth\":0,\"ticks\":\"\"}}],\"scatter\":[{\"fillpattern\":{\"fillmode\":\"overlay\",\"size\":10,\"solidity\":0.2},\"type\":\"scatter\"}],\"parcoords\":[{\"type\":\"parcoords\",\"line\":{\"colorbar\":{\"outlinewidth\":0,\"ticks\":\"\"}}}],\"scatterpolargl\":[{\"type\":\"scatterpolargl\",\"marker\":{\"colorbar\":{\"outlinewidth\":0,\"ticks\":\"\"}}}],\"bar\":[{\"error_x\":{\"color\":\"#2a3f5f\"},\"error_y\":{\"color\":\"#2a3f5f\"},\"marker\":{\"line\":{\"color\":\"#E5ECF6\",\"width\":0.5},\"pattern\":{\"fillmode\":\"overlay\",\"size\":10,\"solidity\":0.2}},\"type\":\"bar\"}],\"scattergeo\":[{\"type\":\"scattergeo\",\"marker\":{\"colorbar\":{\"outlinewidth\":0,\"ticks\":\"\"}}}],\"scatterpolar\":[{\"type\":\"scatterpolar\",\"marker\":{\"colorbar\":{\"outlinewidth\":0,\"ticks\":\"\"}}}],\"histogram\":[{\"marker\":{\"pattern\":{\"fillmode\":\"overlay\",\"size\":10,\"solidity\":0.2}},\"type\":\"histogram\"}],\"scattergl\":[{\"type\":\"scattergl\",\"marker\":{\"colorbar\":{\"outlinewidth\":0,\"ticks\":\"\"}}}],\"scatter3d\":[{\"type\":\"scatter3d\",\"line\":{\"colorbar\":{\"outlinewidth\":0,\"ticks\":\"\"}},\"marker\":{\"colorbar\":{\"outlinewidth\":0,\"ticks\":\"\"}}}],\"scattermapbox\":[{\"type\":\"scattermapbox\",\"marker\":{\"colorbar\":{\"outlinewidth\":0,\"ticks\":\"\"}}}],\"scatterternary\":[{\"type\":\"scatterternary\",\"marker\":{\"colorbar\":{\"outlinewidth\":0,\"ticks\":\"\"}}}],\"scattercarpet\":[{\"type\":\"scattercarpet\",\"marker\":{\"colorbar\":{\"outlinewidth\":0,\"ticks\":\"\"}}}],\"carpet\":[{\"aaxis\":{\"endlinecolor\":\"#2a3f5f\",\"gridcolor\":\"white\",\"linecolor\":\"white\",\"minorgridcolor\":\"white\",\"startlinecolor\":\"#2a3f5f\"},\"baxis\":{\"endlinecolor\":\"#2a3f5f\",\"gridcolor\":\"white\",\"linecolor\":\"white\",\"minorgridcolor\":\"white\",\"startlinecolor\":\"#2a3f5f\"},\"type\":\"carpet\"}],\"table\":[{\"cells\":{\"fill\":{\"color\":\"#EBF0F8\"},\"line\":{\"color\":\"white\"}},\"header\":{\"fill\":{\"color\":\"#C8D4E3\"},\"line\":{\"color\":\"white\"}},\"type\":\"table\"}],\"barpolar\":[{\"marker\":{\"line\":{\"color\":\"#E5ECF6\",\"width\":0.5},\"pattern\":{\"fillmode\":\"overlay\",\"size\":10,\"solidity\":0.2}},\"type\":\"barpolar\"}],\"pie\":[{\"automargin\":true,\"type\":\"pie\"}]},\"layout\":{\"autotypenumbers\":\"strict\",\"colorway\":[\"#636efa\",\"#EF553B\",\"#00cc96\",\"#ab63fa\",\"#FFA15A\",\"#19d3f3\",\"#FF6692\",\"#B6E880\",\"#FF97FF\",\"#FECB52\"],\"font\":{\"color\":\"#2a3f5f\"},\"hovermode\":\"closest\",\"hoverlabel\":{\"align\":\"left\"},\"paper_bgcolor\":\"white\",\"plot_bgcolor\":\"#E5ECF6\",\"polar\":{\"bgcolor\":\"#E5ECF6\",\"angularaxis\":{\"gridcolor\":\"white\",\"linecolor\":\"white\",\"ticks\":\"\"},\"radialaxis\":{\"gridcolor\":\"white\",\"linecolor\":\"white\",\"ticks\":\"\"}},\"ternary\":{\"bgcolor\":\"#E5ECF6\",\"aaxis\":{\"gridcolor\":\"white\",\"linecolor\":\"white\",\"ticks\":\"\"},\"baxis\":{\"gridcolor\":\"white\",\"linecolor\":\"white\",\"ticks\":\"\"},\"caxis\":{\"gridcolor\":\"white\",\"linecolor\":\"white\",\"ticks\":\"\"}},\"coloraxis\":{\"colorbar\":{\"outlinewidth\":0,\"ticks\":\"\"}},\"colorscale\":{\"sequential\":[[0.0,\"#0d0887\"],[0.1111111111111111,\"#46039f\"],[0.2222222222222222,\"#7201a8\"],[0.3333333333333333,\"#9c179e\"],[0.4444444444444444,\"#bd3786\"],[0.5555555555555556,\"#d8576b\"],[0.6666666666666666,\"#ed7953\"],[0.7777777777777778,\"#fb9f3a\"],[0.8888888888888888,\"#fdca26\"],[1.0,\"#f0f921\"]],\"sequentialminus\":[[0.0,\"#0d0887\"],[0.1111111111111111,\"#46039f\"],[0.2222222222222222,\"#7201a8\"],[0.3333333333333333,\"#9c179e\"],[0.4444444444444444,\"#bd3786\"],[0.5555555555555556,\"#d8576b\"],[0.6666666666666666,\"#ed7953\"],[0.7777777777777778,\"#fb9f3a\"],[0.8888888888888888,\"#fdca26\"],[1.0,\"#f0f921\"]],\"diverging\":[[0,\"#8e0152\"],[0.1,\"#c51b7d\"],[0.2,\"#de77ae\"],[0.3,\"#f1b6da\"],[0.4,\"#fde0ef\"],[0.5,\"#f7f7f7\"],[0.6,\"#e6f5d0\"],[0.7,\"#b8e186\"],[0.8,\"#7fbc41\"],[0.9,\"#4d9221\"],[1,\"#276419\"]]},\"xaxis\":{\"gridcolor\":\"white\",\"linecolor\":\"white\",\"ticks\":\"\",\"title\":{\"standoff\":15},\"zerolinecolor\":\"white\",\"automargin\":true,\"zerolinewidth\":2},\"yaxis\":{\"gridcolor\":\"white\",\"linecolor\":\"white\",\"ticks\":\"\",\"title\":{\"standoff\":15},\"zerolinecolor\":\"white\",\"automargin\":true,\"zerolinewidth\":2},\"scene\":{\"xaxis\":{\"backgroundcolor\":\"#E5ECF6\",\"gridcolor\":\"white\",\"linecolor\":\"white\",\"showbackground\":true,\"ticks\":\"\",\"zerolinecolor\":\"white\",\"gridwidth\":2},\"yaxis\":{\"backgroundcolor\":\"#E5ECF6\",\"gridcolor\":\"white\",\"linecolor\":\"white\",\"showbackground\":true,\"ticks\":\"\",\"zerolinecolor\":\"white\",\"gridwidth\":2},\"zaxis\":{\"backgroundcolor\":\"#E5ECF6\",\"gridcolor\":\"white\",\"linecolor\":\"white\",\"showbackground\":true,\"ticks\":\"\",\"zerolinecolor\":\"white\",\"gridwidth\":2}},\"shapedefaults\":{\"line\":{\"color\":\"#2a3f5f\"}},\"annotationdefaults\":{\"arrowcolor\":\"#2a3f5f\",\"arrowhead\":0,\"arrowwidth\":1},\"geo\":{\"bgcolor\":\"white\",\"landcolor\":\"#E5ECF6\",\"subunitcolor\":\"white\",\"showland\":true,\"showlakes\":true,\"lakecolor\":\"white\"},\"title\":{\"x\":0.05},\"mapbox\":{\"style\":\"light\"}}},\"xaxis\":{\"anchor\":\"y\",\"domain\":[0.0,1.0],\"title\":{\"text\":\"x\"}},\"yaxis\":{\"anchor\":\"x\",\"domain\":[0.0,1.0],\"title\":{\"text\":\"y\"}},\"legend\":{\"tracegroupgap\":0},\"margin\":{\"t\":60},\"title\":{\"text\":\"TSNE\"},\"height\":1000,\"width\":1000},                        {\"responsive\": true}                    ).then(function(){\n",
       "                            \n",
       "var gd = document.getElementById('0d97d00b-6d29-43ea-be01-6f8677f83806');\n",
       "var x = new MutationObserver(function (mutations, observer) {{\n",
       "        var display = window.getComputedStyle(gd).display;\n",
       "        if (!display || display === 'none') {{\n",
       "            console.log([gd, 'removed!']);\n",
       "            Plotly.purge(gd);\n",
       "            observer.disconnect();\n",
       "        }}\n",
       "}});\n",
       "\n",
       "// Listen for the removal of the full notebook cells\n",
       "var notebookContainer = gd.closest('#notebook-container');\n",
       "if (notebookContainer) {{\n",
       "    x.observe(notebookContainer, {childList: true});\n",
       "}}\n",
       "\n",
       "// Listen for the clearing of the current output cell\n",
       "var outputEl = gd.closest('.output');\n",
       "if (outputEl) {{\n",
       "    x.observe(outputEl, {childList: true});\n",
       "}}\n",
       "\n",
       "                        })                };                });            </script>        </div>"
      ]
     },
     "metadata": {},
     "output_type": "display_data"
    }
   ],
   "source": [
    "fig = px.scatter(x=tsne_projection[0], y=tsne_projection[1], text=tsne_projection.droplevel(0).index)\n",
    "fig.update_traces(textposition='top center')\n",
    "fig.update_layout(height=1000, width=1000, title_text='TSNE')\n",
    "fig.show()\n"
   ]
  },
  {
   "cell_type": "markdown",
   "id": "153bbf42",
   "metadata": {},
   "source": [
    "# Saving Data for Next Notebook"
   ]
  },
  {
   "cell_type": "code",
   "execution_count": 57,
   "id": "4cf2020c",
   "metadata": {},
   "outputs": [
    {
     "data": {
      "text/html": [
       "<div>\n",
       "<style scoped>\n",
       "    .dataframe tbody tr th:only-of-type {\n",
       "        vertical-align: middle;\n",
       "    }\n",
       "\n",
       "    .dataframe tbody tr th {\n",
       "        vertical-align: top;\n",
       "    }\n",
       "\n",
       "    .dataframe thead tr th {\n",
       "        text-align: left;\n",
       "    }\n",
       "</style>\n",
       "<table border=\"1\" class=\"dataframe\">\n",
       "  <thead>\n",
       "    <tr>\n",
       "      <th></th>\n",
       "      <th colspan=\"10\" halign=\"left\">LanguageWorkedWith</th>\n",
       "      <th>...</th>\n",
       "      <th colspan=\"10\" halign=\"left\">MiscTechWorkedWith</th>\n",
       "    </tr>\n",
       "    <tr>\n",
       "      <th></th>\n",
       "      <th>Assembly</th>\n",
       "      <th>Bash/Shell/PowerShell</th>\n",
       "      <th>C</th>\n",
       "      <th>C#</th>\n",
       "      <th>C++</th>\n",
       "      <th>Dart</th>\n",
       "      <th>Go</th>\n",
       "      <th>HTML/CSS</th>\n",
       "      <th>Haskell</th>\n",
       "      <th>Java</th>\n",
       "      <th>...</th>\n",
       "      <th>Node.js</th>\n",
       "      <th>Pandas</th>\n",
       "      <th>Puppet</th>\n",
       "      <th>React Native</th>\n",
       "      <th>TensorFlow</th>\n",
       "      <th>Teraform</th>\n",
       "      <th>Torch/PyTorch</th>\n",
       "      <th>Unity 3D</th>\n",
       "      <th>Unreal Engine</th>\n",
       "      <th>Xamarin</th>\n",
       "    </tr>\n",
       "  </thead>\n",
       "  <tbody>\n",
       "    <tr>\n",
       "      <th>0</th>\n",
       "      <td>0</td>\n",
       "      <td>0</td>\n",
       "      <td>0</td>\n",
       "      <td>1</td>\n",
       "      <td>0</td>\n",
       "      <td>0</td>\n",
       "      <td>0</td>\n",
       "      <td>1</td>\n",
       "      <td>0</td>\n",
       "      <td>0</td>\n",
       "      <td>...</td>\n",
       "      <td>0</td>\n",
       "      <td>0</td>\n",
       "      <td>0</td>\n",
       "      <td>0</td>\n",
       "      <td>0</td>\n",
       "      <td>0</td>\n",
       "      <td>0</td>\n",
       "      <td>0</td>\n",
       "      <td>0</td>\n",
       "      <td>0</td>\n",
       "    </tr>\n",
       "    <tr>\n",
       "      <th>1</th>\n",
       "      <td>0</td>\n",
       "      <td>0</td>\n",
       "      <td>0</td>\n",
       "      <td>0</td>\n",
       "      <td>0</td>\n",
       "      <td>0</td>\n",
       "      <td>0</td>\n",
       "      <td>0</td>\n",
       "      <td>0</td>\n",
       "      <td>0</td>\n",
       "      <td>...</td>\n",
       "      <td>0</td>\n",
       "      <td>0</td>\n",
       "      <td>0</td>\n",
       "      <td>1</td>\n",
       "      <td>0</td>\n",
       "      <td>0</td>\n",
       "      <td>0</td>\n",
       "      <td>0</td>\n",
       "      <td>0</td>\n",
       "      <td>0</td>\n",
       "    </tr>\n",
       "    <tr>\n",
       "      <th>2</th>\n",
       "      <td>0</td>\n",
       "      <td>0</td>\n",
       "      <td>0</td>\n",
       "      <td>0</td>\n",
       "      <td>0</td>\n",
       "      <td>0</td>\n",
       "      <td>0</td>\n",
       "      <td>0</td>\n",
       "      <td>0</td>\n",
       "      <td>0</td>\n",
       "      <td>...</td>\n",
       "      <td>0</td>\n",
       "      <td>0</td>\n",
       "      <td>0</td>\n",
       "      <td>0</td>\n",
       "      <td>0</td>\n",
       "      <td>0</td>\n",
       "      <td>0</td>\n",
       "      <td>0</td>\n",
       "      <td>0</td>\n",
       "      <td>0</td>\n",
       "    </tr>\n",
       "    <tr>\n",
       "      <th>3</th>\n",
       "      <td>0</td>\n",
       "      <td>0</td>\n",
       "      <td>0</td>\n",
       "      <td>0</td>\n",
       "      <td>0</td>\n",
       "      <td>0</td>\n",
       "      <td>0</td>\n",
       "      <td>0</td>\n",
       "      <td>0</td>\n",
       "      <td>0</td>\n",
       "      <td>...</td>\n",
       "      <td>0</td>\n",
       "      <td>0</td>\n",
       "      <td>0</td>\n",
       "      <td>0</td>\n",
       "      <td>0</td>\n",
       "      <td>0</td>\n",
       "      <td>0</td>\n",
       "      <td>0</td>\n",
       "      <td>0</td>\n",
       "      <td>0</td>\n",
       "    </tr>\n",
       "    <tr>\n",
       "      <th>4</th>\n",
       "      <td>0</td>\n",
       "      <td>0</td>\n",
       "      <td>0</td>\n",
       "      <td>0</td>\n",
       "      <td>0</td>\n",
       "      <td>0</td>\n",
       "      <td>0</td>\n",
       "      <td>1</td>\n",
       "      <td>0</td>\n",
       "      <td>0</td>\n",
       "      <td>...</td>\n",
       "      <td>0</td>\n",
       "      <td>0</td>\n",
       "      <td>0</td>\n",
       "      <td>0</td>\n",
       "      <td>0</td>\n",
       "      <td>0</td>\n",
       "      <td>0</td>\n",
       "      <td>0</td>\n",
       "      <td>0</td>\n",
       "      <td>0</td>\n",
       "    </tr>\n",
       "    <tr>\n",
       "      <th>...</th>\n",
       "      <td>...</td>\n",
       "      <td>...</td>\n",
       "      <td>...</td>\n",
       "      <td>...</td>\n",
       "      <td>...</td>\n",
       "      <td>...</td>\n",
       "      <td>...</td>\n",
       "      <td>...</td>\n",
       "      <td>...</td>\n",
       "      <td>...</td>\n",
       "      <td>...</td>\n",
       "      <td>...</td>\n",
       "      <td>...</td>\n",
       "      <td>...</td>\n",
       "      <td>...</td>\n",
       "      <td>...</td>\n",
       "      <td>...</td>\n",
       "      <td>...</td>\n",
       "      <td>...</td>\n",
       "      <td>...</td>\n",
       "      <td>...</td>\n",
       "    </tr>\n",
       "    <tr>\n",
       "      <th>64456</th>\n",
       "      <td>0</td>\n",
       "      <td>0</td>\n",
       "      <td>0</td>\n",
       "      <td>0</td>\n",
       "      <td>0</td>\n",
       "      <td>0</td>\n",
       "      <td>0</td>\n",
       "      <td>0</td>\n",
       "      <td>0</td>\n",
       "      <td>0</td>\n",
       "      <td>...</td>\n",
       "      <td>0</td>\n",
       "      <td>0</td>\n",
       "      <td>0</td>\n",
       "      <td>0</td>\n",
       "      <td>0</td>\n",
       "      <td>0</td>\n",
       "      <td>0</td>\n",
       "      <td>0</td>\n",
       "      <td>0</td>\n",
       "      <td>0</td>\n",
       "    </tr>\n",
       "    <tr>\n",
       "      <th>64457</th>\n",
       "      <td>1</td>\n",
       "      <td>1</td>\n",
       "      <td>1</td>\n",
       "      <td>1</td>\n",
       "      <td>1</td>\n",
       "      <td>1</td>\n",
       "      <td>1</td>\n",
       "      <td>1</td>\n",
       "      <td>1</td>\n",
       "      <td>1</td>\n",
       "      <td>...</td>\n",
       "      <td>0</td>\n",
       "      <td>0</td>\n",
       "      <td>0</td>\n",
       "      <td>0</td>\n",
       "      <td>0</td>\n",
       "      <td>0</td>\n",
       "      <td>0</td>\n",
       "      <td>0</td>\n",
       "      <td>0</td>\n",
       "      <td>0</td>\n",
       "    </tr>\n",
       "    <tr>\n",
       "      <th>64458</th>\n",
       "      <td>0</td>\n",
       "      <td>0</td>\n",
       "      <td>0</td>\n",
       "      <td>0</td>\n",
       "      <td>0</td>\n",
       "      <td>0</td>\n",
       "      <td>0</td>\n",
       "      <td>0</td>\n",
       "      <td>0</td>\n",
       "      <td>0</td>\n",
       "      <td>...</td>\n",
       "      <td>0</td>\n",
       "      <td>0</td>\n",
       "      <td>0</td>\n",
       "      <td>0</td>\n",
       "      <td>0</td>\n",
       "      <td>0</td>\n",
       "      <td>0</td>\n",
       "      <td>0</td>\n",
       "      <td>0</td>\n",
       "      <td>0</td>\n",
       "    </tr>\n",
       "    <tr>\n",
       "      <th>64459</th>\n",
       "      <td>0</td>\n",
       "      <td>0</td>\n",
       "      <td>0</td>\n",
       "      <td>0</td>\n",
       "      <td>0</td>\n",
       "      <td>0</td>\n",
       "      <td>0</td>\n",
       "      <td>1</td>\n",
       "      <td>0</td>\n",
       "      <td>0</td>\n",
       "      <td>...</td>\n",
       "      <td>0</td>\n",
       "      <td>0</td>\n",
       "      <td>0</td>\n",
       "      <td>0</td>\n",
       "      <td>0</td>\n",
       "      <td>0</td>\n",
       "      <td>0</td>\n",
       "      <td>0</td>\n",
       "      <td>0</td>\n",
       "      <td>0</td>\n",
       "    </tr>\n",
       "    <tr>\n",
       "      <th>64460</th>\n",
       "      <td>0</td>\n",
       "      <td>0</td>\n",
       "      <td>0</td>\n",
       "      <td>1</td>\n",
       "      <td>0</td>\n",
       "      <td>0</td>\n",
       "      <td>0</td>\n",
       "      <td>1</td>\n",
       "      <td>0</td>\n",
       "      <td>1</td>\n",
       "      <td>...</td>\n",
       "      <td>0</td>\n",
       "      <td>0</td>\n",
       "      <td>0</td>\n",
       "      <td>0</td>\n",
       "      <td>0</td>\n",
       "      <td>0</td>\n",
       "      <td>0</td>\n",
       "      <td>0</td>\n",
       "      <td>0</td>\n",
       "      <td>0</td>\n",
       "    </tr>\n",
       "  </tbody>\n",
       "</table>\n",
       "<p>64461 rows × 74 columns</p>\n",
       "</div>"
      ],
      "text/plain": [
       "      LanguageWorkedWith                                                   \\\n",
       "                Assembly Bash/Shell/PowerShell  C C# C++ Dart Go HTML/CSS   \n",
       "0                      0                     0  0  1   0    0  0        1   \n",
       "1                      0                     0  0  0   0    0  0        0   \n",
       "2                      0                     0  0  0   0    0  0        0   \n",
       "3                      0                     0  0  0   0    0  0        0   \n",
       "4                      0                     0  0  0   0    0  0        1   \n",
       "...                  ...                   ... .. ..  ..  ... ..      ...   \n",
       "64456                  0                     0  0  0   0    0  0        0   \n",
       "64457                  1                     1  1  1   1    1  1        1   \n",
       "64458                  0                     0  0  0   0    0  0        0   \n",
       "64459                  0                     0  0  0   0    0  0        1   \n",
       "64460                  0                     0  0  1   0    0  0        1   \n",
       "\n",
       "                    ... MiscTechWorkedWith                             \\\n",
       "      Haskell Java  ...            Node.js Pandas Puppet React Native   \n",
       "0           0    0  ...                  0      0      0            0   \n",
       "1           0    0  ...                  0      0      0            1   \n",
       "2           0    0  ...                  0      0      0            0   \n",
       "3           0    0  ...                  0      0      0            0   \n",
       "4           0    0  ...                  0      0      0            0   \n",
       "...       ...  ...  ...                ...    ...    ...          ...   \n",
       "64456       0    0  ...                  0      0      0            0   \n",
       "64457       1    1  ...                  0      0      0            0   \n",
       "64458       0    0  ...                  0      0      0            0   \n",
       "64459       0    0  ...                  0      0      0            0   \n",
       "64460       0    1  ...                  0      0      0            0   \n",
       "\n",
       "                                                                        \n",
       "      TensorFlow Teraform Torch/PyTorch Unity 3D Unreal Engine Xamarin  \n",
       "0              0        0             0        0             0       0  \n",
       "1              0        0             0        0             0       0  \n",
       "2              0        0             0        0             0       0  \n",
       "3              0        0             0        0             0       0  \n",
       "4              0        0             0        0             0       0  \n",
       "...          ...      ...           ...      ...           ...     ...  \n",
       "64456          0        0             0        0             0       0  \n",
       "64457          0        0             0        0             0       0  \n",
       "64458          0        0             0        0             0       0  \n",
       "64459          0        0             0        0             0       0  \n",
       "64460          0        0             0        0             0       0  \n",
       "\n",
       "[64461 rows x 74 columns]"
      ]
     },
     "execution_count": 57,
     "metadata": {},
     "output_type": "execute_result"
    }
   ],
   "source": [
    "skills_ohe"
   ]
  },
  {
   "cell_type": "code",
   "execution_count": 61,
   "id": "dfccc5f1",
   "metadata": {},
   "outputs": [],
   "source": [
    "import os\n",
    "\n",
    "tsne_path = os.path.join(r\"E:\\ITI Projects\\Stackoverflow Survey\\Notebook2\", \"tsne.pkl\")\n",
    "tsne_projection.to_pickle(tsne_path)\n",
    "\n",
    "df_path = os.path.join(r\"E:\\ITI Projects\\Stackoverflow Survey\\Notebook2\", \"df.pkl\")\n",
    "df.to_pickle(df_path)\n",
    "\n",
    "skills_ohe_path = os.path.join(r\"E:\\ITI Projects\\Stackoverflow Survey\\Notebook2\", \"skills_ohe.pkl\")\n",
    "skills_ohe.to_pickle(skills_ohe_path)"
   ]
  }
 ],
 "metadata": {
  "kernelspec": {
   "display_name": "Python 3 (ipykernel)",
   "language": "python",
   "name": "python3"
  },
  "language_info": {
   "codemirror_mode": {
    "name": "ipython",
    "version": 3
   },
   "file_extension": ".py",
   "mimetype": "text/x-python",
   "name": "python",
   "nbconvert_exporter": "python",
   "pygments_lexer": "ipython3",
   "version": "3.8.6"
  }
 },
 "nbformat": 4,
 "nbformat_minor": 5
}
